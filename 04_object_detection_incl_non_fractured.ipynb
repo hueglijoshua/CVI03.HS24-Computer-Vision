{
  "cells": [
    {
      "cell_type": "markdown",
      "metadata": {
        "id": "view-in-github",
        "colab_type": "text"
      },
      "source": [
        "<a href=\"https://colab.research.google.com/github/hueglijoshua/CVI03.HS24-Computer-Vision/blob/main/04_object_detection_incl_non_fractured.ipynb\" target=\"_parent\"><img src=\"https://colab.research.google.com/assets/colab-badge.svg\" alt=\"Open In Colab\"/></a>"
      ]
    },
    {
      "cell_type": "code",
      "execution_count": 11,
      "metadata": {
        "id": "aRlPxnrc82e9"
      },
      "outputs": [],
      "source": [
        "import os\n",
        "import json\n",
        "import shutil\n",
        "import xml.etree.ElementTree as ET\n",
        "import pandas as pd\n",
        "import yaml\n",
        "import numpy as np\n",
        "from datetime import datetime\n",
        "import shutil\n",
        "import cv2\n",
        "import matplotlib.pyplot as plt\n",
        "from PIL import Image\n",
        "from IPython.display import display, Image\n",
        "from tqdm import tqdm\n",
        "from sklearn.metrics import precision_recall_curve, auc\n",
        "import random"
      ]
    },
    {
      "cell_type": "markdown",
      "metadata": {
        "id": "nie4AV1J82e-"
      },
      "source": [
        "# Object detection using YOLO bounding boxes incl. not factured images"
      ]
    },
    {
      "cell_type": "markdown",
      "metadata": {
        "id": "kO5uwMDD82fD"
      },
      "source": [
        "We are going to use the YOLO model provided by ultralytics"
      ]
    },
    {
      "cell_type": "code",
      "source": [
        "!pip install ultralytics"
      ],
      "metadata": {
        "colab": {
          "base_uri": "https://localhost:8080/"
        },
        "collapsed": true,
        "id": "nz5_vvqi9Yd9",
        "outputId": "f2eba0c0-68a1-4165-8d08-1a075f3bc409"
      },
      "execution_count": 2,
      "outputs": [
        {
          "output_type": "stream",
          "name": "stdout",
          "text": [
            "Collecting ultralytics\n",
            "  Downloading ultralytics-8.3.73-py3-none-any.whl.metadata (35 kB)\n",
            "Requirement already satisfied: numpy<=2.1.1,>=1.23.0 in /usr/local/lib/python3.11/dist-packages (from ultralytics) (1.26.4)\n",
            "Requirement already satisfied: matplotlib>=3.3.0 in /usr/local/lib/python3.11/dist-packages (from ultralytics) (3.10.0)\n",
            "Requirement already satisfied: opencv-python>=4.6.0 in /usr/local/lib/python3.11/dist-packages (from ultralytics) (4.11.0.86)\n",
            "Requirement already satisfied: pillow>=7.1.2 in /usr/local/lib/python3.11/dist-packages (from ultralytics) (11.1.0)\n",
            "Requirement already satisfied: pyyaml>=5.3.1 in /usr/local/lib/python3.11/dist-packages (from ultralytics) (6.0.2)\n",
            "Requirement already satisfied: requests>=2.23.0 in /usr/local/lib/python3.11/dist-packages (from ultralytics) (2.32.3)\n",
            "Requirement already satisfied: scipy>=1.4.1 in /usr/local/lib/python3.11/dist-packages (from ultralytics) (1.13.1)\n",
            "Requirement already satisfied: torch>=1.8.0 in /usr/local/lib/python3.11/dist-packages (from ultralytics) (2.5.1+cu124)\n",
            "Requirement already satisfied: torchvision>=0.9.0 in /usr/local/lib/python3.11/dist-packages (from ultralytics) (0.20.1+cu124)\n",
            "Requirement already satisfied: tqdm>=4.64.0 in /usr/local/lib/python3.11/dist-packages (from ultralytics) (4.67.1)\n",
            "Requirement already satisfied: psutil in /usr/local/lib/python3.11/dist-packages (from ultralytics) (5.9.5)\n",
            "Requirement already satisfied: py-cpuinfo in /usr/local/lib/python3.11/dist-packages (from ultralytics) (9.0.0)\n",
            "Requirement already satisfied: pandas>=1.1.4 in /usr/local/lib/python3.11/dist-packages (from ultralytics) (2.2.2)\n",
            "Requirement already satisfied: seaborn>=0.11.0 in /usr/local/lib/python3.11/dist-packages (from ultralytics) (0.13.2)\n",
            "Collecting ultralytics-thop>=2.0.0 (from ultralytics)\n",
            "  Downloading ultralytics_thop-2.0.14-py3-none-any.whl.metadata (9.4 kB)\n",
            "Requirement already satisfied: contourpy>=1.0.1 in /usr/local/lib/python3.11/dist-packages (from matplotlib>=3.3.0->ultralytics) (1.3.1)\n",
            "Requirement already satisfied: cycler>=0.10 in /usr/local/lib/python3.11/dist-packages (from matplotlib>=3.3.0->ultralytics) (0.12.1)\n",
            "Requirement already satisfied: fonttools>=4.22.0 in /usr/local/lib/python3.11/dist-packages (from matplotlib>=3.3.0->ultralytics) (4.55.8)\n",
            "Requirement already satisfied: kiwisolver>=1.3.1 in /usr/local/lib/python3.11/dist-packages (from matplotlib>=3.3.0->ultralytics) (1.4.8)\n",
            "Requirement already satisfied: packaging>=20.0 in /usr/local/lib/python3.11/dist-packages (from matplotlib>=3.3.0->ultralytics) (24.2)\n",
            "Requirement already satisfied: pyparsing>=2.3.1 in /usr/local/lib/python3.11/dist-packages (from matplotlib>=3.3.0->ultralytics) (3.2.1)\n",
            "Requirement already satisfied: python-dateutil>=2.7 in /usr/local/lib/python3.11/dist-packages (from matplotlib>=3.3.0->ultralytics) (2.8.2)\n",
            "Requirement already satisfied: pytz>=2020.1 in /usr/local/lib/python3.11/dist-packages (from pandas>=1.1.4->ultralytics) (2025.1)\n",
            "Requirement already satisfied: tzdata>=2022.7 in /usr/local/lib/python3.11/dist-packages (from pandas>=1.1.4->ultralytics) (2025.1)\n",
            "Requirement already satisfied: charset-normalizer<4,>=2 in /usr/local/lib/python3.11/dist-packages (from requests>=2.23.0->ultralytics) (3.4.1)\n",
            "Requirement already satisfied: idna<4,>=2.5 in /usr/local/lib/python3.11/dist-packages (from requests>=2.23.0->ultralytics) (3.10)\n",
            "Requirement already satisfied: urllib3<3,>=1.21.1 in /usr/local/lib/python3.11/dist-packages (from requests>=2.23.0->ultralytics) (2.3.0)\n",
            "Requirement already satisfied: certifi>=2017.4.17 in /usr/local/lib/python3.11/dist-packages (from requests>=2.23.0->ultralytics) (2025.1.31)\n",
            "Requirement already satisfied: filelock in /usr/local/lib/python3.11/dist-packages (from torch>=1.8.0->ultralytics) (3.17.0)\n",
            "Requirement already satisfied: typing-extensions>=4.8.0 in /usr/local/lib/python3.11/dist-packages (from torch>=1.8.0->ultralytics) (4.12.2)\n",
            "Requirement already satisfied: networkx in /usr/local/lib/python3.11/dist-packages (from torch>=1.8.0->ultralytics) (3.4.2)\n",
            "Requirement already satisfied: jinja2 in /usr/local/lib/python3.11/dist-packages (from torch>=1.8.0->ultralytics) (3.1.5)\n",
            "Requirement already satisfied: fsspec in /usr/local/lib/python3.11/dist-packages (from torch>=1.8.0->ultralytics) (2024.10.0)\n",
            "Collecting nvidia-cuda-nvrtc-cu12==12.4.127 (from torch>=1.8.0->ultralytics)\n",
            "  Downloading nvidia_cuda_nvrtc_cu12-12.4.127-py3-none-manylinux2014_x86_64.whl.metadata (1.5 kB)\n",
            "Collecting nvidia-cuda-runtime-cu12==12.4.127 (from torch>=1.8.0->ultralytics)\n",
            "  Downloading nvidia_cuda_runtime_cu12-12.4.127-py3-none-manylinux2014_x86_64.whl.metadata (1.5 kB)\n",
            "Collecting nvidia-cuda-cupti-cu12==12.4.127 (from torch>=1.8.0->ultralytics)\n",
            "  Downloading nvidia_cuda_cupti_cu12-12.4.127-py3-none-manylinux2014_x86_64.whl.metadata (1.6 kB)\n",
            "Collecting nvidia-cudnn-cu12==9.1.0.70 (from torch>=1.8.0->ultralytics)\n",
            "  Downloading nvidia_cudnn_cu12-9.1.0.70-py3-none-manylinux2014_x86_64.whl.metadata (1.6 kB)\n",
            "Collecting nvidia-cublas-cu12==12.4.5.8 (from torch>=1.8.0->ultralytics)\n",
            "  Downloading nvidia_cublas_cu12-12.4.5.8-py3-none-manylinux2014_x86_64.whl.metadata (1.5 kB)\n",
            "Collecting nvidia-cufft-cu12==11.2.1.3 (from torch>=1.8.0->ultralytics)\n",
            "  Downloading nvidia_cufft_cu12-11.2.1.3-py3-none-manylinux2014_x86_64.whl.metadata (1.5 kB)\n",
            "Collecting nvidia-curand-cu12==10.3.5.147 (from torch>=1.8.0->ultralytics)\n",
            "  Downloading nvidia_curand_cu12-10.3.5.147-py3-none-manylinux2014_x86_64.whl.metadata (1.5 kB)\n",
            "Collecting nvidia-cusolver-cu12==11.6.1.9 (from torch>=1.8.0->ultralytics)\n",
            "  Downloading nvidia_cusolver_cu12-11.6.1.9-py3-none-manylinux2014_x86_64.whl.metadata (1.6 kB)\n",
            "Collecting nvidia-cusparse-cu12==12.3.1.170 (from torch>=1.8.0->ultralytics)\n",
            "  Downloading nvidia_cusparse_cu12-12.3.1.170-py3-none-manylinux2014_x86_64.whl.metadata (1.6 kB)\n",
            "Requirement already satisfied: nvidia-nccl-cu12==2.21.5 in /usr/local/lib/python3.11/dist-packages (from torch>=1.8.0->ultralytics) (2.21.5)\n",
            "Requirement already satisfied: nvidia-nvtx-cu12==12.4.127 in /usr/local/lib/python3.11/dist-packages (from torch>=1.8.0->ultralytics) (12.4.127)\n",
            "Collecting nvidia-nvjitlink-cu12==12.4.127 (from torch>=1.8.0->ultralytics)\n",
            "  Downloading nvidia_nvjitlink_cu12-12.4.127-py3-none-manylinux2014_x86_64.whl.metadata (1.5 kB)\n",
            "Requirement already satisfied: triton==3.1.0 in /usr/local/lib/python3.11/dist-packages (from torch>=1.8.0->ultralytics) (3.1.0)\n",
            "Requirement already satisfied: sympy==1.13.1 in /usr/local/lib/python3.11/dist-packages (from torch>=1.8.0->ultralytics) (1.13.1)\n",
            "Requirement already satisfied: mpmath<1.4,>=1.1.0 in /usr/local/lib/python3.11/dist-packages (from sympy==1.13.1->torch>=1.8.0->ultralytics) (1.3.0)\n",
            "Requirement already satisfied: six>=1.5 in /usr/local/lib/python3.11/dist-packages (from python-dateutil>=2.7->matplotlib>=3.3.0->ultralytics) (1.17.0)\n",
            "Requirement already satisfied: MarkupSafe>=2.0 in /usr/local/lib/python3.11/dist-packages (from jinja2->torch>=1.8.0->ultralytics) (3.0.2)\n",
            "Downloading ultralytics-8.3.73-py3-none-any.whl (914 kB)\n",
            "\u001b[2K   \u001b[90m━━━━━━━━━━━━━━━━━━━━━━━━━━━━━━━━━━━━━━━━\u001b[0m \u001b[32m914.6/914.6 kB\u001b[0m \u001b[31m20.8 MB/s\u001b[0m eta \u001b[36m0:00:00\u001b[0m\n",
            "\u001b[?25hDownloading nvidia_cublas_cu12-12.4.5.8-py3-none-manylinux2014_x86_64.whl (363.4 MB)\n",
            "\u001b[2K   \u001b[90m━━━━━━━━━━━━━━━━━━━━━━━━━━━━━━━━━━━━━━━━\u001b[0m \u001b[32m363.4/363.4 MB\u001b[0m \u001b[31m4.3 MB/s\u001b[0m eta \u001b[36m0:00:00\u001b[0m\n",
            "\u001b[?25hDownloading nvidia_cuda_cupti_cu12-12.4.127-py3-none-manylinux2014_x86_64.whl (13.8 MB)\n",
            "\u001b[2K   \u001b[90m━━━━━━━━━━━━━━━━━━━━━━━━━━━━━━━━━━━━━━━━\u001b[0m \u001b[32m13.8/13.8 MB\u001b[0m \u001b[31m114.4 MB/s\u001b[0m eta \u001b[36m0:00:00\u001b[0m\n",
            "\u001b[?25hDownloading nvidia_cuda_nvrtc_cu12-12.4.127-py3-none-manylinux2014_x86_64.whl (24.6 MB)\n",
            "\u001b[2K   \u001b[90m━━━━━━━━━━━━━━━━━━━━━━━━━━━━━━━━━━━━━━━━\u001b[0m \u001b[32m24.6/24.6 MB\u001b[0m \u001b[31m87.4 MB/s\u001b[0m eta \u001b[36m0:00:00\u001b[0m\n",
            "\u001b[?25hDownloading nvidia_cuda_runtime_cu12-12.4.127-py3-none-manylinux2014_x86_64.whl (883 kB)\n",
            "\u001b[2K   \u001b[90m━━━━━━━━━━━━━━━━━━━━━━━━━━━━━━━━━━━━━━━━\u001b[0m \u001b[32m883.7/883.7 kB\u001b[0m \u001b[31m58.0 MB/s\u001b[0m eta \u001b[36m0:00:00\u001b[0m\n",
            "\u001b[?25hDownloading nvidia_cudnn_cu12-9.1.0.70-py3-none-manylinux2014_x86_64.whl (664.8 MB)\n",
            "\u001b[2K   \u001b[90m━━━━━━━━━━━━━━━━━━━━━━━━━━━━━━━━━━━━━━━━\u001b[0m \u001b[32m664.8/664.8 MB\u001b[0m \u001b[31m2.7 MB/s\u001b[0m eta \u001b[36m0:00:00\u001b[0m\n",
            "\u001b[?25hDownloading nvidia_cufft_cu12-11.2.1.3-py3-none-manylinux2014_x86_64.whl (211.5 MB)\n",
            "\u001b[2K   \u001b[90m━━━━━━━━━━━━━━━━━━━━━━━━━━━━━━━━━━━━━━━━\u001b[0m \u001b[32m211.5/211.5 MB\u001b[0m \u001b[31m6.0 MB/s\u001b[0m eta \u001b[36m0:00:00\u001b[0m\n",
            "\u001b[?25hDownloading nvidia_curand_cu12-10.3.5.147-py3-none-manylinux2014_x86_64.whl (56.3 MB)\n",
            "\u001b[2K   \u001b[90m━━━━━━━━━━━━━━━━━━━━━━━━━━━━━━━━━━━━━━━━\u001b[0m \u001b[32m56.3/56.3 MB\u001b[0m \u001b[31m11.6 MB/s\u001b[0m eta \u001b[36m0:00:00\u001b[0m\n",
            "\u001b[?25hDownloading nvidia_cusolver_cu12-11.6.1.9-py3-none-manylinux2014_x86_64.whl (127.9 MB)\n",
            "\u001b[2K   \u001b[90m━━━━━━━━━━━━━━━━━━━━━━━━━━━━━━━━━━━━━━━━\u001b[0m \u001b[32m127.9/127.9 MB\u001b[0m \u001b[31m8.1 MB/s\u001b[0m eta \u001b[36m0:00:00\u001b[0m\n",
            "\u001b[?25hDownloading nvidia_cusparse_cu12-12.3.1.170-py3-none-manylinux2014_x86_64.whl (207.5 MB)\n",
            "\u001b[2K   \u001b[90m━━━━━━━━━━━━━━━━━━━━━━━━━━━━━━━━━━━━━━━━\u001b[0m \u001b[32m207.5/207.5 MB\u001b[0m \u001b[31m6.0 MB/s\u001b[0m eta \u001b[36m0:00:00\u001b[0m\n",
            "\u001b[?25hDownloading nvidia_nvjitlink_cu12-12.4.127-py3-none-manylinux2014_x86_64.whl (21.1 MB)\n",
            "\u001b[2K   \u001b[90m━━━━━━━━━━━━━━━━━━━━━━━━━━━━━━━━━━━━━━━━\u001b[0m \u001b[32m21.1/21.1 MB\u001b[0m \u001b[31m91.6 MB/s\u001b[0m eta \u001b[36m0:00:00\u001b[0m\n",
            "\u001b[?25hDownloading ultralytics_thop-2.0.14-py3-none-any.whl (26 kB)\n",
            "Installing collected packages: nvidia-nvjitlink-cu12, nvidia-curand-cu12, nvidia-cufft-cu12, nvidia-cuda-runtime-cu12, nvidia-cuda-nvrtc-cu12, nvidia-cuda-cupti-cu12, nvidia-cublas-cu12, nvidia-cusparse-cu12, nvidia-cudnn-cu12, nvidia-cusolver-cu12, ultralytics-thop, ultralytics\n",
            "  Attempting uninstall: nvidia-nvjitlink-cu12\n",
            "    Found existing installation: nvidia-nvjitlink-cu12 12.5.82\n",
            "    Uninstalling nvidia-nvjitlink-cu12-12.5.82:\n",
            "      Successfully uninstalled nvidia-nvjitlink-cu12-12.5.82\n",
            "  Attempting uninstall: nvidia-curand-cu12\n",
            "    Found existing installation: nvidia-curand-cu12 10.3.6.82\n",
            "    Uninstalling nvidia-curand-cu12-10.3.6.82:\n",
            "      Successfully uninstalled nvidia-curand-cu12-10.3.6.82\n",
            "  Attempting uninstall: nvidia-cufft-cu12\n",
            "    Found existing installation: nvidia-cufft-cu12 11.2.3.61\n",
            "    Uninstalling nvidia-cufft-cu12-11.2.3.61:\n",
            "      Successfully uninstalled nvidia-cufft-cu12-11.2.3.61\n",
            "  Attempting uninstall: nvidia-cuda-runtime-cu12\n",
            "    Found existing installation: nvidia-cuda-runtime-cu12 12.5.82\n",
            "    Uninstalling nvidia-cuda-runtime-cu12-12.5.82:\n",
            "      Successfully uninstalled nvidia-cuda-runtime-cu12-12.5.82\n",
            "  Attempting uninstall: nvidia-cuda-nvrtc-cu12\n",
            "    Found existing installation: nvidia-cuda-nvrtc-cu12 12.5.82\n",
            "    Uninstalling nvidia-cuda-nvrtc-cu12-12.5.82:\n",
            "      Successfully uninstalled nvidia-cuda-nvrtc-cu12-12.5.82\n",
            "  Attempting uninstall: nvidia-cuda-cupti-cu12\n",
            "    Found existing installation: nvidia-cuda-cupti-cu12 12.5.82\n",
            "    Uninstalling nvidia-cuda-cupti-cu12-12.5.82:\n",
            "      Successfully uninstalled nvidia-cuda-cupti-cu12-12.5.82\n",
            "  Attempting uninstall: nvidia-cublas-cu12\n",
            "    Found existing installation: nvidia-cublas-cu12 12.5.3.2\n",
            "    Uninstalling nvidia-cublas-cu12-12.5.3.2:\n",
            "      Successfully uninstalled nvidia-cublas-cu12-12.5.3.2\n",
            "  Attempting uninstall: nvidia-cusparse-cu12\n",
            "    Found existing installation: nvidia-cusparse-cu12 12.5.1.3\n",
            "    Uninstalling nvidia-cusparse-cu12-12.5.1.3:\n",
            "      Successfully uninstalled nvidia-cusparse-cu12-12.5.1.3\n",
            "  Attempting uninstall: nvidia-cudnn-cu12\n",
            "    Found existing installation: nvidia-cudnn-cu12 9.3.0.75\n",
            "    Uninstalling nvidia-cudnn-cu12-9.3.0.75:\n",
            "      Successfully uninstalled nvidia-cudnn-cu12-9.3.0.75\n",
            "  Attempting uninstall: nvidia-cusolver-cu12\n",
            "    Found existing installation: nvidia-cusolver-cu12 11.6.3.83\n",
            "    Uninstalling nvidia-cusolver-cu12-11.6.3.83:\n",
            "      Successfully uninstalled nvidia-cusolver-cu12-11.6.3.83\n",
            "Successfully installed nvidia-cublas-cu12-12.4.5.8 nvidia-cuda-cupti-cu12-12.4.127 nvidia-cuda-nvrtc-cu12-12.4.127 nvidia-cuda-runtime-cu12-12.4.127 nvidia-cudnn-cu12-9.1.0.70 nvidia-cufft-cu12-11.2.1.3 nvidia-curand-cu12-10.3.5.147 nvidia-cusolver-cu12-11.6.1.9 nvidia-cusparse-cu12-12.3.1.170 nvidia-nvjitlink-cu12-12.4.127 ultralytics-8.3.73 ultralytics-thop-2.0.14\n"
          ]
        }
      ]
    },
    {
      "cell_type": "code",
      "source": [
        "from ultralytics import YOLO\n",
        "from google.colab import drive\n",
        "\n",
        "# Mount Google Drive\n",
        "drive.mount('/content/drive')"
      ],
      "metadata": {
        "colab": {
          "base_uri": "https://localhost:8080/"
        },
        "id": "UbOjLShL9Z5H",
        "outputId": "3d32d60e-344f-4cca-e916-ef62384d6f94"
      },
      "execution_count": 3,
      "outputs": [
        {
          "output_type": "stream",
          "name": "stdout",
          "text": [
            "Creating new Ultralytics Settings v0.0.6 file ✅ \n",
            "View Ultralytics Settings with 'yolo settings' or at '/root/.config/Ultralytics/settings.json'\n",
            "Update Settings with 'yolo settings key=value', i.e. 'yolo settings runs_dir=path/to/dir'. For help see https://docs.ultralytics.com/quickstart/#ultralytics-settings.\n",
            "Mounted at /content/drive\n"
          ]
        }
      ]
    },
    {
      "cell_type": "code",
      "execution_count": 4,
      "metadata": {
        "colab": {
          "base_uri": "https://localhost:8080/"
        },
        "id": "Llv8btOi82fD",
        "outputId": "d471345b-ef0f-4432-9d83-1751d02cbd79"
      },
      "outputs": [
        {
          "output_type": "stream",
          "name": "stdout",
          "text": [
            "['data.yaml', 'images', 'labels', 'classes.txt']\n"
          ]
        }
      ],
      "source": [
        "# Set dataset path\n",
        "dataset_path = \"/content/drive/MyDrive/data_object_detection_incl_not_fractured_yolo\"\n",
        "\n",
        "# Verify the dataset structure\n",
        "print(os.listdir(dataset_path))\n",
        "\n",
        "# model_path = \"/content/drive/MyDrive/yolo_models/yolov8l_2025-02-07_18-23-13.pt\"\n",
        "model_path = None"
      ]
    },
    {
      "cell_type": "code",
      "execution_count": 7,
      "metadata": {
        "colab": {
          "base_uri": "https://localhost:8080/",
          "height": 1000
        },
        "id": "bgvyoNvK82fE",
        "outputId": "062b981b-0aef-4438-a991-4a81fe9dce9c"
      },
      "outputs": [
        {
          "output_type": "stream",
          "name": "stdout",
          "text": [
            "Downloading https://github.com/ultralytics/assets/releases/download/v8.3.0/yolov8l.pt to 'yolov8l.pt'...\n"
          ]
        },
        {
          "output_type": "stream",
          "name": "stderr",
          "text": [
            "100%|██████████| 83.7M/83.7M [00:00<00:00, 294MB/s]\n"
          ]
        },
        {
          "output_type": "stream",
          "name": "stdout",
          "text": [
            "Ultralytics 8.3.73 🚀 Python-3.11.11 torch-2.5.1+cu124 CUDA:0 (Tesla T4, 15095MiB)\n",
            "\u001b[34m\u001b[1mengine/trainer: \u001b[0mtask=detect, mode=train, model=yolov8l.pt, data=/content/drive/MyDrive/data_object_detection_incl_not_fractured_yolo/data.yaml, epochs=200, time=None, patience=10, batch=16, imgsz=640, save=True, save_period=-1, cache=False, device=None, workers=8, project=None, name=train3, exist_ok=False, pretrained=True, optimizer=auto, verbose=True, seed=0, deterministic=True, single_cls=False, rect=False, cos_lr=False, close_mosaic=10, resume=False, amp=True, fraction=1.0, profile=False, freeze=None, multi_scale=False, overlap_mask=True, mask_ratio=4, dropout=0.0, val=True, split=val, save_json=False, save_hybrid=False, conf=None, iou=0.7, max_det=300, half=False, dnn=False, plots=True, source=None, vid_stride=1, stream_buffer=False, visualize=False, augment=False, agnostic_nms=False, classes=None, retina_masks=False, embed=None, show=False, save_frames=False, save_txt=False, save_conf=False, save_crop=False, show_labels=True, show_conf=True, show_boxes=True, line_width=None, format=torchscript, keras=False, optimize=False, int8=False, dynamic=False, simplify=True, opset=None, workspace=None, nms=False, lr0=0.01, lrf=0.01, momentum=0.937, weight_decay=0.0005, warmup_epochs=3.0, warmup_momentum=0.8, warmup_bias_lr=0.1, box=7.5, cls=0.5, dfl=1.5, pose=12.0, kobj=1.0, nbs=64, hsv_h=0.015, hsv_s=0.7, hsv_v=0.4, degrees=0.0, translate=0.1, scale=0.5, shear=0.0, perspective=0.0, flipud=0.0, fliplr=0.5, bgr=0.0, mosaic=1.0, mixup=0.0, copy_paste=0.0, copy_paste_mode=flip, auto_augment=randaugment, erasing=0.4, crop_fraction=1.0, cfg=None, tracker=botsort.yaml, save_dir=runs/detect/train3\n",
            "Overriding model.yaml nc=80 with nc=1\n",
            "\n",
            "                   from  n    params  module                                       arguments                     \n",
            "  0                  -1  1      1856  ultralytics.nn.modules.conv.Conv             [3, 64, 3, 2]                 \n",
            "  1                  -1  1     73984  ultralytics.nn.modules.conv.Conv             [64, 128, 3, 2]               \n",
            "  2                  -1  3    279808  ultralytics.nn.modules.block.C2f             [128, 128, 3, True]           \n",
            "  3                  -1  1    295424  ultralytics.nn.modules.conv.Conv             [128, 256, 3, 2]              \n",
            "  4                  -1  6   2101248  ultralytics.nn.modules.block.C2f             [256, 256, 6, True]           \n",
            "  5                  -1  1   1180672  ultralytics.nn.modules.conv.Conv             [256, 512, 3, 2]              \n",
            "  6                  -1  6   8396800  ultralytics.nn.modules.block.C2f             [512, 512, 6, True]           \n",
            "  7                  -1  1   2360320  ultralytics.nn.modules.conv.Conv             [512, 512, 3, 2]              \n",
            "  8                  -1  3   4461568  ultralytics.nn.modules.block.C2f             [512, 512, 3, True]           \n",
            "  9                  -1  1    656896  ultralytics.nn.modules.block.SPPF            [512, 512, 5]                 \n",
            " 10                  -1  1         0  torch.nn.modules.upsampling.Upsample         [None, 2, 'nearest']          \n",
            " 11             [-1, 6]  1         0  ultralytics.nn.modules.conv.Concat           [1]                           \n",
            " 12                  -1  3   4723712  ultralytics.nn.modules.block.C2f             [1024, 512, 3]                \n",
            " 13                  -1  1         0  torch.nn.modules.upsampling.Upsample         [None, 2, 'nearest']          \n",
            " 14             [-1, 4]  1         0  ultralytics.nn.modules.conv.Concat           [1]                           \n",
            " 15                  -1  3   1247744  ultralytics.nn.modules.block.C2f             [768, 256, 3]                 \n",
            " 16                  -1  1    590336  ultralytics.nn.modules.conv.Conv             [256, 256, 3, 2]              \n",
            " 17            [-1, 12]  1         0  ultralytics.nn.modules.conv.Concat           [1]                           \n",
            " 18                  -1  3   4592640  ultralytics.nn.modules.block.C2f             [768, 512, 3]                 \n",
            " 19                  -1  1   2360320  ultralytics.nn.modules.conv.Conv             [512, 512, 3, 2]              \n",
            " 20             [-1, 9]  1         0  ultralytics.nn.modules.conv.Concat           [1]                           \n",
            " 21                  -1  3   4723712  ultralytics.nn.modules.block.C2f             [1024, 512, 3]                \n",
            " 22        [15, 18, 21]  1   5583571  ultralytics.nn.modules.head.Detect           [1, [256, 512, 512]]          \n",
            "Model summary: 365 layers, 43,630,611 parameters, 43,630,595 gradients, 165.4 GFLOPs\n",
            "\n",
            "Transferred 589/595 items from pretrained weights\n",
            "\u001b[34m\u001b[1mTensorBoard: \u001b[0mStart with 'tensorboard --logdir runs/detect/train3', view at http://localhost:6006/\n",
            "Freezing layer 'model.22.dfl.conv.weight'\n",
            "\u001b[34m\u001b[1mAMP: \u001b[0mrunning Automatic Mixed Precision (AMP) checks...\n",
            "\u001b[34m\u001b[1mAMP: \u001b[0mchecks passed ✅\n"
          ]
        },
        {
          "output_type": "stream",
          "name": "stderr",
          "text": [
            "\u001b[34m\u001b[1mtrain: \u001b[0mScanning /content/drive/MyDrive/data_object_detection_incl_not_fractured_yolo/labels/train... 1139 images, 565 backgrounds, 9 corrupt: 100%|██████████| 1148/1148 [00:31<00:00, 36.96it/s] "
          ]
        },
        {
          "output_type": "stream",
          "name": "stdout",
          "text": [
            "\u001b[34m\u001b[1mtrain: \u001b[0mWARNING ⚠️ /content/drive/MyDrive/data_object_detection_incl_not_fractured_yolo/images/train/IMG0004036.jpg: ignoring corrupt image/label: image file is truncated (14 bytes not processed)\n",
            "\u001b[34m\u001b[1mtrain: \u001b[0mWARNING ⚠️ /content/drive/MyDrive/data_object_detection_incl_not_fractured_yolo/images/train/IMG0004098.jpg: ignoring corrupt image/label: image file is truncated (17 bytes not processed)\n",
            "\u001b[34m\u001b[1mtrain: \u001b[0mWARNING ⚠️ /content/drive/MyDrive/data_object_detection_incl_not_fractured_yolo/images/train/IMG0004100.jpg: ignoring corrupt image/label: image file is truncated (15 bytes not processed)\n",
            "\u001b[34m\u001b[1mtrain: \u001b[0mWARNING ⚠️ /content/drive/MyDrive/data_object_detection_incl_not_fractured_yolo/images/train/IMG0004130.jpg: ignoring corrupt image/label: image file is truncated (8 bytes not processed)\n",
            "\u001b[34m\u001b[1mtrain: \u001b[0mWARNING ⚠️ /content/drive/MyDrive/data_object_detection_incl_not_fractured_yolo/images/train/IMG0004148.jpg: ignoring corrupt image/label: image file is truncated (14 bytes not processed)\n",
            "\u001b[34m\u001b[1mtrain: \u001b[0mWARNING ⚠️ /content/drive/MyDrive/data_object_detection_incl_not_fractured_yolo/images/train/IMG0004172.jpg: corrupt JPEG restored and saved\n",
            "\u001b[34m\u001b[1mtrain: \u001b[0mWARNING ⚠️ /content/drive/MyDrive/data_object_detection_incl_not_fractured_yolo/images/train/IMG0004173.jpg: ignoring corrupt image/label: image file is truncated (0 bytes not processed)\n",
            "\u001b[34m\u001b[1mtrain: \u001b[0mWARNING ⚠️ /content/drive/MyDrive/data_object_detection_incl_not_fractured_yolo/images/train/IMG0004177.jpg: ignoring corrupt image/label: image file is truncated (34 bytes not processed)\n",
            "\u001b[34m\u001b[1mtrain: \u001b[0mWARNING ⚠️ /content/drive/MyDrive/data_object_detection_incl_not_fractured_yolo/images/train/IMG0004194.jpg: ignoring corrupt image/label: image file is truncated (10 bytes not processed)\n",
            "\u001b[34m\u001b[1mtrain: \u001b[0mWARNING ⚠️ /content/drive/MyDrive/data_object_detection_incl_not_fractured_yolo/images/train/IMG0004270.jpg: corrupt JPEG restored and saved\n",
            "\u001b[34m\u001b[1mtrain: \u001b[0mWARNING ⚠️ /content/drive/MyDrive/data_object_detection_incl_not_fractured_yolo/images/train/IMG0004280.jpg: corrupt JPEG restored and saved\n",
            "\u001b[34m\u001b[1mtrain: \u001b[0mWARNING ⚠️ /content/drive/MyDrive/data_object_detection_incl_not_fractured_yolo/images/train/IMG0004291.jpg: ignoring corrupt image/label: image file is truncated (13 bytes not processed)\n"
          ]
        },
        {
          "output_type": "stream",
          "name": "stderr",
          "text": [
            "\n"
          ]
        },
        {
          "output_type": "stream",
          "name": "stdout",
          "text": [
            "\u001b[34m\u001b[1mtrain: \u001b[0mNew cache created: /content/drive/MyDrive/data_object_detection_incl_not_fractured_yolo/labels/train.cache\n",
            "\u001b[34m\u001b[1malbumentations: \u001b[0mBlur(p=0.01, blur_limit=(3, 7)), MedianBlur(p=0.01, blur_limit=(3, 7)), ToGray(p=0.01, num_output_channels=3, method='weighted_average'), CLAHE(p=0.01, clip_limit=(1.0, 4.0), tile_grid_size=(8, 8))\n"
          ]
        },
        {
          "output_type": "stream",
          "name": "stderr",
          "text": [
            "\u001b[34m\u001b[1mval: \u001b[0mScanning /content/drive/MyDrive/data_object_detection_incl_not_fractured_yolo/labels/val... 159 images, 77 backgrounds, 5 corrupt: 100%|██████████| 164/164 [00:05<00:00, 31.55it/s]"
          ]
        },
        {
          "output_type": "stream",
          "name": "stdout",
          "text": [
            "\u001b[34m\u001b[1mval: \u001b[0mWARNING ⚠️ /content/drive/MyDrive/data_object_detection_incl_not_fractured_yolo/images/val/IMG0004029.jpg: ignoring corrupt image/label: image file is truncated (22 bytes not processed)\n",
            "\u001b[34m\u001b[1mval: \u001b[0mWARNING ⚠️ /content/drive/MyDrive/data_object_detection_incl_not_fractured_yolo/images/val/IMG0004252.jpg: ignoring corrupt image/label: image file is truncated (67 bytes not processed)\n",
            "\u001b[34m\u001b[1mval: \u001b[0mWARNING ⚠️ /content/drive/MyDrive/data_object_detection_incl_not_fractured_yolo/images/val/IMG0004256.jpg: ignoring corrupt image/label: image file is truncated (66 bytes not processed)\n",
            "\u001b[34m\u001b[1mval: \u001b[0mWARNING ⚠️ /content/drive/MyDrive/data_object_detection_incl_not_fractured_yolo/images/val/IMG0004279.jpg: ignoring corrupt image/label: image file is truncated (5 bytes not processed)\n",
            "\u001b[34m\u001b[1mval: \u001b[0mWARNING ⚠️ /content/drive/MyDrive/data_object_detection_incl_not_fractured_yolo/images/val/IMG0004285.jpg: ignoring corrupt image/label: image file is truncated (9 bytes not processed)\n"
          ]
        },
        {
          "output_type": "stream",
          "name": "stderr",
          "text": [
            "\n"
          ]
        },
        {
          "output_type": "stream",
          "name": "stdout",
          "text": [
            "\u001b[34m\u001b[1mval: \u001b[0mNew cache created: /content/drive/MyDrive/data_object_detection_incl_not_fractured_yolo/labels/val.cache\n",
            "Plotting labels to runs/detect/train3/labels.jpg... \n",
            "\u001b[34m\u001b[1moptimizer:\u001b[0m 'optimizer=auto' found, ignoring 'lr0=0.01' and 'momentum=0.937' and determining best 'optimizer', 'lr0' and 'momentum' automatically... \n",
            "\u001b[34m\u001b[1moptimizer:\u001b[0m AdamW(lr=0.002, momentum=0.9) with parameter groups 97 weight(decay=0.0), 104 weight(decay=0.0005), 103 bias(decay=0.0)\n",
            "\u001b[34m\u001b[1mTensorBoard: \u001b[0mmodel graph visualization added ✅\n",
            "Image sizes 640 train, 640 val\n",
            "Using 2 dataloader workers\n",
            "Logging results to \u001b[1mruns/detect/train3\u001b[0m\n",
            "Starting training for 200 epochs...\n",
            "\n",
            "      Epoch    GPU_mem   box_loss   cls_loss   dfl_loss  Instances       Size\n"
          ]
        },
        {
          "output_type": "stream",
          "name": "stderr",
          "text": [
            "      1/200      10.6G      3.026      6.088      2.147          2        640: 100%|██████████| 72/72 [01:00<00:00,  1.18it/s]\n",
            "                 Class     Images  Instances      Box(P          R      mAP50  mAP50-95): 100%|██████████| 5/5 [00:03<00:00,  1.36it/s]"
          ]
        },
        {
          "output_type": "stream",
          "name": "stdout",
          "text": [
            "                   all        159         91          0          0          0          0\n"
          ]
        },
        {
          "output_type": "stream",
          "name": "stderr",
          "text": [
            "\n"
          ]
        },
        {
          "output_type": "stream",
          "name": "stdout",
          "text": [
            "\n",
            "      Epoch    GPU_mem   box_loss   cls_loss   dfl_loss  Instances       Size\n"
          ]
        },
        {
          "output_type": "stream",
          "name": "stderr",
          "text": [
            "      2/200      10.5G      3.104      3.913      2.219          3        640: 100%|██████████| 72/72 [00:58<00:00,  1.22it/s]\n",
            "                 Class     Images  Instances      Box(P          R      mAP50  mAP50-95): 100%|██████████| 5/5 [00:03<00:00,  1.58it/s]"
          ]
        },
        {
          "output_type": "stream",
          "name": "stdout",
          "text": [
            "                   all        159         91          0          0          0          0\n"
          ]
        },
        {
          "output_type": "stream",
          "name": "stderr",
          "text": [
            "\n"
          ]
        },
        {
          "output_type": "stream",
          "name": "stdout",
          "text": [
            "\n",
            "      Epoch    GPU_mem   box_loss   cls_loss   dfl_loss  Instances       Size\n"
          ]
        },
        {
          "output_type": "stream",
          "name": "stderr",
          "text": [
            "      3/200      10.5G      3.203      3.778      2.248          3        640: 100%|██████████| 72/72 [00:57<00:00,  1.26it/s]\n",
            "                 Class     Images  Instances      Box(P          R      mAP50  mAP50-95): 100%|██████████| 5/5 [00:02<00:00,  1.84it/s]"
          ]
        },
        {
          "output_type": "stream",
          "name": "stdout",
          "text": [
            "                   all        159         91   0.000163      0.022   9.18e-05   3.17e-05\n"
          ]
        },
        {
          "output_type": "stream",
          "name": "stderr",
          "text": [
            "\n"
          ]
        },
        {
          "output_type": "stream",
          "name": "stdout",
          "text": [
            "\n",
            "      Epoch    GPU_mem   box_loss   cls_loss   dfl_loss  Instances       Size\n"
          ]
        },
        {
          "output_type": "stream",
          "name": "stderr",
          "text": [
            "      4/200      10.5G      3.023      3.356      2.077          3        640: 100%|██████████| 72/72 [00:56<00:00,  1.28it/s]\n",
            "                 Class     Images  Instances      Box(P          R      mAP50  mAP50-95): 100%|██████████| 5/5 [00:03<00:00,  1.50it/s]"
          ]
        },
        {
          "output_type": "stream",
          "name": "stdout",
          "text": [
            "                   all        159         91      0.258     0.0769     0.0571    0.00891\n"
          ]
        },
        {
          "output_type": "stream",
          "name": "stderr",
          "text": [
            "\n"
          ]
        },
        {
          "output_type": "stream",
          "name": "stdout",
          "text": [
            "\n",
            "      Epoch    GPU_mem   box_loss   cls_loss   dfl_loss  Instances       Size\n"
          ]
        },
        {
          "output_type": "stream",
          "name": "stderr",
          "text": [
            "      5/200      10.5G      3.061      3.491      2.145          2        640: 100%|██████████| 72/72 [00:57<00:00,  1.25it/s]\n",
            "                 Class     Images  Instances      Box(P          R      mAP50  mAP50-95): 100%|██████████| 5/5 [00:04<00:00,  1.06it/s]"
          ]
        },
        {
          "output_type": "stream",
          "name": "stdout",
          "text": [
            "                   all        159         91     0.0939      0.033     0.0207     0.0045\n"
          ]
        },
        {
          "output_type": "stream",
          "name": "stderr",
          "text": [
            "\n"
          ]
        },
        {
          "output_type": "stream",
          "name": "stdout",
          "text": [
            "\n",
            "      Epoch    GPU_mem   box_loss   cls_loss   dfl_loss  Instances       Size\n"
          ]
        },
        {
          "output_type": "stream",
          "name": "stderr",
          "text": [
            "      6/200      10.5G      2.927      3.467      2.118          3        640: 100%|██████████| 72/72 [00:57<00:00,  1.25it/s]\n",
            "                 Class     Images  Instances      Box(P          R      mAP50  mAP50-95): 100%|██████████| 5/5 [00:02<00:00,  1.68it/s]"
          ]
        },
        {
          "output_type": "stream",
          "name": "stdout",
          "text": [
            "                   all        159         91      0.146     0.0657     0.0344      0.011\n"
          ]
        },
        {
          "output_type": "stream",
          "name": "stderr",
          "text": [
            "\n"
          ]
        },
        {
          "output_type": "stream",
          "name": "stdout",
          "text": [
            "\n",
            "      Epoch    GPU_mem   box_loss   cls_loss   dfl_loss  Instances       Size\n"
          ]
        },
        {
          "output_type": "stream",
          "name": "stderr",
          "text": [
            "      7/200      10.5G      2.928      3.322      2.043          7        640: 100%|██████████| 72/72 [00:57<00:00,  1.26it/s]\n",
            "                 Class     Images  Instances      Box(P          R      mAP50  mAP50-95): 100%|██████████| 5/5 [00:02<00:00,  1.88it/s]"
          ]
        },
        {
          "output_type": "stream",
          "name": "stdout",
          "text": [
            "                   all        159         91    0.00382     0.0769    0.00371     0.0015\n"
          ]
        },
        {
          "output_type": "stream",
          "name": "stderr",
          "text": [
            "\n"
          ]
        },
        {
          "output_type": "stream",
          "name": "stdout",
          "text": [
            "\n",
            "      Epoch    GPU_mem   box_loss   cls_loss   dfl_loss  Instances       Size\n"
          ]
        },
        {
          "output_type": "stream",
          "name": "stderr",
          "text": [
            "      8/200      10.5G      2.796      3.168      2.001          5        640: 100%|██████████| 72/72 [00:56<00:00,  1.26it/s]\n",
            "                 Class     Images  Instances      Box(P          R      mAP50  mAP50-95): 100%|██████████| 5/5 [00:02<00:00,  1.87it/s]"
          ]
        },
        {
          "output_type": "stream",
          "name": "stdout",
          "text": [
            "                   all        159         91     0.0165      0.154     0.0471     0.0145\n"
          ]
        },
        {
          "output_type": "stream",
          "name": "stderr",
          "text": [
            "\n"
          ]
        },
        {
          "output_type": "stream",
          "name": "stdout",
          "text": [
            "\n",
            "      Epoch    GPU_mem   box_loss   cls_loss   dfl_loss  Instances       Size\n"
          ]
        },
        {
          "output_type": "stream",
          "name": "stderr",
          "text": [
            "      9/200      10.5G      2.737      3.077      1.877          3        640: 100%|██████████| 72/72 [00:58<00:00,  1.23it/s]\n",
            "                 Class     Images  Instances      Box(P          R      mAP50  mAP50-95): 100%|██████████| 5/5 [00:03<00:00,  1.30it/s]"
          ]
        },
        {
          "output_type": "stream",
          "name": "stdout",
          "text": [
            "                   all        159         91      0.162       0.11     0.0485     0.0105\n"
          ]
        },
        {
          "output_type": "stream",
          "name": "stderr",
          "text": [
            "\n"
          ]
        },
        {
          "output_type": "stream",
          "name": "stdout",
          "text": [
            "\n",
            "      Epoch    GPU_mem   box_loss   cls_loss   dfl_loss  Instances       Size\n"
          ]
        },
        {
          "output_type": "stream",
          "name": "stderr",
          "text": [
            "     10/200      10.5G      2.767      2.954      1.914          3        640: 100%|██████████| 72/72 [00:57<00:00,  1.26it/s]\n",
            "                 Class     Images  Instances      Box(P          R      mAP50  mAP50-95): 100%|██████████| 5/5 [00:03<00:00,  1.50it/s]"
          ]
        },
        {
          "output_type": "stream",
          "name": "stdout",
          "text": [
            "                   all        159         91      0.246     0.0659     0.0538     0.0207\n"
          ]
        },
        {
          "output_type": "stream",
          "name": "stderr",
          "text": [
            "\n"
          ]
        },
        {
          "output_type": "stream",
          "name": "stdout",
          "text": [
            "\n",
            "      Epoch    GPU_mem   box_loss   cls_loss   dfl_loss  Instances       Size\n"
          ]
        },
        {
          "output_type": "stream",
          "name": "stderr",
          "text": [
            "     11/200      10.5G      2.732      3.095      1.918          1        640: 100%|██████████| 72/72 [00:56<00:00,  1.27it/s]\n",
            "                 Class     Images  Instances      Box(P          R      mAP50  mAP50-95): 100%|██████████| 5/5 [00:02<00:00,  1.73it/s]"
          ]
        },
        {
          "output_type": "stream",
          "name": "stdout",
          "text": [
            "                   all        159         91      0.139      0.121     0.0653     0.0233\n"
          ]
        },
        {
          "output_type": "stream",
          "name": "stderr",
          "text": [
            "\n"
          ]
        },
        {
          "output_type": "stream",
          "name": "stdout",
          "text": [
            "\n",
            "      Epoch    GPU_mem   box_loss   cls_loss   dfl_loss  Instances       Size\n"
          ]
        },
        {
          "output_type": "stream",
          "name": "stderr",
          "text": [
            "     12/200      10.5G      2.726      3.016      1.951          3        640: 100%|██████████| 72/72 [00:58<00:00,  1.24it/s]\n",
            "                 Class     Images  Instances      Box(P          R      mAP50  mAP50-95): 100%|██████████| 5/5 [00:04<00:00,  1.24it/s]"
          ]
        },
        {
          "output_type": "stream",
          "name": "stdout",
          "text": [
            "                   all        159         91      0.256      0.132     0.0927     0.0327\n"
          ]
        },
        {
          "output_type": "stream",
          "name": "stderr",
          "text": [
            "\n"
          ]
        },
        {
          "output_type": "stream",
          "name": "stdout",
          "text": [
            "\n",
            "      Epoch    GPU_mem   box_loss   cls_loss   dfl_loss  Instances       Size\n"
          ]
        },
        {
          "output_type": "stream",
          "name": "stderr",
          "text": [
            "     13/200      10.6G      2.649      2.931      1.917          5        640: 100%|██████████| 72/72 [00:57<00:00,  1.24it/s]\n",
            "                 Class     Images  Instances      Box(P          R      mAP50  mAP50-95): 100%|██████████| 5/5 [00:02<00:00,  1.79it/s]"
          ]
        },
        {
          "output_type": "stream",
          "name": "stdout",
          "text": [
            "                   all        159         91      0.126     0.0549     0.0507     0.0168\n"
          ]
        },
        {
          "output_type": "stream",
          "name": "stderr",
          "text": [
            "\n"
          ]
        },
        {
          "output_type": "stream",
          "name": "stdout",
          "text": [
            "\n",
            "      Epoch    GPU_mem   box_loss   cls_loss   dfl_loss  Instances       Size\n"
          ]
        },
        {
          "output_type": "stream",
          "name": "stderr",
          "text": [
            "     14/200      10.6G      2.598      2.826      1.806          0        640: 100%|██████████| 72/72 [00:56<00:00,  1.27it/s]\n",
            "                 Class     Images  Instances      Box(P          R      mAP50  mAP50-95): 100%|██████████| 5/5 [00:03<00:00,  1.34it/s]"
          ]
        },
        {
          "output_type": "stream",
          "name": "stdout",
          "text": [
            "                   all        159         91      0.134       0.11     0.0311    0.00927\n"
          ]
        },
        {
          "output_type": "stream",
          "name": "stderr",
          "text": [
            "\n"
          ]
        },
        {
          "output_type": "stream",
          "name": "stdout",
          "text": [
            "\n",
            "      Epoch    GPU_mem   box_loss   cls_loss   dfl_loss  Instances       Size\n"
          ]
        },
        {
          "output_type": "stream",
          "name": "stderr",
          "text": [
            "     15/200      10.5G       2.63      2.807      1.878          2        640: 100%|██████████| 72/72 [00:57<00:00,  1.26it/s]\n",
            "                 Class     Images  Instances      Box(P          R      mAP50  mAP50-95): 100%|██████████| 5/5 [00:03<00:00,  1.39it/s]"
          ]
        },
        {
          "output_type": "stream",
          "name": "stdout",
          "text": [
            "                   all        159         91      0.258     0.0879     0.0861     0.0234\n"
          ]
        },
        {
          "output_type": "stream",
          "name": "stderr",
          "text": [
            "\n"
          ]
        },
        {
          "output_type": "stream",
          "name": "stdout",
          "text": [
            "\n",
            "      Epoch    GPU_mem   box_loss   cls_loss   dfl_loss  Instances       Size\n"
          ]
        },
        {
          "output_type": "stream",
          "name": "stderr",
          "text": [
            "     16/200      10.5G      2.599      2.821      1.816          4        640: 100%|██████████| 72/72 [00:57<00:00,  1.26it/s]\n",
            "                 Class     Images  Instances      Box(P          R      mAP50  mAP50-95): 100%|██████████| 5/5 [00:04<00:00,  1.24it/s]"
          ]
        },
        {
          "output_type": "stream",
          "name": "stdout",
          "text": [
            "                   all        159         91      0.235       0.22      0.125      0.037\n"
          ]
        },
        {
          "output_type": "stream",
          "name": "stderr",
          "text": [
            "\n"
          ]
        },
        {
          "output_type": "stream",
          "name": "stdout",
          "text": [
            "\n",
            "      Epoch    GPU_mem   box_loss   cls_loss   dfl_loss  Instances       Size\n"
          ]
        },
        {
          "output_type": "stream",
          "name": "stderr",
          "text": [
            "     17/200      10.5G      2.568      2.784      1.834          0        640: 100%|██████████| 72/72 [00:57<00:00,  1.26it/s]\n",
            "                 Class     Images  Instances      Box(P          R      mAP50  mAP50-95): 100%|██████████| 5/5 [00:04<00:00,  1.23it/s]"
          ]
        },
        {
          "output_type": "stream",
          "name": "stdout",
          "text": [
            "                   all        159         91      0.188      0.154      0.102     0.0263\n"
          ]
        },
        {
          "output_type": "stream",
          "name": "stderr",
          "text": [
            "\n"
          ]
        },
        {
          "output_type": "stream",
          "name": "stdout",
          "text": [
            "\n",
            "      Epoch    GPU_mem   box_loss   cls_loss   dfl_loss  Instances       Size\n"
          ]
        },
        {
          "output_type": "stream",
          "name": "stderr",
          "text": [
            "     18/200      10.6G      2.564      2.734      1.842          1        640: 100%|██████████| 72/72 [00:56<00:00,  1.27it/s]\n",
            "                 Class     Images  Instances      Box(P          R      mAP50  mAP50-95): 100%|██████████| 5/5 [00:04<00:00,  1.20it/s]"
          ]
        },
        {
          "output_type": "stream",
          "name": "stdout",
          "text": [
            "                   all        159         91      0.251      0.143      0.127     0.0383\n"
          ]
        },
        {
          "output_type": "stream",
          "name": "stderr",
          "text": [
            "\n"
          ]
        },
        {
          "output_type": "stream",
          "name": "stdout",
          "text": [
            "\n",
            "      Epoch    GPU_mem   box_loss   cls_loss   dfl_loss  Instances       Size\n"
          ]
        },
        {
          "output_type": "stream",
          "name": "stderr",
          "text": [
            "     19/200      10.5G      2.551       2.65      1.846          2        640: 100%|██████████| 72/72 [00:57<00:00,  1.25it/s]\n",
            "                 Class     Images  Instances      Box(P          R      mAP50  mAP50-95): 100%|██████████| 5/5 [00:02<00:00,  1.83it/s]"
          ]
        },
        {
          "output_type": "stream",
          "name": "stdout",
          "text": [
            "                   all        159         91      0.178      0.198      0.125     0.0365\n"
          ]
        },
        {
          "output_type": "stream",
          "name": "stderr",
          "text": [
            "\n"
          ]
        },
        {
          "output_type": "stream",
          "name": "stdout",
          "text": [
            "\n",
            "      Epoch    GPU_mem   box_loss   cls_loss   dfl_loss  Instances       Size\n"
          ]
        },
        {
          "output_type": "stream",
          "name": "stderr",
          "text": [
            "     20/200      10.5G      2.526      2.691       1.79          5        640: 100%|██████████| 72/72 [00:57<00:00,  1.25it/s]\n",
            "                 Class     Images  Instances      Box(P          R      mAP50  mAP50-95): 100%|██████████| 5/5 [00:02<00:00,  1.69it/s]"
          ]
        },
        {
          "output_type": "stream",
          "name": "stdout",
          "text": [
            "                   all        159         91      0.237      0.165      0.137     0.0458\n"
          ]
        },
        {
          "output_type": "stream",
          "name": "stderr",
          "text": [
            "\n"
          ]
        },
        {
          "output_type": "stream",
          "name": "stdout",
          "text": [
            "\n",
            "      Epoch    GPU_mem   box_loss   cls_loss   dfl_loss  Instances       Size\n"
          ]
        },
        {
          "output_type": "stream",
          "name": "stderr",
          "text": [
            "     21/200      10.5G      2.475      2.662      1.779          5        640: 100%|██████████| 72/72 [00:57<00:00,  1.26it/s]\n",
            "                 Class     Images  Instances      Box(P          R      mAP50  mAP50-95): 100%|██████████| 5/5 [00:03<00:00,  1.31it/s]"
          ]
        },
        {
          "output_type": "stream",
          "name": "stdout",
          "text": [
            "                   all        159         91      0.461      0.187      0.158     0.0545\n"
          ]
        },
        {
          "output_type": "stream",
          "name": "stderr",
          "text": [
            "\n"
          ]
        },
        {
          "output_type": "stream",
          "name": "stdout",
          "text": [
            "\n",
            "      Epoch    GPU_mem   box_loss   cls_loss   dfl_loss  Instances       Size\n"
          ]
        },
        {
          "output_type": "stream",
          "name": "stderr",
          "text": [
            "     22/200      10.5G      2.475      2.593      1.824          2        640: 100%|██████████| 72/72 [00:58<00:00,  1.23it/s]\n",
            "                 Class     Images  Instances      Box(P          R      mAP50  mAP50-95): 100%|██████████| 5/5 [00:03<00:00,  1.45it/s]"
          ]
        },
        {
          "output_type": "stream",
          "name": "stdout",
          "text": [
            "                   all        159         91      0.261      0.253      0.188     0.0524\n"
          ]
        },
        {
          "output_type": "stream",
          "name": "stderr",
          "text": [
            "\n"
          ]
        },
        {
          "output_type": "stream",
          "name": "stdout",
          "text": [
            "\n",
            "      Epoch    GPU_mem   box_loss   cls_loss   dfl_loss  Instances       Size\n"
          ]
        },
        {
          "output_type": "stream",
          "name": "stderr",
          "text": [
            "     23/200      10.6G      2.527      2.557      1.773          3        640: 100%|██████████| 72/72 [00:57<00:00,  1.25it/s]\n",
            "                 Class     Images  Instances      Box(P          R      mAP50  mAP50-95): 100%|██████████| 5/5 [00:02<00:00,  1.80it/s]"
          ]
        },
        {
          "output_type": "stream",
          "name": "stdout",
          "text": [
            "                   all        159         91     0.0711     0.0769     0.0306     0.0102\n"
          ]
        },
        {
          "output_type": "stream",
          "name": "stderr",
          "text": [
            "\n"
          ]
        },
        {
          "output_type": "stream",
          "name": "stdout",
          "text": [
            "\n",
            "      Epoch    GPU_mem   box_loss   cls_loss   dfl_loss  Instances       Size\n"
          ]
        },
        {
          "output_type": "stream",
          "name": "stderr",
          "text": [
            "     24/200      10.5G      2.489       2.57      1.772          0        640: 100%|██████████| 72/72 [00:57<00:00,  1.25it/s]\n",
            "                 Class     Images  Instances      Box(P          R      mAP50  mAP50-95): 100%|██████████| 5/5 [00:02<00:00,  1.74it/s]"
          ]
        },
        {
          "output_type": "stream",
          "name": "stdout",
          "text": [
            "                   all        159         91       0.17      0.154      0.092     0.0351\n"
          ]
        },
        {
          "output_type": "stream",
          "name": "stderr",
          "text": [
            "\n"
          ]
        },
        {
          "output_type": "stream",
          "name": "stdout",
          "text": [
            "\n",
            "      Epoch    GPU_mem   box_loss   cls_loss   dfl_loss  Instances       Size\n"
          ]
        },
        {
          "output_type": "stream",
          "name": "stderr",
          "text": [
            "     25/200      10.5G      2.446      2.513      1.745          4        640: 100%|██████████| 72/72 [00:58<00:00,  1.24it/s]\n",
            "                 Class     Images  Instances      Box(P          R      mAP50  mAP50-95): 100%|██████████| 5/5 [00:04<00:00,  1.19it/s]"
          ]
        },
        {
          "output_type": "stream",
          "name": "stdout",
          "text": [
            "                   all        159         91      0.236      0.165      0.135     0.0459\n"
          ]
        },
        {
          "output_type": "stream",
          "name": "stderr",
          "text": [
            "\n"
          ]
        },
        {
          "output_type": "stream",
          "name": "stdout",
          "text": [
            "\n",
            "      Epoch    GPU_mem   box_loss   cls_loss   dfl_loss  Instances       Size\n"
          ]
        },
        {
          "output_type": "stream",
          "name": "stderr",
          "text": [
            "     26/200      10.5G      2.438      2.444      1.762          6        640: 100%|██████████| 72/72 [00:57<00:00,  1.26it/s]\n",
            "                 Class     Images  Instances      Box(P          R      mAP50  mAP50-95): 100%|██████████| 5/5 [00:03<00:00,  1.57it/s]"
          ]
        },
        {
          "output_type": "stream",
          "name": "stdout",
          "text": [
            "                   all        159         91       0.36      0.176      0.162     0.0542\n"
          ]
        },
        {
          "output_type": "stream",
          "name": "stderr",
          "text": [
            "\n"
          ]
        },
        {
          "output_type": "stream",
          "name": "stdout",
          "text": [
            "\n",
            "      Epoch    GPU_mem   box_loss   cls_loss   dfl_loss  Instances       Size\n"
          ]
        },
        {
          "output_type": "stream",
          "name": "stderr",
          "text": [
            "     27/200      10.5G      2.464      2.481      1.738          1        640: 100%|██████████| 72/72 [00:56<00:00,  1.27it/s]\n",
            "                 Class     Images  Instances      Box(P          R      mAP50  mAP50-95): 100%|██████████| 5/5 [00:03<00:00,  1.45it/s]"
          ]
        },
        {
          "output_type": "stream",
          "name": "stdout",
          "text": [
            "                   all        159         91      0.176     0.0989     0.0778     0.0265\n"
          ]
        },
        {
          "output_type": "stream",
          "name": "stderr",
          "text": [
            "\n"
          ]
        },
        {
          "output_type": "stream",
          "name": "stdout",
          "text": [
            "\n",
            "      Epoch    GPU_mem   box_loss   cls_loss   dfl_loss  Instances       Size\n"
          ]
        },
        {
          "output_type": "stream",
          "name": "stderr",
          "text": [
            "     28/200      10.6G      2.419      2.488      1.709          4        640: 100%|██████████| 72/72 [00:57<00:00,  1.24it/s]\n",
            "                 Class     Images  Instances      Box(P          R      mAP50  mAP50-95): 100%|██████████| 5/5 [00:03<00:00,  1.50it/s]"
          ]
        },
        {
          "output_type": "stream",
          "name": "stdout",
          "text": [
            "                   all        159         91      0.211       0.11      0.136     0.0408\n"
          ]
        },
        {
          "output_type": "stream",
          "name": "stderr",
          "text": [
            "\n"
          ]
        },
        {
          "output_type": "stream",
          "name": "stdout",
          "text": [
            "\n",
            "      Epoch    GPU_mem   box_loss   cls_loss   dfl_loss  Instances       Size\n"
          ]
        },
        {
          "output_type": "stream",
          "name": "stderr",
          "text": [
            "     29/200      10.8G      2.368      2.491      1.734          0        640: 100%|██████████| 72/72 [00:57<00:00,  1.26it/s]\n",
            "                 Class     Images  Instances      Box(P          R      mAP50  mAP50-95): 100%|██████████| 5/5 [00:02<00:00,  1.67it/s]"
          ]
        },
        {
          "output_type": "stream",
          "name": "stdout",
          "text": [
            "                   all        159         91      0.191      0.143      0.145     0.0393\n"
          ]
        },
        {
          "output_type": "stream",
          "name": "stderr",
          "text": [
            "\n"
          ]
        },
        {
          "output_type": "stream",
          "name": "stdout",
          "text": [
            "\n",
            "      Epoch    GPU_mem   box_loss   cls_loss   dfl_loss  Instances       Size\n"
          ]
        },
        {
          "output_type": "stream",
          "name": "stderr",
          "text": [
            "     30/200      10.8G      2.433       2.44      1.771          1        640: 100%|██████████| 72/72 [00:56<00:00,  1.27it/s]\n",
            "                 Class     Images  Instances      Box(P          R      mAP50  mAP50-95): 100%|██████████| 5/5 [00:03<00:00,  1.51it/s]"
          ]
        },
        {
          "output_type": "stream",
          "name": "stdout",
          "text": [
            "                   all        159         91      0.296      0.154      0.169     0.0408\n"
          ]
        },
        {
          "output_type": "stream",
          "name": "stderr",
          "text": [
            "\n"
          ]
        },
        {
          "output_type": "stream",
          "name": "stdout",
          "text": [
            "\n",
            "      Epoch    GPU_mem   box_loss   cls_loss   dfl_loss  Instances       Size\n"
          ]
        },
        {
          "output_type": "stream",
          "name": "stderr",
          "text": [
            "     31/200      10.5G      2.424      2.408      1.749          3        640: 100%|██████████| 72/72 [00:56<00:00,  1.27it/s]\n",
            "                 Class     Images  Instances      Box(P          R      mAP50  mAP50-95): 100%|██████████| 5/5 [00:03<00:00,  1.27it/s]"
          ]
        },
        {
          "output_type": "stream",
          "name": "stdout",
          "text": [
            "                   all        159         91      0.375      0.198      0.169     0.0517\n"
          ]
        },
        {
          "output_type": "stream",
          "name": "stderr",
          "text": [
            "\n"
          ]
        },
        {
          "output_type": "stream",
          "name": "stdout",
          "text": [
            "\n",
            "      Epoch    GPU_mem   box_loss   cls_loss   dfl_loss  Instances       Size\n"
          ]
        },
        {
          "output_type": "stream",
          "name": "stderr",
          "text": [
            "     32/200      10.5G      2.349      2.358      1.706          1        640: 100%|██████████| 72/72 [00:56<00:00,  1.28it/s]\n",
            "                 Class     Images  Instances      Box(P          R      mAP50  mAP50-95): 100%|██████████| 5/5 [00:03<00:00,  1.59it/s]"
          ]
        },
        {
          "output_type": "stream",
          "name": "stdout",
          "text": [
            "                   all        159         91      0.206      0.211      0.149     0.0487\n",
            "\u001b[34m\u001b[1mEarlyStopping: \u001b[0mTraining stopped early as no improvement observed in last 10 epochs. Best results observed at epoch 22, best model saved as best.pt.\n",
            "To update EarlyStopping(patience=10) pass a new patience value, i.e. `patience=300` or use `patience=0` to disable EarlyStopping.\n"
          ]
        },
        {
          "output_type": "stream",
          "name": "stderr",
          "text": [
            "\n"
          ]
        },
        {
          "output_type": "stream",
          "name": "stdout",
          "text": [
            "\n",
            "32 epochs completed in 0.625 hours.\n",
            "Optimizer stripped from runs/detect/train3/weights/last.pt, 87.6MB\n",
            "Optimizer stripped from runs/detect/train3/weights/best.pt, 87.6MB\n",
            "\n",
            "Validating runs/detect/train3/weights/best.pt...\n",
            "Ultralytics 8.3.73 🚀 Python-3.11.11 torch-2.5.1+cu124 CUDA:0 (Tesla T4, 15095MiB)\n",
            "Model summary (fused): 268 layers, 43,607,379 parameters, 0 gradients, 164.8 GFLOPs\n"
          ]
        },
        {
          "output_type": "stream",
          "name": "stderr",
          "text": [
            "                 Class     Images  Instances      Box(P          R      mAP50  mAP50-95): 100%|██████████| 5/5 [00:04<00:00,  1.22it/s]\n"
          ]
        },
        {
          "output_type": "stream",
          "name": "stdout",
          "text": [
            "                   all        159         91      0.261      0.253      0.188     0.0524\n",
            "Speed: 0.2ms preprocess, 13.7ms inference, 0.0ms loss, 5.4ms postprocess per image\n",
            "Results saved to \u001b[1mruns/detect/train3\u001b[0m\n"
          ]
        },
        {
          "output_type": "display_data",
          "data": {
            "text/plain": [
              "<IPython.core.display.Javascript object>"
            ],
            "application/javascript": [
              "\n",
              "    async function download(id, filename, size) {\n",
              "      if (!google.colab.kernel.accessAllowed) {\n",
              "        return;\n",
              "      }\n",
              "      const div = document.createElement('div');\n",
              "      const label = document.createElement('label');\n",
              "      label.textContent = `Downloading \"${filename}\": `;\n",
              "      div.appendChild(label);\n",
              "      const progress = document.createElement('progress');\n",
              "      progress.max = size;\n",
              "      div.appendChild(progress);\n",
              "      document.body.appendChild(div);\n",
              "\n",
              "      const buffers = [];\n",
              "      let downloaded = 0;\n",
              "\n",
              "      const channel = await google.colab.kernel.comms.open(id);\n",
              "      // Send a message to notify the kernel that we're ready.\n",
              "      channel.send({})\n",
              "\n",
              "      for await (const message of channel.messages) {\n",
              "        // Send a message to notify the kernel that we're ready.\n",
              "        channel.send({})\n",
              "        if (message.buffers) {\n",
              "          for (const buffer of message.buffers) {\n",
              "            buffers.push(buffer);\n",
              "            downloaded += buffer.byteLength;\n",
              "            progress.value = downloaded;\n",
              "          }\n",
              "        }\n",
              "      }\n",
              "      const blob = new Blob(buffers, {type: 'application/binary'});\n",
              "      const a = document.createElement('a');\n",
              "      a.href = window.URL.createObjectURL(blob);\n",
              "      a.download = filename;\n",
              "      div.appendChild(a);\n",
              "      a.click();\n",
              "      div.remove();\n",
              "    }\n",
              "  "
            ]
          },
          "metadata": {}
        },
        {
          "output_type": "display_data",
          "data": {
            "text/plain": [
              "<IPython.core.display.Javascript object>"
            ],
            "application/javascript": [
              "download(\"download_6dcb2482-6046-41d6-acc6-b42cbcbd5db6\", \"best.pt\", 87632947)"
            ]
          },
          "metadata": {}
        },
        {
          "output_type": "display_data",
          "data": {
            "image/png": "[encoded data removed]",
            "text/plain": [
              "<IPython.core.display.Image object>"
            ]
          },
          "metadata": {}
        }
      ],
      "source": [
        "if model_path is None:\n",
        "    # Train YOLO model\n",
        "    model_ver = \"yolov8l\"  # e.g. Use \"n\" for a lightweight model\n",
        "\n",
        "    model = YOLO(f\"{model_ver}.pt\")\n",
        "    results = model.train(data=f\"{dataset_path}/data.yaml\",\n",
        "                          epochs=200,\n",
        "                          imgsz=640,\n",
        "                          patience=10,\n",
        "                          val = True)\n",
        "\n",
        "    from google.colab import files\n",
        "\n",
        "    best_model_path = os.path.join(str(model.trainer.save_dir), \"weights\", \"best.pt\")\n",
        "\n",
        "    files.download(best_model_path)\n",
        "\n",
        "    # Define the target directory in Google Drive\n",
        "    drive_save_dir = \"/content/drive/MyDrive/yolo_models\"\n",
        "\n",
        "    # Create the directory if it doesn't exist\n",
        "    os.makedirs(drive_save_dir, exist_ok=True)\n",
        "\n",
        "    # Generate a timestamped filename\n",
        "    timestamp = datetime.now().strftime(\"%Y-%m-%d_%H-%M-%S\")\n",
        "    model_filename = f\"{model_ver}_incl_not_fractured_{timestamp}.pt\"\n",
        "\n",
        "    save_path = os.path.join(drive_save_dir, model_filename)\n",
        "\n",
        "    shutil.copy(best_model_path, save_path)\n",
        "\n",
        "    # Display the loss curves\n",
        "    display(Image(filename= f\"{os.path.join(str(model.trainer.save_dir))}/results.png\"))\n"
      ]
    },
    {
      "cell_type": "code",
      "source": [
        "import os\n",
        "\n",
        "# Define the paths to your dataset\n",
        "yolo_data_dir = dataset_path\n",
        "splits = [\"train\", \"val\", \"test\"]\n",
        "\n",
        "# Iterate through each dataset split\n",
        "for split in splits:\n",
        "    img_dir = os.path.join(yolo_data_dir, \"images\", split)\n",
        "    ann_dir = os.path.join(yolo_data_dir, \"labels\", split)\n",
        "\n",
        "    # List all image files (without extension)\n",
        "    image_files = {os.path.splitext(f)[0] for f in os.listdir(img_dir) if f.endswith((\".jpg\", \".png\", \".jpeg\"))}\n",
        "\n",
        "    # List all annotation files (without extension)\n",
        "    annotation_files = {os.path.splitext(f)[0] for f in os.listdir(ann_dir) if f.endswith(\".txt\")}\n",
        "\n",
        "    # Find missing annotations\n",
        "    missing_annotations = image_files - annotation_files\n",
        "    missing_images = annotation_files - image_files  # In case there are extra annotation files\n",
        "\n",
        "    print(f\"\\nChecking split: {split}\")\n",
        "    if missing_annotations:\n",
        "        print(f\"⚠️ Missing annotation files for {len(missing_annotations)} images:\")\n",
        "        print(\"\\n\".join(sorted(missing_annotations)[:10]))  # Show first 10 missing files\n",
        "\n",
        "    if missing_images:\n",
        "        print(f\"⚠️ Extra annotation files found without images: {len(missing_images)}\")\n",
        "        print(\"\\n\".join(sorted(missing_images)[:10]))\n",
        "\n",
        "    if not missing_annotations and not missing_images:\n",
        "        print(\"✅ All images have corresponding annotation files!\")\n",
        "\n",
        "print(\"\\nAnnotation check completed.\")\n"
      ],
      "metadata": {
        "colab": {
          "base_uri": "https://localhost:8080/"
        },
        "id": "NOHZMDesswzW",
        "outputId": "3695ecfe-faee-45f5-9bd8-fbf5a5efe946"
      },
      "execution_count": 17,
      "outputs": [
        {
          "output_type": "stream",
          "name": "stdout",
          "text": [
            "\n",
            "Checking split: train\n",
            "✅ All images have corresponding annotation files!\n",
            "\n",
            "Checking split: val\n",
            "✅ All images have corresponding annotation files!\n",
            "\n",
            "Checking split: test\n",
            "✅ All images have corresponding annotation files!\n",
            "\n",
            "Annotation check completed.\n"
          ]
        }
      ]
    },
    {
      "cell_type": "code",
      "source": [
        "# Validate the model\n",
        "metrics = model.val()  # no arguments needed, dataset and settings remembered\n",
        "print(f\"mAP50-95 = {metrics.box.map:.3f}\")\n",
        "print(f\"mAP50 = {metrics.box.map50:.3f}\")\n",
        "print(f\"mAP75 = {metrics.box.map75:.3f}\")\n",
        "metrics.box.maps  # a list contains map50-95 of each category"
      ],
      "metadata": {
        "id": "52cLG0um_eNn",
        "colab": {
          "base_uri": "https://localhost:8080/"
        },
        "outputId": "a31ffecb-665d-42ba-bc07-d16c1874c60d"
      },
      "execution_count": 8,
      "outputs": [
        {
          "output_type": "stream",
          "name": "stdout",
          "text": [
            "Ultralytics 8.3.73 🚀 Python-3.11.11 torch-2.5.1+cu124 CUDA:0 (Tesla T4, 15095MiB)\n",
            "Model summary (fused): 268 layers, 43,607,379 parameters, 0 gradients, 164.8 GFLOPs\n"
          ]
        },
        {
          "output_type": "stream",
          "name": "stderr",
          "text": [
            "\u001b[34m\u001b[1mval: \u001b[0mScanning /content/drive/MyDrive/data_object_detection_incl_not_fractured_yolo/labels/val.cache... 159 images, 77 backgrounds, 5 corrupt: 100%|██████████| 164/164 [00:00<?, ?it/s]"
          ]
        },
        {
          "output_type": "stream",
          "name": "stdout",
          "text": [
            "\u001b[34m\u001b[1mval: \u001b[0mWARNING ⚠️ /content/drive/MyDrive/data_object_detection_incl_not_fractured_yolo/images/val/IMG0004029.jpg: ignoring corrupt image/label: image file is truncated (22 bytes not processed)\n",
            "\u001b[34m\u001b[1mval: \u001b[0mWARNING ⚠️ /content/drive/MyDrive/data_object_detection_incl_not_fractured_yolo/images/val/IMG0004252.jpg: ignoring corrupt image/label: image file is truncated (67 bytes not processed)\n",
            "\u001b[34m\u001b[1mval: \u001b[0mWARNING ⚠️ /content/drive/MyDrive/data_object_detection_incl_not_fractured_yolo/images/val/IMG0004256.jpg: ignoring corrupt image/label: image file is truncated (66 bytes not processed)\n",
            "\u001b[34m\u001b[1mval: \u001b[0mWARNING ⚠️ /content/drive/MyDrive/data_object_detection_incl_not_fractured_yolo/images/val/IMG0004279.jpg: ignoring corrupt image/label: image file is truncated (5 bytes not processed)\n",
            "\u001b[34m\u001b[1mval: \u001b[0mWARNING ⚠️ /content/drive/MyDrive/data_object_detection_incl_not_fractured_yolo/images/val/IMG0004285.jpg: ignoring corrupt image/label: image file is truncated (9 bytes not processed)\n"
          ]
        },
        {
          "output_type": "stream",
          "name": "stderr",
          "text": [
            "\n",
            "                 Class     Images  Instances      Box(P          R      mAP50  mAP50-95): 100%|██████████| 10/10 [00:07<00:00,  1.37it/s]\n"
          ]
        },
        {
          "output_type": "stream",
          "name": "stdout",
          "text": [
            "                   all        159         91      0.237      0.242      0.173     0.0518\n",
            "Speed: 0.2ms preprocess, 32.5ms inference, 0.0ms loss, 2.4ms postprocess per image\n",
            "Results saved to \u001b[1mruns/detect/train32\u001b[0m\n",
            "mAP50-95 = 0.052\n",
            "mAP50 = 0.173\n",
            "mAP75 = 0.018\n"
          ]
        },
        {
          "output_type": "execute_result",
          "data": {
            "text/plain": [
              "array([   0.051789])"
            ]
          },
          "metadata": {},
          "execution_count": 8
        }
      ]
    },
    {
      "cell_type": "code",
      "source": [
        "def intersection_over_union(boxA, boxB):\n",
        "    \"\"\"\n",
        "    Computes IoU between two boxes: [xmin, ymin, xmax, ymax].\n",
        "    \"\"\"\n",
        "    xA = max(boxA[0], boxB[0])\n",
        "    yA = max(boxA[1], boxB[1])\n",
        "    xB = min(boxA[2], boxB[2])\n",
        "    yB = min(boxA[3], boxB[3])\n",
        "\n",
        "    interArea = max(0, xB - xA) * max(0, yB - yA)\n",
        "    boxAArea = (boxA[2] - boxA[0]) * (boxA[3] - boxA[1])\n",
        "    boxBArea = (boxB[2] - boxB[0]) * (boxB[3] - boxB[1])\n",
        "    union = boxAArea + boxBArea - interArea + 1e-6\n",
        "\n",
        "    return interArea / union\n",
        "\n",
        "def match_boxes_iou(pred_boxes, gt_boxes, iou_thresh):\n",
        "    \"\"\"\n",
        "    Matches predicted boxes with ground truth based on IoU threshold.\n",
        "    Returns:\n",
        "      - is_tp: List of booleans indicating if a predicted box is a true positive.\n",
        "      - is_fp: List of booleans indicating if a predicted box is a false positive.\n",
        "      - unmatched_gt: Count of unmatched ground truth boxes (False Negatives).\n",
        "    \"\"\"\n",
        "    used = np.zeros(len(gt_boxes), dtype=bool)  # Tracks matched GT boxes\n",
        "    is_tp = []\n",
        "    is_fp = []\n",
        "\n",
        "    for pb in pred_boxes:\n",
        "        best_iou = 0.0\n",
        "        best_idx = -1\n",
        "        for i, gb in enumerate(gt_boxes):\n",
        "            if used[i]:\n",
        "                continue  # Skip already matched GT boxes\n",
        "            iou = intersection_over_union(pb, gb)\n",
        "\n",
        "            if iou > best_iou:\n",
        "                best_iou = iou\n",
        "                best_idx = i\n",
        "\n",
        "        if best_iou >= iou_thresh and best_idx >= 0:\n",
        "            is_tp.append(True)\n",
        "            is_fp.append(False)\n",
        "            used[best_idx] = True  # Mark this GT as matched\n",
        "        else:\n",
        "            is_tp.append(False)\n",
        "            is_fp.append(True)  # Count this as a false positive\n",
        "\n",
        "    unmatched_gt = np.sum(~used)  # False Negatives = Unmatched GT boxes\n",
        "    return np.array(is_tp), np.array(is_fp), unmatched_gt\n",
        "\n"
      ],
      "metadata": {
        "id": "fxxbfXbmpzZM"
      },
      "execution_count": 9,
      "outputs": []
    },
    {
      "cell_type": "code",
      "source": [
        "test_images_dir = f\"{dataset_path}/images/test\"\n",
        "test_labels_dir = f\"{dataset_path}/labels/test\"\n",
        "\n",
        "test_images = [f for f in os.listdir(test_images_dir)\n",
        "               if f.lower().endswith((\".jpg\", \".png\", \".jpeg\"))]\n",
        "\n",
        "# We want the class ID for \"fractured\"\n",
        "fractured_id = None\n",
        "for idx, name in model.names.items():\n",
        "    if name == \"fractured\":\n",
        "        fractured_id = idx\n",
        "        break\n",
        "\n",
        "if fractured_id is None:\n",
        "    raise ValueError(\"No class named 'fractured' in model.names!\")\n",
        "\n",
        "print(f\"Class ID for 'fractured': {fractured_id}\")"
      ],
      "metadata": {
        "colab": {
          "base_uri": "https://localhost:8080/"
        },
        "id": "J4nfh9fJqc2D",
        "outputId": "5992d5ba-6cfe-477d-c154-e97d8abbc2bd"
      },
      "execution_count": 22,
      "outputs": [
        {
          "output_type": "stream",
          "name": "stdout",
          "text": [
            "Class ID for 'fractured': 0\n"
          ]
        }
      ]
    },
    {
      "cell_type": "code",
      "source": [
        "# storing a list of ground truth boxes (only 'fractured')\n",
        "# and a list of predicted boxes (only 'fractured'), plus the predicted scores.\n",
        "all_gt = []\n",
        "all_pred = []\n",
        "all_scores = []\n",
        "\n",
        "for image_name in tqdm(test_images):\n",
        "    image_path = os.path.join(test_images_dir, image_name)\n",
        "    label_path = os.path.join(test_labels_dir, os.path.splitext(image_name)[0] + \".txt\")\n",
        "\n",
        "    # Ground truth boxes (for 'fractured')\n",
        "    image = cv2.imread(image_path)\n",
        "    if image is None:\n",
        "        # skip broken image\n",
        "        continue\n",
        "    img_h, img_w = image.shape[:2]\n",
        "\n",
        "    gt_boxes = []\n",
        "    if os.path.exists(label_path):\n",
        "        with open(label_path, 'r') as f:\n",
        "            for line in f:\n",
        "                parts = line.strip().split()\n",
        "                cls_id = int(parts[0])\n",
        "                xc, yc, w, h = map(float, parts[1:])\n",
        "                if cls_id == fractured_id:\n",
        "                    xmin = int((xc - w/2) * img_w)\n",
        "                    ymin = int((yc - h/2) * img_h)\n",
        "                    xmax = int((xc + w/2) * img_w)\n",
        "                    ymax = int((yc + h/2) * img_h)\n",
        "                    gt_boxes.append([xmin, ymin, xmax, ymax])\n",
        "\n",
        "    # Predictions (for 'fractured')\n",
        "    results = model(image_path, imgsz=640)\n",
        "    # results = model(image_path, imgsz=640, conf=0.01)\n",
        "\n",
        "    pred_boxes = []\n",
        "    scores = []\n",
        "    for r in results:\n",
        "        for box in r.boxes:\n",
        "            cls_pred = int(box.cls[0].item())\n",
        "            conf = float(box.conf[0].item())\n",
        "            x1, y1, x2, y2 = map(int, box.xyxy[0])\n",
        "            if cls_pred == fractured_id:\n",
        "                pred_boxes.append([x1, y1, x2, y2])\n",
        "                scores.append(conf)\n",
        "\n",
        "    all_gt.append(gt_boxes)\n",
        "    all_pred.append(pred_boxes)\n",
        "    all_scores.append(scores)"
      ],
      "metadata": {
        "colab": {
          "base_uri": "https://localhost:8080/",
          "height": 1000
        },
        "id": "6Xp_6FvGte9U",
        "outputId": "86f18efb-2fae-46e8-afa5-2ff3dc1f1e99"
      },
      "execution_count": 23,
      "outputs": [
        {
          "output_type": "stream",
          "name": "stderr",
          "text": [
            "\r  0%|          | 0/122 [00:00<?, ?it/s]"
          ]
        },
        {
          "output_type": "stream",
          "name": "stdout",
          "text": [
            "\n",
            "image 1/1 /content/drive/MyDrive/data_object_detection_incl_not_fractured_yolo/images/test/IMG0001782.jpg: 640x544 (no detections), 82.3ms\n",
            "Speed: 4.6ms preprocess, 82.3ms inference, 1.2ms postprocess per image at shape (1, 3, 640, 544)\n"
          ]
        },
        {
          "output_type": "stream",
          "name": "stderr",
          "text": [
            "\r  1%|          | 1/122 [00:00<01:41,  1.20it/s]"
          ]
        },
        {
          "output_type": "stream",
          "name": "stdout",
          "text": [
            "\n",
            "image 1/1 /content/drive/MyDrive/data_object_detection_incl_not_fractured_yolo/images/test/IMG0001566.jpg: 544x640 (no detections), 146.9ms\n",
            "Speed: 19.2ms preprocess, 146.9ms inference, 1.0ms postprocess per image at shape (1, 3, 544, 640)\n"
          ]
        },
        {
          "output_type": "stream",
          "name": "stderr",
          "text": [
            "\r  2%|▏         | 2/122 [00:02<02:28,  1.24s/it]"
          ]
        },
        {
          "output_type": "stream",
          "name": "stdout",
          "text": [
            "\n",
            "image 1/1 /content/drive/MyDrive/data_object_detection_incl_not_fractured_yolo/images/test/IMG0001611.jpg: 640x544 1 fractured, 53.5ms\n",
            "Speed: 3.7ms preprocess, 53.5ms inference, 1.8ms postprocess per image at shape (1, 3, 640, 544)\n"
          ]
        },
        {
          "output_type": "stream",
          "name": "stderr",
          "text": [
            "\r  2%|▏         | 3/122 [00:02<01:29,  1.33it/s]"
          ]
        },
        {
          "output_type": "stream",
          "name": "stdout",
          "text": [
            "\n",
            "image 1/1 /content/drive/MyDrive/data_object_detection_incl_not_fractured_yolo/images/test/IMG0001406.jpg: 544x640 1 fractured, 61.7ms\n",
            "Speed: 4.1ms preprocess, 61.7ms inference, 4.3ms postprocess per image at shape (1, 3, 544, 640)\n"
          ]
        },
        {
          "output_type": "stream",
          "name": "stderr",
          "text": [
            "\r  3%|▎         | 4/122 [00:02<01:14,  1.58it/s]"
          ]
        },
        {
          "output_type": "stream",
          "name": "stdout",
          "text": [
            "\n",
            "image 1/1 /content/drive/MyDrive/data_object_detection_incl_not_fractured_yolo/images/test/IMG0001563.jpg: 640x544 (no detections), 61.7ms\n",
            "Speed: 3.7ms preprocess, 61.7ms inference, 0.7ms postprocess per image at shape (1, 3, 640, 544)\n",
            "\n",
            "image 1/1 /content/drive/MyDrive/data_object_detection_incl_not_fractured_yolo/images/test/IMG0001540.jpg: 640x544 (no detections), 61.2ms\n",
            "Speed: 3.4ms preprocess, 61.2ms inference, 1.9ms postprocess per image at shape (1, 3, 640, 544)\n"
          ]
        },
        {
          "output_type": "stream",
          "name": "stderr",
          "text": [
            "\r  5%|▍         | 6/122 [00:03<00:40,  2.89it/s]"
          ]
        },
        {
          "output_type": "stream",
          "name": "stdout",
          "text": [
            "\n",
            "image 1/1 /content/drive/MyDrive/data_object_detection_incl_not_fractured_yolo/images/test/IMG0001516.jpg: 544x640 (no detections), 62.5ms\n",
            "Speed: 7.6ms preprocess, 62.5ms inference, 3.5ms postprocess per image at shape (1, 3, 544, 640)\n"
          ]
        },
        {
          "output_type": "stream",
          "name": "stderr",
          "text": [
            "\r  6%|▌         | 7/122 [00:03<00:33,  3.48it/s]"
          ]
        },
        {
          "output_type": "stream",
          "name": "stdout",
          "text": [
            "\n",
            "image 1/1 /content/drive/MyDrive/data_object_detection_incl_not_fractured_yolo/images/test/IMG0001515.jpg: 640x544 (no detections), 74.3ms\n",
            "Speed: 3.3ms preprocess, 74.3ms inference, 3.3ms postprocess per image at shape (1, 3, 640, 544)\n"
          ]
        },
        {
          "output_type": "stream",
          "name": "stderr",
          "text": [
            "\r  7%|▋         | 8/122 [00:03<00:28,  4.06it/s]"
          ]
        },
        {
          "output_type": "stream",
          "name": "stdout",
          "text": [
            "\n",
            "image 1/1 /content/drive/MyDrive/data_object_detection_incl_not_fractured_yolo/images/test/IMG0001501.jpg: 640x544 (no detections), 42.6ms\n",
            "Speed: 12.2ms preprocess, 42.6ms inference, 2.5ms postprocess per image at shape (1, 3, 640, 544)\n",
            "\n",
            "image 1/1 /content/drive/MyDrive/data_object_detection_incl_not_fractured_yolo/images/test/IMG0001506.jpg: 640x544 (no detections), 75.5ms\n",
            "Speed: 3.8ms preprocess, 75.5ms inference, 3.2ms postprocess per image at shape (1, 3, 640, 544)\n"
          ]
        },
        {
          "output_type": "stream",
          "name": "stderr",
          "text": [
            "\r  8%|▊         | 10/122 [00:03<00:21,  5.31it/s]"
          ]
        },
        {
          "output_type": "stream",
          "name": "stdout",
          "text": [
            "\n",
            "image 1/1 /content/drive/MyDrive/data_object_detection_incl_not_fractured_yolo/images/test/IMG0001528.jpg: 640x544 (no detections), 52.5ms\n",
            "Speed: 3.6ms preprocess, 52.5ms inference, 7.7ms postprocess per image at shape (1, 3, 640, 544)\n"
          ]
        },
        {
          "output_type": "stream",
          "name": "stderr",
          "text": [
            "\r  9%|▉         | 11/122 [00:03<00:18,  5.94it/s]"
          ]
        },
        {
          "output_type": "stream",
          "name": "stdout",
          "text": [
            "\n",
            "image 1/1 /content/drive/MyDrive/data_object_detection_incl_not_fractured_yolo/images/test/IMG0001482.jpg: 544x640 (no detections), 74.6ms\n",
            "Speed: 8.5ms preprocess, 74.6ms inference, 8.4ms postprocess per image at shape (1, 3, 544, 640)\n"
          ]
        },
        {
          "output_type": "stream",
          "name": "stderr",
          "text": [
            "\r 10%|▉         | 12/122 [00:03<00:17,  6.22it/s]"
          ]
        },
        {
          "output_type": "stream",
          "name": "stdout",
          "text": [
            "\n",
            "image 1/1 /content/drive/MyDrive/data_object_detection_incl_not_fractured_yolo/images/test/IMG0001195.jpg: 640x544 (no detections), 43.9ms\n",
            "Speed: 3.4ms preprocess, 43.9ms inference, 0.7ms postprocess per image at shape (1, 3, 640, 544)\n",
            "\n",
            "image 1/1 /content/drive/MyDrive/data_object_detection_incl_not_fractured_yolo/images/test/IMG0001297.jpg: 640x544 (no detections), 41.9ms\n",
            "Speed: 3.3ms preprocess, 41.9ms inference, 0.8ms postprocess per image at shape (1, 3, 640, 544)\n"
          ]
        },
        {
          "output_type": "stream",
          "name": "stderr",
          "text": [
            "\r 11%|█▏        | 14/122 [00:04<00:13,  8.02it/s]"
          ]
        },
        {
          "output_type": "stream",
          "name": "stdout",
          "text": [
            "\n",
            "image 1/1 /content/drive/MyDrive/data_object_detection_incl_not_fractured_yolo/images/test/IMG0001014.jpg: 640x544 (no detections), 42.0ms\n",
            "Speed: 3.3ms preprocess, 42.0ms inference, 1.2ms postprocess per image at shape (1, 3, 640, 544)\n",
            "\n",
            "image 1/1 /content/drive/MyDrive/data_object_detection_incl_not_fractured_yolo/images/test/IMG0001170.jpg: 544x640 (no detections), 41.9ms\n",
            "Speed: 3.2ms preprocess, 41.9ms inference, 0.7ms postprocess per image at shape (1, 3, 544, 640)\n"
          ]
        },
        {
          "output_type": "stream",
          "name": "stderr",
          "text": [
            "\r 13%|█▎        | 16/122 [00:04<00:11,  9.63it/s]"
          ]
        },
        {
          "output_type": "stream",
          "name": "stdout",
          "text": [
            "\n",
            "image 1/1 /content/drive/MyDrive/data_object_detection_incl_not_fractured_yolo/images/test/IMG0001263.jpg: 640x544 (no detections), 31.8ms\n",
            "Speed: 3.3ms preprocess, 31.8ms inference, 0.7ms postprocess per image at shape (1, 3, 640, 544)\n",
            "\n",
            "image 1/1 /content/drive/MyDrive/data_object_detection_incl_not_fractured_yolo/images/test/IMG0001079.jpg: 640x544 (no detections), 30.4ms\n",
            "Speed: 3.3ms preprocess, 30.4ms inference, 0.7ms postprocess per image at shape (1, 3, 640, 544)\n"
          ]
        },
        {
          "output_type": "stream",
          "name": "stderr",
          "text": [
            "\r 15%|█▍        | 18/122 [00:04<00:09, 11.30it/s]"
          ]
        },
        {
          "output_type": "stream",
          "name": "stdout",
          "text": [
            "\n",
            "image 1/1 /content/drive/MyDrive/data_object_detection_incl_not_fractured_yolo/images/test/IMG0001227.jpg: 544x640 (no detections), 30.9ms\n",
            "Speed: 3.3ms preprocess, 30.9ms inference, 0.7ms postprocess per image at shape (1, 3, 544, 640)\n",
            "\n",
            "image 1/1 /content/drive/MyDrive/data_object_detection_incl_not_fractured_yolo/images/test/IMG0001130.jpg: 544x640 (no detections), 28.0ms\n",
            "Speed: 3.7ms preprocess, 28.0ms inference, 0.7ms postprocess per image at shape (1, 3, 544, 640)\n"
          ]
        },
        {
          "output_type": "stream",
          "name": "stderr",
          "text": [
            "\r 16%|█▋        | 20/122 [00:04<00:07, 12.82it/s]"
          ]
        },
        {
          "output_type": "stream",
          "name": "stdout",
          "text": [
            "\n",
            "image 1/1 /content/drive/MyDrive/data_object_detection_incl_not_fractured_yolo/images/test/IMG0000957.jpg: 544x640 (no detections), 36.3ms\n",
            "Speed: 4.3ms preprocess, 36.3ms inference, 2.4ms postprocess per image at shape (1, 3, 544, 640)\n",
            "\n",
            "image 1/1 /content/drive/MyDrive/data_object_detection_incl_not_fractured_yolo/images/test/IMG0000854.jpg: 640x544 (no detections), 43.9ms\n",
            "Speed: 3.3ms preprocess, 43.9ms inference, 2.5ms postprocess per image at shape (1, 3, 640, 544)\n"
          ]
        },
        {
          "output_type": "stream",
          "name": "stderr",
          "text": [
            "\r 18%|█▊        | 22/122 [00:04<00:08, 11.86it/s]"
          ]
        },
        {
          "output_type": "stream",
          "name": "stdout",
          "text": [
            "\n",
            "image 1/1 /content/drive/MyDrive/data_object_detection_incl_not_fractured_yolo/images/test/IMG0000288.jpg: 640x544 (no detections), 101.8ms\n",
            "Speed: 18.5ms preprocess, 101.8ms inference, 9.4ms postprocess per image at shape (1, 3, 640, 544)\n",
            "\n",
            "image 1/1 /content/drive/MyDrive/data_object_detection_incl_not_fractured_yolo/images/test/IMG0000465.jpg: 544x640 (no detections), 96.0ms\n",
            "Speed: 10.6ms preprocess, 96.0ms inference, 2.9ms postprocess per image at shape (1, 3, 544, 640)\n"
          ]
        },
        {
          "output_type": "stream",
          "name": "stderr",
          "text": [
            "\r 20%|█▉        | 24/122 [00:04<00:10,  8.99it/s]"
          ]
        },
        {
          "output_type": "stream",
          "name": "stdout",
          "text": [
            "\n",
            "image 1/1 /content/drive/MyDrive/data_object_detection_incl_not_fractured_yolo/images/test/IMG0000827.jpg: 544x640 (no detections), 90.9ms\n",
            "Speed: 14.1ms preprocess, 90.9ms inference, 6.9ms postprocess per image at shape (1, 3, 544, 640)\n",
            "\n",
            "image 1/1 /content/drive/MyDrive/data_object_detection_incl_not_fractured_yolo/images/test/IMG0000597.jpg: 640x544 (no detections), 28.7ms\n",
            "Speed: 4.1ms preprocess, 28.7ms inference, 0.7ms postprocess per image at shape (1, 3, 640, 544)\n"
          ]
        },
        {
          "output_type": "stream",
          "name": "stderr",
          "text": [
            "\r 21%|██▏       | 26/122 [00:05<00:10,  8.92it/s]"
          ]
        },
        {
          "output_type": "stream",
          "name": "stdout",
          "text": [
            "\n",
            "image 1/1 /content/drive/MyDrive/data_object_detection_incl_not_fractured_yolo/images/test/IMG0000693.jpg: 640x544 (no detections), 28.8ms\n",
            "Speed: 3.3ms preprocess, 28.8ms inference, 0.7ms postprocess per image at shape (1, 3, 640, 544)\n",
            "\n",
            "image 1/1 /content/drive/MyDrive/data_object_detection_incl_not_fractured_yolo/images/test/IMG0000354.jpg: 640x544 (no detections), 28.8ms\n",
            "Speed: 3.4ms preprocess, 28.8ms inference, 0.7ms postprocess per image at shape (1, 3, 640, 544)\n"
          ]
        },
        {
          "output_type": "stream",
          "name": "stderr",
          "text": [
            "\r 23%|██▎       | 28/122 [00:05<00:09, 10.24it/s]"
          ]
        },
        {
          "output_type": "stream",
          "name": "stdout",
          "text": [
            "\n",
            "image 1/1 /content/drive/MyDrive/data_object_detection_incl_not_fractured_yolo/images/test/IMG0000574.jpg: 544x640 (no detections), 29.4ms\n",
            "Speed: 3.3ms preprocess, 29.4ms inference, 0.7ms postprocess per image at shape (1, 3, 544, 640)\n",
            "\n",
            "image 1/1 /content/drive/MyDrive/data_object_detection_incl_not_fractured_yolo/images/test/IMG0000111.jpg: 640x512 (no detections), 69.6ms\n",
            "Speed: 4.8ms preprocess, 69.6ms inference, 0.8ms postprocess per image at shape (1, 3, 640, 512)\n"
          ]
        },
        {
          "output_type": "stream",
          "name": "stderr",
          "text": [
            "\r 25%|██▍       | 30/122 [00:05<00:11,  8.01it/s]"
          ]
        },
        {
          "output_type": "stream",
          "name": "stdout",
          "text": [
            "\n",
            "image 1/1 /content/drive/MyDrive/data_object_detection_incl_not_fractured_yolo/images/test/IMG0003587.jpg: 640x544 1 fractured, 36.1ms\n",
            "Speed: 9.0ms preprocess, 36.1ms inference, 1.7ms postprocess per image at shape (1, 3, 640, 544)\n"
          ]
        },
        {
          "output_type": "stream",
          "name": "stderr",
          "text": [
            "\r 25%|██▌       | 31/122 [00:06<00:16,  5.58it/s]"
          ]
        },
        {
          "output_type": "stream",
          "name": "stdout",
          "text": [
            "\n",
            "image 1/1 /content/drive/MyDrive/data_object_detection_incl_not_fractured_yolo/images/test/IMG0003458.jpg: 640x544 (no detections), 29.1ms\n",
            "Speed: 3.5ms preprocess, 29.1ms inference, 0.8ms postprocess per image at shape (1, 3, 640, 544)\n"
          ]
        },
        {
          "output_type": "stream",
          "name": "stderr",
          "text": [
            "\r 26%|██▌       | 32/122 [00:06<00:18,  4.80it/s]"
          ]
        },
        {
          "output_type": "stream",
          "name": "stdout",
          "text": [
            "\n",
            "image 1/1 /content/drive/MyDrive/data_object_detection_incl_not_fractured_yolo/images/test/IMG0003654.jpg: 640x544 (no detections), 28.8ms\n",
            "Speed: 4.0ms preprocess, 28.8ms inference, 0.8ms postprocess per image at shape (1, 3, 640, 544)\n"
          ]
        },
        {
          "output_type": "stream",
          "name": "stderr",
          "text": [
            "\r 27%|██▋       | 33/122 [00:06<00:22,  4.02it/s]"
          ]
        },
        {
          "output_type": "stream",
          "name": "stdout",
          "text": [
            "\n",
            "image 1/1 /content/drive/MyDrive/data_object_detection_incl_not_fractured_yolo/images/test/IMG0003509.jpg: 640x544 (no detections), 29.1ms\n",
            "Speed: 4.1ms preprocess, 29.1ms inference, 2.3ms postprocess per image at shape (1, 3, 640, 544)\n"
          ]
        },
        {
          "output_type": "stream",
          "name": "stderr",
          "text": [
            "\r 28%|██▊       | 34/122 [00:07<00:22,  3.89it/s]"
          ]
        },
        {
          "output_type": "stream",
          "name": "stdout",
          "text": [
            "\n",
            "image 1/1 /content/drive/MyDrive/data_object_detection_incl_not_fractured_yolo/images/test/IMG0003331.jpg: 640x544 (no detections), 55.6ms\n",
            "Speed: 3.6ms preprocess, 55.6ms inference, 0.8ms postprocess per image at shape (1, 3, 640, 544)\n"
          ]
        },
        {
          "output_type": "stream",
          "name": "stderr",
          "text": [
            "\r 29%|██▊       | 35/122 [00:07<00:27,  3.20it/s]"
          ]
        },
        {
          "output_type": "stream",
          "name": "stdout",
          "text": [
            "\n",
            "image 1/1 /content/drive/MyDrive/data_object_detection_incl_not_fractured_yolo/images/test/IMG0003309.jpg: 544x640 (no detections), 61.9ms\n",
            "Speed: 4.2ms preprocess, 61.9ms inference, 1.0ms postprocess per image at shape (1, 3, 544, 640)\n"
          ]
        },
        {
          "output_type": "stream",
          "name": "stderr",
          "text": [
            "\r 30%|██▉       | 36/122 [00:07<00:28,  3.01it/s]"
          ]
        },
        {
          "output_type": "stream",
          "name": "stdout",
          "text": [
            "\n",
            "image 1/1 /content/drive/MyDrive/data_object_detection_incl_not_fractured_yolo/images/test/IMG0003342.jpg: 640x544 (no detections), 61.4ms\n",
            "Speed: 2.5ms preprocess, 61.4ms inference, 0.6ms postprocess per image at shape (1, 3, 640, 544)\n"
          ]
        },
        {
          "output_type": "stream",
          "name": "stderr",
          "text": [
            "\r 30%|███       | 37/122 [00:08<00:29,  2.93it/s]"
          ]
        },
        {
          "output_type": "stream",
          "name": "stdout",
          "text": [
            "\n",
            "image 1/1 /content/drive/MyDrive/data_object_detection_incl_not_fractured_yolo/images/test/IMG0003524.jpg: 640x544 (no detections), 60.5ms\n",
            "Speed: 3.5ms preprocess, 60.5ms inference, 0.7ms postprocess per image at shape (1, 3, 640, 544)\n"
          ]
        },
        {
          "output_type": "stream",
          "name": "stderr",
          "text": [
            "\r 31%|███       | 38/122 [00:09<00:42,  1.98it/s]"
          ]
        },
        {
          "output_type": "stream",
          "name": "stdout",
          "text": [
            "\n",
            "image 1/1 /content/drive/MyDrive/data_object_detection_incl_not_fractured_yolo/images/test/IMG0003381.jpg: 640x544 1 fractured, 60.4ms\n",
            "Speed: 2.3ms preprocess, 60.4ms inference, 1.4ms postprocess per image at shape (1, 3, 640, 544)\n"
          ]
        },
        {
          "output_type": "stream",
          "name": "stderr",
          "text": [
            "\r 32%|███▏      | 39/122 [00:09<00:38,  2.15it/s]"
          ]
        },
        {
          "output_type": "stream",
          "name": "stdout",
          "text": [
            "\n",
            "image 1/1 /content/drive/MyDrive/data_object_detection_incl_not_fractured_yolo/images/test/IMG0003619.jpg: 640x544 (no detections), 60.4ms\n",
            "Speed: 2.3ms preprocess, 60.4ms inference, 0.6ms postprocess per image at shape (1, 3, 640, 544)\n"
          ]
        },
        {
          "output_type": "stream",
          "name": "stderr",
          "text": [
            "\r 33%|███▎      | 40/122 [00:10<00:36,  2.27it/s]"
          ]
        },
        {
          "output_type": "stream",
          "name": "stdout",
          "text": [
            "\n",
            "image 1/1 /content/drive/MyDrive/data_object_detection_incl_not_fractured_yolo/images/test/IMG0003374.jpg: 640x544 (no detections), 60.6ms\n",
            "Speed: 2.4ms preprocess, 60.6ms inference, 0.6ms postprocess per image at shape (1, 3, 640, 544)\n"
          ]
        },
        {
          "output_type": "stream",
          "name": "stderr",
          "text": [
            "\r 34%|███▎      | 41/122 [00:10<00:40,  1.98it/s]"
          ]
        },
        {
          "output_type": "stream",
          "name": "stdout",
          "text": [
            "\n",
            "image 1/1 /content/drive/MyDrive/data_object_detection_incl_not_fractured_yolo/images/test/IMG0003565.jpg: 640x544 1 fractured, 60.4ms\n",
            "Speed: 2.3ms preprocess, 60.4ms inference, 1.4ms postprocess per image at shape (1, 3, 640, 544)\n"
          ]
        },
        {
          "output_type": "stream",
          "name": "stderr",
          "text": [
            "\r 34%|███▍      | 42/122 [00:11<00:39,  2.05it/s]"
          ]
        },
        {
          "output_type": "stream",
          "name": "stdout",
          "text": [
            "\n",
            "image 1/1 /content/drive/MyDrive/data_object_detection_incl_not_fractured_yolo/images/test/IMG0003395.jpg: 640x544 (no detections), 60.4ms\n",
            "Speed: 2.3ms preprocess, 60.4ms inference, 0.6ms postprocess per image at shape (1, 3, 640, 544)\n"
          ]
        },
        {
          "output_type": "stream",
          "name": "stderr",
          "text": [
            "\r 35%|███▌      | 43/122 [00:11<00:39,  1.98it/s]"
          ]
        },
        {
          "output_type": "stream",
          "name": "stdout",
          "text": [
            "\n",
            "image 1/1 /content/drive/MyDrive/data_object_detection_incl_not_fractured_yolo/images/test/IMG0003339.jpg: 640x544 (no detections), 60.5ms\n",
            "Speed: 3.1ms preprocess, 60.5ms inference, 0.6ms postprocess per image at shape (1, 3, 640, 544)\n"
          ]
        },
        {
          "output_type": "stream",
          "name": "stderr",
          "text": [
            "\r 36%|███▌      | 44/122 [00:12<00:37,  2.06it/s]"
          ]
        },
        {
          "output_type": "stream",
          "name": "stdout",
          "text": [
            "\n",
            "image 1/1 /content/drive/MyDrive/data_object_detection_incl_not_fractured_yolo/images/test/IMG0003382.jpg: 640x544 (no detections), 60.4ms\n",
            "Speed: 2.5ms preprocess, 60.4ms inference, 0.6ms postprocess per image at shape (1, 3, 640, 544)\n"
          ]
        },
        {
          "output_type": "stream",
          "name": "stderr",
          "text": [
            "\r 37%|███▋      | 45/122 [00:13<01:07,  1.14it/s]"
          ]
        },
        {
          "output_type": "stream",
          "name": "stdout",
          "text": [
            "\n",
            "image 1/1 /content/drive/MyDrive/data_object_detection_incl_not_fractured_yolo/images/test/IMG0003332.jpg: 640x544 (no detections), 60.4ms\n",
            "Speed: 3.4ms preprocess, 60.4ms inference, 0.6ms postprocess per image at shape (1, 3, 640, 544)\n"
          ]
        },
        {
          "output_type": "stream",
          "name": "stderr",
          "text": [
            "\r 38%|███▊      | 46/122 [00:14<01:00,  1.25it/s]"
          ]
        },
        {
          "output_type": "stream",
          "name": "stdout",
          "text": [
            "\n",
            "image 1/1 /content/drive/MyDrive/data_object_detection_incl_not_fractured_yolo/images/test/IMG0003686.jpg: 640x544 1 fractured, 60.4ms\n",
            "Speed: 3.3ms preprocess, 60.4ms inference, 1.4ms postprocess per image at shape (1, 3, 640, 544)\n"
          ]
        },
        {
          "output_type": "stream",
          "name": "stderr",
          "text": [
            "\r 39%|███▊      | 47/122 [00:14<00:49,  1.50it/s]"
          ]
        },
        {
          "output_type": "stream",
          "name": "stdout",
          "text": [
            "\n",
            "image 1/1 /content/drive/MyDrive/data_object_detection_incl_not_fractured_yolo/images/test/IMG0003620.jpg: 640x544 (no detections), 60.4ms\n",
            "Speed: 2.3ms preprocess, 60.4ms inference, 0.6ms postprocess per image at shape (1, 3, 640, 544)\n"
          ]
        },
        {
          "output_type": "stream",
          "name": "stderr",
          "text": [
            "\r 39%|███▉      | 48/122 [00:15<00:44,  1.67it/s]"
          ]
        },
        {
          "output_type": "stream",
          "name": "stdout",
          "text": [
            "\n",
            "image 1/1 /content/drive/MyDrive/data_object_detection_incl_not_fractured_yolo/images/test/IMG0003589.jpg: 640x544 (no detections), 60.4ms\n",
            "Speed: 3.2ms preprocess, 60.4ms inference, 0.6ms postprocess per image at shape (1, 3, 640, 544)\n"
          ]
        },
        {
          "output_type": "stream",
          "name": "stderr",
          "text": [
            "\r 40%|████      | 49/122 [00:15<00:40,  1.78it/s]"
          ]
        },
        {
          "output_type": "stream",
          "name": "stdout",
          "text": [
            "\n",
            "image 1/1 /content/drive/MyDrive/data_object_detection_incl_not_fractured_yolo/images/test/IMG0003625.jpg: 640x544 (no detections), 60.4ms\n",
            "Speed: 2.5ms preprocess, 60.4ms inference, 0.6ms postprocess per image at shape (1, 3, 640, 544)\n"
          ]
        },
        {
          "output_type": "stream",
          "name": "stderr",
          "text": [
            "\r 41%|████      | 50/122 [00:16<00:43,  1.65it/s]"
          ]
        },
        {
          "output_type": "stream",
          "name": "stdout",
          "text": [
            "\n",
            "image 1/1 /content/drive/MyDrive/data_object_detection_incl_not_fractured_yolo/images/test/IMG0003383.jpg: 640x544 1 fractured, 60.4ms\n",
            "Speed: 2.4ms preprocess, 60.4ms inference, 1.4ms postprocess per image at shape (1, 3, 640, 544)\n"
          ]
        },
        {
          "output_type": "stream",
          "name": "stderr",
          "text": [
            "\r 42%|████▏     | 51/122 [00:17<00:44,  1.58it/s]"
          ]
        },
        {
          "output_type": "stream",
          "name": "stdout",
          "text": [
            "\n",
            "image 1/1 /content/drive/MyDrive/data_object_detection_incl_not_fractured_yolo/images/test/IMG0003394.jpg: 640x544 (no detections), 60.4ms\n",
            "Speed: 2.3ms preprocess, 60.4ms inference, 0.6ms postprocess per image at shape (1, 3, 640, 544)\n"
          ]
        },
        {
          "output_type": "stream",
          "name": "stderr",
          "text": [
            "\r 43%|████▎     | 52/122 [00:17<00:41,  1.70it/s]"
          ]
        },
        {
          "output_type": "stream",
          "name": "stdout",
          "text": [
            "\n",
            "image 1/1 /content/drive/MyDrive/data_object_detection_incl_not_fractured_yolo/images/test/IMG0003477.jpg: 640x544 (no detections), 60.4ms\n",
            "Speed: 2.3ms preprocess, 60.4ms inference, 0.6ms postprocess per image at shape (1, 3, 640, 544)\n"
          ]
        },
        {
          "output_type": "stream",
          "name": "stderr",
          "text": [
            "\r 43%|████▎     | 53/122 [00:18<00:35,  1.95it/s]"
          ]
        },
        {
          "output_type": "stream",
          "name": "stdout",
          "text": [
            "\n",
            "image 1/1 /content/drive/MyDrive/data_object_detection_incl_not_fractured_yolo/images/test/IMG0003308.jpg: 640x544 (no detections), 60.5ms\n",
            "Speed: 3.6ms preprocess, 60.5ms inference, 1.0ms postprocess per image at shape (1, 3, 640, 544)\n"
          ]
        },
        {
          "output_type": "stream",
          "name": "stderr",
          "text": [
            "\r 44%|████▍     | 54/122 [00:18<00:31,  2.17it/s]"
          ]
        },
        {
          "output_type": "stream",
          "name": "stdout",
          "text": [
            "\n",
            "image 1/1 /content/drive/MyDrive/data_object_detection_incl_not_fractured_yolo/images/test/IMG0003313.jpg: 640x544 (no detections), 60.5ms\n",
            "Speed: 3.7ms preprocess, 60.5ms inference, 0.8ms postprocess per image at shape (1, 3, 640, 544)\n"
          ]
        },
        {
          "output_type": "stream",
          "name": "stderr",
          "text": [
            "\r 45%|████▌     | 55/122 [00:18<00:30,  2.22it/s]"
          ]
        },
        {
          "output_type": "stream",
          "name": "stdout",
          "text": [
            "\n",
            "image 1/1 /content/drive/MyDrive/data_object_detection_incl_not_fractured_yolo/images/test/IMG0003407.jpg: 640x544 (no detections), 58.9ms\n",
            "Speed: 6.8ms preprocess, 58.9ms inference, 0.7ms postprocess per image at shape (1, 3, 640, 544)\n",
            "\n",
            "image 1/1 /content/drive/MyDrive/data_object_detection_incl_not_fractured_yolo/images/test/IMG0001945.jpg: 544x640 (no detections), 47.8ms\n",
            "Speed: 3.5ms preprocess, 47.8ms inference, 0.8ms postprocess per image at shape (1, 3, 544, 640)\n"
          ]
        },
        {
          "output_type": "stream",
          "name": "stderr",
          "text": [
            "\r 47%|████▋     | 57/122 [00:18<00:18,  3.55it/s]"
          ]
        },
        {
          "output_type": "stream",
          "name": "stdout",
          "text": [
            "\n",
            "image 1/1 /content/drive/MyDrive/data_object_detection_incl_not_fractured_yolo/images/test/IMG0003310.jpg: 640x544 (no detections), 47.7ms\n",
            "Speed: 4.3ms preprocess, 47.7ms inference, 0.7ms postprocess per image at shape (1, 3, 640, 544)\n"
          ]
        },
        {
          "output_type": "stream",
          "name": "stderr",
          "text": [
            "\r 48%|████▊     | 58/122 [00:19<00:22,  2.82it/s]"
          ]
        },
        {
          "output_type": "stream",
          "name": "stdout",
          "text": [
            "\n",
            "image 1/1 /content/drive/MyDrive/data_object_detection_incl_not_fractured_yolo/images/test/IMG0003459.jpg: 640x544 (no detections), 48.2ms\n",
            "Speed: 5.3ms preprocess, 48.2ms inference, 0.9ms postprocess per image at shape (1, 3, 640, 544)\n"
          ]
        },
        {
          "output_type": "stream",
          "name": "stderr",
          "text": [
            "\r 48%|████▊     | 59/122 [00:19<00:23,  2.68it/s]"
          ]
        },
        {
          "output_type": "stream",
          "name": "stdout",
          "text": [
            "\n",
            "image 1/1 /content/drive/MyDrive/data_object_detection_incl_not_fractured_yolo/images/test/IMG0003881.jpg: 640x544 (no detections), 46.5ms\n",
            "Speed: 3.5ms preprocess, 46.5ms inference, 0.9ms postprocess per image at shape (1, 3, 640, 544)\n",
            "\n",
            "image 1/1 /content/drive/MyDrive/data_object_detection_incl_not_fractured_yolo/images/test/IMG0003520.jpg: 640x544 (no detections), 40.9ms\n",
            "Speed: 6.8ms preprocess, 40.9ms inference, 0.9ms postprocess per image at shape (1, 3, 640, 544)\n"
          ]
        },
        {
          "output_type": "stream",
          "name": "stderr",
          "text": [
            "\r 50%|█████     | 61/122 [00:20<00:22,  2.68it/s]"
          ]
        },
        {
          "output_type": "stream",
          "name": "stdout",
          "text": [
            "\n",
            "image 1/1 /content/drive/MyDrive/data_object_detection_incl_not_fractured_yolo/images/test/IMG0003420.jpg: 544x640 (no detections), 41.8ms\n",
            "Speed: 3.6ms preprocess, 41.8ms inference, 0.8ms postprocess per image at shape (1, 3, 544, 640)\n"
          ]
        },
        {
          "output_type": "stream",
          "name": "stderr",
          "text": [
            "\r 51%|█████     | 62/122 [00:21<00:27,  2.15it/s]"
          ]
        },
        {
          "output_type": "stream",
          "name": "stdout",
          "text": [
            "\n",
            "image 1/1 /content/drive/MyDrive/data_object_detection_incl_not_fractured_yolo/images/test/IMG0003341.jpg: 544x640 (no detections), 59.8ms\n",
            "Speed: 4.5ms preprocess, 59.8ms inference, 0.9ms postprocess per image at shape (1, 3, 544, 640)\n"
          ]
        },
        {
          "output_type": "stream",
          "name": "stderr",
          "text": [
            "\r 52%|█████▏    | 63/122 [00:22<00:29,  1.99it/s]"
          ]
        },
        {
          "output_type": "stream",
          "name": "stdout",
          "text": [
            "\n",
            "image 1/1 /content/drive/MyDrive/data_object_detection_incl_not_fractured_yolo/images/test/IMG0003338.jpg: 640x544 (no detections), 61.8ms\n",
            "Speed: 3.6ms preprocess, 61.8ms inference, 0.8ms postprocess per image at shape (1, 3, 640, 544)\n"
          ]
        },
        {
          "output_type": "stream",
          "name": "stderr",
          "text": [
            "\r 52%|█████▏    | 64/122 [00:22<00:26,  2.15it/s]"
          ]
        },
        {
          "output_type": "stream",
          "name": "stdout",
          "text": [
            "\n",
            "image 1/1 /content/drive/MyDrive/data_object_detection_incl_not_fractured_yolo/images/test/IMG0003398.jpg: 640x544 3 fractureds, 60.4ms\n",
            "Speed: 5.1ms preprocess, 60.4ms inference, 2.1ms postprocess per image at shape (1, 3, 640, 544)\n"
          ]
        },
        {
          "output_type": "stream",
          "name": "stderr",
          "text": [
            "\r 53%|█████▎    | 65/122 [00:22<00:24,  2.31it/s]"
          ]
        },
        {
          "output_type": "stream",
          "name": "stdout",
          "text": [
            "\n",
            "image 1/1 /content/drive/MyDrive/data_object_detection_incl_not_fractured_yolo/images/test/IMG0003569.jpg: 640x544 (no detections), 60.5ms\n",
            "Speed: 7.1ms preprocess, 60.5ms inference, 0.9ms postprocess per image at shape (1, 3, 640, 544)\n"
          ]
        },
        {
          "output_type": "stream",
          "name": "stderr",
          "text": [
            "\r 54%|█████▍    | 66/122 [00:23<00:23,  2.41it/s]"
          ]
        },
        {
          "output_type": "stream",
          "name": "stdout",
          "text": [
            "\n",
            "image 1/1 /content/drive/MyDrive/data_object_detection_incl_not_fractured_yolo/images/test/IMG0003685.jpg: 640x544 2 fractureds, 60.5ms\n",
            "Speed: 2.7ms preprocess, 60.5ms inference, 1.6ms postprocess per image at shape (1, 3, 640, 544)\n"
          ]
        },
        {
          "output_type": "stream",
          "name": "stderr",
          "text": [
            "\r 55%|█████▍    | 67/122 [00:23<00:23,  2.36it/s]"
          ]
        },
        {
          "output_type": "stream",
          "name": "stdout",
          "text": [
            "\n",
            "image 1/1 /content/drive/MyDrive/data_object_detection_incl_not_fractured_yolo/images/test/IMG0003671.jpg: 640x544 (no detections), 60.5ms\n",
            "Speed: 2.4ms preprocess, 60.5ms inference, 0.6ms postprocess per image at shape (1, 3, 640, 544)\n"
          ]
        },
        {
          "output_type": "stream",
          "name": "stderr",
          "text": [
            "\r 56%|█████▌    | 68/122 [00:24<00:26,  2.02it/s]"
          ]
        },
        {
          "output_type": "stream",
          "name": "stdout",
          "text": [
            "\n",
            "image 1/1 /content/drive/MyDrive/data_object_detection_incl_not_fractured_yolo/images/test/IMG0003396.jpg: 640x544 (no detections), 60.4ms\n",
            "Speed: 2.3ms preprocess, 60.4ms inference, 0.6ms postprocess per image at shape (1, 3, 640, 544)\n"
          ]
        },
        {
          "output_type": "stream",
          "name": "stderr",
          "text": [
            "\r 57%|█████▋    | 69/122 [00:24<00:26,  2.04it/s]"
          ]
        },
        {
          "output_type": "stream",
          "name": "stdout",
          "text": [
            "\n",
            "image 1/1 /content/drive/MyDrive/data_object_detection_incl_not_fractured_yolo/images/test/IMG0003298.jpg: 640x544 (no detections), 60.4ms\n",
            "Speed: 2.3ms preprocess, 60.4ms inference, 0.6ms postprocess per image at shape (1, 3, 640, 544)\n"
          ]
        },
        {
          "output_type": "stream",
          "name": "stderr",
          "text": [
            "\r 57%|█████▋    | 70/122 [00:25<00:23,  2.19it/s]"
          ]
        },
        {
          "output_type": "stream",
          "name": "stdout",
          "text": [
            "\n",
            "image 1/1 /content/drive/MyDrive/data_object_detection_incl_not_fractured_yolo/images/test/IMG0003564.jpg: 640x544 1 fractured, 60.5ms\n",
            "Speed: 2.5ms preprocess, 60.5ms inference, 1.5ms postprocess per image at shape (1, 3, 640, 544)\n"
          ]
        },
        {
          "output_type": "stream",
          "name": "stderr",
          "text": [
            "\r 58%|█████▊    | 71/122 [00:25<00:27,  1.83it/s]"
          ]
        },
        {
          "output_type": "stream",
          "name": "stdout",
          "text": [
            "\n",
            "image 1/1 /content/drive/MyDrive/data_object_detection_incl_not_fractured_yolo/images/test/IMG0003704.jpg: 640x544 (no detections), 66.2ms\n",
            "Speed: 4.2ms preprocess, 66.2ms inference, 1.2ms postprocess per image at shape (1, 3, 640, 544)\n"
          ]
        },
        {
          "output_type": "stream",
          "name": "stderr",
          "text": [
            "\r 59%|█████▉    | 72/122 [00:26<00:26,  1.85it/s]"
          ]
        },
        {
          "output_type": "stream",
          "name": "stdout",
          "text": [
            "\n",
            "image 1/1 /content/drive/MyDrive/data_object_detection_incl_not_fractured_yolo/images/test/IMG0003712.jpg: 640x544 (no detections), 66.0ms\n",
            "Speed: 4.9ms preprocess, 66.0ms inference, 0.9ms postprocess per image at shape (1, 3, 640, 544)\n"
          ]
        },
        {
          "output_type": "stream",
          "name": "stderr",
          "text": [
            "\r 60%|█████▉    | 73/122 [00:27<00:30,  1.59it/s]"
          ]
        },
        {
          "output_type": "stream",
          "name": "stdout",
          "text": [
            "\n",
            "image 1/1 /content/drive/MyDrive/data_object_detection_incl_not_fractured_yolo/images/test/IMG0003301.jpg: 640x544 (no detections), 102.6ms\n",
            "Speed: 4.5ms preprocess, 102.6ms inference, 0.9ms postprocess per image at shape (1, 3, 640, 544)\n"
          ]
        },
        {
          "output_type": "stream",
          "name": "stderr",
          "text": [
            "\r 61%|██████    | 74/122 [00:27<00:31,  1.53it/s]"
          ]
        },
        {
          "output_type": "stream",
          "name": "stdout",
          "text": [
            "\n",
            "image 1/1 /content/drive/MyDrive/data_object_detection_incl_not_fractured_yolo/images/test/IMG0003399.jpg: 640x544 (no detections), 71.4ms\n",
            "Speed: 3.9ms preprocess, 71.4ms inference, 0.9ms postprocess per image at shape (1, 3, 640, 544)\n"
          ]
        },
        {
          "output_type": "stream",
          "name": "stderr",
          "text": [
            "\r 61%|██████▏   | 75/122 [00:28<00:31,  1.47it/s]"
          ]
        },
        {
          "output_type": "stream",
          "name": "stdout",
          "text": [
            "\n",
            "image 1/1 /content/drive/MyDrive/data_object_detection_incl_not_fractured_yolo/images/test/IMG0002990.jpg: 640x544 (no detections), 61.7ms\n",
            "Speed: 3.6ms preprocess, 61.7ms inference, 1.0ms postprocess per image at shape (1, 3, 640, 544)\n"
          ]
        },
        {
          "output_type": "stream",
          "name": "stderr",
          "text": [
            "\r 62%|██████▏   | 76/122 [00:28<00:23,  1.98it/s]"
          ]
        },
        {
          "output_type": "stream",
          "name": "stdout",
          "text": [
            "\n",
            "image 1/1 /content/drive/MyDrive/data_object_detection_incl_not_fractured_yolo/images/test/IMG0003297.jpg: 640x544 (no detections), 61.8ms\n",
            "Speed: 3.4ms preprocess, 61.8ms inference, 0.9ms postprocess per image at shape (1, 3, 640, 544)\n"
          ]
        },
        {
          "output_type": "stream",
          "name": "stderr",
          "text": [
            "\r 63%|██████▎   | 77/122 [00:29<00:22,  1.97it/s]"
          ]
        },
        {
          "output_type": "stream",
          "name": "stdout",
          "text": [
            "\n",
            "image 1/1 /content/drive/MyDrive/data_object_detection_incl_not_fractured_yolo/images/test/IMG0003397.jpg: 640x544 1 fractured, 60.5ms\n",
            "Speed: 3.9ms preprocess, 60.5ms inference, 2.4ms postprocess per image at shape (1, 3, 640, 544)\n"
          ]
        },
        {
          "output_type": "stream",
          "name": "stderr",
          "text": [
            "\r 64%|██████▍   | 78/122 [00:29<00:20,  2.18it/s]"
          ]
        },
        {
          "output_type": "stream",
          "name": "stdout",
          "text": [
            "\n",
            "image 1/1 /content/drive/MyDrive/data_object_detection_incl_not_fractured_yolo/images/test/IMG0003312.jpg: 640x544 (no detections), 60.5ms\n",
            "Speed: 3.5ms preprocess, 60.5ms inference, 0.9ms postprocess per image at shape (1, 3, 640, 544)\n"
          ]
        },
        {
          "output_type": "stream",
          "name": "stderr",
          "text": [
            "\r 65%|██████▍   | 79/122 [00:30<00:23,  1.85it/s]"
          ]
        },
        {
          "output_type": "stream",
          "name": "stdout",
          "text": [
            "\n",
            "image 1/1 /content/drive/MyDrive/data_object_detection_incl_not_fractured_yolo/images/test/IMG0003586.jpg: 640x544 (no detections), 60.5ms\n",
            "Speed: 3.3ms preprocess, 60.5ms inference, 0.7ms postprocess per image at shape (1, 3, 640, 544)\n"
          ]
        },
        {
          "output_type": "stream",
          "name": "stderr",
          "text": [
            "\r 66%|██████▌   | 80/122 [00:30<00:21,  1.98it/s]"
          ]
        },
        {
          "output_type": "stream",
          "name": "stdout",
          "text": [
            "\n",
            "image 1/1 /content/drive/MyDrive/data_object_detection_incl_not_fractured_yolo/images/test/IMG0003523.jpg: 640x544 1 fractured, 60.4ms\n",
            "Speed: 2.7ms preprocess, 60.4ms inference, 1.4ms postprocess per image at shape (1, 3, 640, 544)\n"
          ]
        },
        {
          "output_type": "stream",
          "name": "stderr",
          "text": [
            "\r 66%|██████▋   | 81/122 [00:31<00:18,  2.18it/s]"
          ]
        },
        {
          "output_type": "stream",
          "name": "stdout",
          "text": [
            "\n",
            "image 1/1 /content/drive/MyDrive/data_object_detection_incl_not_fractured_yolo/images/test/IMG0003588.jpg: 640x544 (no detections), 60.4ms\n",
            "Speed: 3.2ms preprocess, 60.4ms inference, 0.6ms postprocess per image at shape (1, 3, 640, 544)\n"
          ]
        },
        {
          "output_type": "stream",
          "name": "stderr",
          "text": [
            "\r 67%|██████▋   | 82/122 [00:31<00:18,  2.21it/s]"
          ]
        },
        {
          "output_type": "stream",
          "name": "stdout",
          "text": [
            "\n",
            "image 1/1 /content/drive/MyDrive/data_object_detection_incl_not_fractured_yolo/images/test/IMG0003713.jpg: 640x544 (no detections), 60.4ms\n",
            "Speed: 3.0ms preprocess, 60.4ms inference, 0.7ms postprocess per image at shape (1, 3, 640, 544)\n"
          ]
        },
        {
          "output_type": "stream",
          "name": "stderr",
          "text": [
            "\r 68%|██████▊   | 83/122 [00:32<00:20,  1.89it/s]"
          ]
        },
        {
          "output_type": "stream",
          "name": "stdout",
          "text": [
            "\n",
            "image 1/1 /content/drive/MyDrive/data_object_detection_incl_not_fractured_yolo/images/test/IMG0003373.jpg: 640x544 (no detections), 60.4ms\n",
            "Speed: 2.4ms preprocess, 60.4ms inference, 0.6ms postprocess per image at shape (1, 3, 640, 544)\n"
          ]
        },
        {
          "output_type": "stream",
          "name": "stderr",
          "text": [
            "\r 69%|██████▉   | 84/122 [00:32<00:19,  1.91it/s]"
          ]
        },
        {
          "output_type": "stream",
          "name": "stdout",
          "text": [
            "\n",
            "image 1/1 /content/drive/MyDrive/data_object_detection_incl_not_fractured_yolo/images/test/IMG0003519.jpg: 640x544 1 fractured, 60.4ms\n",
            "Speed: 3.2ms preprocess, 60.4ms inference, 1.4ms postprocess per image at shape (1, 3, 640, 544)\n"
          ]
        },
        {
          "output_type": "stream",
          "name": "stderr",
          "text": [
            "\r 70%|██████▉   | 85/122 [00:33<00:19,  1.91it/s]"
          ]
        },
        {
          "output_type": "stream",
          "name": "stdout",
          "text": [
            "\n",
            "image 1/1 /content/drive/MyDrive/data_object_detection_incl_not_fractured_yolo/images/test/IMG0003467.jpg: 640x544 (no detections), 60.5ms\n",
            "Speed: 4.6ms preprocess, 60.5ms inference, 0.9ms postprocess per image at shape (1, 3, 640, 544)\n"
          ]
        },
        {
          "output_type": "stream",
          "name": "stderr",
          "text": [
            "\r 70%|███████   | 86/122 [00:34<00:21,  1.69it/s]"
          ]
        },
        {
          "output_type": "stream",
          "name": "stdout",
          "text": [
            "\n",
            "image 1/1 /content/drive/MyDrive/data_object_detection_incl_not_fractured_yolo/images/test/IMG0003545.jpg: 640x544 (no detections), 60.5ms\n",
            "Speed: 3.8ms preprocess, 60.5ms inference, 0.8ms postprocess per image at shape (1, 3, 640, 544)\n"
          ]
        },
        {
          "output_type": "stream",
          "name": "stderr",
          "text": [
            "\r 71%|███████▏  | 87/122 [00:34<00:21,  1.63it/s]"
          ]
        },
        {
          "output_type": "stream",
          "name": "stdout",
          "text": [
            "\n",
            "image 1/1 /content/drive/MyDrive/data_object_detection_incl_not_fractured_yolo/images/test/IMG0003510.jpg: 640x544 (no detections), 60.5ms\n",
            "Speed: 3.7ms preprocess, 60.5ms inference, 0.9ms postprocess per image at shape (1, 3, 640, 544)\n"
          ]
        },
        {
          "output_type": "stream",
          "name": "stderr",
          "text": [
            "\r 72%|███████▏  | 88/122 [00:35<00:21,  1.58it/s]"
          ]
        },
        {
          "output_type": "stream",
          "name": "stdout",
          "text": [
            "\n",
            "image 1/1 /content/drive/MyDrive/data_object_detection_incl_not_fractured_yolo/images/test/IMG0003628.jpg: 544x640 (no detections), 61.1ms\n",
            "Speed: 3.7ms preprocess, 61.1ms inference, 0.8ms postprocess per image at shape (1, 3, 544, 640)\n"
          ]
        },
        {
          "output_type": "stream",
          "name": "stderr",
          "text": [
            "\r 73%|███████▎  | 89/122 [00:36<00:21,  1.56it/s]"
          ]
        },
        {
          "output_type": "stream",
          "name": "stdout",
          "text": [
            "\n",
            "image 1/1 /content/drive/MyDrive/data_object_detection_incl_not_fractured_yolo/images/test/IMG0003419.jpg: 640x544 (no detections), 61.8ms\n",
            "Speed: 4.7ms preprocess, 61.8ms inference, 0.8ms postprocess per image at shape (1, 3, 640, 544)\n"
          ]
        },
        {
          "output_type": "stream",
          "name": "stderr",
          "text": [
            "\r 74%|███████▍  | 90/122 [00:37<00:23,  1.34it/s]"
          ]
        },
        {
          "output_type": "stream",
          "name": "stdout",
          "text": [
            "\n",
            "image 1/1 /content/drive/MyDrive/data_object_detection_incl_not_fractured_yolo/images/test/IMG0001815.jpg: 640x544 (no detections), 60.4ms\n",
            "Speed: 3.4ms preprocess, 60.4ms inference, 0.8ms postprocess per image at shape (1, 3, 640, 544)\n",
            "\n",
            "image 1/1 /content/drive/MyDrive/data_object_detection_incl_not_fractured_yolo/images/test/IMG0003653.jpg: 640x544 (no detections), 60.5ms\n",
            "Speed: 3.7ms preprocess, 60.5ms inference, 0.8ms postprocess per image at shape (1, 3, 640, 544)\n"
          ]
        },
        {
          "output_type": "stream",
          "name": "stderr",
          "text": [
            "\r 75%|███████▌  | 92/122 [00:37<00:18,  1.66it/s]"
          ]
        },
        {
          "output_type": "stream",
          "name": "stdout",
          "text": [
            "\n",
            "image 1/1 /content/drive/MyDrive/data_object_detection_incl_not_fractured_yolo/images/test/IMG0003311.jpg: 640x544 (no detections), 60.5ms\n",
            "Speed: 4.1ms preprocess, 60.5ms inference, 0.9ms postprocess per image at shape (1, 3, 640, 544)\n"
          ]
        },
        {
          "output_type": "stream",
          "name": "stderr",
          "text": [
            "\r 76%|███████▌  | 93/122 [00:38<00:18,  1.55it/s]"
          ]
        },
        {
          "output_type": "stream",
          "name": "stdout",
          "text": [
            "\n",
            "image 1/1 /content/drive/MyDrive/data_object_detection_incl_not_fractured_yolo/images/test/IMG0003626.jpg: 640x544 (no detections), 60.4ms\n",
            "Speed: 3.4ms preprocess, 60.4ms inference, 0.6ms postprocess per image at shape (1, 3, 640, 544)\n"
          ]
        },
        {
          "output_type": "stream",
          "name": "stderr",
          "text": [
            "\r 77%|███████▋  | 94/122 [00:39<00:17,  1.63it/s]"
          ]
        },
        {
          "output_type": "stream",
          "name": "stdout",
          "text": [
            "\n",
            "image 1/1 /content/drive/MyDrive/data_object_detection_incl_not_fractured_yolo/images/test/IMG0003466.jpg: 640x544 (no detections), 60.4ms\n",
            "Speed: 2.4ms preprocess, 60.4ms inference, 0.6ms postprocess per image at shape (1, 3, 640, 544)\n"
          ]
        },
        {
          "output_type": "stream",
          "name": "stderr",
          "text": [
            "\r 78%|███████▊  | 95/122 [00:39<00:16,  1.60it/s]"
          ]
        },
        {
          "output_type": "stream",
          "name": "stdout",
          "text": [
            "\n",
            "image 1/1 /content/drive/MyDrive/data_object_detection_incl_not_fractured_yolo/images/test/IMG0003703.jpg: 640x544 (no detections), 60.4ms\n",
            "Speed: 3.2ms preprocess, 60.4ms inference, 0.6ms postprocess per image at shape (1, 3, 640, 544)\n"
          ]
        },
        {
          "output_type": "stream",
          "name": "stderr",
          "text": [
            "\r 79%|███████▊  | 96/122 [00:40<00:17,  1.50it/s]"
          ]
        },
        {
          "output_type": "stream",
          "name": "stdout",
          "text": [
            "\n",
            "image 1/1 /content/drive/MyDrive/data_object_detection_incl_not_fractured_yolo/images/test/IMG0003945.jpg: 640x544 (no detections), 56.9ms\n",
            "Speed: 2.2ms preprocess, 56.9ms inference, 0.6ms postprocess per image at shape (1, 3, 640, 544)\n",
            "\n",
            "WARNING ⚠️ Image Read Error /content/drive/MyDrive/data_object_detection_incl_not_fractured_yolo/images/test/IMG0004288.jpg\n"
          ]
        },
        {
          "output_type": "stream",
          "name": "stderr",
          "text": [
            "\r 80%|███████▉  | 97/122 [00:40<00:10,  2.38it/s]\n"
          ]
        },
        {
          "output_type": "error",
          "ename": "ValueError",
          "evalue": "need at least one array to stack",
          "traceback": [
            "\u001b[0;31m---------------------------------------------------------------------------\u001b[0m",
            "\u001b[0;31mValueError\u001b[0m                                Traceback (most recent call last)",
            "\u001b[0;32m<ipython-input-23-646f87e863ec>\u001b[0m in \u001b[0;36m<cell line: 0>\u001b[0;34m()\u001b[0m\n\u001b[1;32m     31\u001b[0m \u001b[0;34m\u001b[0m\u001b[0m\n\u001b[1;32m     32\u001b[0m     \u001b[0;31m# Predictions (for 'fractured')\u001b[0m\u001b[0;34m\u001b[0m\u001b[0;34m\u001b[0m\u001b[0m\n\u001b[0;32m---> 33\u001b[0;31m     \u001b[0mresults\u001b[0m \u001b[0;34m=\u001b[0m \u001b[0mmodel\u001b[0m\u001b[0;34m(\u001b[0m\u001b[0mimage_path\u001b[0m\u001b[0;34m,\u001b[0m \u001b[0mimgsz\u001b[0m\u001b[0;34m=\u001b[0m\u001b[0;36m640\u001b[0m\u001b[0;34m)\u001b[0m\u001b[0;34m\u001b[0m\u001b[0;34m\u001b[0m\u001b[0m\n\u001b[0m\u001b[1;32m     34\u001b[0m     \u001b[0;31m# results = model(image_path, imgsz=640, conf=0.01)\u001b[0m\u001b[0;34m\u001b[0m\u001b[0;34m\u001b[0m\u001b[0m\n\u001b[1;32m     35\u001b[0m \u001b[0;34m\u001b[0m\u001b[0m\n",
            "\u001b[0;32m/usr/local/lib/python3.11/dist-packages/ultralytics/engine/model.py\u001b[0m in \u001b[0;36m__call__\u001b[0;34m(self, source, stream, **kwargs)\u001b[0m\n\u001b[1;32m    178\u001b[0m             \u001b[0;34m...\u001b[0m     \u001b[0mprint\u001b[0m\u001b[0;34m(\u001b[0m\u001b[0;34mf\"Detected {len(r)} objects in image\"\u001b[0m\u001b[0;34m)\u001b[0m\u001b[0;34m\u001b[0m\u001b[0;34m\u001b[0m\u001b[0m\n\u001b[1;32m    179\u001b[0m         \"\"\"\n\u001b[0;32m--> 180\u001b[0;31m         \u001b[0;32mreturn\u001b[0m \u001b[0mself\u001b[0m\u001b[0;34m.\u001b[0m\u001b[0mpredict\u001b[0m\u001b[0;34m(\u001b[0m\u001b[0msource\u001b[0m\u001b[0;34m,\u001b[0m \u001b[0mstream\u001b[0m\u001b[0;34m,\u001b[0m \u001b[0;34m**\u001b[0m\u001b[0mkwargs\u001b[0m\u001b[0;34m)\u001b[0m\u001b[0;34m\u001b[0m\u001b[0;34m\u001b[0m\u001b[0m\n\u001b[0m\u001b[1;32m    181\u001b[0m \u001b[0;34m\u001b[0m\u001b[0m\n\u001b[1;32m    182\u001b[0m     \u001b[0;34m@\u001b[0m\u001b[0mstaticmethod\u001b[0m\u001b[0;34m\u001b[0m\u001b[0;34m\u001b[0m\u001b[0m\n",
            "\u001b[0;32m/usr/local/lib/python3.11/dist-packages/ultralytics/engine/model.py\u001b[0m in \u001b[0;36mpredict\u001b[0;34m(self, source, stream, predictor, **kwargs)\u001b[0m\n\u001b[1;32m    556\u001b[0m         \u001b[0;32mif\u001b[0m \u001b[0mprompts\u001b[0m \u001b[0;32mand\u001b[0m \u001b[0mhasattr\u001b[0m\u001b[0;34m(\u001b[0m\u001b[0mself\u001b[0m\u001b[0;34m.\u001b[0m\u001b[0mpredictor\u001b[0m\u001b[0;34m,\u001b[0m \u001b[0;34m\"set_prompts\"\u001b[0m\u001b[0;34m)\u001b[0m\u001b[0;34m:\u001b[0m  \u001b[0;31m# for SAM-type models\u001b[0m\u001b[0;34m\u001b[0m\u001b[0;34m\u001b[0m\u001b[0m\n\u001b[1;32m    557\u001b[0m             \u001b[0mself\u001b[0m\u001b[0;34m.\u001b[0m\u001b[0mpredictor\u001b[0m\u001b[0;34m.\u001b[0m\u001b[0mset_prompts\u001b[0m\u001b[0;34m(\u001b[0m\u001b[0mprompts\u001b[0m\u001b[0;34m)\u001b[0m\u001b[0;34m\u001b[0m\u001b[0;34m\u001b[0m\u001b[0m\n\u001b[0;32m--> 558\u001b[0;31m         \u001b[0;32mreturn\u001b[0m \u001b[0mself\u001b[0m\u001b[0;34m.\u001b[0m\u001b[0mpredictor\u001b[0m\u001b[0;34m.\u001b[0m\u001b[0mpredict_cli\u001b[0m\u001b[0;34m(\u001b[0m\u001b[0msource\u001b[0m\u001b[0;34m=\u001b[0m\u001b[0msource\u001b[0m\u001b[0;34m)\u001b[0m \u001b[0;32mif\u001b[0m \u001b[0mis_cli\u001b[0m \u001b[0;32melse\u001b[0m \u001b[0mself\u001b[0m\u001b[0;34m.\u001b[0m\u001b[0mpredictor\u001b[0m\u001b[0;34m(\u001b[0m\u001b[0msource\u001b[0m\u001b[0;34m=\u001b[0m\u001b[0msource\u001b[0m\u001b[0;34m,\u001b[0m \u001b[0mstream\u001b[0m\u001b[0;34m=\u001b[0m\u001b[0mstream\u001b[0m\u001b[0;34m)\u001b[0m\u001b[0;34m\u001b[0m\u001b[0;34m\u001b[0m\u001b[0m\n\u001b[0m\u001b[1;32m    559\u001b[0m \u001b[0;34m\u001b[0m\u001b[0m\n\u001b[1;32m    560\u001b[0m     def track(\n",
            "\u001b[0;32m/usr/local/lib/python3.11/dist-packages/ultralytics/engine/predictor.py\u001b[0m in \u001b[0;36m__call__\u001b[0;34m(self, source, model, stream, *args, **kwargs)\u001b[0m\n\u001b[1;32m    173\u001b[0m             \u001b[0;32mreturn\u001b[0m \u001b[0mself\u001b[0m\u001b[0;34m.\u001b[0m\u001b[0mstream_inference\u001b[0m\u001b[0;34m(\u001b[0m\u001b[0msource\u001b[0m\u001b[0;34m,\u001b[0m \u001b[0mmodel\u001b[0m\u001b[0;34m,\u001b[0m \u001b[0;34m*\u001b[0m\u001b[0margs\u001b[0m\u001b[0;34m,\u001b[0m \u001b[0;34m**\u001b[0m\u001b[0mkwargs\u001b[0m\u001b[0;34m)\u001b[0m\u001b[0;34m\u001b[0m\u001b[0;34m\u001b[0m\u001b[0m\n\u001b[1;32m    174\u001b[0m         \u001b[0;32melse\u001b[0m\u001b[0;34m:\u001b[0m\u001b[0;34m\u001b[0m\u001b[0;34m\u001b[0m\u001b[0m\n\u001b[0;32m--> 175\u001b[0;31m             \u001b[0;32mreturn\u001b[0m \u001b[0mlist\u001b[0m\u001b[0;34m(\u001b[0m\u001b[0mself\u001b[0m\u001b[0;34m.\u001b[0m\u001b[0mstream_inference\u001b[0m\u001b[0;34m(\u001b[0m\u001b[0msource\u001b[0m\u001b[0;34m,\u001b[0m \u001b[0mmodel\u001b[0m\u001b[0;34m,\u001b[0m \u001b[0;34m*\u001b[0m\u001b[0margs\u001b[0m\u001b[0;34m,\u001b[0m \u001b[0;34m**\u001b[0m\u001b[0mkwargs\u001b[0m\u001b[0;34m)\u001b[0m\u001b[0;34m)\u001b[0m  \u001b[0;31m# merge list of Result into one\u001b[0m\u001b[0;34m\u001b[0m\u001b[0;34m\u001b[0m\u001b[0m\n\u001b[0m\u001b[1;32m    176\u001b[0m \u001b[0;34m\u001b[0m\u001b[0m\n\u001b[1;32m    177\u001b[0m     \u001b[0;32mdef\u001b[0m \u001b[0mpredict_cli\u001b[0m\u001b[0;34m(\u001b[0m\u001b[0mself\u001b[0m\u001b[0;34m,\u001b[0m \u001b[0msource\u001b[0m\u001b[0;34m=\u001b[0m\u001b[0;32mNone\u001b[0m\u001b[0;34m,\u001b[0m \u001b[0mmodel\u001b[0m\u001b[0;34m=\u001b[0m\u001b[0;32mNone\u001b[0m\u001b[0;34m)\u001b[0m\u001b[0;34m:\u001b[0m\u001b[0;34m\u001b[0m\u001b[0;34m\u001b[0m\u001b[0m\n",
            "\u001b[0;32m/usr/local/lib/python3.11/dist-packages/torch/utils/_contextlib.py\u001b[0m in \u001b[0;36mgenerator_context\u001b[0;34m(*args, **kwargs)\u001b[0m\n\u001b[1;32m     34\u001b[0m             \u001b[0;31m# Issuing `None` to a generator fires it up\u001b[0m\u001b[0;34m\u001b[0m\u001b[0;34m\u001b[0m\u001b[0m\n\u001b[1;32m     35\u001b[0m             \u001b[0;32mwith\u001b[0m \u001b[0mctx_factory\u001b[0m\u001b[0;34m(\u001b[0m\u001b[0;34m)\u001b[0m\u001b[0;34m:\u001b[0m\u001b[0;34m\u001b[0m\u001b[0;34m\u001b[0m\u001b[0m\n\u001b[0;32m---> 36\u001b[0;31m                 \u001b[0mresponse\u001b[0m \u001b[0;34m=\u001b[0m \u001b[0mgen\u001b[0m\u001b[0;34m.\u001b[0m\u001b[0msend\u001b[0m\u001b[0;34m(\u001b[0m\u001b[0;32mNone\u001b[0m\u001b[0;34m)\u001b[0m\u001b[0;34m\u001b[0m\u001b[0;34m\u001b[0m\u001b[0m\n\u001b[0m\u001b[1;32m     37\u001b[0m \u001b[0;34m\u001b[0m\u001b[0m\n\u001b[1;32m     38\u001b[0m             \u001b[0;32mwhile\u001b[0m \u001b[0;32mTrue\u001b[0m\u001b[0;34m:\u001b[0m\u001b[0;34m\u001b[0m\u001b[0;34m\u001b[0m\u001b[0m\n",
            "\u001b[0;32m/usr/local/lib/python3.11/dist-packages/ultralytics/engine/predictor.py\u001b[0m in \u001b[0;36mstream_inference\u001b[0;34m(self, source, model, *args, **kwargs)\u001b[0m\n\u001b[1;32m    255\u001b[0m                 \u001b[0;31m# Preprocess\u001b[0m\u001b[0;34m\u001b[0m\u001b[0;34m\u001b[0m\u001b[0m\n\u001b[1;32m    256\u001b[0m                 \u001b[0;32mwith\u001b[0m \u001b[0mprofilers\u001b[0m\u001b[0;34m[\u001b[0m\u001b[0;36m0\u001b[0m\u001b[0;34m]\u001b[0m\u001b[0;34m:\u001b[0m\u001b[0;34m\u001b[0m\u001b[0;34m\u001b[0m\u001b[0m\n\u001b[0;32m--> 257\u001b[0;31m                     \u001b[0mim\u001b[0m \u001b[0;34m=\u001b[0m \u001b[0mself\u001b[0m\u001b[0;34m.\u001b[0m\u001b[0mpreprocess\u001b[0m\u001b[0;34m(\u001b[0m\u001b[0mim0s\u001b[0m\u001b[0;34m)\u001b[0m\u001b[0;34m\u001b[0m\u001b[0;34m\u001b[0m\u001b[0m\n\u001b[0m\u001b[1;32m    258\u001b[0m \u001b[0;34m\u001b[0m\u001b[0m\n\u001b[1;32m    259\u001b[0m                 \u001b[0;31m# Inference\u001b[0m\u001b[0;34m\u001b[0m\u001b[0;34m\u001b[0m\u001b[0m\n",
            "\u001b[0;32m/usr/local/lib/python3.11/dist-packages/ultralytics/engine/predictor.py\u001b[0m in \u001b[0;36mpreprocess\u001b[0;34m(self, im)\u001b[0m\n\u001b[1;32m    125\u001b[0m         \u001b[0mnot_tensor\u001b[0m \u001b[0;34m=\u001b[0m \u001b[0;32mnot\u001b[0m \u001b[0misinstance\u001b[0m\u001b[0;34m(\u001b[0m\u001b[0mim\u001b[0m\u001b[0;34m,\u001b[0m \u001b[0mtorch\u001b[0m\u001b[0;34m.\u001b[0m\u001b[0mTensor\u001b[0m\u001b[0;34m)\u001b[0m\u001b[0;34m\u001b[0m\u001b[0;34m\u001b[0m\u001b[0m\n\u001b[1;32m    126\u001b[0m         \u001b[0;32mif\u001b[0m \u001b[0mnot_tensor\u001b[0m\u001b[0;34m:\u001b[0m\u001b[0;34m\u001b[0m\u001b[0;34m\u001b[0m\u001b[0m\n\u001b[0;32m--> 127\u001b[0;31m             \u001b[0mim\u001b[0m \u001b[0;34m=\u001b[0m \u001b[0mnp\u001b[0m\u001b[0;34m.\u001b[0m\u001b[0mstack\u001b[0m\u001b[0;34m(\u001b[0m\u001b[0mself\u001b[0m\u001b[0;34m.\u001b[0m\u001b[0mpre_transform\u001b[0m\u001b[0;34m(\u001b[0m\u001b[0mim\u001b[0m\u001b[0;34m)\u001b[0m\u001b[0;34m)\u001b[0m\u001b[0;34m\u001b[0m\u001b[0;34m\u001b[0m\u001b[0m\n\u001b[0m\u001b[1;32m    128\u001b[0m             \u001b[0mim\u001b[0m \u001b[0;34m=\u001b[0m \u001b[0mim\u001b[0m\u001b[0;34m[\u001b[0m\u001b[0;34m...\u001b[0m\u001b[0;34m,\u001b[0m \u001b[0;34m:\u001b[0m\u001b[0;34m:\u001b[0m\u001b[0;34m-\u001b[0m\u001b[0;36m1\u001b[0m\u001b[0;34m]\u001b[0m\u001b[0;34m.\u001b[0m\u001b[0mtranspose\u001b[0m\u001b[0;34m(\u001b[0m\u001b[0;34m(\u001b[0m\u001b[0;36m0\u001b[0m\u001b[0;34m,\u001b[0m \u001b[0;36m3\u001b[0m\u001b[0;34m,\u001b[0m \u001b[0;36m1\u001b[0m\u001b[0;34m,\u001b[0m \u001b[0;36m2\u001b[0m\u001b[0;34m)\u001b[0m\u001b[0;34m)\u001b[0m  \u001b[0;31m# BGR to RGB, BHWC to BCHW, (n, 3, h, w)\u001b[0m\u001b[0;34m\u001b[0m\u001b[0;34m\u001b[0m\u001b[0m\n\u001b[1;32m    129\u001b[0m             \u001b[0mim\u001b[0m \u001b[0;34m=\u001b[0m \u001b[0mnp\u001b[0m\u001b[0;34m.\u001b[0m\u001b[0mascontiguousarray\u001b[0m\u001b[0;34m(\u001b[0m\u001b[0mim\u001b[0m\u001b[0;34m)\u001b[0m  \u001b[0;31m# contiguous\u001b[0m\u001b[0;34m\u001b[0m\u001b[0;34m\u001b[0m\u001b[0m\n",
            "\u001b[0;32m/usr/local/lib/python3.11/dist-packages/numpy/core/shape_base.py\u001b[0m in \u001b[0;36mstack\u001b[0;34m(arrays, axis, out, dtype, casting)\u001b[0m\n\u001b[1;32m    443\u001b[0m     \u001b[0marrays\u001b[0m \u001b[0;34m=\u001b[0m \u001b[0;34m[\u001b[0m\u001b[0masanyarray\u001b[0m\u001b[0;34m(\u001b[0m\u001b[0marr\u001b[0m\u001b[0;34m)\u001b[0m \u001b[0;32mfor\u001b[0m \u001b[0marr\u001b[0m \u001b[0;32min\u001b[0m \u001b[0marrays\u001b[0m\u001b[0;34m]\u001b[0m\u001b[0;34m\u001b[0m\u001b[0;34m\u001b[0m\u001b[0m\n\u001b[1;32m    444\u001b[0m     \u001b[0;32mif\u001b[0m \u001b[0;32mnot\u001b[0m \u001b[0marrays\u001b[0m\u001b[0;34m:\u001b[0m\u001b[0;34m\u001b[0m\u001b[0;34m\u001b[0m\u001b[0m\n\u001b[0;32m--> 445\u001b[0;31m         \u001b[0;32mraise\u001b[0m \u001b[0mValueError\u001b[0m\u001b[0;34m(\u001b[0m\u001b[0;34m'need at least one array to stack'\u001b[0m\u001b[0;34m)\u001b[0m\u001b[0;34m\u001b[0m\u001b[0;34m\u001b[0m\u001b[0m\n\u001b[0m\u001b[1;32m    446\u001b[0m \u001b[0;34m\u001b[0m\u001b[0m\n\u001b[1;32m    447\u001b[0m     \u001b[0mshapes\u001b[0m \u001b[0;34m=\u001b[0m \u001b[0;34m{\u001b[0m\u001b[0marr\u001b[0m\u001b[0;34m.\u001b[0m\u001b[0mshape\u001b[0m \u001b[0;32mfor\u001b[0m \u001b[0marr\u001b[0m \u001b[0;32min\u001b[0m \u001b[0marrays\u001b[0m\u001b[0;34m}\u001b[0m\u001b[0;34m\u001b[0m\u001b[0;34m\u001b[0m\u001b[0m\n",
            "\u001b[0;31mValueError\u001b[0m: need at least one array to stack"
          ]
        }
      ]
    },
    {
      "cell_type": "code",
      "source": [
        "from sklearn.metrics import confusion_matrix, ConfusionMatrixDisplay\n",
        "\n",
        "y_true = []\n",
        "y_pred = []\n",
        "\n",
        "for gt_boxes, pred_boxes in zip(all_gt, all_pred):\n",
        "    # Ground truth labels (1 for each fracture)\n",
        "    y_true.extend([1] * len(gt_boxes))\n",
        "\n",
        "    if len(pred_boxes) == 0:\n",
        "        y_pred.extend([0] * len(gt_boxes))  # No detections, all GT count as missed\n",
        "        continue\n",
        "\n",
        "    gt_arr = np.array(gt_boxes)\n",
        "    pred_arr = np.array(pred_boxes)\n",
        "\n",
        "    # Track which GT boxes have been matched\n",
        "    matched_gt = set()\n",
        "\n",
        "    for pbox in pred_arr:\n",
        "        for i, gt_box in enumerate(gt_arr):\n",
        "            iou_val = intersection_over_union(pbox, gt_box)\n",
        "            if iou_val >= 0.5:\n",
        "                matched_gt.add(i)\n",
        "\n",
        "    # Assign detections (1 if GT detected, 0 otherwise)\n",
        "    for i in range(len(gt_boxes)):\n",
        "        y_pred.append(1 if i in matched_gt else 0)\n",
        "\n",
        "# Compute and display confusion matrix\n",
        "cm = confusion_matrix(y_true, y_pred, labels=[1, 0])\n",
        "disp = ConfusionMatrixDisplay(confusion_matrix=cm, display_labels=[\"Fracture Found\", \"No Fracture Found\"])\n",
        "disp.plot(cmap=plt.cm.Blues)\n",
        "plt.title(\"Confusion Matrix (IoU>0.5)\")\n",
        "plt.show()\n"
      ],
      "metadata": {
        "id": "FHQf5FG4tp5-"
      },
      "execution_count": null,
      "outputs": []
    }
  ],
  "metadata": {
    "kernelspec": {
      "display_name": "Python 3",
      "name": "python3"
    },
    "language_info": {
      "codemirror_mode": {
        "name": "ipython",
        "version": 3
      },
      "file_extension": ".py",
      "mimetype": "text/x-python",
      "name": "python",
      "nbconvert_exporter": "python",
      "pygments_lexer": "ipython3",
      "version": "3.11.9"
    },
    "colab": {
      "provenance": [],
      "gpuType": "T4",
      "include_colab_link": true
    },
    "accelerator": "GPU"
  },
  "nbformat": 4,
  "nbformat_minor": 0
}