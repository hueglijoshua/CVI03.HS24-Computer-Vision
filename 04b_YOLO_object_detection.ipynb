{
  "cells": [
    {
      "cell_type": "markdown",
      "metadata": {
        "id": "view-in-github",
        "colab_type": "text"
      },
      "source": [
        "<a href=\"https://colab.research.google.com/github/hueglijoshua/CVI03.HS24-Computer-Vision/blob/main/04b_YOLO_object_detection.ipynb\" target=\"_parent\"><img src=\"https://colab.research.google.com/assets/colab-badge.svg\" alt=\"Open In Colab\"/></a>"
      ]
    },
    {
      "cell_type": "code",
      "execution_count": 1,
      "metadata": {
        "id": "pJj2A60-woB1"
      },
      "outputs": [],
      "source": [
        "import os\n",
        "import json\n",
        "import shutil\n",
        "import xml.etree.ElementTree as ET\n",
        "import pandas as pd\n",
        "import yaml\n",
        "import numpy as np\n",
        "from datetime import datetime\n",
        "import shutil\n",
        "import cv2\n",
        "import matplotlib.pyplot as plt\n",
        "from PIL import Image\n",
        "from IPython.display import display, Image\n",
        "from tqdm import tqdm\n",
        "from sklearn.metrics import confusion_matrix, ConfusionMatrixDisplay"
      ]
    },
    {
      "cell_type": "markdown",
      "metadata": {
        "id": "DSUkKUMxwoB1"
      },
      "source": [
        "# Object detection using YOLO bounding boxes - Part 2\n",
        "\n",
        "In Part 1 we selected the best performing model, now we are going to test it on unseen test data."
      ]
    },
    {
      "cell_type": "markdown",
      "source": [
        "## YOLO Processing Pipeline\n",
        "\n",
        "1. **Image Preprocessing**  \n",
        "   - **Resize**: By default, the input image is resized (and sometimes padded with gray bars) to match the model’s expected dimension (e.g., 640×640), preserving aspect ratio.  \n",
        "   - **Normalization**: Pixel values are typically scaled to [0,1] (e.g., dividing by 255).  \n",
        "\n",
        "2. **Model Forward Pass**  \n",
        "   - The processed image is fed into the YOLO model (a convolutional neural network).  \n",
        "   - The network outputs raw predictions of bounding boxes, class scores, etc.\n",
        "\n",
        "3. **Postprocessing**  \n",
        "   - **Confidence threshold**: Confidence represents how sure the model is that the bounding box contains an object of the given class. In YOLOv8 (anchor-free), it’s often interpreted as a probability-like score that the detection is correct. YOLO discards very low-confidence detections. Default threshold is 0.25, but we set could set it even lower. This may increase the the number of found fractures, but on the other hand reduces measures such as the (mean) average precision.\n",
        "   - **Non-Maximum Suppression (NMS)**: NMS is a post-processing technique used in object detection to remove duplicate and overlapping bounding boxes, keeping only the most confident predictions. It works by first sorting boxes by confidence score, then iteratively selecting the highest-confidence box and suppressing others with high Intersection over Union (IoU). This ensures that each detected object is represented by a single, precise bounding box, improving detection accuracy and reducing redundant predictions. By default, YOLO applies NMS to remove overlapping or duplicate boxes. The default IoU threshold is usually around 0.45 (meaning boxes with an overlap ≥0.45 are suppressed).  \n",
        "   - The final set of predictions (per class) includes:\n",
        "     - **(x1, y1, x2, y2)** coordinates for each bounding box  \n",
        "     - A **confidence** score (0.0 to 1.0)  \n",
        "     - A **class label** for the predicted object category  \n"
      ],
      "metadata": {
        "id": "4Jl3NHzAWs0b"
      }
    },
    {
      "cell_type": "code",
      "source": [
        "!pip install ultralytics"
      ],
      "metadata": {
        "colab": {
          "base_uri": "https://localhost:8080/"
        },
        "collapsed": true,
        "id": "-r6e3bSOw5qW",
        "outputId": "c7ecca12-1b37-4f78-f7ce-ed2ab2b4b8a1"
      },
      "execution_count": 2,
      "outputs": [
        {
          "output_type": "stream",
          "name": "stdout",
          "text": [
            "Collecting ultralytics\n",
            "  Downloading ultralytics-8.3.76-py3-none-any.whl.metadata (35 kB)\n",
            "Requirement already satisfied: numpy<=2.1.1,>=1.23.0 in /usr/local/lib/python3.11/dist-packages (from ultralytics) (1.26.4)\n",
            "Requirement already satisfied: matplotlib>=3.3.0 in /usr/local/lib/python3.11/dist-packages (from ultralytics) (3.10.0)\n",
            "Requirement already satisfied: opencv-python>=4.6.0 in /usr/local/lib/python3.11/dist-packages (from ultralytics) (4.11.0.86)\n",
            "Requirement already satisfied: pillow>=7.1.2 in /usr/local/lib/python3.11/dist-packages (from ultralytics) (11.1.0)\n",
            "Requirement already satisfied: pyyaml>=5.3.1 in /usr/local/lib/python3.11/dist-packages (from ultralytics) (6.0.2)\n",
            "Requirement already satisfied: requests>=2.23.0 in /usr/local/lib/python3.11/dist-packages (from ultralytics) (2.32.3)\n",
            "Requirement already satisfied: scipy>=1.4.1 in /usr/local/lib/python3.11/dist-packages (from ultralytics) (1.13.1)\n",
            "Requirement already satisfied: torch>=1.8.0 in /usr/local/lib/python3.11/dist-packages (from ultralytics) (2.5.1+cu124)\n",
            "Requirement already satisfied: torchvision>=0.9.0 in /usr/local/lib/python3.11/dist-packages (from ultralytics) (0.20.1+cu124)\n",
            "Requirement already satisfied: tqdm>=4.64.0 in /usr/local/lib/python3.11/dist-packages (from ultralytics) (4.67.1)\n",
            "Requirement already satisfied: psutil in /usr/local/lib/python3.11/dist-packages (from ultralytics) (5.9.5)\n",
            "Requirement already satisfied: py-cpuinfo in /usr/local/lib/python3.11/dist-packages (from ultralytics) (9.0.0)\n",
            "Requirement already satisfied: pandas>=1.1.4 in /usr/local/lib/python3.11/dist-packages (from ultralytics) (2.2.2)\n",
            "Requirement already satisfied: seaborn>=0.11.0 in /usr/local/lib/python3.11/dist-packages (from ultralytics) (0.13.2)\n",
            "Collecting ultralytics-thop>=2.0.0 (from ultralytics)\n",
            "  Downloading ultralytics_thop-2.0.14-py3-none-any.whl.metadata (9.4 kB)\n",
            "Requirement already satisfied: contourpy>=1.0.1 in /usr/local/lib/python3.11/dist-packages (from matplotlib>=3.3.0->ultralytics) (1.3.1)\n",
            "Requirement already satisfied: cycler>=0.10 in /usr/local/lib/python3.11/dist-packages (from matplotlib>=3.3.0->ultralytics) (0.12.1)\n",
            "Requirement already satisfied: fonttools>=4.22.0 in /usr/local/lib/python3.11/dist-packages (from matplotlib>=3.3.0->ultralytics) (4.56.0)\n",
            "Requirement already satisfied: kiwisolver>=1.3.1 in /usr/local/lib/python3.11/dist-packages (from matplotlib>=3.3.0->ultralytics) (1.4.8)\n",
            "Requirement already satisfied: packaging>=20.0 in /usr/local/lib/python3.11/dist-packages (from matplotlib>=3.3.0->ultralytics) (24.2)\n",
            "Requirement already satisfied: pyparsing>=2.3.1 in /usr/local/lib/python3.11/dist-packages (from matplotlib>=3.3.0->ultralytics) (3.2.1)\n",
            "Requirement already satisfied: python-dateutil>=2.7 in /usr/local/lib/python3.11/dist-packages (from matplotlib>=3.3.0->ultralytics) (2.8.2)\n",
            "Requirement already satisfied: pytz>=2020.1 in /usr/local/lib/python3.11/dist-packages (from pandas>=1.1.4->ultralytics) (2025.1)\n",
            "Requirement already satisfied: tzdata>=2022.7 in /usr/local/lib/python3.11/dist-packages (from pandas>=1.1.4->ultralytics) (2025.1)\n",
            "Requirement already satisfied: charset-normalizer<4,>=2 in /usr/local/lib/python3.11/dist-packages (from requests>=2.23.0->ultralytics) (3.4.1)\n",
            "Requirement already satisfied: idna<4,>=2.5 in /usr/local/lib/python3.11/dist-packages (from requests>=2.23.0->ultralytics) (3.10)\n",
            "Requirement already satisfied: urllib3<3,>=1.21.1 in /usr/local/lib/python3.11/dist-packages (from requests>=2.23.0->ultralytics) (2.3.0)\n",
            "Requirement already satisfied: certifi>=2017.4.17 in /usr/local/lib/python3.11/dist-packages (from requests>=2.23.0->ultralytics) (2025.1.31)\n",
            "Requirement already satisfied: filelock in /usr/local/lib/python3.11/dist-packages (from torch>=1.8.0->ultralytics) (3.17.0)\n",
            "Requirement already satisfied: typing-extensions>=4.8.0 in /usr/local/lib/python3.11/dist-packages (from torch>=1.8.0->ultralytics) (4.12.2)\n",
            "Requirement already satisfied: networkx in /usr/local/lib/python3.11/dist-packages (from torch>=1.8.0->ultralytics) (3.4.2)\n",
            "Requirement already satisfied: jinja2 in /usr/local/lib/python3.11/dist-packages (from torch>=1.8.0->ultralytics) (3.1.5)\n",
            "Requirement already satisfied: fsspec in /usr/local/lib/python3.11/dist-packages (from torch>=1.8.0->ultralytics) (2024.10.0)\n",
            "Collecting nvidia-cuda-nvrtc-cu12==12.4.127 (from torch>=1.8.0->ultralytics)\n",
            "  Downloading nvidia_cuda_nvrtc_cu12-12.4.127-py3-none-manylinux2014_x86_64.whl.metadata (1.5 kB)\n",
            "Collecting nvidia-cuda-runtime-cu12==12.4.127 (from torch>=1.8.0->ultralytics)\n",
            "  Downloading nvidia_cuda_runtime_cu12-12.4.127-py3-none-manylinux2014_x86_64.whl.metadata (1.5 kB)\n",
            "Collecting nvidia-cuda-cupti-cu12==12.4.127 (from torch>=1.8.0->ultralytics)\n",
            "  Downloading nvidia_cuda_cupti_cu12-12.4.127-py3-none-manylinux2014_x86_64.whl.metadata (1.6 kB)\n",
            "Collecting nvidia-cudnn-cu12==9.1.0.70 (from torch>=1.8.0->ultralytics)\n",
            "  Downloading nvidia_cudnn_cu12-9.1.0.70-py3-none-manylinux2014_x86_64.whl.metadata (1.6 kB)\n",
            "Collecting nvidia-cublas-cu12==12.4.5.8 (from torch>=1.8.0->ultralytics)\n",
            "  Downloading nvidia_cublas_cu12-12.4.5.8-py3-none-manylinux2014_x86_64.whl.metadata (1.5 kB)\n",
            "Collecting nvidia-cufft-cu12==11.2.1.3 (from torch>=1.8.0->ultralytics)\n",
            "  Downloading nvidia_cufft_cu12-11.2.1.3-py3-none-manylinux2014_x86_64.whl.metadata (1.5 kB)\n",
            "Collecting nvidia-curand-cu12==10.3.5.147 (from torch>=1.8.0->ultralytics)\n",
            "  Downloading nvidia_curand_cu12-10.3.5.147-py3-none-manylinux2014_x86_64.whl.metadata (1.5 kB)\n",
            "Collecting nvidia-cusolver-cu12==11.6.1.9 (from torch>=1.8.0->ultralytics)\n",
            "  Downloading nvidia_cusolver_cu12-11.6.1.9-py3-none-manylinux2014_x86_64.whl.metadata (1.6 kB)\n",
            "Collecting nvidia-cusparse-cu12==12.3.1.170 (from torch>=1.8.0->ultralytics)\n",
            "  Downloading nvidia_cusparse_cu12-12.3.1.170-py3-none-manylinux2014_x86_64.whl.metadata (1.6 kB)\n",
            "Requirement already satisfied: nvidia-nccl-cu12==2.21.5 in /usr/local/lib/python3.11/dist-packages (from torch>=1.8.0->ultralytics) (2.21.5)\n",
            "Requirement already satisfied: nvidia-nvtx-cu12==12.4.127 in /usr/local/lib/python3.11/dist-packages (from torch>=1.8.0->ultralytics) (12.4.127)\n",
            "Collecting nvidia-nvjitlink-cu12==12.4.127 (from torch>=1.8.0->ultralytics)\n",
            "  Downloading nvidia_nvjitlink_cu12-12.4.127-py3-none-manylinux2014_x86_64.whl.metadata (1.5 kB)\n",
            "Requirement already satisfied: triton==3.1.0 in /usr/local/lib/python3.11/dist-packages (from torch>=1.8.0->ultralytics) (3.1.0)\n",
            "Requirement already satisfied: sympy==1.13.1 in /usr/local/lib/python3.11/dist-packages (from torch>=1.8.0->ultralytics) (1.13.1)\n",
            "Requirement already satisfied: mpmath<1.4,>=1.1.0 in /usr/local/lib/python3.11/dist-packages (from sympy==1.13.1->torch>=1.8.0->ultralytics) (1.3.0)\n",
            "Requirement already satisfied: six>=1.5 in /usr/local/lib/python3.11/dist-packages (from python-dateutil>=2.7->matplotlib>=3.3.0->ultralytics) (1.17.0)\n",
            "Requirement already satisfied: MarkupSafe>=2.0 in /usr/local/lib/python3.11/dist-packages (from jinja2->torch>=1.8.0->ultralytics) (3.0.2)\n",
            "Downloading ultralytics-8.3.76-py3-none-any.whl (915 kB)\n",
            "\u001b[2K   \u001b[90m━━━━━━━━━━━━━━━━━━━━━━━━━━━━━━━━━━━━━━━━\u001b[0m \u001b[32m915.2/915.2 kB\u001b[0m \u001b[31m15.0 MB/s\u001b[0m eta \u001b[36m0:00:00\u001b[0m\n",
            "\u001b[?25hDownloading nvidia_cublas_cu12-12.4.5.8-py3-none-manylinux2014_x86_64.whl (363.4 MB)\n",
            "\u001b[2K   \u001b[90m━━━━━━━━━━━━━━━━━━━━━━━━━━━━━━━━━━━━━━━━\u001b[0m \u001b[32m363.4/363.4 MB\u001b[0m \u001b[31m4.1 MB/s\u001b[0m eta \u001b[36m0:00:00\u001b[0m\n",
            "\u001b[?25hDownloading nvidia_cuda_cupti_cu12-12.4.127-py3-none-manylinux2014_x86_64.whl (13.8 MB)\n",
            "\u001b[2K   \u001b[90m━━━━━━━━━━━━━━━━━━━━━━━━━━━━━━━━━━━━━━━━\u001b[0m \u001b[32m13.8/13.8 MB\u001b[0m \u001b[31m74.4 MB/s\u001b[0m eta \u001b[36m0:00:00\u001b[0m\n",
            "\u001b[?25hDownloading nvidia_cuda_nvrtc_cu12-12.4.127-py3-none-manylinux2014_x86_64.whl (24.6 MB)\n",
            "\u001b[2K   \u001b[90m━━━━━━━━━━━━━━━━━━━━━━━━━━━━━━━━━━━━━━━━\u001b[0m \u001b[32m24.6/24.6 MB\u001b[0m \u001b[31m48.0 MB/s\u001b[0m eta \u001b[36m0:00:00\u001b[0m\n",
            "\u001b[?25hDownloading nvidia_cuda_runtime_cu12-12.4.127-py3-none-manylinux2014_x86_64.whl (883 kB)\n",
            "\u001b[2K   \u001b[90m━━━━━━━━━━━━━━━━━━━━━━━━━━━━━━━━━━━━━━━━\u001b[0m \u001b[32m883.7/883.7 kB\u001b[0m \u001b[31m40.1 MB/s\u001b[0m eta \u001b[36m0:00:00\u001b[0m\n",
            "\u001b[?25hDownloading nvidia_cudnn_cu12-9.1.0.70-py3-none-manylinux2014_x86_64.whl (664.8 MB)\n",
            "\u001b[2K   \u001b[90m━━━━━━━━━━━━━━━━━━━━━━━━━━━━━━━━━━━━━━━━\u001b[0m \u001b[32m664.8/664.8 MB\u001b[0m \u001b[31m2.4 MB/s\u001b[0m eta \u001b[36m0:00:00\u001b[0m\n",
            "\u001b[?25hDownloading nvidia_cufft_cu12-11.2.1.3-py3-none-manylinux2014_x86_64.whl (211.5 MB)\n",
            "\u001b[2K   \u001b[90m━━━━━━━━━━━━━━━━━━━━━━━━━━━━━━━━━━━━━━━━\u001b[0m \u001b[32m211.5/211.5 MB\u001b[0m \u001b[31m6.0 MB/s\u001b[0m eta \u001b[36m0:00:00\u001b[0m\n",
            "\u001b[?25hDownloading nvidia_curand_cu12-10.3.5.147-py3-none-manylinux2014_x86_64.whl (56.3 MB)\n",
            "\u001b[2K   \u001b[90m━━━━━━━━━━━━━━━━━━━━━━━━━━━━━━━━━━━━━━━━\u001b[0m \u001b[32m56.3/56.3 MB\u001b[0m \u001b[31m12.8 MB/s\u001b[0m eta \u001b[36m0:00:00\u001b[0m\n",
            "\u001b[?25hDownloading nvidia_cusolver_cu12-11.6.1.9-py3-none-manylinux2014_x86_64.whl (127.9 MB)\n",
            "\u001b[2K   \u001b[90m━━━━━━━━━━━━━━━━━━━━━━━━━━━━━━━━━━━━━━━━\u001b[0m \u001b[32m127.9/127.9 MB\u001b[0m \u001b[31m7.5 MB/s\u001b[0m eta \u001b[36m0:00:00\u001b[0m\n",
            "\u001b[?25hDownloading nvidia_cusparse_cu12-12.3.1.170-py3-none-manylinux2014_x86_64.whl (207.5 MB)\n",
            "\u001b[2K   \u001b[90m━━━━━━━━━━━━━━━━━━━━━━━━━━━━━━━━━━━━━━━━\u001b[0m \u001b[32m207.5/207.5 MB\u001b[0m \u001b[31m5.7 MB/s\u001b[0m eta \u001b[36m0:00:00\u001b[0m\n",
            "\u001b[?25hDownloading nvidia_nvjitlink_cu12-12.4.127-py3-none-manylinux2014_x86_64.whl (21.1 MB)\n",
            "\u001b[2K   \u001b[90m━━━━━━━━━━━━━━━━━━━━━━━━━━━━━━━━━━━━━━━━\u001b[0m \u001b[32m21.1/21.1 MB\u001b[0m \u001b[31m44.2 MB/s\u001b[0m eta \u001b[36m0:00:00\u001b[0m\n",
            "\u001b[?25hDownloading ultralytics_thop-2.0.14-py3-none-any.whl (26 kB)\n",
            "Installing collected packages: nvidia-nvjitlink-cu12, nvidia-curand-cu12, nvidia-cufft-cu12, nvidia-cuda-runtime-cu12, nvidia-cuda-nvrtc-cu12, nvidia-cuda-cupti-cu12, nvidia-cublas-cu12, nvidia-cusparse-cu12, nvidia-cudnn-cu12, nvidia-cusolver-cu12, ultralytics-thop, ultralytics\n",
            "  Attempting uninstall: nvidia-nvjitlink-cu12\n",
            "    Found existing installation: nvidia-nvjitlink-cu12 12.5.82\n",
            "    Uninstalling nvidia-nvjitlink-cu12-12.5.82:\n",
            "      Successfully uninstalled nvidia-nvjitlink-cu12-12.5.82\n",
            "  Attempting uninstall: nvidia-curand-cu12\n",
            "    Found existing installation: nvidia-curand-cu12 10.3.6.82\n",
            "    Uninstalling nvidia-curand-cu12-10.3.6.82:\n",
            "      Successfully uninstalled nvidia-curand-cu12-10.3.6.82\n",
            "  Attempting uninstall: nvidia-cufft-cu12\n",
            "    Found existing installation: nvidia-cufft-cu12 11.2.3.61\n",
            "    Uninstalling nvidia-cufft-cu12-11.2.3.61:\n",
            "      Successfully uninstalled nvidia-cufft-cu12-11.2.3.61\n",
            "  Attempting uninstall: nvidia-cuda-runtime-cu12\n",
            "    Found existing installation: nvidia-cuda-runtime-cu12 12.5.82\n",
            "    Uninstalling nvidia-cuda-runtime-cu12-12.5.82:\n",
            "      Successfully uninstalled nvidia-cuda-runtime-cu12-12.5.82\n",
            "  Attempting uninstall: nvidia-cuda-nvrtc-cu12\n",
            "    Found existing installation: nvidia-cuda-nvrtc-cu12 12.5.82\n",
            "    Uninstalling nvidia-cuda-nvrtc-cu12-12.5.82:\n",
            "      Successfully uninstalled nvidia-cuda-nvrtc-cu12-12.5.82\n",
            "  Attempting uninstall: nvidia-cuda-cupti-cu12\n",
            "    Found existing installation: nvidia-cuda-cupti-cu12 12.5.82\n",
            "    Uninstalling nvidia-cuda-cupti-cu12-12.5.82:\n",
            "      Successfully uninstalled nvidia-cuda-cupti-cu12-12.5.82\n",
            "  Attempting uninstall: nvidia-cublas-cu12\n",
            "    Found existing installation: nvidia-cublas-cu12 12.5.3.2\n",
            "    Uninstalling nvidia-cublas-cu12-12.5.3.2:\n",
            "      Successfully uninstalled nvidia-cublas-cu12-12.5.3.2\n",
            "  Attempting uninstall: nvidia-cusparse-cu12\n",
            "    Found existing installation: nvidia-cusparse-cu12 12.5.1.3\n",
            "    Uninstalling nvidia-cusparse-cu12-12.5.1.3:\n",
            "      Successfully uninstalled nvidia-cusparse-cu12-12.5.1.3\n",
            "  Attempting uninstall: nvidia-cudnn-cu12\n",
            "    Found existing installation: nvidia-cudnn-cu12 9.3.0.75\n",
            "    Uninstalling nvidia-cudnn-cu12-9.3.0.75:\n",
            "      Successfully uninstalled nvidia-cudnn-cu12-9.3.0.75\n",
            "  Attempting uninstall: nvidia-cusolver-cu12\n",
            "    Found existing installation: nvidia-cusolver-cu12 11.6.3.83\n",
            "    Uninstalling nvidia-cusolver-cu12-11.6.3.83:\n",
            "      Successfully uninstalled nvidia-cusolver-cu12-11.6.3.83\n",
            "Successfully installed nvidia-cublas-cu12-12.4.5.8 nvidia-cuda-cupti-cu12-12.4.127 nvidia-cuda-nvrtc-cu12-12.4.127 nvidia-cuda-runtime-cu12-12.4.127 nvidia-cudnn-cu12-9.1.0.70 nvidia-cufft-cu12-11.2.1.3 nvidia-curand-cu12-10.3.5.147 nvidia-cusolver-cu12-11.6.1.9 nvidia-cusparse-cu12-12.3.1.170 nvidia-nvjitlink-cu12-12.4.127 ultralytics-8.3.76 ultralytics-thop-2.0.14\n"
          ]
        }
      ]
    },
    {
      "cell_type": "code",
      "source": [
        "from ultralytics import YOLO"
      ],
      "metadata": {
        "colab": {
          "base_uri": "https://localhost:8080/"
        },
        "id": "slmKS3S0JQpj",
        "outputId": "d48fd285-631d-4c35-df72-c6e97ec92918"
      },
      "execution_count": 3,
      "outputs": [
        {
          "output_type": "stream",
          "name": "stdout",
          "text": [
            "Creating new Ultralytics Settings v0.0.6 file ✅ \n",
            "View Ultralytics Settings with 'yolo settings' or at '/root/.config/Ultralytics/settings.json'\n",
            "Update Settings with 'yolo settings key=value', i.e. 'yolo settings runs_dir=path/to/dir'. For help see https://docs.ultralytics.com/quickstart/#ultralytics-settings.\n"
          ]
        }
      ]
    },
    {
      "cell_type": "code",
      "source": [
        "from google.colab import drive, files\n",
        "\n",
        "# Mount Google Drive\n",
        "drive.mount('/content/drive')"
      ],
      "metadata": {
        "colab": {
          "base_uri": "https://localhost:8080/"
        },
        "id": "IkxCTB4rx1rg",
        "outputId": "c73b33ec-1cda-4db6-9902-3b8114bd0220"
      },
      "execution_count": 4,
      "outputs": [
        {
          "output_type": "stream",
          "name": "stdout",
          "text": [
            "Mounted at /content/drive\n"
          ]
        }
      ]
    },
    {
      "cell_type": "code",
      "source": [
        "# Set dataset path\n",
        "dataset_path = \"/content/drive/MyDrive/data_object_detection_yolo\"\n",
        "\n",
        "drive_model_dir = \"/content/drive/MyDrive/yolo_model_comparison\""
      ],
      "metadata": {
        "id": "mvZmWR7qx4y7"
      },
      "execution_count": 119,
      "outputs": []
    },
    {
      "cell_type": "markdown",
      "source": [
        "## Load the model\n",
        "\n",
        "The best performing model was the YOLO v8 medium size and freezing 0 layers, which we are now going to load for further evaluation."
      ],
      "metadata": {
        "id": "WYk621G_OK56"
      }
    },
    {
      "cell_type": "code",
      "source": [
        "best_model = \"yolo_v8m_freeze0.pt\"\n",
        "model_path = os.path.join(drive_model_dir, best_model)\n",
        "# Load the trained model\n",
        "model = YOLO(model_path)"
      ],
      "metadata": {
        "id": "m2Kv3ERuK4id"
      },
      "execution_count": 120,
      "outputs": []
    },
    {
      "cell_type": "markdown",
      "source": [
        "We can use the following code to evaluate the model on the test results. While these results may slightly deviate from our own calculations, they provide a useful sanity check. For example, if our calculations yield an mAP50 of 0.9, but the values from Ultraytics are significantly lower, it suggests there may be an error somewhere. Despite relying on the provided results, we will still calculate some metrics ourselves to gain deeper insights."
      ],
      "metadata": {
        "id": "To4PSvzhBwe7"
      }
    },
    {
      "cell_type": "code",
      "source": [
        "test_results = model.val(imgsz=640, split='test',conf=0.25)"
      ],
      "metadata": {
        "colab": {
          "base_uri": "https://localhost:8080/"
        },
        "id": "XMjfge09wzaw",
        "outputId": "d7e31eb3-1cb1-4a4a-934d-cd65d1f76ae0"
      },
      "execution_count": 90,
      "outputs": [
        {
          "output_type": "stream",
          "name": "stdout",
          "text": [
            "Ultralytics 8.3.76 🚀 Python-3.11.11 torch-2.5.1+cu124 CUDA:0 (Tesla T4, 15095MiB)\n",
            "Model summary (fused): 92 layers, 25,840,339 parameters, 0 gradients, 78.7 GFLOPs\n"
          ]
        },
        {
          "output_type": "stream",
          "name": "stderr",
          "text": [
            "\u001b[34m\u001b[1mval: \u001b[0mScanning /content/drive/MyDrive/data_object_detection_yolo/labels/test.cache... 61 images, 0 backgrounds, 0 corrupt: 100%|██████████| 61/61 [00:00<?, ?it/s]\n",
            "                 Class     Images  Instances      Box(P          R      mAP50  mAP50-95): 100%|██████████| 4/4 [00:03<00:00,  1.14it/s]\n"
          ]
        },
        {
          "output_type": "stream",
          "name": "stdout",
          "text": [
            "                   all         61         67      0.801      0.493      0.617      0.248\n",
            "Speed: 8.1ms preprocess, 19.2ms inference, 0.0ms loss, 3.0ms postprocess per image\n",
            "Results saved to \u001b[1mruns/detect/val2\u001b[0m\n"
          ]
        }
      ]
    },
    {
      "cell_type": "markdown",
      "source": [
        "We create several different functions to allow for detailed analysis. First, we calculate the intersection over union (IoU) and match boxes based on the IoU. These functin will also be used when visualizing selected x-ray images with pedicted and ground truth boxes."
      ],
      "metadata": {
        "id": "mJCl5dlbOPLX"
      }
    },
    {
      "cell_type": "code",
      "source": [
        "def intersection_over_union(boxA, boxB):\n",
        "    \"\"\"\n",
        "    Computes IoU between two boxes: [xmin, ymin, xmax, ymax].\n",
        "    \"\"\"\n",
        "    xA = max(boxA[0], boxB[0])\n",
        "    yA = max(boxA[1], boxB[1])\n",
        "    xB = min(boxA[2], boxB[2])\n",
        "    yB = min(boxA[3], boxB[3])\n",
        "\n",
        "    interArea = max(0, xB - xA) * max(0, yB - yA)\n",
        "    boxAArea = (boxA[2] - boxA[0]) * (boxA[3] - boxA[1])\n",
        "    boxBArea = (boxB[2] - boxB[0]) * (boxB[3] - boxB[1])\n",
        "    union = boxAArea + boxBArea - interArea + 1e-6\n",
        "\n",
        "    return interArea / union\n",
        "\n",
        "def match_boxes_iou(pred_boxes, gt_boxes, iou_thresh):\n",
        "    \"\"\"\n",
        "    Matches predicted boxes with ground truth based on IoU threshold.\n",
        "    Returns:\n",
        "      - is_tp: List of booleans indicating if a predicted box is a true positive.\n",
        "      - is_fp: List of booleans indicating if a predicted box is a false positive.\n",
        "      - unmatched_gt: Count of unmatched ground truth boxes (False Negatives).\n",
        "    \"\"\"\n",
        "    used = np.zeros(len(gt_boxes), dtype=bool)  # Tracks matched GT boxes\n",
        "    is_tp = []\n",
        "    is_fp = []\n",
        "\n",
        "    for pb in pred_boxes:\n",
        "        best_iou = 0.0\n",
        "        best_idx = -1\n",
        "        for i, gb in enumerate(gt_boxes):\n",
        "            if used[i]:\n",
        "                continue  # Skip already matched GT boxes\n",
        "            iou = intersection_over_union(pb, gb)\n",
        "\n",
        "            if iou > best_iou:\n",
        "                best_iou = iou\n",
        "                best_idx = i\n",
        "\n",
        "        if best_iou >= iou_thresh and best_idx >= 0:\n",
        "            is_tp.append(True)\n",
        "            is_fp.append(False)\n",
        "            used[best_idx] = True  # Mark this GT as matched\n",
        "        else:\n",
        "            is_tp.append(False)\n",
        "            is_fp.append(True)  # Count this as a false positive\n",
        "\n",
        "    unmatched_gt = np.sum(~used)  # False Negatives = Unmatched GT boxes\n",
        "    return np.array(is_tp), np.array(is_fp), unmatched_gt\n",
        "\n"
      ],
      "metadata": {
        "id": "cDv8rCUrOOmo"
      },
      "execution_count": 8,
      "outputs": []
    },
    {
      "cell_type": "code",
      "source": [
        "def load_ground_truth(image_name, img_w, img_h):\n",
        "    \"\"\"Loads ground truth bounding boxes for 'fractured' class.\"\"\"\n",
        "    label_path = os.path.join(test_labels_dir, os.path.splitext(image_name)[0] + \".txt\")\n",
        "    gt_boxes = []\n",
        "\n",
        "    if os.path.exists(label_path):\n",
        "        with open(label_path, 'r') as f:\n",
        "            for line in f:\n",
        "                parts = line.strip().split()\n",
        "                cls_id = int(parts[0])\n",
        "                xc, yc, w, h = map(float, parts[1:])\n",
        "                if cls_id == fractured_id:\n",
        "                    xmin = int((xc - w/2) * img_w)\n",
        "                    ymin = int((yc - h/2) * img_h)\n",
        "                    xmax = int((xc + w/2) * img_w)\n",
        "                    ymax = int((yc + h/2) * img_h)\n",
        "                    gt_boxes.append([xmin, ymin, xmax, ymax])\n",
        "    return gt_boxes"
      ],
      "metadata": {
        "id": "3bre6yrtZvhK"
      },
      "execution_count": 14,
      "outputs": []
    },
    {
      "cell_type": "code",
      "source": [
        "def visualize_detections(dataset_path, folder, image_name,\n",
        "                         model_path,\n",
        "                         pred_boxes = None):\n",
        "    \"\"\"\n",
        "    Visualizes ground truth vs. predicted bounding boxes for a given image.\n",
        "\n",
        "    Parameters:\n",
        "    - dataset_path (str): Path to the dataset directory.\n",
        "    - folder (str): The dataset split to use (\"train\", \"val\", or \"test\").\n",
        "    - image_name (str): The filename of the image (e.g., \"IMG0003733.jpg\").\n",
        "    - model_path (str): Path to the trained YOLO model.\n",
        "    \"\"\"\n",
        "    # Define paths for images and labels\n",
        "    image_path = os.path.join(dataset_path, \"images\", folder, image_name)\n",
        "    annotation_path = os.path.join(dataset_path, \"labels\", folder, os.path.splitext(image_name)[0] + \".txt\")\n",
        "\n",
        "    # Verify the image exists\n",
        "    if not os.path.exists(image_path):\n",
        "        print(f\"Image not found: {image_path}\")\n",
        "        return\n",
        "\n",
        "    print(f\"Selected Image: {image_path}\")\n",
        "    print(f\"Annotation File: {annotation_path if os.path.exists(annotation_path) else 'No annotation found'}\")\n",
        "\n",
        "    # Load the image\n",
        "    image = cv2.imread(image_path)\n",
        "    image = cv2.cvtColor(image, cv2.COLOR_BGR2RGB)  # Convert BGR to RGB for matplotlib\n",
        "\n",
        "    # Get image dimensions\n",
        "    height, width, _ = image.shape\n",
        "\n",
        "    # Load ground truth bounding boxes\n",
        "    ground_truth_boxes = load_ground_truth(image_name, width, height)\n",
        "\n",
        "    if pred_boxes == None:\n",
        "        # Load trained YOLO model\n",
        "        model = YOLO(model_path)\n",
        "\n",
        "        # Run inference on the selected image\n",
        "        results = model(image_path)\n",
        "\n",
        "        # Extract predicted bounding boxes\n",
        "        pred_boxes = []\n",
        "        for result in results:\n",
        "            for box in result.boxes:\n",
        "                x1, y1, x2, y2 = map(int, box.xyxy[0])  # Get bounding box\n",
        "                conf = box.conf[0].item()  # Confidence score\n",
        "                pred_boxes.append((x1, y1, x2, y2, conf))\n",
        "\n",
        "    # Plot Ground Truth (Green) vs. Predictions (Red)\n",
        "    plt.figure(figsize=(8, 8))\n",
        "    plt.imshow(image)\n",
        "\n",
        "    # Plot ground truth bounding boxes (Green)\n",
        "    for (x1, y1, x2, y2) in ground_truth_boxes:\n",
        "        plt.gca().add_patch(plt.Rectangle((x1, y1), x2-x1, y2-y1, fill=False, edgecolor='green', linewidth=2))\n",
        "        plt.text(x1, y1 - 5, f\"GT: fractured\", color=\"green\", fontsize=10,\n",
        "                 bbox=dict(facecolor='white', alpha=0.5, edgecolor='none'))\n",
        "\n",
        "    # Plot predicted bounding boxes (Red)\n",
        "    for (x1, y1, x2, y2, conf) in pred_boxes:\n",
        "        plt.gca().add_patch(plt.Rectangle((x1, y1), x2-x1, y2-y1, fill=False, edgecolor='red', linewidth=2))\n",
        "        plt.text(x1, y2 + 15, f\"Pred: {conf:.2f}\", color=\"red\", fontsize=10,\n",
        "                 verticalalignment='bottom',\n",
        "                 bbox=dict(facecolor='white', alpha=0.5, edgecolor='none'))\n",
        "\n",
        "    plt.axis(\"off\")\n",
        "    plt.title(\"Ground Truth (Green) vs. Predicted (Red)\")\n",
        "    plt.show()\n",
        "\n",
        "    print(f\"Number of Ground Truth Boxes: {len(ground_truth_boxes)}\")\n",
        "    print(f\"Number of Predicted Boxes: {len(pred_boxes)}\")\n",
        "    gt_np = np.array([box[:4] for box in ground_truth_boxes])\n",
        "    pred_np = np.array([box[:4] for box in pred_boxes])\n",
        "\n",
        "    for i, pbox in enumerate(pred_np):\n",
        "        best_iou = 0.0\n",
        "        for gbox in gt_np:\n",
        "            iou_val = intersection_over_union(pbox, gbox)\n",
        "            if iou_val > best_iou:\n",
        "                best_iou = iou_val\n",
        "        print(f\"Predicted box {i} best IoU: {best_iou:.3f}\")"
      ],
      "metadata": {
        "id": "Uy5WHgRGdKZy"
      },
      "execution_count": 15,
      "outputs": []
    },
    {
      "cell_type": "markdown",
      "source": [
        "## Visualize predicted and ground truth boxes"
      ],
      "metadata": {
        "id": "9huZBg-3Lk46"
      }
    },
    {
      "cell_type": "code",
      "source": [
        "import random\n",
        "folder = 'test'\n",
        "image_dir = f\"{dataset_path}/images/{folder}\"\n",
        "# List all images in the validation folder\n",
        "image_files = [f for f in os.listdir(image_dir) if f.endswith((\".jpg\", \".png\", \".jpeg\"))]\n",
        "\n",
        "random_image = random.choice(image_files)\n",
        "visualize_detections(dataset_path,folder, random_image, model_path)"
      ],
      "metadata": {
        "colab": {
          "base_uri": "https://localhost:8080/",
          "height": 814
        },
        "id": "_WMx6ESU-PaW",
        "outputId": "fcb8092c-5ffa-4edf-8491-cd48fe4375f9"
      },
      "execution_count": 121,
      "outputs": [
        {
          "output_type": "stream",
          "name": "stdout",
          "text": [
            "Selected Image: /content/drive/MyDrive/data_object_detection_yolo/images/test/IMG0003713.jpg\n",
            "Annotation File: /content/drive/MyDrive/data_object_detection_yolo/labels/test/IMG0003713.txt\n",
            "\n",
            "image 1/1 /content/drive/MyDrive/data_object_detection_yolo/images/test/IMG0003713.jpg: 640x544 1 fractured, 36.6ms\n",
            "Speed: 3.4ms preprocess, 36.6ms inference, 1.5ms postprocess per image at shape (1, 3, 640, 544)\n"
          ]
        },
        {
          "output_type": "display_data",
          "data": {
            "text/plain": [
              "<Figure size 800x800 with 1 Axes>"
            ],
            "image/png": "[encoded data removed]"
          },
          "metadata": {}
        },
        {
          "output_type": "stream",
          "name": "stdout",
          "text": [
            "Number of Ground Truth Boxes: 1\n",
            "Number of Predicted Boxes: 1\n",
            "Predicted box 0 best IoU: 0.588\n"
          ]
        }
      ]
    },
    {
      "cell_type": "code",
      "source": [
        "visualize_detections(dataset_path, folder, \"IMG0003626.jpg\", model_path)"
      ],
      "metadata": {
        "colab": {
          "base_uri": "https://localhost:8080/",
          "height": 814
        },
        "id": "IMOTbHVAqiF9",
        "outputId": "aef84e53-3a5f-4252-ebcf-a360121ce960"
      },
      "execution_count": 122,
      "outputs": [
        {
          "output_type": "stream",
          "name": "stdout",
          "text": [
            "Selected Image: /content/drive/MyDrive/data_object_detection_yolo/images/test/IMG0003626.jpg\n",
            "Annotation File: /content/drive/MyDrive/data_object_detection_yolo/labels/test/IMG0003626.txt\n",
            "\n",
            "image 1/1 /content/drive/MyDrive/data_object_detection_yolo/images/test/IMG0003626.jpg: 640x544 1 fractured, 36.5ms\n",
            "Speed: 2.3ms preprocess, 36.5ms inference, 1.2ms postprocess per image at shape (1, 3, 640, 544)\n"
          ]
        },
        {
          "output_type": "display_data",
          "data": {
            "text/plain": [
              "<Figure size 800x800 with 1 Axes>"
            ],
            "image/png": "[encoded data removed]"
          },
          "metadata": {}
        },
        {
          "output_type": "stream",
          "name": "stdout",
          "text": [
            "Number of Ground Truth Boxes: 1\n",
            "Number of Predicted Boxes: 1\n",
            "Predicted box 0 best IoU: 0.757\n"
          ]
        }
      ]
    },
    {
      "cell_type": "markdown",
      "source": [
        "## Evaluate results"
      ],
      "metadata": {
        "id": "3-TCZ0t-M5py"
      }
    },
    {
      "cell_type": "code",
      "source": [
        "test_images_dir = f\"{dataset_path}/images/test\"\n",
        "test_labels_dir = f\"{dataset_path}/labels/test\"\n",
        "\n",
        "model = YOLO(model_path)\n",
        "\n",
        "test_images = [f for f in os.listdir(test_images_dir)\n",
        "               if f.lower().endswith((\".jpg\", \".png\", \".jpeg\"))]\n",
        "\n",
        "# We want the class ID for \"fractured\"\n",
        "fractured_id = None\n",
        "for idx, name in model.names.items():\n",
        "    if name == \"fractured\":\n",
        "        fractured_id = idx\n",
        "        break\n",
        "\n",
        "if fractured_id is None:\n",
        "    raise ValueError(\"No class named 'fractured' in model.names!\")\n",
        "\n",
        "print(f\"Class ID for 'fractured': {fractured_id}\")"
      ],
      "metadata": {
        "colab": {
          "base_uri": "https://localhost:8080/"
        },
        "id": "r-l2Bs_WHTrf",
        "outputId": "8b0bc17e-cfe6-4edf-e5c4-c980b28bce84"
      },
      "execution_count": 123,
      "outputs": [
        {
          "output_type": "stream",
          "name": "stdout",
          "text": [
            "Class ID for 'fractured': 0\n"
          ]
        }
      ]
    },
    {
      "cell_type": "code",
      "source": [
        "def compute_precision_recall_curve(pred_scores, is_tp, is_fp, total_gt_boxes):\n",
        "    \"\"\"\n",
        "    Compute precision-recall values at different confidence thresholds.\n",
        "    \"\"\"\n",
        "    # Sort predictions by confidence score (high to low)\n",
        "    sorted_indices = np.argsort(-np.array(pred_scores))\n",
        "    is_tp_sorted = np.array(is_tp)[sorted_indices]\n",
        "    is_fp_sorted = np.array(is_fp)[sorted_indices]\n",
        "\n",
        "    # Cumulative sum to compute precision & recall step-by-step\n",
        "    cum_tp = np.cumsum(is_tp_sorted)\n",
        "    cum_fp = np.cumsum(is_fp_sorted)\n",
        "\n",
        "    precision_curve = cum_tp / (cum_tp + cum_fp)  # Precision at each threshold\n",
        "    recall_curve = cum_tp / total_gt_boxes  # Recall at each threshold\n",
        "\n",
        "    return precision_curve, recall_curve\n",
        "\n",
        "def calculate_average_precision(precision: np.array, recall: np.array):\n",
        "    \"\"\"\n",
        "    Calculate the average precision for a given precision-recall curve.\n",
        "    \"\"\"\n",
        "    steps = recall[1:] - recall[:-1]\n",
        "    average_precision = (steps * precision[:-1]).sum()\n",
        "    return average_precision"
      ],
      "metadata": {
        "id": "sBxwJPwLj5Bi"
      },
      "execution_count": 18,
      "outputs": []
    },
    {
      "cell_type": "code",
      "source": [
        "def compute_ap_per_iou(all_gt, all_pred, all_scores, iou_thresholds, model_name, plot = False):\n",
        "    \"\"\"Computes AP for different IoU thresholds and plots PR curves.\"\"\"\n",
        "    ap_per_iou = {}\n",
        "    if plot:\n",
        "        plt.figure(figsize=(8, 6))\n",
        "\n",
        "    for iou_thresh in iou_thresholds:\n",
        "        matched_predictions = []\n",
        "        total_false_negatives = 0\n",
        "\n",
        "        for gt_boxes, pred_boxes, pred_scores in zip(all_gt, all_pred, all_scores):\n",
        "            gt_boxes = np.array(gt_boxes)\n",
        "            pred_boxes = np.array(pred_boxes)\n",
        "            pred_scores = np.array(pred_scores)\n",
        "\n",
        "            if len(pred_boxes) == 0:\n",
        "                total_false_negatives += len(gt_boxes)\n",
        "                continue\n",
        "\n",
        "            is_tp, is_fp, fn = match_boxes_iou(pred_boxes, gt_boxes, iou_thresh)\n",
        "            total_false_negatives += fn\n",
        "\n",
        "            for tp, fp, s in zip(is_tp, is_fp, pred_scores):\n",
        "                matched_predictions.append({\"score\": s, \"is_tp\": tp, \"is_fp\": fp})\n",
        "\n",
        "        if len(matched_predictions) == 0:\n",
        "            continue\n",
        "\n",
        "        scores_array = np.array([p[\"score\"] for p in matched_predictions])\n",
        "        labels_array = np.array([1 if p[\"is_tp\"] else 0 for p in matched_predictions])\n",
        "        false_positives_array = np.array([1 if p[\"is_fp\"] else 0 for p in matched_predictions])\n",
        "\n",
        "        precision_curve, recall_curve = compute_precision_recall_curve(\n",
        "            scores_array, labels_array, false_positives_array, 67\n",
        "        )\n",
        "\n",
        "        precision_recall = np.column_stack((precision_curve, recall_curve))\n",
        "        precision_recall_interpolated = np.array(\n",
        "            [\n",
        "                (precision_recall[i:, 0].max(), precision_recall[i, 1])\n",
        "                for i in range(precision_recall.shape[0] - 1)\n",
        "            ]\n",
        "        )\n",
        "\n",
        "        ap = calculate_average_precision(\n",
        "            precision_recall_interpolated[:, 0], precision_recall_interpolated[:, 1]\n",
        "        )\n",
        "        ap_per_iou[iou_thresh] = ap\n",
        "        if plot:\n",
        "            plt.plot(\n",
        "                precision_recall_interpolated[:, 1],\n",
        "                precision_recall_interpolated[:, 0],\n",
        "                label=f\"IoU={iou_thresh:.2f}\",\n",
        "            )\n",
        "\n",
        "    if plot:\n",
        "        plt.xlabel(\"Recall\")\n",
        "        plt.ylabel(\"Precision\")\n",
        "        plt.title(f\"Precision–Recall Curves ({model_name})\")\n",
        "        plt.grid(True)\n",
        "        plt.legend()\n",
        "        plt.show()\n",
        "\n",
        "    return ap_per_iou"
      ],
      "metadata": {
        "id": "mZ3XDnYWZ1LN"
      },
      "execution_count": 36,
      "outputs": []
    },
    {
      "cell_type": "code",
      "source": [
        "def compute_confusion_matrix(all_gt, all_pred, model_name, axes):\n",
        "    \"\"\"\n",
        "    Computes and displays a 2x2 confusion matrix (TP, FP, FN, TN) for a specific model.\n",
        "    This version includes no-fracture images as true negatives and counts\n",
        "    each predicted box on a no-fracture image as a false positive.\n",
        "    \"\"\"\n",
        "\n",
        "    y_true = []\n",
        "    y_pred = []\n",
        "\n",
        "    # Loop through each image\n",
        "    for gt_boxes, pred_boxes in zip(all_gt, all_pred):\n",
        "        # CASE 1: No GT boxes\n",
        "        if len(gt_boxes) == 0:\n",
        "            # If the model also predicts no boxes => Single True Negative\n",
        "            if len(pred_boxes) == 0:\n",
        "                y_true.append(0)  # Actual: no fracture\n",
        "                y_pred.append(0)  # Predicted: no fracture\n",
        "            else:\n",
        "                # If the model predicts >=1 box => each one is a False Positive\n",
        "                for _ in pred_boxes:\n",
        "                    y_true.append(0)  # Actual: no fracture\n",
        "                    y_pred.append(1)  # Predicted: fracture\n",
        "        else:\n",
        "            # CASE 2: One or more GT boxes (standard matching)\n",
        "            # Track which GT boxes have been matched\n",
        "            gt_used = [False] * len(gt_boxes)\n",
        "\n",
        "            # For each predicted box, find the best GT match (if any)\n",
        "            for pbox in pred_boxes:\n",
        "                best_iou = 0.0\n",
        "                best_idx = -1\n",
        "                for i, gt_box in enumerate(gt_boxes):\n",
        "                    if not gt_used[i]:\n",
        "                        iou_val = intersection_over_union(pbox, gt_box)\n",
        "                        if iou_val > best_iou:\n",
        "                            best_iou = iou_val\n",
        "                            best_idx = i\n",
        "\n",
        "                if best_iou >= 0.5 and best_idx >= 0:\n",
        "                    # True Positive\n",
        "                    gt_used[best_idx] = True\n",
        "                    y_true.append(1)  # Actual: fracture\n",
        "                    y_pred.append(1)  # Predicted: fracture\n",
        "                else:\n",
        "                    # No match => False Positive\n",
        "                    y_true.append(0)  # Actual: no fracture (for this \"box\" perspective)\n",
        "                    y_pred.append(1)  # Predicted: fracture\n",
        "\n",
        "            # Any ground-truth box left unmatched => False Negative\n",
        "            for i, used in enumerate(gt_used):\n",
        "                if not used:\n",
        "                    y_true.append(1)  # Actual: fracture\n",
        "                    y_pred.append(0)  # Predicted: no fracture\n",
        "\n",
        "    # Build confusion matrix:\n",
        "    cm = confusion_matrix(y_true, y_pred, labels=[1, 0])\n",
        "\n",
        "    # Extract values\n",
        "    TP, FN = cm[0, 0], cm[0, 1]\n",
        "    FP, TN = cm[1, 0], cm[1, 1]\n",
        "\n",
        "    # Calculate metrics\n",
        "    precision = TP / (TP + FP + 1e-6) if (TP + FP) > 0 else 0.0\n",
        "    recall = TP / (TP + FN + 1e-6) if (TP + FN) > 0 else 0.0\n",
        "    specificity = TN / (TN + FP + 1e-6) if (TN + FP) > 0 else 0.0\n",
        "    f1_score = 2 * (precision * recall) / (precision + recall + 1e-6) if (precision + recall) > 0 else 0.0\n",
        "\n",
        "    disp = ConfusionMatrixDisplay(confusion_matrix=cm,\n",
        "                                  display_labels=[\"Fracture Found\", \"No Fracture Found\"])\n",
        "\n",
        "    # Plot on either a given Axes or a new figure\n",
        "    if axes is not None:\n",
        "        disp.plot(cmap=plt.cm.Blues, ax=axes, colorbar=False)\n",
        "        axes.set_title(f\"{model_name.strip('.pt')}, IoU>=0.5\")\n",
        "        axes.set_yticklabels([\"Fracture Found\", \"No Fracture Found\"], rotation=90, va='center')\n",
        "\n",
        "        # Add metrics as text below the confusion matrix\n",
        "        metrics_text = f\"Precision: {precision:.2f}\\nRecall: {recall:.2f}\\nSpecificity: {specificity:.2f}\\nF1-score: {f1_score:.2f}\"\n",
        "        axes.text(0.5, -0.4, metrics_text, fontsize=12, ha='center', va='center', transform=axes.transAxes)\n",
        "    else:\n",
        "        disp.plot(cmap=plt.cm.Blues)\n",
        "        plt.title(f\"{model_name.strip('.pt')}, IoU>=0.5\")\n",
        "        plt.gca().set_yticklabels([\"Fracture Found\", \"No Fracture Found\"], rotation=90, va='center')\n",
        "\n",
        "        # Add metrics as text below the confusion matrix\n",
        "        plt.figtext(0.5, -0.1, f\"Precision: {precision:.2f} | Recall: {recall:.2f} | Specificity: {specificity:.2f} | F1-score: {f1_score:.2f}\",\n",
        "                    ha=\"center\", fontsize=12)\n",
        "        plt.show()"
      ],
      "metadata": {
        "id": "uWiq7bNT3oxV"
      },
      "execution_count": 142,
      "outputs": []
    },
    {
      "cell_type": "code",
      "source": [
        "def run_model(model, image_path):\n",
        "    \"\"\"Runs a YOLO model on the given image and returns predicted boxes and scores.\"\"\"\n",
        "    results = model(image_path, imgsz=640, conf=0.25)\n",
        "\n",
        "    pred_boxes = []\n",
        "    scores = []\n",
        "    for r in results:\n",
        "        for box in r.boxes:\n",
        "            cls_pred = int(box.cls[0].item())\n",
        "            conf = float(box.conf[0].item())\n",
        "            x1, y1, x2, y2 = map(int, box.xyxy[0])\n",
        "            if cls_pred == fractured_id:\n",
        "                pred_boxes.append([x1, y1, x2, y2])\n",
        "                scores.append(conf)\n",
        "\n",
        "    return pred_boxes, scores"
      ],
      "metadata": {
        "id": "YLTHoA57ZwyF"
      },
      "execution_count": 21,
      "outputs": []
    },
    {
      "cell_type": "markdown",
      "source": [
        "In the next step, we loop through all our test images and saved ground truth boxes, predicted boxes and scores in dedicated lists."
      ],
      "metadata": {
        "id": "mzUPP-8dSSOC"
      }
    },
    {
      "cell_type": "code",
      "source": [
        "all_gt = []\n",
        "all_pred = []\n",
        "all_scores = []\n",
        "\n",
        "for image_name in tqdm(test_images):\n",
        "    image_path = os.path.join(test_images_dir, image_name)\n",
        "    image = cv2.imread(image_path)\n",
        "    if image is None:\n",
        "        continue  # Skip broken image\n",
        "    img_h, img_w = image.shape[:2]\n",
        "\n",
        "    gt_boxes = load_ground_truth(image_name, img_w, img_h)\n",
        "    pred_boxes, scores = run_model(model, image_path)\n",
        "\n",
        "    all_gt.append(gt_boxes)\n",
        "    all_pred.append(pred_boxes)\n",
        "    all_scores.append(scores)"
      ],
      "metadata": {
        "colab": {
          "base_uri": "https://localhost:8080/"
        },
        "id": "hDST-ipsSKw0",
        "outputId": "86db703d-d8da-413f-d50e-f31b0dd2da4b"
      },
      "execution_count": 124,
      "outputs": [
        {
          "output_type": "stream",
          "name": "stderr",
          "text": [
            "\r  0%|          | 0/61 [00:00<?, ?it/s]"
          ]
        },
        {
          "output_type": "stream",
          "name": "stdout",
          "text": [
            "\n",
            "image 1/1 /content/drive/MyDrive/data_object_detection_yolo/images/test/IMG0003569.jpg: 640x544 (no detections), 37.4ms\n",
            "Speed: 3.9ms preprocess, 37.4ms inference, 0.7ms postprocess per image at shape (1, 3, 640, 544)\n"
          ]
        },
        {
          "output_type": "stream",
          "name": "stderr",
          "text": [
            "\r  2%|▏         | 1/61 [00:00<00:35,  1.70it/s]"
          ]
        },
        {
          "output_type": "stream",
          "name": "stdout",
          "text": [
            "\n",
            "image 1/1 /content/drive/MyDrive/data_object_detection_yolo/images/test/IMG0003339.jpg: 640x544 (no detections), 35.8ms\n",
            "Speed: 3.5ms preprocess, 35.8ms inference, 0.7ms postprocess per image at shape (1, 3, 640, 544)\n",
            "\n",
            "image 1/1 /content/drive/MyDrive/data_object_detection_yolo/images/test/IMG0003588.jpg: 640x544 2 fractureds, 28.0ms\n",
            "Speed: 3.6ms preprocess, 28.0ms inference, 1.9ms postprocess per image at shape (1, 3, 640, 544)\n"
          ]
        },
        {
          "output_type": "stream",
          "name": "stderr",
          "text": [
            "\r  5%|▍         | 3/61 [00:00<00:11,  5.12it/s]"
          ]
        },
        {
          "output_type": "stream",
          "name": "stdout",
          "text": [
            "\n",
            "image 1/1 /content/drive/MyDrive/data_object_detection_yolo/images/test/IMG0003671.jpg: 640x544 (no detections), 27.2ms\n",
            "Speed: 3.6ms preprocess, 27.2ms inference, 0.9ms postprocess per image at shape (1, 3, 640, 544)\n",
            "\n",
            "image 1/1 /content/drive/MyDrive/data_object_detection_yolo/images/test/IMG0003523.jpg: 640x544 1 fractured, 27.1ms\n",
            "Speed: 3.4ms preprocess, 27.1ms inference, 1.9ms postprocess per image at shape (1, 3, 640, 544)\n"
          ]
        },
        {
          "output_type": "stream",
          "name": "stderr",
          "text": [
            "\r  8%|▊         | 5/61 [00:00<00:06,  8.11it/s]"
          ]
        },
        {
          "output_type": "stream",
          "name": "stdout",
          "text": [
            "\n",
            "image 1/1 /content/drive/MyDrive/data_object_detection_yolo/images/test/IMG0003620.jpg: 640x544 (no detections), 27.1ms\n",
            "Speed: 3.4ms preprocess, 27.1ms inference, 0.9ms postprocess per image at shape (1, 3, 640, 544)\n",
            "\n",
            "image 1/1 /content/drive/MyDrive/data_object_detection_yolo/images/test/IMG0003342.jpg: 640x544 1 fractured, 21.8ms\n",
            "Speed: 3.6ms preprocess, 21.8ms inference, 2.0ms postprocess per image at shape (1, 3, 640, 544)\n",
            "\n",
            "image 1/1 /content/drive/MyDrive/data_object_detection_yolo/images/test/IMG0003312.jpg: 640x544 1 fractured, 21.3ms\n",
            "Speed: 3.6ms preprocess, 21.3ms inference, 1.8ms postprocess per image at shape (1, 3, 640, 544)\n"
          ]
        },
        {
          "output_type": "stream",
          "name": "stderr",
          "text": [
            "\r 13%|█▎        | 8/61 [00:00<00:04, 12.00it/s]"
          ]
        },
        {
          "output_type": "stream",
          "name": "stdout",
          "text": [
            "\n",
            "image 1/1 /content/drive/MyDrive/data_object_detection_yolo/images/test/IMG0003374.jpg: 640x544 1 fractured, 20.7ms\n",
            "Speed: 3.3ms preprocess, 20.7ms inference, 1.5ms postprocess per image at shape (1, 3, 640, 544)\n",
            "\n",
            "image 1/1 /content/drive/MyDrive/data_object_detection_yolo/images/test/IMG0003619.jpg: 640x544 2 fractureds, 20.6ms\n",
            "Speed: 3.3ms preprocess, 20.6ms inference, 1.5ms postprocess per image at shape (1, 3, 640, 544)\n",
            "\n",
            "image 1/1 /content/drive/MyDrive/data_object_detection_yolo/images/test/IMG0003587.jpg: 640x544 1 fractured, 20.0ms\n",
            "Speed: 3.5ms preprocess, 20.0ms inference, 1.7ms postprocess per image at shape (1, 3, 640, 544)\n"
          ]
        },
        {
          "output_type": "stream",
          "name": "stderr",
          "text": [
            "\r 18%|█▊        | 11/61 [00:01<00:03, 14.94it/s]"
          ]
        },
        {
          "output_type": "stream",
          "name": "stdout",
          "text": [
            "\n",
            "image 1/1 /content/drive/MyDrive/data_object_detection_yolo/images/test/IMG0003311.jpg: 640x544 2 fractureds, 19.1ms\n",
            "Speed: 3.9ms preprocess, 19.1ms inference, 1.9ms postprocess per image at shape (1, 3, 640, 544)\n",
            "\n",
            "image 1/1 /content/drive/MyDrive/data_object_detection_yolo/images/test/IMG0003297.jpg: 640x544 2 fractureds, 20.0ms\n",
            "Speed: 4.2ms preprocess, 20.0ms inference, 2.0ms postprocess per image at shape (1, 3, 640, 544)\n"
          ]
        },
        {
          "output_type": "stream",
          "name": "stderr",
          "text": [
            "\r 21%|██▏       | 13/61 [00:01<00:03, 15.67it/s]"
          ]
        },
        {
          "output_type": "stream",
          "name": "stdout",
          "text": [
            "\n",
            "image 1/1 /content/drive/MyDrive/data_object_detection_yolo/images/test/IMG0003397.jpg: 640x544 1 fractured, 18.7ms\n",
            "Speed: 3.5ms preprocess, 18.7ms inference, 1.8ms postprocess per image at shape (1, 3, 640, 544)\n",
            "\n",
            "image 1/1 /content/drive/MyDrive/data_object_detection_yolo/images/test/IMG0003686.jpg: 640x544 1 fractured, 18.9ms\n",
            "Speed: 3.5ms preprocess, 18.9ms inference, 2.6ms postprocess per image at shape (1, 3, 640, 544)\n",
            "\n",
            "image 1/1 /content/drive/MyDrive/data_object_detection_yolo/images/test/IMG0003381.jpg: 640x544 1 fractured, 18.6ms\n",
            "Speed: 3.9ms preprocess, 18.6ms inference, 1.7ms postprocess per image at shape (1, 3, 640, 544)\n"
          ]
        },
        {
          "output_type": "stream",
          "name": "stderr",
          "text": [
            "\r 26%|██▌       | 16/61 [00:01<00:02, 17.45it/s]"
          ]
        },
        {
          "output_type": "stream",
          "name": "stdout",
          "text": [
            "\n",
            "image 1/1 /content/drive/MyDrive/data_object_detection_yolo/images/test/IMG0003509.jpg: 640x544 3 fractureds, 18.6ms\n",
            "Speed: 3.4ms preprocess, 18.6ms inference, 1.5ms postprocess per image at shape (1, 3, 640, 544)\n",
            "\n",
            "image 1/1 /content/drive/MyDrive/data_object_detection_yolo/images/test/IMG0003712.jpg: 640x544 1 fractured, 18.9ms\n",
            "Speed: 3.2ms preprocess, 18.9ms inference, 1.4ms postprocess per image at shape (1, 3, 640, 544)\n",
            "\n",
            "image 1/1 /content/drive/MyDrive/data_object_detection_yolo/images/test/IMG0003419.jpg: 640x544 (no detections), 18.6ms\n",
            "Speed: 3.3ms preprocess, 18.6ms inference, 0.6ms postprocess per image at shape (1, 3, 640, 544)\n"
          ]
        },
        {
          "output_type": "stream",
          "name": "stderr",
          "text": [
            "\r 31%|███       | 19/61 [00:01<00:02, 19.07it/s]"
          ]
        },
        {
          "output_type": "stream",
          "name": "stdout",
          "text": [
            "\n",
            "image 1/1 /content/drive/MyDrive/data_object_detection_yolo/images/test/IMG0003519.jpg: 640x544 1 fractured, 17.2ms\n",
            "Speed: 3.3ms preprocess, 17.2ms inference, 1.4ms postprocess per image at shape (1, 3, 640, 544)\n",
            "\n",
            "image 1/1 /content/drive/MyDrive/data_object_detection_yolo/images/test/IMG0003586.jpg: 640x544 2 fractureds, 17.2ms\n",
            "Speed: 4.9ms preprocess, 17.2ms inference, 1.4ms postprocess per image at shape (1, 3, 640, 544)\n",
            "\n",
            "image 1/1 /content/drive/MyDrive/data_object_detection_yolo/images/test/IMG0003466.jpg: 640x544 1 fractured, 17.1ms\n",
            "Speed: 4.6ms preprocess, 17.1ms inference, 1.6ms postprocess per image at shape (1, 3, 640, 544)\n"
          ]
        },
        {
          "output_type": "stream",
          "name": "stderr",
          "text": [
            "\r 36%|███▌      | 22/61 [00:01<00:01, 20.36it/s]"
          ]
        },
        {
          "output_type": "stream",
          "name": "stdout",
          "text": [
            "\n",
            "image 1/1 /content/drive/MyDrive/data_object_detection_yolo/images/test/IMG0003589.jpg: 640x544 1 fractured, 17.1ms\n",
            "Speed: 3.3ms preprocess, 17.1ms inference, 1.7ms postprocess per image at shape (1, 3, 640, 544)\n",
            "\n",
            "image 1/1 /content/drive/MyDrive/data_object_detection_yolo/images/test/IMG0003331.jpg: 640x544 (no detections), 17.0ms\n",
            "Speed: 3.5ms preprocess, 17.0ms inference, 0.6ms postprocess per image at shape (1, 3, 640, 544)\n",
            "\n",
            "image 1/1 /content/drive/MyDrive/data_object_detection_yolo/images/test/IMG0003313.jpg: 640x544 (no detections), 17.0ms\n",
            "Speed: 3.5ms preprocess, 17.0ms inference, 0.7ms postprocess per image at shape (1, 3, 640, 544)\n"
          ]
        },
        {
          "output_type": "stream",
          "name": "stderr",
          "text": [
            "\r 41%|████      | 25/61 [00:01<00:01, 21.56it/s]"
          ]
        },
        {
          "output_type": "stream",
          "name": "stdout",
          "text": [
            "\n",
            "image 1/1 /content/drive/MyDrive/data_object_detection_yolo/images/test/IMG0003625.jpg: 640x544 1 fractured, 17.2ms\n",
            "Speed: 3.5ms preprocess, 17.2ms inference, 1.5ms postprocess per image at shape (1, 3, 640, 544)\n",
            "\n",
            "image 1/1 /content/drive/MyDrive/data_object_detection_yolo/images/test/IMG0003301.jpg: 640x544 (no detections), 17.2ms\n",
            "Speed: 3.6ms preprocess, 17.2ms inference, 0.7ms postprocess per image at shape (1, 3, 640, 544)\n",
            "\n",
            "image 1/1 /content/drive/MyDrive/data_object_detection_yolo/images/test/IMG0003704.jpg: 640x544 (no detections), 17.3ms\n",
            "Speed: 3.4ms preprocess, 17.3ms inference, 0.7ms postprocess per image at shape (1, 3, 640, 544)\n"
          ]
        },
        {
          "output_type": "stream",
          "name": "stderr",
          "text": [
            "\r 46%|████▌     | 28/61 [00:01<00:01, 22.61it/s]"
          ]
        },
        {
          "output_type": "stream",
          "name": "stdout",
          "text": [
            "\n",
            "image 1/1 /content/drive/MyDrive/data_object_detection_yolo/images/test/IMG0003398.jpg: 640x544 1 fractured, 17.2ms\n",
            "Speed: 3.7ms preprocess, 17.2ms inference, 1.5ms postprocess per image at shape (1, 3, 640, 544)\n",
            "\n",
            "image 1/1 /content/drive/MyDrive/data_object_detection_yolo/images/test/IMG0003626.jpg: 640x544 1 fractured, 16.0ms\n",
            "Speed: 3.5ms preprocess, 16.0ms inference, 1.4ms postprocess per image at shape (1, 3, 640, 544)\n",
            "\n",
            "image 1/1 /content/drive/MyDrive/data_object_detection_yolo/images/test/IMG0003458.jpg: 640x544 1 fractured, 16.1ms\n",
            "Speed: 3.5ms preprocess, 16.1ms inference, 1.5ms postprocess per image at shape (1, 3, 640, 544)\n"
          ]
        },
        {
          "output_type": "stream",
          "name": "stderr",
          "text": [
            "\r 51%|█████     | 31/61 [00:01<00:01, 23.30it/s]"
          ]
        },
        {
          "output_type": "stream",
          "name": "stdout",
          "text": [
            "\n",
            "image 1/1 /content/drive/MyDrive/data_object_detection_yolo/images/test/IMG0003459.jpg: 640x544 2 fractureds, 16.1ms\n",
            "Speed: 3.5ms preprocess, 16.1ms inference, 1.4ms postprocess per image at shape (1, 3, 640, 544)\n",
            "\n",
            "image 1/1 /content/drive/MyDrive/data_object_detection_yolo/images/test/IMG0003310.jpg: 640x544 1 fractured, 16.1ms\n",
            "Speed: 3.6ms preprocess, 16.1ms inference, 1.5ms postprocess per image at shape (1, 3, 640, 544)\n",
            "\n",
            "image 1/1 /content/drive/MyDrive/data_object_detection_yolo/images/test/IMG0003399.jpg: 640x544 1 fractured, 16.1ms\n",
            "Speed: 3.4ms preprocess, 16.1ms inference, 1.6ms postprocess per image at shape (1, 3, 640, 544)\n"
          ]
        },
        {
          "output_type": "stream",
          "name": "stderr",
          "text": [
            "\r 56%|█████▌    | 34/61 [00:02<00:01, 23.16it/s]"
          ]
        },
        {
          "output_type": "stream",
          "name": "stdout",
          "text": [
            "\n",
            "image 1/1 /content/drive/MyDrive/data_object_detection_yolo/images/test/IMG0003373.jpg: 640x544 (no detections), 18.3ms\n",
            "Speed: 3.5ms preprocess, 18.3ms inference, 0.8ms postprocess per image at shape (1, 3, 640, 544)\n",
            "\n",
            "image 1/1 /content/drive/MyDrive/data_object_detection_yolo/images/test/IMG0003382.jpg: 640x544 1 fractured, 18.3ms\n",
            "Speed: 3.3ms preprocess, 18.3ms inference, 1.8ms postprocess per image at shape (1, 3, 640, 544)\n",
            "\n",
            "image 1/1 /content/drive/MyDrive/data_object_detection_yolo/images/test/IMG0003564.jpg: 640x544 1 fractured, 17.5ms\n",
            "Speed: 4.2ms preprocess, 17.5ms inference, 2.4ms postprocess per image at shape (1, 3, 640, 544)\n"
          ]
        },
        {
          "output_type": "stream",
          "name": "stderr",
          "text": [
            "\r 61%|██████    | 37/61 [00:02<00:01, 23.04it/s]"
          ]
        },
        {
          "output_type": "stream",
          "name": "stdout",
          "text": [
            "\n",
            "image 1/1 /content/drive/MyDrive/data_object_detection_yolo/images/test/IMG0003309.jpg: 544x640 (no detections), 22.1ms\n",
            "Speed: 3.4ms preprocess, 22.1ms inference, 0.8ms postprocess per image at shape (1, 3, 544, 640)\n",
            "\n",
            "image 1/1 /content/drive/MyDrive/data_object_detection_yolo/images/test/IMG0003394.jpg: 640x544 1 fractured, 18.2ms\n",
            "Speed: 5.0ms preprocess, 18.2ms inference, 1.9ms postprocess per image at shape (1, 3, 640, 544)\n",
            "\n",
            "image 1/1 /content/drive/MyDrive/data_object_detection_yolo/images/test/IMG0003628.jpg: 544x640 2 fractureds, 23.3ms\n",
            "Speed: 3.5ms preprocess, 23.3ms inference, 1.9ms postprocess per image at shape (1, 3, 544, 640)\n"
          ]
        },
        {
          "output_type": "stream",
          "name": "stderr",
          "text": [
            "\r 66%|██████▌   | 40/61 [00:02<00:00, 21.89it/s]"
          ]
        },
        {
          "output_type": "stream",
          "name": "stdout",
          "text": [
            "\n",
            "image 1/1 /content/drive/MyDrive/data_object_detection_yolo/images/test/IMG0003341.jpg: 544x640 1 fractured, 18.4ms\n",
            "Speed: 3.5ms preprocess, 18.4ms inference, 1.9ms postprocess per image at shape (1, 3, 544, 640)\n",
            "\n",
            "image 1/1 /content/drive/MyDrive/data_object_detection_yolo/images/test/IMG0003332.jpg: 640x544 (no detections), 17.3ms\n",
            "Speed: 3.3ms preprocess, 17.3ms inference, 1.4ms postprocess per image at shape (1, 3, 640, 544)\n",
            "\n",
            "image 1/1 /content/drive/MyDrive/data_object_detection_yolo/images/test/IMG0003713.jpg: 640x544 1 fractured, 17.5ms\n",
            "Speed: 5.5ms preprocess, 17.5ms inference, 1.7ms postprocess per image at shape (1, 3, 640, 544)\n"
          ]
        },
        {
          "output_type": "stream",
          "name": "stderr",
          "text": [
            "\r 70%|███████   | 43/61 [00:02<00:00, 21.80it/s]"
          ]
        },
        {
          "output_type": "stream",
          "name": "stdout",
          "text": [
            "\n",
            "image 1/1 /content/drive/MyDrive/data_object_detection_yolo/images/test/IMG0003477.jpg: 640x544 (no detections), 16.3ms\n",
            "Speed: 3.7ms preprocess, 16.3ms inference, 0.7ms postprocess per image at shape (1, 3, 640, 544)\n",
            "\n",
            "image 1/1 /content/drive/MyDrive/data_object_detection_yolo/images/test/IMG0003298.jpg: 640x544 (no detections), 16.5ms\n",
            "Speed: 4.8ms preprocess, 16.5ms inference, 0.9ms postprocess per image at shape (1, 3, 640, 544)\n",
            "\n",
            "image 1/1 /content/drive/MyDrive/data_object_detection_yolo/images/test/IMG0003383.jpg: 640x544 1 fractured, 16.4ms\n",
            "Speed: 3.4ms preprocess, 16.4ms inference, 2.6ms postprocess per image at shape (1, 3, 640, 544)\n"
          ]
        },
        {
          "output_type": "stream",
          "name": "stderr",
          "text": [
            "\r 75%|███████▌  | 46/61 [00:02<00:00, 22.50it/s]"
          ]
        },
        {
          "output_type": "stream",
          "name": "stdout",
          "text": [
            "\n",
            "image 1/1 /content/drive/MyDrive/data_object_detection_yolo/images/test/IMG0003565.jpg: 640x544 1 fractured, 24.6ms\n",
            "Speed: 4.3ms preprocess, 24.6ms inference, 1.7ms postprocess per image at shape (1, 3, 640, 544)\n",
            "\n",
            "image 1/1 /content/drive/MyDrive/data_object_detection_yolo/images/test/IMG0003467.jpg: 640x544 (no detections), 19.9ms\n",
            "Speed: 4.4ms preprocess, 19.9ms inference, 0.8ms postprocess per image at shape (1, 3, 640, 544)\n",
            "\n",
            "image 1/1 /content/drive/MyDrive/data_object_detection_yolo/images/test/IMG0003396.jpg: 640x544 1 fractured, 21.0ms\n",
            "Speed: 3.6ms preprocess, 21.0ms inference, 1.9ms postprocess per image at shape (1, 3, 640, 544)\n"
          ]
        },
        {
          "output_type": "stream",
          "name": "stderr",
          "text": [
            "\r 80%|████████  | 49/61 [00:02<00:00, 21.84it/s]"
          ]
        },
        {
          "output_type": "stream",
          "name": "stdout",
          "text": [
            "\n",
            "image 1/1 /content/drive/MyDrive/data_object_detection_yolo/images/test/IMG0003685.jpg: 640x544 1 fractured, 16.1ms\n",
            "Speed: 5.5ms preprocess, 16.1ms inference, 1.8ms postprocess per image at shape (1, 3, 640, 544)\n",
            "\n",
            "image 1/1 /content/drive/MyDrive/data_object_detection_yolo/images/test/IMG0003524.jpg: 640x544 (no detections), 19.2ms\n",
            "Speed: 3.4ms preprocess, 19.2ms inference, 0.9ms postprocess per image at shape (1, 3, 640, 544)\n",
            "\n",
            "image 1/1 /content/drive/MyDrive/data_object_detection_yolo/images/test/IMG0003520.jpg: 640x544 2 fractureds, 16.4ms\n",
            "Speed: 3.4ms preprocess, 16.4ms inference, 1.8ms postprocess per image at shape (1, 3, 640, 544)\n"
          ]
        },
        {
          "output_type": "stream",
          "name": "stderr",
          "text": [
            "\r 85%|████████▌ | 52/61 [00:02<00:00, 21.97it/s]"
          ]
        },
        {
          "output_type": "stream",
          "name": "stdout",
          "text": [
            "\n",
            "image 1/1 /content/drive/MyDrive/data_object_detection_yolo/images/test/IMG0003395.jpg: 640x544 (no detections), 17.0ms\n",
            "Speed: 4.6ms preprocess, 17.0ms inference, 0.8ms postprocess per image at shape (1, 3, 640, 544)\n",
            "\n",
            "image 1/1 /content/drive/MyDrive/data_object_detection_yolo/images/test/IMG0003338.jpg: 640x544 1 fractured, 16.1ms\n",
            "Speed: 3.3ms preprocess, 16.1ms inference, 1.8ms postprocess per image at shape (1, 3, 640, 544)\n",
            "\n",
            "image 1/1 /content/drive/MyDrive/data_object_detection_yolo/images/test/IMG0003510.jpg: 640x544 1 fractured, 16.4ms\n",
            "Speed: 3.3ms preprocess, 16.4ms inference, 1.8ms postprocess per image at shape (1, 3, 640, 544)\n"
          ]
        },
        {
          "output_type": "stream",
          "name": "stderr",
          "text": [
            "\r 90%|█████████ | 55/61 [00:03<00:00, 21.81it/s]"
          ]
        },
        {
          "output_type": "stream",
          "name": "stdout",
          "text": [
            "\n",
            "image 1/1 /content/drive/MyDrive/data_object_detection_yolo/images/test/IMG0003308.jpg: 640x544 2 fractureds, 16.6ms\n",
            "Speed: 3.8ms preprocess, 16.6ms inference, 2.7ms postprocess per image at shape (1, 3, 640, 544)\n",
            "\n",
            "image 1/1 /content/drive/MyDrive/data_object_detection_yolo/images/test/IMG0003653.jpg: 640x544 (no detections), 16.2ms\n",
            "Speed: 4.5ms preprocess, 16.2ms inference, 0.9ms postprocess per image at shape (1, 3, 640, 544)\n",
            "\n",
            "image 1/1 /content/drive/MyDrive/data_object_detection_yolo/images/test/IMG0003654.jpg: 640x544 1 fractured, 20.5ms\n",
            "Speed: 4.6ms preprocess, 20.5ms inference, 2.8ms postprocess per image at shape (1, 3, 640, 544)\n"
          ]
        },
        {
          "output_type": "stream",
          "name": "stderr",
          "text": [
            "\r 95%|█████████▌| 58/61 [00:03<00:00, 21.88it/s]"
          ]
        },
        {
          "output_type": "stream",
          "name": "stdout",
          "text": [
            "\n",
            "image 1/1 /content/drive/MyDrive/data_object_detection_yolo/images/test/IMG0003545.jpg: 640x544 (no detections), 18.7ms\n",
            "Speed: 3.4ms preprocess, 18.7ms inference, 0.9ms postprocess per image at shape (1, 3, 640, 544)\n",
            "\n",
            "image 1/1 /content/drive/MyDrive/data_object_detection_yolo/images/test/IMG0003703.jpg: 640x544 1 fractured, 19.6ms\n",
            "Speed: 4.6ms preprocess, 19.6ms inference, 1.8ms postprocess per image at shape (1, 3, 640, 544)\n",
            "\n",
            "image 1/1 /content/drive/MyDrive/data_object_detection_yolo/images/test/IMG0003420.jpg: 544x640 1 fractured, 16.6ms\n",
            "Speed: 4.5ms preprocess, 16.6ms inference, 1.2ms postprocess per image at shape (1, 3, 544, 640)\n"
          ]
        },
        {
          "output_type": "stream",
          "name": "stderr",
          "text": [
            "100%|██████████| 61/61 [00:03<00:00, 18.31it/s]\n"
          ]
        }
      ]
    },
    {
      "cell_type": "markdown",
      "source": [
        "We know that we have 61 test images, so let's check if our 3 lists vontain 61 elements:"
      ],
      "metadata": {
        "id": "5fVYi7zYR--p"
      }
    },
    {
      "cell_type": "code",
      "source": [
        "print(len(all_gt), len(all_pred), len(all_scores))"
      ],
      "metadata": {
        "colab": {
          "base_uri": "https://localhost:8080/"
        },
        "id": "kWvRr0NGHtMa",
        "outputId": "2e199f17-4e89-4787-97fb-0b04bae2537e"
      },
      "execution_count": 125,
      "outputs": [
        {
          "output_type": "stream",
          "name": "stdout",
          "text": [
            "61 61 61\n"
          ]
        }
      ]
    },
    {
      "cell_type": "markdown",
      "source": [
        "We compute the Average Precision (AP) across IoU thresholds ranging from 0.5 to 1.0 and visualize the results using a Precision-Recall curve."
      ],
      "metadata": {
        "id": "buBcNr4nQkTV"
      }
    },
    {
      "cell_type": "code",
      "source": [
        "# Compute metrics\n",
        "iou_thresholds = np.arange(0.5, 1.0, 0.05)\n",
        "ap_per_iou = compute_ap_per_iou(\n",
        "    all_gt, all_pred, all_scores, iou_thresholds, best_model, plot = True\n",
        ")"
      ],
      "metadata": {
        "colab": {
          "base_uri": "https://localhost:8080/",
          "height": 564
        },
        "id": "8eNIq4vz0Wrx",
        "outputId": "3754dede-9e67-4541-8e10-3ec5d9ec6d13"
      },
      "execution_count": 126,
      "outputs": [
        {
          "output_type": "display_data",
          "data": {
            "text/plain": [
              "<Figure size 800x600 with 1 Axes>"
            ],
            "image/png": "[encoded data removed]"
          },
          "metadata": {}
        }
      ]
    },
    {
      "cell_type": "code",
      "source": [
        "for iou, ap in ap_per_iou.items():\n",
        "    print(f\"IoU {iou:.2f}: AP = {ap:.3f}\")\n",
        "\n",
        "mean_ap = np.mean(list(ap_per_iou.values()))\n",
        "print(f\"Mean Average Precision (mAP50-95): {mean_ap:.3f}\")"
      ],
      "metadata": {
        "colab": {
          "base_uri": "https://localhost:8080/"
        },
        "id": "dIbg-Aamlbgo",
        "outputId": "f481a2a1-9d55-4251-a81a-b74d32c68a52"
      },
      "execution_count": 127,
      "outputs": [
        {
          "output_type": "stream",
          "name": "stdout",
          "text": [
            "IoU 0.50: AP = 0.444\n",
            "IoU 0.55: AP = 0.431\n",
            "IoU 0.60: AP = 0.309\n",
            "IoU 0.65: AP = 0.269\n",
            "IoU 0.70: AP = 0.147\n",
            "IoU 0.75: AP = 0.086\n",
            "IoU 0.80: AP = 0.027\n",
            "IoU 0.85: AP = 0.000\n",
            "IoU 0.90: AP = 0.000\n",
            "IoU 0.95: AP = 0.000\n",
            "Mean Average Precision (mAP50-95): 0.171\n"
          ]
        }
      ]
    },
    {
      "cell_type": "markdown",
      "source": [
        "For the unseen test data the model has a mean Average Precision (mAP50-95) of 0.171 and the average precision at an IoU>0.5 is 0.44. These values are smaller compared to the validation data.\n",
        "\n",
        "## Confusion matrix\n",
        "\n",
        "We create a confusion matrix based on whether the model detected a box with IoU>=0.5 to that of the ground truth."
      ],
      "metadata": {
        "id": "W1sZAxIYmGik"
      }
    },
    {
      "cell_type": "code",
      "source": [
        "compute_confusion_matrix(\n",
        "    all_gt, all_pred, best_model, axes = None\n",
        ")"
      ],
      "metadata": {
        "colab": {
          "base_uri": "https://localhost:8080/",
          "height": 533
        },
        "id": "j67OofR_R6p1",
        "outputId": "a16d6cf8-59aa-4b4d-9e02-1d995a8a2dd9"
      },
      "execution_count": 137,
      "outputs": [
        {
          "output_type": "display_data",
          "data": {
            "text/plain": [
              "<Figure size 640x480 with 2 Axes>"
            ],
            "image/png": "[encoded data removed]"
          },
          "metadata": {}
        }
      ]
    },
    {
      "cell_type": "markdown",
      "source": [
        "**Fractures in the Dataset**\n",
        "- **True Positives (TP) = 34**: These are correctly detected fractures. The model predicted a fracture where an actual fracture exists.  \n",
        "- **False Negatives (FN) = 33**: These are missed fractures. The model failed to detect these actual fractures, which would be an issue in medical applications.\n",
        "\n",
        "**No Fractures in the Dataset**\n",
        "- **False Positives (FP) = 19**: These are incorrect detections. The model predicted a fracture when there was none.  \n",
        "- **True Negatives (TN) = 0**: Since the dataset does not contain any images without fractures, the model was never tested on truly negative cases.\n",
        "\n",
        "**Perfomance Metrics**\n",
        "- Precision: When the model predicts a fracture, it is correct 64% of the time.\n",
        "- Recall (Sensitivity): The model correctly identifies 51% of actual fractures.\n",
        "- Specificity: Since there are no images without fractures in the dataset, true negatives cannot be calculated. This means we cannot measure the model’s ability to correctly classify \"no fracture\" images.\n",
        "- F1 Score: balance between Precision and Recall - 57%\n",
        "\n",
        "The results are not very convincing.  So in the next step we are going to compare the top 5 models from Part 1."
      ],
      "metadata": {
        "id": "Q04tDhDdkcqQ"
      }
    },
    {
      "cell_type": "markdown",
      "source": [
        "## Comparing the Top 5 models"
      ],
      "metadata": {
        "id": "tly78EoR0XjZ"
      }
    },
    {
      "cell_type": "code",
      "source": [
        "def evaluate_models(models, test_images, drive_model_dir, test_images_dir):\n",
        "    \"\"\"Loads models, runs evaluation, and computes metrics.\"\"\"\n",
        "    model_results_dict = {}\n",
        "\n",
        "    # Create subplots with dynamic size\n",
        "    fig, axes = plt.subplots(1, len(models), figsize=(4 * len(models), 5))\n",
        "\n",
        "    # Ensure axes is iterable even if there is only one model\n",
        "    if len(models) == 1:\n",
        "        axes = [axes]\n",
        "\n",
        "    for idx, model_name in enumerate(models):\n",
        "        print(f\"\\nLoading Model: {model_name}\")\n",
        "        model_path = os.path.join(drive_model_dir, model_name)\n",
        "        model = YOLO(model_path)\n",
        "\n",
        "        results_dict = {\"gt\": [], \"pred\": [], \"scores\": []}\n",
        "\n",
        "        for image_name in tqdm(test_images):\n",
        "            image_path = os.path.join(test_images_dir, image_name)\n",
        "            image = cv2.imread(image_path)\n",
        "            if image is None:\n",
        "                continue  # Skip broken image\n",
        "            img_h, img_w = image.shape[:2]\n",
        "\n",
        "            # Load ground truth\n",
        "            gt_boxes = load_ground_truth(image_name, img_w, img_h)\n",
        "            results_dict[\"gt\"].append(gt_boxes)\n",
        "\n",
        "            # Run model and store predictions\n",
        "            pred_boxes, scores = run_model(model, image_path)\n",
        "            results_dict[\"pred\"].append(pred_boxes)\n",
        "            results_dict[\"scores\"].append(scores)\n",
        "\n",
        "        # Compute metrics\n",
        "        iou_thresholds = np.arange(0.5, 1.0, 0.05)\n",
        "        print(f\"Evaluating Model: {model_name}\")\n",
        "        ap_per_iou = compute_ap_per_iou(\n",
        "            results_dict[\"gt\"], results_dict[\"pred\"], results_dict[\"scores\"], iou_thresholds,\n",
        "            model_name, plot=False\n",
        "        )\n",
        "\n",
        "        # Store results\n",
        "        model_results_dict[model_name.strip(\".pt\")] = ap_per_iou\n",
        "\n",
        "        # Compute and plot confusion matrix in the corresponding subplot\n",
        "        compute_confusion_matrix(results_dict[\"gt\"], results_dict[\"pred\"], model_name, axes[idx])\n",
        "\n",
        "    plt.tight_layout()\n",
        "    plt.show()\n",
        "\n",
        "    return model_results_dict"
      ],
      "metadata": {
        "id": "Qt1MzOdPYeJq"
      },
      "execution_count": 140,
      "outputs": []
    },
    {
      "cell_type": "code",
      "source": [
        "models = [\n",
        "    \"yolo_v8m_freeze0.pt\",\n",
        "    \"yolo_v8m_freeze10.pt\",\n",
        "    \"yolo_v8m_freezeall.pt\",\n",
        "    \"yolo_v8s_freeze10.pt\",\n",
        "    \"yolo_v8n_freeze10.pt\"]\n",
        "\n",
        "eval_results = evaluate_models(models, test_images, drive_model_dir, test_images_dir)"
      ],
      "metadata": {
        "colab": {
          "base_uri": "https://localhost:8080/",
          "height": 1000
        },
        "id": "6Ig9vJchyC_B",
        "outputId": "fede357a-8f25-4f3e-a15b-9cc75b5d1eea"
      },
      "execution_count": 143,
      "outputs": [
        {
          "output_type": "stream",
          "name": "stdout",
          "text": [
            "\n",
            "Loading Model: yolo_v8m_freeze0.pt\n"
          ]
        },
        {
          "output_type": "stream",
          "name": "stderr",
          "text": [
            "\r  0%|          | 0/61 [00:00<?, ?it/s]"
          ]
        },
        {
          "output_type": "stream",
          "name": "stdout",
          "text": [
            "\n",
            "image 1/1 /content/drive/MyDrive/data_object_detection_yolo/images/test/IMG0003569.jpg: 640x544 (no detections), 37.0ms\n",
            "Speed: 3.2ms preprocess, 37.0ms inference, 0.6ms postprocess per image at shape (1, 3, 640, 544)\n"
          ]
        },
        {
          "output_type": "stream",
          "name": "stderr",
          "text": [
            "\r  2%|▏         | 1/61 [00:00<00:23,  2.56it/s]"
          ]
        },
        {
          "output_type": "stream",
          "name": "stdout",
          "text": [
            "\n",
            "image 1/1 /content/drive/MyDrive/data_object_detection_yolo/images/test/IMG0003339.jpg: 640x544 (no detections), 34.6ms\n",
            "Speed: 2.7ms preprocess, 34.6ms inference, 0.6ms postprocess per image at shape (1, 3, 640, 544)\n",
            "\n",
            "image 1/1 /content/drive/MyDrive/data_object_detection_yolo/images/test/IMG0003588.jpg: 640x544 2 fractureds, 34.2ms\n",
            "Speed: 3.0ms preprocess, 34.2ms inference, 1.2ms postprocess per image at shape (1, 3, 640, 544)\n"
          ]
        },
        {
          "output_type": "stream",
          "name": "stderr",
          "text": [
            "\r  5%|▍         | 3/61 [00:00<00:08,  7.06it/s]"
          ]
        },
        {
          "output_type": "stream",
          "name": "stdout",
          "text": [
            "\n",
            "image 1/1 /content/drive/MyDrive/data_object_detection_yolo/images/test/IMG0003671.jpg: 640x544 (no detections), 34.2ms\n",
            "Speed: 2.1ms preprocess, 34.2ms inference, 0.6ms postprocess per image at shape (1, 3, 640, 544)\n",
            "\n",
            "image 1/1 /content/drive/MyDrive/data_object_detection_yolo/images/test/IMG0003523.jpg: 640x544 1 fractured, 34.2ms\n",
            "Speed: 2.1ms preprocess, 34.2ms inference, 1.2ms postprocess per image at shape (1, 3, 640, 544)\n"
          ]
        },
        {
          "output_type": "stream",
          "name": "stderr",
          "text": [
            "\r  8%|▊         | 5/61 [00:00<00:05, 10.34it/s]"
          ]
        },
        {
          "output_type": "stream",
          "name": "stdout",
          "text": [
            "\n",
            "image 1/1 /content/drive/MyDrive/data_object_detection_yolo/images/test/IMG0003620.jpg: 640x544 (no detections), 22.5ms\n",
            "Speed: 2.3ms preprocess, 22.5ms inference, 0.5ms postprocess per image at shape (1, 3, 640, 544)\n",
            "\n",
            "image 1/1 /content/drive/MyDrive/data_object_detection_yolo/images/test/IMG0003342.jpg: 640x544 1 fractured, 22.4ms\n",
            "Speed: 2.1ms preprocess, 22.4ms inference, 1.1ms postprocess per image at shape (1, 3, 640, 544)\n",
            "\n",
            "image 1/1 /content/drive/MyDrive/data_object_detection_yolo/images/test/IMG0003312.jpg: 640x544 1 fractured, 22.4ms\n",
            "Speed: 2.1ms preprocess, 22.4ms inference, 1.1ms postprocess per image at shape (1, 3, 640, 544)\n"
          ]
        },
        {
          "output_type": "stream",
          "name": "stderr",
          "text": [
            "\r 13%|█▎        | 8/61 [00:00<00:03, 14.77it/s]"
          ]
        },
        {
          "output_type": "stream",
          "name": "stdout",
          "text": [
            "\n",
            "image 1/1 /content/drive/MyDrive/data_object_detection_yolo/images/test/IMG0003374.jpg: 640x544 1 fractured, 21.7ms\n",
            "Speed: 3.1ms preprocess, 21.7ms inference, 1.1ms postprocess per image at shape (1, 3, 640, 544)\n",
            "\n",
            "image 1/1 /content/drive/MyDrive/data_object_detection_yolo/images/test/IMG0003619.jpg: 640x544 2 fractureds, 21.0ms\n",
            "Speed: 2.1ms preprocess, 21.0ms inference, 1.2ms postprocess per image at shape (1, 3, 640, 544)\n",
            "\n",
            "image 1/1 /content/drive/MyDrive/data_object_detection_yolo/images/test/IMG0003587.jpg: 640x544 1 fractured, 19.3ms\n",
            "Speed: 2.1ms preprocess, 19.3ms inference, 1.1ms postprocess per image at shape (1, 3, 640, 544)\n"
          ]
        },
        {
          "output_type": "stream",
          "name": "stderr",
          "text": [
            "\r 18%|█▊        | 11/61 [00:00<00:02, 17.10it/s]"
          ]
        },
        {
          "output_type": "stream",
          "name": "stdout",
          "text": [
            "\n",
            "image 1/1 /content/drive/MyDrive/data_object_detection_yolo/images/test/IMG0003311.jpg: 640x544 2 fractureds, 19.3ms\n",
            "Speed: 2.2ms preprocess, 19.3ms inference, 1.2ms postprocess per image at shape (1, 3, 640, 544)\n",
            "\n",
            "image 1/1 /content/drive/MyDrive/data_object_detection_yolo/images/test/IMG0003297.jpg: 640x544 2 fractureds, 18.8ms\n",
            "Speed: 3.2ms preprocess, 18.8ms inference, 1.2ms postprocess per image at shape (1, 3, 640, 544)\n",
            "\n",
            "image 1/1 /content/drive/MyDrive/data_object_detection_yolo/images/test/IMG0003397.jpg: 640x544 1 fractured, 18.8ms\n",
            "Speed: 3.1ms preprocess, 18.8ms inference, 1.2ms postprocess per image at shape (1, 3, 640, 544)\n"
          ]
        },
        {
          "output_type": "stream",
          "name": "stderr",
          "text": [
            "\r 23%|██▎       | 14/61 [00:00<00:02, 19.55it/s]"
          ]
        },
        {
          "output_type": "stream",
          "name": "stdout",
          "text": [
            "\n",
            "image 1/1 /content/drive/MyDrive/data_object_detection_yolo/images/test/IMG0003686.jpg: 640x544 1 fractured, 18.3ms\n",
            "Speed: 3.0ms preprocess, 18.3ms inference, 1.2ms postprocess per image at shape (1, 3, 640, 544)\n",
            "\n",
            "image 1/1 /content/drive/MyDrive/data_object_detection_yolo/images/test/IMG0003381.jpg: 640x544 1 fractured, 16.5ms\n",
            "Speed: 2.6ms preprocess, 16.5ms inference, 1.7ms postprocess per image at shape (1, 3, 640, 544)\n",
            "\n",
            "image 1/1 /content/drive/MyDrive/data_object_detection_yolo/images/test/IMG0003509.jpg: 640x544 3 fractureds, 16.4ms\n",
            "Speed: 2.7ms preprocess, 16.4ms inference, 1.7ms postprocess per image at shape (1, 3, 640, 544)\n"
          ]
        },
        {
          "output_type": "stream",
          "name": "stderr",
          "text": [
            "\r 28%|██▊       | 17/61 [00:01<00:02, 21.34it/s]"
          ]
        },
        {
          "output_type": "stream",
          "name": "stdout",
          "text": [
            "\n",
            "image 1/1 /content/drive/MyDrive/data_object_detection_yolo/images/test/IMG0003712.jpg: 640x544 1 fractured, 16.4ms\n",
            "Speed: 2.5ms preprocess, 16.4ms inference, 1.7ms postprocess per image at shape (1, 3, 640, 544)\n",
            "\n",
            "image 1/1 /content/drive/MyDrive/data_object_detection_yolo/images/test/IMG0003419.jpg: 640x544 (no detections), 16.5ms\n",
            "Speed: 3.5ms preprocess, 16.5ms inference, 0.5ms postprocess per image at shape (1, 3, 640, 544)\n",
            "\n",
            "image 1/1 /content/drive/MyDrive/data_object_detection_yolo/images/test/IMG0003519.jpg: 640x544 1 fractured, 16.4ms\n",
            "Speed: 2.9ms preprocess, 16.4ms inference, 1.7ms postprocess per image at shape (1, 3, 640, 544)\n"
          ]
        },
        {
          "output_type": "stream",
          "name": "stderr",
          "text": [
            "\r 33%|███▎      | 20/61 [00:01<00:01, 22.72it/s]"
          ]
        },
        {
          "output_type": "stream",
          "name": "stdout",
          "text": [
            "\n",
            "image 1/1 /content/drive/MyDrive/data_object_detection_yolo/images/test/IMG0003586.jpg: 640x544 2 fractureds, 16.7ms\n",
            "Speed: 2.6ms preprocess, 16.7ms inference, 1.5ms postprocess per image at shape (1, 3, 640, 544)\n",
            "\n",
            "image 1/1 /content/drive/MyDrive/data_object_detection_yolo/images/test/IMG0003466.jpg: 640x544 1 fractured, 16.9ms\n",
            "Speed: 2.5ms preprocess, 16.9ms inference, 1.5ms postprocess per image at shape (1, 3, 640, 544)\n",
            "\n",
            "image 1/1 /content/drive/MyDrive/data_object_detection_yolo/images/test/IMG0003589.jpg: 640x544 1 fractured, 16.7ms\n",
            "Speed: 2.5ms preprocess, 16.7ms inference, 1.3ms postprocess per image at shape (1, 3, 640, 544)\n"
          ]
        },
        {
          "output_type": "stream",
          "name": "stderr",
          "text": [
            "\r 38%|███▊      | 23/61 [00:01<00:01, 23.69it/s]"
          ]
        },
        {
          "output_type": "stream",
          "name": "stdout",
          "text": [
            "\n",
            "image 1/1 /content/drive/MyDrive/data_object_detection_yolo/images/test/IMG0003331.jpg: 640x544 (no detections), 16.2ms\n",
            "Speed: 3.4ms preprocess, 16.2ms inference, 0.6ms postprocess per image at shape (1, 3, 640, 544)\n",
            "\n",
            "image 1/1 /content/drive/MyDrive/data_object_detection_yolo/images/test/IMG0003313.jpg: 640x544 (no detections), 16.2ms\n",
            "Speed: 3.6ms preprocess, 16.2ms inference, 0.7ms postprocess per image at shape (1, 3, 640, 544)\n",
            "\n",
            "image 1/1 /content/drive/MyDrive/data_object_detection_yolo/images/test/IMG0003625.jpg: 640x544 1 fractured, 16.4ms\n",
            "Speed: 2.5ms preprocess, 16.4ms inference, 1.2ms postprocess per image at shape (1, 3, 640, 544)\n"
          ]
        },
        {
          "output_type": "stream",
          "name": "stderr",
          "text": [
            "\r 43%|████▎     | 26/61 [00:01<00:01, 24.00it/s]"
          ]
        },
        {
          "output_type": "stream",
          "name": "stdout",
          "text": [
            "\n",
            "image 1/1 /content/drive/MyDrive/data_object_detection_yolo/images/test/IMG0003301.jpg: 640x544 (no detections), 16.3ms\n",
            "Speed: 3.1ms preprocess, 16.3ms inference, 0.5ms postprocess per image at shape (1, 3, 640, 544)\n",
            "\n",
            "image 1/1 /content/drive/MyDrive/data_object_detection_yolo/images/test/IMG0003704.jpg: 640x544 (no detections), 16.3ms\n",
            "Speed: 2.2ms preprocess, 16.3ms inference, 0.5ms postprocess per image at shape (1, 3, 640, 544)\n",
            "\n",
            "image 1/1 /content/drive/MyDrive/data_object_detection_yolo/images/test/IMG0003398.jpg: 640x544 1 fractured, 16.5ms\n",
            "Speed: 3.1ms preprocess, 16.5ms inference, 5.7ms postprocess per image at shape (1, 3, 640, 544)\n"
          ]
        },
        {
          "output_type": "stream",
          "name": "stderr",
          "text": [
            "\r 48%|████▊     | 29/61 [00:01<00:01, 24.83it/s]"
          ]
        },
        {
          "output_type": "stream",
          "name": "stdout",
          "text": [
            "\n",
            "image 1/1 /content/drive/MyDrive/data_object_detection_yolo/images/test/IMG0003626.jpg: 640x544 1 fractured, 16.8ms\n",
            "Speed: 2.2ms preprocess, 16.8ms inference, 1.1ms postprocess per image at shape (1, 3, 640, 544)\n",
            "\n",
            "image 1/1 /content/drive/MyDrive/data_object_detection_yolo/images/test/IMG0003458.jpg: 640x544 1 fractured, 16.5ms\n",
            "Speed: 2.1ms preprocess, 16.5ms inference, 1.1ms postprocess per image at shape (1, 3, 640, 544)\n",
            "\n",
            "image 1/1 /content/drive/MyDrive/data_object_detection_yolo/images/test/IMG0003459.jpg: 640x544 2 fractureds, 16.4ms\n",
            "Speed: 2.1ms preprocess, 16.4ms inference, 1.3ms postprocess per image at shape (1, 3, 640, 544)\n"
          ]
        },
        {
          "output_type": "stream",
          "name": "stderr",
          "text": [
            "\r 52%|█████▏    | 32/61 [00:01<00:01, 24.73it/s]"
          ]
        },
        {
          "output_type": "stream",
          "name": "stdout",
          "text": [
            "\n",
            "image 1/1 /content/drive/MyDrive/data_object_detection_yolo/images/test/IMG0003310.jpg: 640x544 1 fractured, 16.4ms\n",
            "Speed: 2.2ms preprocess, 16.4ms inference, 1.1ms postprocess per image at shape (1, 3, 640, 544)\n",
            "\n",
            "image 1/1 /content/drive/MyDrive/data_object_detection_yolo/images/test/IMG0003399.jpg: 640x544 1 fractured, 16.8ms\n",
            "Speed: 2.2ms preprocess, 16.8ms inference, 1.1ms postprocess per image at shape (1, 3, 640, 544)\n",
            "\n",
            "image 1/1 /content/drive/MyDrive/data_object_detection_yolo/images/test/IMG0003373.jpg: 640x544 (no detections), 16.6ms\n",
            "Speed: 2.1ms preprocess, 16.6ms inference, 0.5ms postprocess per image at shape (1, 3, 640, 544)\n"
          ]
        },
        {
          "output_type": "stream",
          "name": "stderr",
          "text": [
            "\r 57%|█████▋    | 35/61 [00:01<00:01, 25.70it/s]"
          ]
        },
        {
          "output_type": "stream",
          "name": "stdout",
          "text": [
            "\n",
            "image 1/1 /content/drive/MyDrive/data_object_detection_yolo/images/test/IMG0003382.jpg: 640x544 1 fractured, 16.4ms\n",
            "Speed: 2.2ms preprocess, 16.4ms inference, 1.1ms postprocess per image at shape (1, 3, 640, 544)\n",
            "\n",
            "image 1/1 /content/drive/MyDrive/data_object_detection_yolo/images/test/IMG0003564.jpg: 640x544 1 fractured, 16.2ms\n",
            "Speed: 2.1ms preprocess, 16.2ms inference, 1.2ms postprocess per image at shape (1, 3, 640, 544)\n",
            "\n",
            "image 1/1 /content/drive/MyDrive/data_object_detection_yolo/images/test/IMG0003309.jpg: 544x640 (no detections), 17.5ms\n",
            "Speed: 2.1ms preprocess, 17.5ms inference, 0.5ms postprocess per image at shape (1, 3, 544, 640)\n"
          ]
        },
        {
          "output_type": "stream",
          "name": "stderr",
          "text": [
            "\r 62%|██████▏   | 38/61 [00:01<00:00, 26.54it/s]"
          ]
        },
        {
          "output_type": "stream",
          "name": "stdout",
          "text": [
            "\n",
            "image 1/1 /content/drive/MyDrive/data_object_detection_yolo/images/test/IMG0003394.jpg: 640x544 1 fractured, 17.3ms\n",
            "Speed: 2.1ms preprocess, 17.3ms inference, 1.2ms postprocess per image at shape (1, 3, 640, 544)\n",
            "\n",
            "image 1/1 /content/drive/MyDrive/data_object_detection_yolo/images/test/IMG0003628.jpg: 544x640 2 fractureds, 18.7ms\n",
            "Speed: 3.0ms preprocess, 18.7ms inference, 1.1ms postprocess per image at shape (1, 3, 544, 640)\n",
            "\n",
            "image 1/1 /content/drive/MyDrive/data_object_detection_yolo/images/test/IMG0003341.jpg: 544x640 1 fractured, 15.7ms\n",
            "Speed: 2.2ms preprocess, 15.7ms inference, 1.2ms postprocess per image at shape (1, 3, 544, 640)\n"
          ]
        },
        {
          "output_type": "stream",
          "name": "stderr",
          "text": [
            "\r 67%|██████▋   | 41/61 [00:02<00:00, 26.69it/s]"
          ]
        },
        {
          "output_type": "stream",
          "name": "stdout",
          "text": [
            "\n",
            "image 1/1 /content/drive/MyDrive/data_object_detection_yolo/images/test/IMG0003332.jpg: 640x544 (no detections), 18.0ms\n",
            "Speed: 2.5ms preprocess, 18.0ms inference, 0.7ms postprocess per image at shape (1, 3, 640, 544)\n",
            "\n",
            "image 1/1 /content/drive/MyDrive/data_object_detection_yolo/images/test/IMG0003713.jpg: 640x544 1 fractured, 16.7ms\n",
            "Speed: 2.5ms preprocess, 16.7ms inference, 1.4ms postprocess per image at shape (1, 3, 640, 544)\n",
            "\n",
            "image 1/1 /content/drive/MyDrive/data_object_detection_yolo/images/test/IMG0003477.jpg: 640x544 (no detections), 16.8ms\n",
            "Speed: 2.7ms preprocess, 16.8ms inference, 0.6ms postprocess per image at shape (1, 3, 640, 544)\n"
          ]
        },
        {
          "output_type": "stream",
          "name": "stderr",
          "text": [
            "\r 72%|███████▏  | 44/61 [00:02<00:00, 26.45it/s]"
          ]
        },
        {
          "output_type": "stream",
          "name": "stdout",
          "text": [
            "\n",
            "image 1/1 /content/drive/MyDrive/data_object_detection_yolo/images/test/IMG0003298.jpg: 640x544 (no detections), 16.7ms\n",
            "Speed: 2.5ms preprocess, 16.7ms inference, 0.7ms postprocess per image at shape (1, 3, 640, 544)\n",
            "\n",
            "image 1/1 /content/drive/MyDrive/data_object_detection_yolo/images/test/IMG0003383.jpg: 640x544 1 fractured, 16.2ms\n",
            "Speed: 2.3ms preprocess, 16.2ms inference, 1.5ms postprocess per image at shape (1, 3, 640, 544)\n",
            "\n",
            "image 1/1 /content/drive/MyDrive/data_object_detection_yolo/images/test/IMG0003565.jpg: 640x544 1 fractured, 16.1ms\n",
            "Speed: 2.5ms preprocess, 16.1ms inference, 1.6ms postprocess per image at shape (1, 3, 640, 544)\n"
          ]
        },
        {
          "output_type": "stream",
          "name": "stderr",
          "text": [
            "\r 77%|███████▋  | 47/61 [00:02<00:00, 26.61it/s]"
          ]
        },
        {
          "output_type": "stream",
          "name": "stdout",
          "text": [
            "\n",
            "image 1/1 /content/drive/MyDrive/data_object_detection_yolo/images/test/IMG0003467.jpg: 640x544 (no detections), 16.2ms\n",
            "Speed: 2.5ms preprocess, 16.2ms inference, 0.5ms postprocess per image at shape (1, 3, 640, 544)\n",
            "\n",
            "image 1/1 /content/drive/MyDrive/data_object_detection_yolo/images/test/IMG0003396.jpg: 640x544 1 fractured, 16.1ms\n",
            "Speed: 3.2ms preprocess, 16.1ms inference, 1.6ms postprocess per image at shape (1, 3, 640, 544)\n",
            "\n",
            "image 1/1 /content/drive/MyDrive/data_object_detection_yolo/images/test/IMG0003685.jpg: 640x544 1 fractured, 16.6ms\n",
            "Speed: 2.7ms preprocess, 16.6ms inference, 1.6ms postprocess per image at shape (1, 3, 640, 544)\n"
          ]
        },
        {
          "output_type": "stream",
          "name": "stderr",
          "text": [
            "\r 82%|████████▏ | 50/61 [00:02<00:00, 26.35it/s]"
          ]
        },
        {
          "output_type": "stream",
          "name": "stdout",
          "text": [
            "\n",
            "image 1/1 /content/drive/MyDrive/data_object_detection_yolo/images/test/IMG0003524.jpg: 640x544 (no detections), 16.4ms\n",
            "Speed: 3.4ms preprocess, 16.4ms inference, 0.8ms postprocess per image at shape (1, 3, 640, 544)\n",
            "\n",
            "image 1/1 /content/drive/MyDrive/data_object_detection_yolo/images/test/IMG0003520.jpg: 640x544 2 fractureds, 16.1ms\n",
            "Speed: 3.6ms preprocess, 16.1ms inference, 1.7ms postprocess per image at shape (1, 3, 640, 544)\n",
            "\n",
            "image 1/1 /content/drive/MyDrive/data_object_detection_yolo/images/test/IMG0003395.jpg: 640x544 (no detections), 16.6ms\n",
            "Speed: 2.8ms preprocess, 16.6ms inference, 0.5ms postprocess per image at shape (1, 3, 640, 544)\n"
          ]
        },
        {
          "output_type": "stream",
          "name": "stderr",
          "text": [
            "\r 87%|████████▋ | 53/61 [00:02<00:00, 24.79it/s]"
          ]
        },
        {
          "output_type": "stream",
          "name": "stdout",
          "text": [
            "\n",
            "image 1/1 /content/drive/MyDrive/data_object_detection_yolo/images/test/IMG0003338.jpg: 640x544 1 fractured, 17.1ms\n",
            "Speed: 2.1ms preprocess, 17.1ms inference, 1.2ms postprocess per image at shape (1, 3, 640, 544)\n",
            "\n",
            "image 1/1 /content/drive/MyDrive/data_object_detection_yolo/images/test/IMG0003510.jpg: 640x544 1 fractured, 16.3ms\n",
            "Speed: 2.1ms preprocess, 16.3ms inference, 1.1ms postprocess per image at shape (1, 3, 640, 544)\n",
            "\n",
            "image 1/1 /content/drive/MyDrive/data_object_detection_yolo/images/test/IMG0003308.jpg: 640x544 2 fractureds, 16.1ms\n",
            "Speed: 2.1ms preprocess, 16.1ms inference, 1.3ms postprocess per image at shape (1, 3, 640, 544)\n"
          ]
        },
        {
          "output_type": "stream",
          "name": "stderr",
          "text": [
            "\r 92%|█████████▏| 56/61 [00:02<00:00, 25.50it/s]"
          ]
        },
        {
          "output_type": "stream",
          "name": "stdout",
          "text": [
            "\n",
            "image 1/1 /content/drive/MyDrive/data_object_detection_yolo/images/test/IMG0003653.jpg: 640x544 (no detections), 16.2ms\n",
            "Speed: 2.5ms preprocess, 16.2ms inference, 0.5ms postprocess per image at shape (1, 3, 640, 544)\n",
            "\n",
            "image 1/1 /content/drive/MyDrive/data_object_detection_yolo/images/test/IMG0003654.jpg: 640x544 1 fractured, 16.6ms\n",
            "Speed: 2.1ms preprocess, 16.6ms inference, 1.1ms postprocess per image at shape (1, 3, 640, 544)\n",
            "\n",
            "image 1/1 /content/drive/MyDrive/data_object_detection_yolo/images/test/IMG0003545.jpg: 640x544 (no detections), 16.5ms\n",
            "Speed: 2.1ms preprocess, 16.5ms inference, 0.5ms postprocess per image at shape (1, 3, 640, 544)\n"
          ]
        },
        {
          "output_type": "stream",
          "name": "stderr",
          "text": [
            "\r 97%|█████████▋| 59/61 [00:02<00:00, 26.34it/s]"
          ]
        },
        {
          "output_type": "stream",
          "name": "stdout",
          "text": [
            "\n",
            "image 1/1 /content/drive/MyDrive/data_object_detection_yolo/images/test/IMG0003703.jpg: 640x544 1 fractured, 16.1ms\n",
            "Speed: 3.1ms preprocess, 16.1ms inference, 1.1ms postprocess per image at shape (1, 3, 640, 544)\n",
            "\n",
            "image 1/1 /content/drive/MyDrive/data_object_detection_yolo/images/test/IMG0003420.jpg: 544x640 1 fractured, 16.3ms\n",
            "Speed: 2.2ms preprocess, 16.3ms inference, 1.1ms postprocess per image at shape (1, 3, 544, 640)\n"
          ]
        },
        {
          "output_type": "stream",
          "name": "stderr",
          "text": [
            "\r100%|██████████| 61/61 [00:02<00:00, 21.91it/s]"
          ]
        },
        {
          "output_type": "stream",
          "name": "stdout",
          "text": [
            "Evaluating Model: yolo_v8m_freeze0.pt\n"
          ]
        },
        {
          "output_type": "stream",
          "name": "stderr",
          "text": [
            "\n"
          ]
        },
        {
          "output_type": "stream",
          "name": "stdout",
          "text": [
            "\n",
            "Loading Model: yolo_v8m_freeze10.pt\n"
          ]
        },
        {
          "output_type": "stream",
          "name": "stderr",
          "text": [
            "\r  0%|          | 0/61 [00:00<?, ?it/s]"
          ]
        },
        {
          "output_type": "stream",
          "name": "stdout",
          "text": [
            "\n",
            "image 1/1 /content/drive/MyDrive/data_object_detection_yolo/images/test/IMG0003569.jpg: 640x544 (no detections), 16.9ms\n",
            "Speed: 3.2ms preprocess, 16.9ms inference, 0.5ms postprocess per image at shape (1, 3, 640, 544)\n"
          ]
        },
        {
          "output_type": "stream",
          "name": "stderr",
          "text": [
            "\r  2%|▏         | 1/61 [00:00<00:22,  2.64it/s]"
          ]
        },
        {
          "output_type": "stream",
          "name": "stdout",
          "text": [
            "\n",
            "image 1/1 /content/drive/MyDrive/data_object_detection_yolo/images/test/IMG0003339.jpg: 640x544 1 fractured, 16.1ms\n",
            "Speed: 3.7ms preprocess, 16.1ms inference, 1.4ms postprocess per image at shape (1, 3, 640, 544)\n",
            "\n",
            "image 1/1 /content/drive/MyDrive/data_object_detection_yolo/images/test/IMG0003588.jpg: 640x544 1 fractured, 16.0ms\n",
            "Speed: 2.1ms preprocess, 16.0ms inference, 1.2ms postprocess per image at shape (1, 3, 640, 544)\n",
            "\n",
            "image 1/1 /content/drive/MyDrive/data_object_detection_yolo/images/test/IMG0003671.jpg: 640x544 (no detections), 16.1ms\n",
            "Speed: 2.5ms preprocess, 16.1ms inference, 0.5ms postprocess per image at shape (1, 3, 640, 544)\n"
          ]
        },
        {
          "output_type": "stream",
          "name": "stderr",
          "text": [
            "\r  7%|▋         | 4/61 [00:00<00:05,  9.86it/s]"
          ]
        },
        {
          "output_type": "stream",
          "name": "stdout",
          "text": [
            "\n",
            "image 1/1 /content/drive/MyDrive/data_object_detection_yolo/images/test/IMG0003523.jpg: 640x544 1 fractured, 16.6ms\n",
            "Speed: 6.9ms preprocess, 16.6ms inference, 1.1ms postprocess per image at shape (1, 3, 640, 544)\n",
            "\n",
            "image 1/1 /content/drive/MyDrive/data_object_detection_yolo/images/test/IMG0003620.jpg: 640x544 (no detections), 16.5ms\n",
            "Speed: 3.1ms preprocess, 16.5ms inference, 0.7ms postprocess per image at shape (1, 3, 640, 544)\n",
            "\n",
            "image 1/1 /content/drive/MyDrive/data_object_detection_yolo/images/test/IMG0003342.jpg: 640x544 1 fractured, 17.0ms\n",
            "Speed: 2.2ms preprocess, 17.0ms inference, 1.1ms postprocess per image at shape (1, 3, 640, 544)\n"
          ]
        },
        {
          "output_type": "stream",
          "name": "stderr",
          "text": [
            "\r 11%|█▏        | 7/61 [00:00<00:03, 14.75it/s]"
          ]
        },
        {
          "output_type": "stream",
          "name": "stdout",
          "text": [
            "\n",
            "image 1/1 /content/drive/MyDrive/data_object_detection_yolo/images/test/IMG0003312.jpg: 640x544 (no detections), 16.4ms\n",
            "Speed: 2.1ms preprocess, 16.4ms inference, 0.5ms postprocess per image at shape (1, 3, 640, 544)\n",
            "\n",
            "image 1/1 /content/drive/MyDrive/data_object_detection_yolo/images/test/IMG0003374.jpg: 640x544 1 fractured, 16.2ms\n",
            "Speed: 2.4ms preprocess, 16.2ms inference, 1.1ms postprocess per image at shape (1, 3, 640, 544)\n",
            "\n",
            "image 1/1 /content/drive/MyDrive/data_object_detection_yolo/images/test/IMG0003619.jpg: 640x544 1 fractured, 16.2ms\n",
            "Speed: 2.1ms preprocess, 16.2ms inference, 1.2ms postprocess per image at shape (1, 3, 640, 544)\n"
          ]
        },
        {
          "output_type": "stream",
          "name": "stderr",
          "text": [
            "\r 16%|█▋        | 10/61 [00:00<00:02, 17.84it/s]"
          ]
        },
        {
          "output_type": "stream",
          "name": "stdout",
          "text": [
            "\n",
            "image 1/1 /content/drive/MyDrive/data_object_detection_yolo/images/test/IMG0003587.jpg: 640x544 1 fractured, 16.3ms\n",
            "Speed: 2.1ms preprocess, 16.3ms inference, 1.1ms postprocess per image at shape (1, 3, 640, 544)\n",
            "\n",
            "image 1/1 /content/drive/MyDrive/data_object_detection_yolo/images/test/IMG0003311.jpg: 640x544 1 fractured, 16.2ms\n",
            "Speed: 2.1ms preprocess, 16.2ms inference, 1.1ms postprocess per image at shape (1, 3, 640, 544)\n",
            "\n",
            "image 1/1 /content/drive/MyDrive/data_object_detection_yolo/images/test/IMG0003297.jpg: 640x544 2 fractureds, 16.2ms\n",
            "Speed: 2.1ms preprocess, 16.2ms inference, 1.1ms postprocess per image at shape (1, 3, 640, 544)\n"
          ]
        },
        {
          "output_type": "stream",
          "name": "stderr",
          "text": [
            "\r 21%|██▏       | 13/61 [00:00<00:02, 20.80it/s]"
          ]
        },
        {
          "output_type": "stream",
          "name": "stdout",
          "text": [
            "\n",
            "image 1/1 /content/drive/MyDrive/data_object_detection_yolo/images/test/IMG0003397.jpg: 640x544 1 fractured, 16.8ms\n",
            "Speed: 2.2ms preprocess, 16.8ms inference, 1.2ms postprocess per image at shape (1, 3, 640, 544)\n",
            "\n",
            "image 1/1 /content/drive/MyDrive/data_object_detection_yolo/images/test/IMG0003686.jpg: 640x544 1 fractured, 16.8ms\n",
            "Speed: 3.4ms preprocess, 16.8ms inference, 1.1ms postprocess per image at shape (1, 3, 640, 544)\n",
            "\n",
            "image 1/1 /content/drive/MyDrive/data_object_detection_yolo/images/test/IMG0003381.jpg: 640x544 1 fractured, 16.2ms\n",
            "Speed: 2.1ms preprocess, 16.2ms inference, 1.2ms postprocess per image at shape (1, 3, 640, 544)\n"
          ]
        },
        {
          "output_type": "stream",
          "name": "stderr",
          "text": [
            "\r 26%|██▌       | 16/61 [00:00<00:01, 22.77it/s]"
          ]
        },
        {
          "output_type": "stream",
          "name": "stdout",
          "text": [
            "\n",
            "image 1/1 /content/drive/MyDrive/data_object_detection_yolo/images/test/IMG0003509.jpg: 640x544 2 fractureds, 16.3ms\n",
            "Speed: 3.3ms preprocess, 16.3ms inference, 1.1ms postprocess per image at shape (1, 3, 640, 544)\n",
            "\n",
            "image 1/1 /content/drive/MyDrive/data_object_detection_yolo/images/test/IMG0003712.jpg: 640x544 1 fractured, 17.5ms\n",
            "Speed: 3.2ms preprocess, 17.5ms inference, 1.1ms postprocess per image at shape (1, 3, 640, 544)\n",
            "\n",
            "image 1/1 /content/drive/MyDrive/data_object_detection_yolo/images/test/IMG0003419.jpg: 640x544 1 fractured, 16.6ms\n",
            "Speed: 2.3ms preprocess, 16.6ms inference, 1.4ms postprocess per image at shape (1, 3, 640, 544)\n"
          ]
        },
        {
          "output_type": "stream",
          "name": "stderr",
          "text": [
            "\r 31%|███       | 19/61 [00:01<00:01, 23.94it/s]"
          ]
        },
        {
          "output_type": "stream",
          "name": "stdout",
          "text": [
            "\n",
            "image 1/1 /content/drive/MyDrive/data_object_detection_yolo/images/test/IMG0003519.jpg: 640x544 1 fractured, 16.9ms\n",
            "Speed: 2.7ms preprocess, 16.9ms inference, 1.5ms postprocess per image at shape (1, 3, 640, 544)\n",
            "\n",
            "image 1/1 /content/drive/MyDrive/data_object_detection_yolo/images/test/IMG0003586.jpg: 640x544 2 fractureds, 16.3ms\n",
            "Speed: 3.5ms preprocess, 16.3ms inference, 1.4ms postprocess per image at shape (1, 3, 640, 544)\n",
            "\n",
            "image 1/1 /content/drive/MyDrive/data_object_detection_yolo/images/test/IMG0003466.jpg: 640x544 1 fractured, 16.4ms\n",
            "Speed: 3.0ms preprocess, 16.4ms inference, 1.5ms postprocess per image at shape (1, 3, 640, 544)\n"
          ]
        },
        {
          "output_type": "stream",
          "name": "stderr",
          "text": [
            "\r 36%|███▌      | 22/61 [00:01<00:01, 24.49it/s]"
          ]
        },
        {
          "output_type": "stream",
          "name": "stdout",
          "text": [
            "\n",
            "image 1/1 /content/drive/MyDrive/data_object_detection_yolo/images/test/IMG0003589.jpg: 640x544 1 fractured, 16.2ms\n",
            "Speed: 2.5ms preprocess, 16.2ms inference, 1.5ms postprocess per image at shape (1, 3, 640, 544)\n",
            "\n",
            "image 1/1 /content/drive/MyDrive/data_object_detection_yolo/images/test/IMG0003331.jpg: 640x544 (no detections), 16.0ms\n",
            "Speed: 2.6ms preprocess, 16.0ms inference, 0.6ms postprocess per image at shape (1, 3, 640, 544)\n",
            "\n",
            "image 1/1 /content/drive/MyDrive/data_object_detection_yolo/images/test/IMG0003313.jpg: 640x544 1 fractured, 16.0ms\n",
            "Speed: 2.5ms preprocess, 16.0ms inference, 1.4ms postprocess per image at shape (1, 3, 640, 544)\n"
          ]
        },
        {
          "output_type": "stream",
          "name": "stderr",
          "text": [
            "\r 41%|████      | 25/61 [00:01<00:01, 24.95it/s]"
          ]
        },
        {
          "output_type": "stream",
          "name": "stdout",
          "text": [
            "\n",
            "image 1/1 /content/drive/MyDrive/data_object_detection_yolo/images/test/IMG0003625.jpg: 640x544 1 fractured, 16.2ms\n",
            "Speed: 2.6ms preprocess, 16.2ms inference, 1.5ms postprocess per image at shape (1, 3, 640, 544)\n",
            "\n",
            "image 1/1 /content/drive/MyDrive/data_object_detection_yolo/images/test/IMG0003301.jpg: 640x544 (no detections), 16.2ms\n",
            "Speed: 2.5ms preprocess, 16.2ms inference, 0.8ms postprocess per image at shape (1, 3, 640, 544)\n",
            "\n",
            "image 1/1 /content/drive/MyDrive/data_object_detection_yolo/images/test/IMG0003704.jpg: 640x544 (no detections), 16.3ms\n",
            "Speed: 4.0ms preprocess, 16.3ms inference, 0.5ms postprocess per image at shape (1, 3, 640, 544)\n"
          ]
        },
        {
          "output_type": "stream",
          "name": "stderr",
          "text": [
            "\r 46%|████▌     | 28/61 [00:01<00:01, 25.10it/s]"
          ]
        },
        {
          "output_type": "stream",
          "name": "stdout",
          "text": [
            "\n",
            "image 1/1 /content/drive/MyDrive/data_object_detection_yolo/images/test/IMG0003398.jpg: 640x544 1 fractured, 16.2ms\n",
            "Speed: 3.8ms preprocess, 16.2ms inference, 1.6ms postprocess per image at shape (1, 3, 640, 544)\n",
            "\n",
            "image 1/1 /content/drive/MyDrive/data_object_detection_yolo/images/test/IMG0003626.jpg: 640x544 1 fractured, 16.2ms\n",
            "Speed: 3.0ms preprocess, 16.2ms inference, 1.4ms postprocess per image at shape (1, 3, 640, 544)\n",
            "\n",
            "image 1/1 /content/drive/MyDrive/data_object_detection_yolo/images/test/IMG0003458.jpg: 640x544 1 fractured, 18.8ms\n",
            "Speed: 2.6ms preprocess, 18.8ms inference, 2.7ms postprocess per image at shape (1, 3, 640, 544)\n"
          ]
        },
        {
          "output_type": "stream",
          "name": "stderr",
          "text": [
            "\r 51%|█████     | 31/61 [00:01<00:01, 24.00it/s]"
          ]
        },
        {
          "output_type": "stream",
          "name": "stdout",
          "text": [
            "\n",
            "image 1/1 /content/drive/MyDrive/data_object_detection_yolo/images/test/IMG0003459.jpg: 640x544 1 fractured, 16.7ms\n",
            "Speed: 2.8ms preprocess, 16.7ms inference, 1.3ms postprocess per image at shape (1, 3, 640, 544)\n",
            "\n",
            "image 1/1 /content/drive/MyDrive/data_object_detection_yolo/images/test/IMG0003310.jpg: 640x544 (no detections), 16.6ms\n",
            "Speed: 2.5ms preprocess, 16.6ms inference, 0.7ms postprocess per image at shape (1, 3, 640, 544)\n",
            "\n",
            "image 1/1 /content/drive/MyDrive/data_object_detection_yolo/images/test/IMG0003399.jpg: 640x544 2 fractureds, 16.6ms\n",
            "Speed: 2.1ms preprocess, 16.6ms inference, 1.1ms postprocess per image at shape (1, 3, 640, 544)\n"
          ]
        },
        {
          "output_type": "stream",
          "name": "stderr",
          "text": [
            "\r 56%|█████▌    | 34/61 [00:01<00:01, 24.46it/s]"
          ]
        },
        {
          "output_type": "stream",
          "name": "stdout",
          "text": [
            "\n",
            "image 1/1 /content/drive/MyDrive/data_object_detection_yolo/images/test/IMG0003373.jpg: 640x544 (no detections), 16.9ms\n",
            "Speed: 2.1ms preprocess, 16.9ms inference, 0.5ms postprocess per image at shape (1, 3, 640, 544)\n",
            "\n",
            "image 1/1 /content/drive/MyDrive/data_object_detection_yolo/images/test/IMG0003382.jpg: 640x544 1 fractured, 16.5ms\n",
            "Speed: 2.1ms preprocess, 16.5ms inference, 1.1ms postprocess per image at shape (1, 3, 640, 544)\n",
            "\n",
            "image 1/1 /content/drive/MyDrive/data_object_detection_yolo/images/test/IMG0003564.jpg: 640x544 1 fractured, 16.3ms\n",
            "Speed: 2.1ms preprocess, 16.3ms inference, 1.1ms postprocess per image at shape (1, 3, 640, 544)\n"
          ]
        },
        {
          "output_type": "stream",
          "name": "stderr",
          "text": [
            "\r 61%|██████    | 37/61 [00:01<00:00, 25.36it/s]"
          ]
        },
        {
          "output_type": "stream",
          "name": "stdout",
          "text": [
            "\n",
            "image 1/1 /content/drive/MyDrive/data_object_detection_yolo/images/test/IMG0003309.jpg: 544x640 (no detections), 16.8ms\n",
            "Speed: 2.2ms preprocess, 16.8ms inference, 0.5ms postprocess per image at shape (1, 3, 544, 640)\n",
            "\n",
            "image 1/1 /content/drive/MyDrive/data_object_detection_yolo/images/test/IMG0003394.jpg: 640x544 (no detections), 17.9ms\n",
            "Speed: 2.2ms preprocess, 17.9ms inference, 0.5ms postprocess per image at shape (1, 3, 640, 544)\n",
            "\n",
            "image 1/1 /content/drive/MyDrive/data_object_detection_yolo/images/test/IMG0003628.jpg: 544x640 1 fractured, 16.8ms\n",
            "Speed: 3.2ms preprocess, 16.8ms inference, 1.2ms postprocess per image at shape (1, 3, 544, 640)\n"
          ]
        },
        {
          "output_type": "stream",
          "name": "stderr",
          "text": [
            "\r 66%|██████▌   | 40/61 [00:01<00:00, 25.83it/s]"
          ]
        },
        {
          "output_type": "stream",
          "name": "stdout",
          "text": [
            "\n",
            "image 1/1 /content/drive/MyDrive/data_object_detection_yolo/images/test/IMG0003341.jpg: 544x640 1 fractured, 15.8ms\n",
            "Speed: 2.3ms preprocess, 15.8ms inference, 1.5ms postprocess per image at shape (1, 3, 544, 640)\n",
            "\n",
            "image 1/1 /content/drive/MyDrive/data_object_detection_yolo/images/test/IMG0003332.jpg: 640x544 (no detections), 16.9ms\n",
            "Speed: 2.2ms preprocess, 16.9ms inference, 0.5ms postprocess per image at shape (1, 3, 640, 544)\n",
            "\n",
            "image 1/1 /content/drive/MyDrive/data_object_detection_yolo/images/test/IMG0003713.jpg: 640x544 1 fractured, 16.2ms\n",
            "Speed: 2.2ms preprocess, 16.2ms inference, 1.2ms postprocess per image at shape (1, 3, 640, 544)\n"
          ]
        },
        {
          "output_type": "stream",
          "name": "stderr",
          "text": [
            "\r 70%|███████   | 43/61 [00:01<00:00, 26.23it/s]"
          ]
        },
        {
          "output_type": "stream",
          "name": "stdout",
          "text": [
            "\n",
            "image 1/1 /content/drive/MyDrive/data_object_detection_yolo/images/test/IMG0003477.jpg: 640x544 1 fractured, 16.4ms\n",
            "Speed: 2.2ms preprocess, 16.4ms inference, 1.2ms postprocess per image at shape (1, 3, 640, 544)\n",
            "\n",
            "image 1/1 /content/drive/MyDrive/data_object_detection_yolo/images/test/IMG0003298.jpg: 640x544 (no detections), 16.8ms\n",
            "Speed: 2.1ms preprocess, 16.8ms inference, 0.5ms postprocess per image at shape (1, 3, 640, 544)\n",
            "\n",
            "image 1/1 /content/drive/MyDrive/data_object_detection_yolo/images/test/IMG0003383.jpg: 640x544 1 fractured, 16.9ms\n",
            "Speed: 2.6ms preprocess, 16.9ms inference, 1.4ms postprocess per image at shape (1, 3, 640, 544)\n"
          ]
        },
        {
          "output_type": "stream",
          "name": "stderr",
          "text": [
            "\r 75%|███████▌  | 46/61 [00:02<00:00, 26.54it/s]"
          ]
        },
        {
          "output_type": "stream",
          "name": "stdout",
          "text": [
            "\n",
            "image 1/1 /content/drive/MyDrive/data_object_detection_yolo/images/test/IMG0003565.jpg: 640x544 1 fractured, 16.2ms\n",
            "Speed: 3.5ms preprocess, 16.2ms inference, 1.5ms postprocess per image at shape (1, 3, 640, 544)\n",
            "\n",
            "image 1/1 /content/drive/MyDrive/data_object_detection_yolo/images/test/IMG0003467.jpg: 640x544 (no detections), 16.1ms\n",
            "Speed: 3.3ms preprocess, 16.1ms inference, 0.6ms postprocess per image at shape (1, 3, 640, 544)\n",
            "\n",
            "image 1/1 /content/drive/MyDrive/data_object_detection_yolo/images/test/IMG0003396.jpg: 640x544 1 fractured, 16.0ms\n",
            "Speed: 3.3ms preprocess, 16.0ms inference, 1.6ms postprocess per image at shape (1, 3, 640, 544)\n"
          ]
        },
        {
          "output_type": "stream",
          "name": "stderr",
          "text": [
            "\r 80%|████████  | 49/61 [00:02<00:00, 26.00it/s]"
          ]
        },
        {
          "output_type": "stream",
          "name": "stdout",
          "text": [
            "\n",
            "image 1/1 /content/drive/MyDrive/data_object_detection_yolo/images/test/IMG0003685.jpg: 640x544 1 fractured, 15.9ms\n",
            "Speed: 2.8ms preprocess, 15.9ms inference, 1.6ms postprocess per image at shape (1, 3, 640, 544)\n",
            "\n",
            "image 1/1 /content/drive/MyDrive/data_object_detection_yolo/images/test/IMG0003524.jpg: 640x544 (no detections), 15.9ms\n",
            "Speed: 2.5ms preprocess, 15.9ms inference, 0.6ms postprocess per image at shape (1, 3, 640, 544)\n",
            "\n",
            "image 1/1 /content/drive/MyDrive/data_object_detection_yolo/images/test/IMG0003520.jpg: 640x544 2 fractureds, 16.3ms\n",
            "Speed: 2.7ms preprocess, 16.3ms inference, 1.5ms postprocess per image at shape (1, 3, 640, 544)\n"
          ]
        },
        {
          "output_type": "stream",
          "name": "stderr",
          "text": [
            "\r 85%|████████▌ | 52/61 [00:02<00:00, 25.15it/s]"
          ]
        },
        {
          "output_type": "stream",
          "name": "stdout",
          "text": [
            "\n",
            "image 1/1 /content/drive/MyDrive/data_object_detection_yolo/images/test/IMG0003395.jpg: 640x544 (no detections), 16.8ms\n",
            "Speed: 3.7ms preprocess, 16.8ms inference, 0.6ms postprocess per image at shape (1, 3, 640, 544)\n",
            "\n",
            "image 1/1 /content/drive/MyDrive/data_object_detection_yolo/images/test/IMG0003338.jpg: 640x544 3 fractureds, 17.1ms\n",
            "Speed: 2.2ms preprocess, 17.1ms inference, 1.2ms postprocess per image at shape (1, 3, 640, 544)\n",
            "\n",
            "image 1/1 /content/drive/MyDrive/data_object_detection_yolo/images/test/IMG0003510.jpg: 640x544 1 fractured, 16.5ms\n",
            "Speed: 2.1ms preprocess, 16.5ms inference, 1.1ms postprocess per image at shape (1, 3, 640, 544)\n"
          ]
        },
        {
          "output_type": "stream",
          "name": "stderr",
          "text": [
            "\r 90%|█████████ | 55/61 [00:02<00:00, 25.67it/s]"
          ]
        },
        {
          "output_type": "stream",
          "name": "stdout",
          "text": [
            "\n",
            "image 1/1 /content/drive/MyDrive/data_object_detection_yolo/images/test/IMG0003308.jpg: 640x544 1 fractured, 16.2ms\n",
            "Speed: 2.3ms preprocess, 16.2ms inference, 1.3ms postprocess per image at shape (1, 3, 640, 544)\n",
            "\n",
            "image 1/1 /content/drive/MyDrive/data_object_detection_yolo/images/test/IMG0003653.jpg: 640x544 (no detections), 16.2ms\n",
            "Speed: 2.1ms preprocess, 16.2ms inference, 0.5ms postprocess per image at shape (1, 3, 640, 544)\n",
            "\n",
            "image 1/1 /content/drive/MyDrive/data_object_detection_yolo/images/test/IMG0003654.jpg: 640x544 1 fractured, 17.2ms\n",
            "Speed: 4.4ms preprocess, 17.2ms inference, 1.8ms postprocess per image at shape (1, 3, 640, 544)\n"
          ]
        },
        {
          "output_type": "stream",
          "name": "stderr",
          "text": [
            "\r 95%|█████████▌| 58/61 [00:02<00:00, 26.49it/s]"
          ]
        },
        {
          "output_type": "stream",
          "name": "stdout",
          "text": [
            "\n",
            "image 1/1 /content/drive/MyDrive/data_object_detection_yolo/images/test/IMG0003545.jpg: 640x544 (no detections), 16.3ms\n",
            "Speed: 2.9ms preprocess, 16.3ms inference, 0.5ms postprocess per image at shape (1, 3, 640, 544)\n",
            "\n",
            "image 1/1 /content/drive/MyDrive/data_object_detection_yolo/images/test/IMG0003703.jpg: 640x544 1 fractured, 16.0ms\n",
            "Speed: 2.3ms preprocess, 16.0ms inference, 1.4ms postprocess per image at shape (1, 3, 640, 544)\n",
            "\n",
            "image 1/1 /content/drive/MyDrive/data_object_detection_yolo/images/test/IMG0003420.jpg: 544x640 1 fractured, 17.0ms\n",
            "Speed: 2.4ms preprocess, 17.0ms inference, 1.1ms postprocess per image at shape (1, 3, 544, 640)\n"
          ]
        },
        {
          "output_type": "stream",
          "name": "stderr",
          "text": [
            "100%|██████████| 61/61 [00:02<00:00, 22.78it/s]"
          ]
        },
        {
          "output_type": "stream",
          "name": "stdout",
          "text": [
            "Evaluating Model: yolo_v8m_freeze10.pt\n",
            "\n",
            "Loading Model: yolo_v8m_freezeall.pt\n"
          ]
        },
        {
          "output_type": "stream",
          "name": "stderr",
          "text": [
            "\n",
            "  0%|          | 0/61 [00:00<?, ?it/s]"
          ]
        },
        {
          "output_type": "stream",
          "name": "stdout",
          "text": [
            "\n",
            "image 1/1 /content/drive/MyDrive/data_object_detection_yolo/images/test/IMG0003569.jpg: 640x544 (no detections), 18.9ms\n",
            "Speed: 2.9ms preprocess, 18.9ms inference, 0.7ms postprocess per image at shape (1, 3, 640, 544)\n"
          ]
        },
        {
          "output_type": "stream",
          "name": "stderr",
          "text": [
            "\r  2%|▏         | 1/61 [00:00<00:22,  2.69it/s]"
          ]
        },
        {
          "output_type": "stream",
          "name": "stdout",
          "text": [
            "\n",
            "image 1/1 /content/drive/MyDrive/data_object_detection_yolo/images/test/IMG0003339.jpg: 640x544 1 fractured, 16.7ms\n",
            "Speed: 2.7ms preprocess, 16.7ms inference, 1.3ms postprocess per image at shape (1, 3, 640, 544)\n",
            "\n",
            "image 1/1 /content/drive/MyDrive/data_object_detection_yolo/images/test/IMG0003588.jpg: 640x544 2 fractureds, 16.4ms\n",
            "Speed: 2.1ms preprocess, 16.4ms inference, 1.2ms postprocess per image at shape (1, 3, 640, 544)\n",
            "\n",
            "image 1/1 /content/drive/MyDrive/data_object_detection_yolo/images/test/IMG0003671.jpg: 640x544 (no detections), 16.4ms\n",
            "Speed: 2.2ms preprocess, 16.4ms inference, 0.5ms postprocess per image at shape (1, 3, 640, 544)\n"
          ]
        },
        {
          "output_type": "stream",
          "name": "stderr",
          "text": [
            "\r  7%|▋         | 4/61 [00:00<00:05,  9.90it/s]"
          ]
        },
        {
          "output_type": "stream",
          "name": "stdout",
          "text": [
            "\n",
            "image 1/1 /content/drive/MyDrive/data_object_detection_yolo/images/test/IMG0003523.jpg: 640x544 1 fractured, 17.0ms\n",
            "Speed: 2.1ms preprocess, 17.0ms inference, 1.2ms postprocess per image at shape (1, 3, 640, 544)\n",
            "\n",
            "image 1/1 /content/drive/MyDrive/data_object_detection_yolo/images/test/IMG0003620.jpg: 640x544 (no detections), 16.6ms\n",
            "Speed: 2.4ms preprocess, 16.6ms inference, 0.5ms postprocess per image at shape (1, 3, 640, 544)\n",
            "\n",
            "image 1/1 /content/drive/MyDrive/data_object_detection_yolo/images/test/IMG0003342.jpg: 640x544 1 fractured, 16.4ms\n",
            "Speed: 3.5ms preprocess, 16.4ms inference, 1.2ms postprocess per image at shape (1, 3, 640, 544)\n"
          ]
        },
        {
          "output_type": "stream",
          "name": "stderr",
          "text": [
            "\r 11%|█▏        | 7/61 [00:00<00:03, 15.05it/s]"
          ]
        },
        {
          "output_type": "stream",
          "name": "stdout",
          "text": [
            "\n",
            "image 1/1 /content/drive/MyDrive/data_object_detection_yolo/images/test/IMG0003312.jpg: 640x544 1 fractured, 16.4ms\n",
            "Speed: 2.3ms preprocess, 16.4ms inference, 1.2ms postprocess per image at shape (1, 3, 640, 544)\n",
            "\n",
            "image 1/1 /content/drive/MyDrive/data_object_detection_yolo/images/test/IMG0003374.jpg: 640x544 (no detections), 16.5ms\n",
            "Speed: 2.2ms preprocess, 16.5ms inference, 0.5ms postprocess per image at shape (1, 3, 640, 544)\n",
            "\n",
            "image 1/1 /content/drive/MyDrive/data_object_detection_yolo/images/test/IMG0003619.jpg: 640x544 1 fractured, 16.5ms\n",
            "Speed: 2.2ms preprocess, 16.5ms inference, 1.2ms postprocess per image at shape (1, 3, 640, 544)\n"
          ]
        },
        {
          "output_type": "stream",
          "name": "stderr",
          "text": [
            "\r 16%|█▋        | 10/61 [00:00<00:02, 17.93it/s]"
          ]
        },
        {
          "output_type": "stream",
          "name": "stdout",
          "text": [
            "\n",
            "image 1/1 /content/drive/MyDrive/data_object_detection_yolo/images/test/IMG0003587.jpg: 640x544 1 fractured, 16.1ms\n",
            "Speed: 3.6ms preprocess, 16.1ms inference, 1.4ms postprocess per image at shape (1, 3, 640, 544)\n",
            "\n",
            "image 1/1 /content/drive/MyDrive/data_object_detection_yolo/images/test/IMG0003311.jpg: 640x544 2 fractureds, 16.0ms\n",
            "Speed: 2.2ms preprocess, 16.0ms inference, 1.3ms postprocess per image at shape (1, 3, 640, 544)\n",
            "\n",
            "image 1/1 /content/drive/MyDrive/data_object_detection_yolo/images/test/IMG0003297.jpg: 640x544 1 fractured, 15.9ms\n",
            "Speed: 3.4ms preprocess, 15.9ms inference, 1.2ms postprocess per image at shape (1, 3, 640, 544)\n"
          ]
        },
        {
          "output_type": "stream",
          "name": "stderr",
          "text": [
            "\r 21%|██▏       | 13/61 [00:00<00:02, 20.52it/s]"
          ]
        },
        {
          "output_type": "stream",
          "name": "stdout",
          "text": [
            "\n",
            "image 1/1 /content/drive/MyDrive/data_object_detection_yolo/images/test/IMG0003397.jpg: 640x544 1 fractured, 16.6ms\n",
            "Speed: 2.1ms preprocess, 16.6ms inference, 1.2ms postprocess per image at shape (1, 3, 640, 544)\n",
            "\n",
            "image 1/1 /content/drive/MyDrive/data_object_detection_yolo/images/test/IMG0003686.jpg: 640x544 1 fractured, 16.5ms\n",
            "Speed: 2.1ms preprocess, 16.5ms inference, 1.2ms postprocess per image at shape (1, 3, 640, 544)\n",
            "\n",
            "image 1/1 /content/drive/MyDrive/data_object_detection_yolo/images/test/IMG0003381.jpg: 640x544 1 fractured, 16.2ms\n",
            "Speed: 2.2ms preprocess, 16.2ms inference, 1.2ms postprocess per image at shape (1, 3, 640, 544)\n"
          ]
        },
        {
          "output_type": "stream",
          "name": "stderr",
          "text": [
            "\r 26%|██▌       | 16/61 [00:00<00:01, 22.60it/s]"
          ]
        },
        {
          "output_type": "stream",
          "name": "stdout",
          "text": [
            "\n",
            "image 1/1 /content/drive/MyDrive/data_object_detection_yolo/images/test/IMG0003509.jpg: 640x544 2 fractureds, 16.0ms\n",
            "Speed: 2.2ms preprocess, 16.0ms inference, 1.2ms postprocess per image at shape (1, 3, 640, 544)\n",
            "\n",
            "image 1/1 /content/drive/MyDrive/data_object_detection_yolo/images/test/IMG0003712.jpg: 640x544 1 fractured, 16.2ms\n",
            "Speed: 2.2ms preprocess, 16.2ms inference, 1.2ms postprocess per image at shape (1, 3, 640, 544)\n",
            "\n",
            "image 1/1 /content/drive/MyDrive/data_object_detection_yolo/images/test/IMG0003419.jpg: 640x544 1 fractured, 16.7ms\n",
            "Speed: 4.2ms preprocess, 16.7ms inference, 1.1ms postprocess per image at shape (1, 3, 640, 544)\n"
          ]
        },
        {
          "output_type": "stream",
          "name": "stderr",
          "text": [
            "\r 31%|███       | 19/61 [00:01<00:01, 23.65it/s]"
          ]
        },
        {
          "output_type": "stream",
          "name": "stdout",
          "text": [
            "\n",
            "image 1/1 /content/drive/MyDrive/data_object_detection_yolo/images/test/IMG0003519.jpg: 640x544 1 fractured, 16.4ms\n",
            "Speed: 2.2ms preprocess, 16.4ms inference, 1.1ms postprocess per image at shape (1, 3, 640, 544)\n",
            "\n",
            "image 1/1 /content/drive/MyDrive/data_object_detection_yolo/images/test/IMG0003586.jpg: 640x544 2 fractureds, 16.9ms\n",
            "Speed: 2.1ms preprocess, 16.9ms inference, 1.1ms postprocess per image at shape (1, 3, 640, 544)\n",
            "\n",
            "image 1/1 /content/drive/MyDrive/data_object_detection_yolo/images/test/IMG0003466.jpg: 640x544 1 fractured, 16.4ms\n",
            "Speed: 2.2ms preprocess, 16.4ms inference, 1.1ms postprocess per image at shape (1, 3, 640, 544)\n"
          ]
        },
        {
          "output_type": "stream",
          "name": "stderr",
          "text": [
            "\r 36%|███▌      | 22/61 [00:01<00:01, 24.90it/s]"
          ]
        },
        {
          "output_type": "stream",
          "name": "stdout",
          "text": [
            "\n",
            "image 1/1 /content/drive/MyDrive/data_object_detection_yolo/images/test/IMG0003589.jpg: 640x544 2 fractureds, 16.2ms\n",
            "Speed: 2.1ms preprocess, 16.2ms inference, 1.1ms postprocess per image at shape (1, 3, 640, 544)\n",
            "\n",
            "image 1/1 /content/drive/MyDrive/data_object_detection_yolo/images/test/IMG0003331.jpg: 640x544 1 fractured, 16.4ms\n",
            "Speed: 2.3ms preprocess, 16.4ms inference, 1.5ms postprocess per image at shape (1, 3, 640, 544)\n",
            "\n",
            "image 1/1 /content/drive/MyDrive/data_object_detection_yolo/images/test/IMG0003313.jpg: 640x544 (no detections), 16.5ms\n",
            "Speed: 2.5ms preprocess, 16.5ms inference, 0.6ms postprocess per image at shape (1, 3, 640, 544)\n"
          ]
        },
        {
          "output_type": "stream",
          "name": "stderr",
          "text": [
            "\r 41%|████      | 25/61 [00:01<00:01, 25.56it/s]"
          ]
        },
        {
          "output_type": "stream",
          "name": "stdout",
          "text": [
            "\n",
            "image 1/1 /content/drive/MyDrive/data_object_detection_yolo/images/test/IMG0003625.jpg: 640x544 1 fractured, 16.8ms\n",
            "Speed: 3.2ms preprocess, 16.8ms inference, 1.5ms postprocess per image at shape (1, 3, 640, 544)\n",
            "\n",
            "image 1/1 /content/drive/MyDrive/data_object_detection_yolo/images/test/IMG0003301.jpg: 640x544 (no detections), 16.5ms\n",
            "Speed: 3.2ms preprocess, 16.5ms inference, 0.7ms postprocess per image at shape (1, 3, 640, 544)\n",
            "\n",
            "image 1/1 /content/drive/MyDrive/data_object_detection_yolo/images/test/IMG0003704.jpg: 640x544 (no detections), 16.5ms\n",
            "Speed: 2.4ms preprocess, 16.5ms inference, 0.8ms postprocess per image at shape (1, 3, 640, 544)\n"
          ]
        },
        {
          "output_type": "stream",
          "name": "stderr",
          "text": [
            "\r 46%|████▌     | 28/61 [00:01<00:01, 25.81it/s]"
          ]
        },
        {
          "output_type": "stream",
          "name": "stdout",
          "text": [
            "\n",
            "image 1/1 /content/drive/MyDrive/data_object_detection_yolo/images/test/IMG0003398.jpg: 640x544 1 fractured, 16.0ms\n",
            "Speed: 2.6ms preprocess, 16.0ms inference, 1.6ms postprocess per image at shape (1, 3, 640, 544)\n",
            "\n",
            "image 1/1 /content/drive/MyDrive/data_object_detection_yolo/images/test/IMG0003626.jpg: 640x544 1 fractured, 16.0ms\n",
            "Speed: 3.5ms preprocess, 16.0ms inference, 1.6ms postprocess per image at shape (1, 3, 640, 544)\n",
            "\n",
            "image 1/1 /content/drive/MyDrive/data_object_detection_yolo/images/test/IMG0003458.jpg: 640x544 1 fractured, 16.1ms\n",
            "Speed: 2.7ms preprocess, 16.1ms inference, 1.9ms postprocess per image at shape (1, 3, 640, 544)\n"
          ]
        },
        {
          "output_type": "stream",
          "name": "stderr",
          "text": [
            "\r 51%|█████     | 31/61 [00:01<00:01, 24.45it/s]"
          ]
        },
        {
          "output_type": "stream",
          "name": "stdout",
          "text": [
            "\n",
            "image 1/1 /content/drive/MyDrive/data_object_detection_yolo/images/test/IMG0003459.jpg: 640x544 2 fractureds, 16.1ms\n",
            "Speed: 2.7ms preprocess, 16.1ms inference, 1.6ms postprocess per image at shape (1, 3, 640, 544)\n",
            "\n",
            "image 1/1 /content/drive/MyDrive/data_object_detection_yolo/images/test/IMG0003310.jpg: 640x544 (no detections), 16.1ms\n",
            "Speed: 3.6ms preprocess, 16.1ms inference, 0.7ms postprocess per image at shape (1, 3, 640, 544)\n",
            "\n",
            "image 1/1 /content/drive/MyDrive/data_object_detection_yolo/images/test/IMG0003399.jpg: 640x544 1 fractured, 16.4ms\n",
            "Speed: 3.1ms preprocess, 16.4ms inference, 2.6ms postprocess per image at shape (1, 3, 640, 544)\n"
          ]
        },
        {
          "output_type": "stream",
          "name": "stderr",
          "text": [
            "\r 56%|█████▌    | 34/61 [00:01<00:01, 24.84it/s]"
          ]
        },
        {
          "output_type": "stream",
          "name": "stdout",
          "text": [
            "\n",
            "image 1/1 /content/drive/MyDrive/data_object_detection_yolo/images/test/IMG0003373.jpg: 640x544 (no detections), 16.7ms\n",
            "Speed: 2.9ms preprocess, 16.7ms inference, 0.8ms postprocess per image at shape (1, 3, 640, 544)\n",
            "\n",
            "image 1/1 /content/drive/MyDrive/data_object_detection_yolo/images/test/IMG0003382.jpg: 640x544 2 fractureds, 16.9ms\n",
            "Speed: 2.6ms preprocess, 16.9ms inference, 1.5ms postprocess per image at shape (1, 3, 640, 544)\n",
            "\n",
            "image 1/1 /content/drive/MyDrive/data_object_detection_yolo/images/test/IMG0003564.jpg: 640x544 1 fractured, 16.5ms\n",
            "Speed: 2.5ms preprocess, 16.5ms inference, 1.6ms postprocess per image at shape (1, 3, 640, 544)\n"
          ]
        },
        {
          "output_type": "stream",
          "name": "stderr",
          "text": [
            "\r 61%|██████    | 37/61 [00:01<00:00, 25.32it/s]"
          ]
        },
        {
          "output_type": "stream",
          "name": "stdout",
          "text": [
            "\n",
            "image 1/1 /content/drive/MyDrive/data_object_detection_yolo/images/test/IMG0003309.jpg: 544x640 (no detections), 17.5ms\n",
            "Speed: 3.7ms preprocess, 17.5ms inference, 0.8ms postprocess per image at shape (1, 3, 544, 640)\n",
            "\n",
            "image 1/1 /content/drive/MyDrive/data_object_detection_yolo/images/test/IMG0003394.jpg: 640x544 (no detections), 17.3ms\n",
            "Speed: 3.9ms preprocess, 17.3ms inference, 0.8ms postprocess per image at shape (1, 3, 640, 544)\n",
            "\n",
            "image 1/1 /content/drive/MyDrive/data_object_detection_yolo/images/test/IMG0003628.jpg: 544x640 1 fractured, 19.3ms\n",
            "Speed: 5.4ms preprocess, 19.3ms inference, 1.9ms postprocess per image at shape (1, 3, 544, 640)\n"
          ]
        },
        {
          "output_type": "stream",
          "name": "stderr",
          "text": [
            "\r 66%|██████▌   | 40/61 [00:01<00:00, 24.23it/s]"
          ]
        },
        {
          "output_type": "stream",
          "name": "stdout",
          "text": [
            "\n",
            "image 1/1 /content/drive/MyDrive/data_object_detection_yolo/images/test/IMG0003341.jpg: 544x640 1 fractured, 15.8ms\n",
            "Speed: 3.3ms preprocess, 15.8ms inference, 1.7ms postprocess per image at shape (1, 3, 544, 640)\n",
            "\n",
            "image 1/1 /content/drive/MyDrive/data_object_detection_yolo/images/test/IMG0003332.jpg: 640x544 (no detections), 17.4ms\n",
            "Speed: 3.4ms preprocess, 17.4ms inference, 0.7ms postprocess per image at shape (1, 3, 640, 544)\n",
            "\n",
            "image 1/1 /content/drive/MyDrive/data_object_detection_yolo/images/test/IMG0003713.jpg: 640x544 2 fractureds, 16.8ms\n",
            "Speed: 3.4ms preprocess, 16.8ms inference, 1.8ms postprocess per image at shape (1, 3, 640, 544)\n"
          ]
        },
        {
          "output_type": "stream",
          "name": "stderr",
          "text": [
            "\r 70%|███████   | 43/61 [00:02<00:00, 24.75it/s]"
          ]
        },
        {
          "output_type": "stream",
          "name": "stdout",
          "text": [
            "\n",
            "image 1/1 /content/drive/MyDrive/data_object_detection_yolo/images/test/IMG0003477.jpg: 640x544 1 fractured, 17.5ms\n",
            "Speed: 3.3ms preprocess, 17.5ms inference, 1.4ms postprocess per image at shape (1, 3, 640, 544)\n",
            "\n",
            "image 1/1 /content/drive/MyDrive/data_object_detection_yolo/images/test/IMG0003298.jpg: 640x544 (no detections), 17.0ms\n",
            "Speed: 3.2ms preprocess, 17.0ms inference, 0.7ms postprocess per image at shape (1, 3, 640, 544)\n",
            "\n",
            "image 1/1 /content/drive/MyDrive/data_object_detection_yolo/images/test/IMG0003383.jpg: 640x544 1 fractured, 17.6ms\n",
            "Speed: 5.6ms preprocess, 17.6ms inference, 1.8ms postprocess per image at shape (1, 3, 640, 544)\n"
          ]
        },
        {
          "output_type": "stream",
          "name": "stderr",
          "text": [
            "\r 75%|███████▌  | 46/61 [00:02<00:00, 24.29it/s]"
          ]
        },
        {
          "output_type": "stream",
          "name": "stdout",
          "text": [
            "\n",
            "image 1/1 /content/drive/MyDrive/data_object_detection_yolo/images/test/IMG0003565.jpg: 640x544 1 fractured, 16.3ms\n",
            "Speed: 4.2ms preprocess, 16.3ms inference, 1.6ms postprocess per image at shape (1, 3, 640, 544)\n",
            "\n",
            "image 1/1 /content/drive/MyDrive/data_object_detection_yolo/images/test/IMG0003467.jpg: 640x544 (no detections), 16.3ms\n",
            "Speed: 6.3ms preprocess, 16.3ms inference, 1.1ms postprocess per image at shape (1, 3, 640, 544)\n",
            "\n",
            "image 1/1 /content/drive/MyDrive/data_object_detection_yolo/images/test/IMG0003396.jpg: 640x544 1 fractured, 16.3ms\n",
            "Speed: 3.3ms preprocess, 16.3ms inference, 2.4ms postprocess per image at shape (1, 3, 640, 544)\n"
          ]
        },
        {
          "output_type": "stream",
          "name": "stderr",
          "text": [
            "\r 80%|████████  | 49/61 [00:02<00:00, 23.08it/s]"
          ]
        },
        {
          "output_type": "stream",
          "name": "stdout",
          "text": [
            "\n",
            "image 1/1 /content/drive/MyDrive/data_object_detection_yolo/images/test/IMG0003685.jpg: 640x544 1 fractured, 17.9ms\n",
            "Speed: 3.2ms preprocess, 17.9ms inference, 2.0ms postprocess per image at shape (1, 3, 640, 544)\n",
            "\n",
            "image 1/1 /content/drive/MyDrive/data_object_detection_yolo/images/test/IMG0003524.jpg: 640x544 (no detections), 16.4ms\n",
            "Speed: 3.5ms preprocess, 16.4ms inference, 0.7ms postprocess per image at shape (1, 3, 640, 544)\n",
            "\n",
            "image 1/1 /content/drive/MyDrive/data_object_detection_yolo/images/test/IMG0003520.jpg: 640x544 1 fractured, 16.3ms\n",
            "Speed: 4.5ms preprocess, 16.3ms inference, 1.7ms postprocess per image at shape (1, 3, 640, 544)\n"
          ]
        },
        {
          "output_type": "stream",
          "name": "stderr",
          "text": [
            "\r 85%|████████▌ | 52/61 [00:02<00:00, 22.02it/s]"
          ]
        },
        {
          "output_type": "stream",
          "name": "stdout",
          "text": [
            "\n",
            "image 1/1 /content/drive/MyDrive/data_object_detection_yolo/images/test/IMG0003395.jpg: 640x544 (no detections), 16.6ms\n",
            "Speed: 4.4ms preprocess, 16.6ms inference, 0.7ms postprocess per image at shape (1, 3, 640, 544)\n",
            "\n",
            "image 1/1 /content/drive/MyDrive/data_object_detection_yolo/images/test/IMG0003338.jpg: 640x544 (no detections), 16.3ms\n",
            "Speed: 3.2ms preprocess, 16.3ms inference, 0.6ms postprocess per image at shape (1, 3, 640, 544)\n",
            "\n",
            "image 1/1 /content/drive/MyDrive/data_object_detection_yolo/images/test/IMG0003510.jpg: 640x544 2 fractureds, 16.3ms\n",
            "Speed: 3.2ms preprocess, 16.3ms inference, 1.5ms postprocess per image at shape (1, 3, 640, 544)\n"
          ]
        },
        {
          "output_type": "stream",
          "name": "stderr",
          "text": [
            "\r 90%|█████████ | 55/61 [00:02<00:00, 22.54it/s]"
          ]
        },
        {
          "output_type": "stream",
          "name": "stdout",
          "text": [
            "\n",
            "image 1/1 /content/drive/MyDrive/data_object_detection_yolo/images/test/IMG0003308.jpg: 640x544 2 fractureds, 16.3ms\n",
            "Speed: 3.4ms preprocess, 16.3ms inference, 1.4ms postprocess per image at shape (1, 3, 640, 544)\n",
            "\n",
            "image 1/1 /content/drive/MyDrive/data_object_detection_yolo/images/test/IMG0003653.jpg: 640x544 1 fractured, 16.3ms\n",
            "Speed: 3.3ms preprocess, 16.3ms inference, 1.6ms postprocess per image at shape (1, 3, 640, 544)\n",
            "\n",
            "image 1/1 /content/drive/MyDrive/data_object_detection_yolo/images/test/IMG0003654.jpg: 640x544 1 fractured, 16.3ms\n",
            "Speed: 3.6ms preprocess, 16.3ms inference, 1.4ms postprocess per image at shape (1, 3, 640, 544)\n"
          ]
        },
        {
          "output_type": "stream",
          "name": "stderr",
          "text": [
            "\r 95%|█████████▌| 58/61 [00:02<00:00, 22.94it/s]"
          ]
        },
        {
          "output_type": "stream",
          "name": "stdout",
          "text": [
            "\n",
            "image 1/1 /content/drive/MyDrive/data_object_detection_yolo/images/test/IMG0003545.jpg: 640x544 2 fractureds, 16.2ms\n",
            "Speed: 3.4ms preprocess, 16.2ms inference, 1.3ms postprocess per image at shape (1, 3, 640, 544)\n",
            "\n",
            "image 1/1 /content/drive/MyDrive/data_object_detection_yolo/images/test/IMG0003703.jpg: 640x544 1 fractured, 16.2ms\n",
            "Speed: 3.4ms preprocess, 16.2ms inference, 1.4ms postprocess per image at shape (1, 3, 640, 544)\n",
            "\n",
            "image 1/1 /content/drive/MyDrive/data_object_detection_yolo/images/test/IMG0003420.jpg: 544x640 (no detections), 16.6ms\n",
            "Speed: 3.4ms preprocess, 16.6ms inference, 0.6ms postprocess per image at shape (1, 3, 544, 640)\n"
          ]
        },
        {
          "output_type": "stream",
          "name": "stderr",
          "text": [
            "100%|██████████| 61/61 [00:02<00:00, 21.71it/s]"
          ]
        },
        {
          "output_type": "stream",
          "name": "stdout",
          "text": [
            "Evaluating Model: yolo_v8m_freezeall.pt\n",
            "\n",
            "Loading Model: yolo_v8s_freeze10.pt\n"
          ]
        },
        {
          "output_type": "stream",
          "name": "stderr",
          "text": [
            "\n",
            "  0%|          | 0/61 [00:00<?, ?it/s]"
          ]
        },
        {
          "output_type": "stream",
          "name": "stdout",
          "text": [
            "\n",
            "image 1/1 /content/drive/MyDrive/data_object_detection_yolo/images/test/IMG0003569.jpg: 640x544 (no detections), 9.4ms\n",
            "Speed: 4.3ms preprocess, 9.4ms inference, 0.7ms postprocess per image at shape (1, 3, 640, 544)\n"
          ]
        },
        {
          "output_type": "stream",
          "name": "stderr",
          "text": [
            "\r  2%|▏         | 1/61 [00:00<00:17,  3.40it/s]"
          ]
        },
        {
          "output_type": "stream",
          "name": "stdout",
          "text": [
            "\n",
            "image 1/1 /content/drive/MyDrive/data_object_detection_yolo/images/test/IMG0003339.jpg: 640x544 (no detections), 10.7ms\n",
            "Speed: 3.3ms preprocess, 10.7ms inference, 0.7ms postprocess per image at shape (1, 3, 640, 544)\n",
            "\n",
            "image 1/1 /content/drive/MyDrive/data_object_detection_yolo/images/test/IMG0003588.jpg: 640x544 1 fractured, 8.4ms\n",
            "Speed: 3.7ms preprocess, 8.4ms inference, 1.5ms postprocess per image at shape (1, 3, 640, 544)\n",
            "\n",
            "image 1/1 /content/drive/MyDrive/data_object_detection_yolo/images/test/IMG0003671.jpg: 640x544 (no detections), 9.9ms\n",
            "Speed: 3.3ms preprocess, 9.9ms inference, 0.6ms postprocess per image at shape (1, 3, 640, 544)\n"
          ]
        },
        {
          "output_type": "stream",
          "name": "stderr",
          "text": [
            "\r  7%|▋         | 4/61 [00:00<00:04, 11.81it/s]"
          ]
        },
        {
          "output_type": "stream",
          "name": "stdout",
          "text": [
            "\n",
            "image 1/1 /content/drive/MyDrive/data_object_detection_yolo/images/test/IMG0003523.jpg: 640x544 1 fractured, 11.3ms\n",
            "Speed: 3.3ms preprocess, 11.3ms inference, 1.8ms postprocess per image at shape (1, 3, 640, 544)\n",
            "\n",
            "image 1/1 /content/drive/MyDrive/data_object_detection_yolo/images/test/IMG0003620.jpg: 640x544 (no detections), 10.3ms\n",
            "Speed: 4.2ms preprocess, 10.3ms inference, 0.6ms postprocess per image at shape (1, 3, 640, 544)\n",
            "\n",
            "image 1/1 /content/drive/MyDrive/data_object_detection_yolo/images/test/IMG0003342.jpg: 640x544 1 fractured, 8.9ms\n",
            "Speed: 3.4ms preprocess, 8.9ms inference, 1.4ms postprocess per image at shape (1, 3, 640, 544)\n"
          ]
        },
        {
          "output_type": "stream",
          "name": "stderr",
          "text": [
            "\r 11%|█▏        | 7/61 [00:00<00:03, 17.28it/s]"
          ]
        },
        {
          "output_type": "stream",
          "name": "stdout",
          "text": [
            "\n",
            "image 1/1 /content/drive/MyDrive/data_object_detection_yolo/images/test/IMG0003312.jpg: 640x544 (no detections), 8.3ms\n",
            "Speed: 3.5ms preprocess, 8.3ms inference, 0.6ms postprocess per image at shape (1, 3, 640, 544)\n",
            "\n",
            "image 1/1 /content/drive/MyDrive/data_object_detection_yolo/images/test/IMG0003374.jpg: 640x544 (no detections), 9.5ms\n",
            "Speed: 3.5ms preprocess, 9.5ms inference, 0.6ms postprocess per image at shape (1, 3, 640, 544)\n",
            "\n",
            "image 1/1 /content/drive/MyDrive/data_object_detection_yolo/images/test/IMG0003619.jpg: 640x544 (no detections), 9.3ms\n",
            "Speed: 3.5ms preprocess, 9.3ms inference, 0.6ms postprocess per image at shape (1, 3, 640, 544)\n"
          ]
        },
        {
          "output_type": "stream",
          "name": "stderr",
          "text": [
            "\r 16%|█▋        | 10/61 [00:00<00:02, 20.58it/s]"
          ]
        },
        {
          "output_type": "stream",
          "name": "stdout",
          "text": [
            "\n",
            "image 1/1 /content/drive/MyDrive/data_object_detection_yolo/images/test/IMG0003587.jpg: 640x544 2 fractureds, 8.0ms\n",
            "Speed: 3.7ms preprocess, 8.0ms inference, 1.7ms postprocess per image at shape (1, 3, 640, 544)\n",
            "\n",
            "image 1/1 /content/drive/MyDrive/data_object_detection_yolo/images/test/IMG0003311.jpg: 640x544 (no detections), 8.0ms\n",
            "Speed: 3.7ms preprocess, 8.0ms inference, 0.6ms postprocess per image at shape (1, 3, 640, 544)\n",
            "\n",
            "image 1/1 /content/drive/MyDrive/data_object_detection_yolo/images/test/IMG0003297.jpg: 640x544 (no detections), 8.1ms\n",
            "Speed: 5.5ms preprocess, 8.1ms inference, 0.7ms postprocess per image at shape (1, 3, 640, 544)\n",
            "\n",
            "image 1/1 /content/drive/MyDrive/data_object_detection_yolo/images/test/IMG0003397.jpg: 640x544 1 fractured, 7.9ms\n",
            "Speed: 5.4ms preprocess, 7.9ms inference, 1.5ms postprocess per image at shape (1, 3, 640, 544)\n"
          ]
        },
        {
          "output_type": "stream",
          "name": "stderr",
          "text": [
            "\r 23%|██▎       | 14/61 [00:00<00:01, 24.29it/s]"
          ]
        },
        {
          "output_type": "stream",
          "name": "stdout",
          "text": [
            "\n",
            "image 1/1 /content/drive/MyDrive/data_object_detection_yolo/images/test/IMG0003686.jpg: 640x544 1 fractured, 10.9ms\n",
            "Speed: 3.3ms preprocess, 10.9ms inference, 1.7ms postprocess per image at shape (1, 3, 640, 544)\n",
            "\n",
            "image 1/1 /content/drive/MyDrive/data_object_detection_yolo/images/test/IMG0003381.jpg: 640x544 1 fractured, 11.8ms\n",
            "Speed: 4.2ms preprocess, 11.8ms inference, 1.8ms postprocess per image at shape (1, 3, 640, 544)\n",
            "\n",
            "image 1/1 /content/drive/MyDrive/data_object_detection_yolo/images/test/IMG0003509.jpg: 640x544 2 fractureds, 11.8ms\n",
            "Speed: 3.6ms preprocess, 11.8ms inference, 1.6ms postprocess per image at shape (1, 3, 640, 544)\n"
          ]
        },
        {
          "output_type": "stream",
          "name": "stderr",
          "text": [
            "\r 28%|██▊       | 17/61 [00:00<00:01, 24.62it/s]"
          ]
        },
        {
          "output_type": "stream",
          "name": "stdout",
          "text": [
            "\n",
            "image 1/1 /content/drive/MyDrive/data_object_detection_yolo/images/test/IMG0003712.jpg: 640x544 1 fractured, 14.0ms\n",
            "Speed: 4.6ms preprocess, 14.0ms inference, 1.5ms postprocess per image at shape (1, 3, 640, 544)\n",
            "\n",
            "image 1/1 /content/drive/MyDrive/data_object_detection_yolo/images/test/IMG0003419.jpg: 640x544 1 fractured, 11.8ms\n",
            "Speed: 4.6ms preprocess, 11.8ms inference, 2.2ms postprocess per image at shape (1, 3, 640, 544)\n",
            "\n",
            "image 1/1 /content/drive/MyDrive/data_object_detection_yolo/images/test/IMG0003519.jpg: 640x544 1 fractured, 16.8ms\n",
            "Speed: 5.0ms preprocess, 16.8ms inference, 1.3ms postprocess per image at shape (1, 3, 640, 544)\n"
          ]
        },
        {
          "output_type": "stream",
          "name": "stderr",
          "text": [
            "\r 33%|███▎      | 20/61 [00:00<00:01, 24.08it/s]"
          ]
        },
        {
          "output_type": "stream",
          "name": "stdout",
          "text": [
            "\n",
            "image 1/1 /content/drive/MyDrive/data_object_detection_yolo/images/test/IMG0003586.jpg: 640x544 2 fractureds, 18.1ms\n",
            "Speed: 4.5ms preprocess, 18.1ms inference, 3.0ms postprocess per image at shape (1, 3, 640, 544)\n",
            "\n",
            "image 1/1 /content/drive/MyDrive/data_object_detection_yolo/images/test/IMG0003466.jpg: 640x544 2 fractureds, 13.6ms\n",
            "Speed: 3.2ms preprocess, 13.6ms inference, 1.6ms postprocess per image at shape (1, 3, 640, 544)\n",
            "\n",
            "image 1/1 /content/drive/MyDrive/data_object_detection_yolo/images/test/IMG0003589.jpg: 640x544 (no detections), 13.6ms\n",
            "Speed: 3.4ms preprocess, 13.6ms inference, 0.6ms postprocess per image at shape (1, 3, 640, 544)\n"
          ]
        },
        {
          "output_type": "stream",
          "name": "stderr",
          "text": [
            "\r 38%|███▊      | 23/61 [00:01<00:01, 23.69it/s]"
          ]
        },
        {
          "output_type": "stream",
          "name": "stdout",
          "text": [
            "\n",
            "image 1/1 /content/drive/MyDrive/data_object_detection_yolo/images/test/IMG0003331.jpg: 640x544 1 fractured, 14.7ms\n",
            "Speed: 3.5ms preprocess, 14.7ms inference, 1.8ms postprocess per image at shape (1, 3, 640, 544)\n",
            "\n",
            "image 1/1 /content/drive/MyDrive/data_object_detection_yolo/images/test/IMG0003313.jpg: 640x544 (no detections), 19.5ms\n",
            "Speed: 3.2ms preprocess, 19.5ms inference, 0.8ms postprocess per image at shape (1, 3, 640, 544)\n",
            "\n",
            "image 1/1 /content/drive/MyDrive/data_object_detection_yolo/images/test/IMG0003625.jpg: 640x544 1 fractured, 14.2ms\n",
            "Speed: 3.6ms preprocess, 14.2ms inference, 2.5ms postprocess per image at shape (1, 3, 640, 544)\n"
          ]
        },
        {
          "output_type": "stream",
          "name": "stderr",
          "text": [
            "\r 43%|████▎     | 26/61 [00:01<00:01, 23.16it/s]"
          ]
        },
        {
          "output_type": "stream",
          "name": "stdout",
          "text": [
            "\n",
            "image 1/1 /content/drive/MyDrive/data_object_detection_yolo/images/test/IMG0003301.jpg: 640x544 (no detections), 15.6ms\n",
            "Speed: 3.7ms preprocess, 15.6ms inference, 0.9ms postprocess per image at shape (1, 3, 640, 544)\n",
            "\n",
            "image 1/1 /content/drive/MyDrive/data_object_detection_yolo/images/test/IMG0003704.jpg: 640x544 (no detections), 10.9ms\n",
            "Speed: 3.6ms preprocess, 10.9ms inference, 0.7ms postprocess per image at shape (1, 3, 640, 544)\n",
            "\n",
            "image 1/1 /content/drive/MyDrive/data_object_detection_yolo/images/test/IMG0003398.jpg: 640x544 1 fractured, 20.6ms\n",
            "Speed: 3.2ms preprocess, 20.6ms inference, 1.7ms postprocess per image at shape (1, 3, 640, 544)\n"
          ]
        },
        {
          "output_type": "stream",
          "name": "stderr",
          "text": [
            "\r 48%|████▊     | 29/61 [00:01<00:01, 23.55it/s]"
          ]
        },
        {
          "output_type": "stream",
          "name": "stdout",
          "text": [
            "\n",
            "image 1/1 /content/drive/MyDrive/data_object_detection_yolo/images/test/IMG0003626.jpg: 640x544 1 fractured, 10.7ms\n",
            "Speed: 6.8ms preprocess, 10.7ms inference, 1.5ms postprocess per image at shape (1, 3, 640, 544)\n",
            "\n",
            "image 1/1 /content/drive/MyDrive/data_object_detection_yolo/images/test/IMG0003458.jpg: 640x544 1 fractured, 18.1ms\n",
            "Speed: 3.2ms preprocess, 18.1ms inference, 1.7ms postprocess per image at shape (1, 3, 640, 544)\n",
            "\n",
            "image 1/1 /content/drive/MyDrive/data_object_detection_yolo/images/test/IMG0003459.jpg: 640x544 1 fractured, 13.7ms\n",
            "Speed: 3.3ms preprocess, 13.7ms inference, 3.5ms postprocess per image at shape (1, 3, 640, 544)\n"
          ]
        },
        {
          "output_type": "stream",
          "name": "stderr",
          "text": [
            "\r 52%|█████▏    | 32/61 [00:01<00:01, 22.82it/s]"
          ]
        },
        {
          "output_type": "stream",
          "name": "stdout",
          "text": [
            "\n",
            "image 1/1 /content/drive/MyDrive/data_object_detection_yolo/images/test/IMG0003310.jpg: 640x544 (no detections), 14.9ms\n",
            "Speed: 3.2ms preprocess, 14.9ms inference, 0.7ms postprocess per image at shape (1, 3, 640, 544)\n",
            "\n",
            "image 1/1 /content/drive/MyDrive/data_object_detection_yolo/images/test/IMG0003399.jpg: 640x544 1 fractured, 12.1ms\n",
            "Speed: 3.4ms preprocess, 12.1ms inference, 1.7ms postprocess per image at shape (1, 3, 640, 544)\n",
            "\n",
            "image 1/1 /content/drive/MyDrive/data_object_detection_yolo/images/test/IMG0003373.jpg: 640x544 (no detections), 10.9ms\n",
            "Speed: 3.6ms preprocess, 10.9ms inference, 0.8ms postprocess per image at shape (1, 3, 640, 544)\n"
          ]
        },
        {
          "output_type": "stream",
          "name": "stderr",
          "text": [
            "\r 57%|█████▋    | 35/61 [00:01<00:01, 24.20it/s]"
          ]
        },
        {
          "output_type": "stream",
          "name": "stdout",
          "text": [
            "\n",
            "image 1/1 /content/drive/MyDrive/data_object_detection_yolo/images/test/IMG0003382.jpg: 640x544 3 fractureds, 12.9ms\n",
            "Speed: 3.5ms preprocess, 12.9ms inference, 1.5ms postprocess per image at shape (1, 3, 640, 544)\n",
            "\n",
            "image 1/1 /content/drive/MyDrive/data_object_detection_yolo/images/test/IMG0003564.jpg: 640x544 2 fractureds, 11.1ms\n",
            "Speed: 3.7ms preprocess, 11.1ms inference, 1.5ms postprocess per image at shape (1, 3, 640, 544)\n",
            "\n",
            "image 1/1 /content/drive/MyDrive/data_object_detection_yolo/images/test/IMG0003309.jpg: 544x640 (no detections), 12.8ms\n",
            "Speed: 6.0ms preprocess, 12.8ms inference, 0.7ms postprocess per image at shape (1, 3, 544, 640)\n"
          ]
        },
        {
          "output_type": "stream",
          "name": "stderr",
          "text": [
            "\r 62%|██████▏   | 38/61 [00:01<00:00, 25.58it/s]"
          ]
        },
        {
          "output_type": "stream",
          "name": "stdout",
          "text": [
            "\n",
            "image 1/1 /content/drive/MyDrive/data_object_detection_yolo/images/test/IMG0003394.jpg: 640x544 (no detections), 14.4ms\n",
            "Speed: 3.5ms preprocess, 14.4ms inference, 0.7ms postprocess per image at shape (1, 3, 640, 544)\n",
            "\n",
            "image 1/1 /content/drive/MyDrive/data_object_detection_yolo/images/test/IMG0003628.jpg: 544x640 1 fractured, 17.4ms\n",
            "Speed: 3.4ms preprocess, 17.4ms inference, 2.6ms postprocess per image at shape (1, 3, 544, 640)\n",
            "\n",
            "image 1/1 /content/drive/MyDrive/data_object_detection_yolo/images/test/IMG0003341.jpg: 544x640 1 fractured, 16.0ms\n",
            "Speed: 3.3ms preprocess, 16.0ms inference, 3.5ms postprocess per image at shape (1, 3, 544, 640)\n"
          ]
        },
        {
          "output_type": "stream",
          "name": "stderr",
          "text": [
            "\r 67%|██████▋   | 41/61 [00:01<00:00, 24.93it/s]"
          ]
        },
        {
          "output_type": "stream",
          "name": "stdout",
          "text": [
            "\n",
            "image 1/1 /content/drive/MyDrive/data_object_detection_yolo/images/test/IMG0003332.jpg: 640x544 (no detections), 14.1ms\n",
            "Speed: 3.2ms preprocess, 14.1ms inference, 0.8ms postprocess per image at shape (1, 3, 640, 544)\n",
            "\n",
            "image 1/1 /content/drive/MyDrive/data_object_detection_yolo/images/test/IMG0003713.jpg: 640x544 (no detections), 15.8ms\n",
            "Speed: 3.2ms preprocess, 15.8ms inference, 2.1ms postprocess per image at shape (1, 3, 640, 544)\n",
            "\n",
            "image 1/1 /content/drive/MyDrive/data_object_detection_yolo/images/test/IMG0003477.jpg: 640x544 (no detections), 12.6ms\n",
            "Speed: 3.3ms preprocess, 12.6ms inference, 1.9ms postprocess per image at shape (1, 3, 640, 544)\n"
          ]
        },
        {
          "output_type": "stream",
          "name": "stderr",
          "text": [
            "\r 72%|███████▏  | 44/61 [00:01<00:00, 24.88it/s]"
          ]
        },
        {
          "output_type": "stream",
          "name": "stdout",
          "text": [
            "\n",
            "image 1/1 /content/drive/MyDrive/data_object_detection_yolo/images/test/IMG0003298.jpg: 640x544 (no detections), 13.7ms\n",
            "Speed: 4.0ms preprocess, 13.7ms inference, 0.8ms postprocess per image at shape (1, 3, 640, 544)\n",
            "\n",
            "image 1/1 /content/drive/MyDrive/data_object_detection_yolo/images/test/IMG0003383.jpg: 640x544 1 fractured, 20.2ms\n",
            "Speed: 3.3ms preprocess, 20.2ms inference, 2.8ms postprocess per image at shape (1, 3, 640, 544)\n",
            "\n",
            "image 1/1 /content/drive/MyDrive/data_object_detection_yolo/images/test/IMG0003565.jpg: 640x544 1 fractured, 11.7ms\n",
            "Speed: 3.4ms preprocess, 11.7ms inference, 2.6ms postprocess per image at shape (1, 3, 640, 544)\n"
          ]
        },
        {
          "output_type": "stream",
          "name": "stderr",
          "text": [
            "\r 77%|███████▋  | 47/61 [00:02<00:00, 23.73it/s]"
          ]
        },
        {
          "output_type": "stream",
          "name": "stdout",
          "text": [
            "\n",
            "image 1/1 /content/drive/MyDrive/data_object_detection_yolo/images/test/IMG0003467.jpg: 640x544 (no detections), 15.2ms\n",
            "Speed: 6.1ms preprocess, 15.2ms inference, 0.9ms postprocess per image at shape (1, 3, 640, 544)\n",
            "\n",
            "image 1/1 /content/drive/MyDrive/data_object_detection_yolo/images/test/IMG0003396.jpg: 640x544 1 fractured, 15.5ms\n",
            "Speed: 3.3ms preprocess, 15.5ms inference, 1.5ms postprocess per image at shape (1, 3, 640, 544)\n",
            "\n",
            "image 1/1 /content/drive/MyDrive/data_object_detection_yolo/images/test/IMG0003685.jpg: 640x544 1 fractured, 11.5ms\n",
            "Speed: 3.3ms preprocess, 11.5ms inference, 1.2ms postprocess per image at shape (1, 3, 640, 544)\n"
          ]
        },
        {
          "output_type": "stream",
          "name": "stderr",
          "text": [
            "\r 82%|████████▏ | 50/61 [00:02<00:00, 24.17it/s]"
          ]
        },
        {
          "output_type": "stream",
          "name": "stdout",
          "text": [
            "\n",
            "image 1/1 /content/drive/MyDrive/data_object_detection_yolo/images/test/IMG0003524.jpg: 640x544 (no detections), 11.8ms\n",
            "Speed: 2.8ms preprocess, 11.8ms inference, 0.5ms postprocess per image at shape (1, 3, 640, 544)\n",
            "\n",
            "image 1/1 /content/drive/MyDrive/data_object_detection_yolo/images/test/IMG0003520.jpg: 640x544 (no detections), 11.8ms\n",
            "Speed: 2.1ms preprocess, 11.8ms inference, 0.7ms postprocess per image at shape (1, 3, 640, 544)\n",
            "\n",
            "image 1/1 /content/drive/MyDrive/data_object_detection_yolo/images/test/IMG0003395.jpg: 640x544 (no detections), 11.8ms\n",
            "Speed: 2.2ms preprocess, 11.8ms inference, 0.5ms postprocess per image at shape (1, 3, 640, 544)\n"
          ]
        },
        {
          "output_type": "stream",
          "name": "stderr",
          "text": [
            "\r 87%|████████▋ | 53/61 [00:02<00:00, 25.31it/s]"
          ]
        },
        {
          "output_type": "stream",
          "name": "stdout",
          "text": [
            "\n",
            "image 1/1 /content/drive/MyDrive/data_object_detection_yolo/images/test/IMG0003338.jpg: 640x544 (no detections), 11.8ms\n",
            "Speed: 2.5ms preprocess, 11.8ms inference, 0.5ms postprocess per image at shape (1, 3, 640, 544)\n",
            "\n",
            "image 1/1 /content/drive/MyDrive/data_object_detection_yolo/images/test/IMG0003510.jpg: 640x544 1 fractured, 11.8ms\n",
            "Speed: 2.4ms preprocess, 11.8ms inference, 1.2ms postprocess per image at shape (1, 3, 640, 544)\n",
            "\n",
            "image 1/1 /content/drive/MyDrive/data_object_detection_yolo/images/test/IMG0003308.jpg: 640x544 1 fractured, 11.8ms\n",
            "Speed: 3.5ms preprocess, 11.8ms inference, 1.1ms postprocess per image at shape (1, 3, 640, 544)\n",
            "\n",
            "image 1/1 /content/drive/MyDrive/data_object_detection_yolo/images/test/IMG0003653.jpg: 640x544 (no detections), 11.8ms\n",
            "Speed: 2.1ms preprocess, 11.8ms inference, 0.5ms postprocess per image at shape (1, 3, 640, 544)\n"
          ]
        },
        {
          "output_type": "stream",
          "name": "stderr",
          "text": [
            "\r 93%|█████████▎| 57/61 [00:02<00:00, 27.83it/s]"
          ]
        },
        {
          "output_type": "stream",
          "name": "stdout",
          "text": [
            "\n",
            "image 1/1 /content/drive/MyDrive/data_object_detection_yolo/images/test/IMG0003654.jpg: 640x544 1 fractured, 11.8ms\n",
            "Speed: 2.2ms preprocess, 11.8ms inference, 1.8ms postprocess per image at shape (1, 3, 640, 544)\n",
            "\n",
            "image 1/1 /content/drive/MyDrive/data_object_detection_yolo/images/test/IMG0003545.jpg: 640x544 (no detections), 11.8ms\n",
            "Speed: 2.1ms preprocess, 11.8ms inference, 0.7ms postprocess per image at shape (1, 3, 640, 544)\n",
            "\n",
            "image 1/1 /content/drive/MyDrive/data_object_detection_yolo/images/test/IMG0003703.jpg: 640x544 1 fractured, 11.8ms\n",
            "Speed: 3.3ms preprocess, 11.8ms inference, 1.9ms postprocess per image at shape (1, 3, 640, 544)\n",
            "\n",
            "image 1/1 /content/drive/MyDrive/data_object_detection_yolo/images/test/IMG0003420.jpg: 544x640 (no detections), 12.5ms\n",
            "Speed: 2.9ms preprocess, 12.5ms inference, 0.5ms postprocess per image at shape (1, 3, 544, 640)\n"
          ]
        },
        {
          "output_type": "stream",
          "name": "stderr",
          "text": [
            "100%|██████████| 61/61 [00:02<00:00, 23.57it/s]"
          ]
        },
        {
          "output_type": "stream",
          "name": "stdout",
          "text": [
            "Evaluating Model: yolo_v8s_freeze10.pt\n",
            "\n",
            "Loading Model: yolo_v8n_freeze10.pt\n"
          ]
        },
        {
          "output_type": "stream",
          "name": "stderr",
          "text": [
            "\n",
            "  0%|          | 0/61 [00:00<?, ?it/s]"
          ]
        },
        {
          "output_type": "stream",
          "name": "stdout",
          "text": [
            "\n",
            "image 1/1 /content/drive/MyDrive/data_object_detection_yolo/images/test/IMG0003569.jpg: 640x544 (no detections), 10.2ms\n",
            "Speed: 2.5ms preprocess, 10.2ms inference, 0.8ms postprocess per image at shape (1, 3, 640, 544)\n"
          ]
        },
        {
          "output_type": "stream",
          "name": "stderr",
          "text": [
            "\r  2%|▏         | 1/61 [00:00<00:08,  7.45it/s]"
          ]
        },
        {
          "output_type": "stream",
          "name": "stdout",
          "text": [
            "\n",
            "image 1/1 /content/drive/MyDrive/data_object_detection_yolo/images/test/IMG0003339.jpg: 640x544 1 fractured, 9.2ms\n",
            "Speed: 2.6ms preprocess, 9.2ms inference, 1.7ms postprocess per image at shape (1, 3, 640, 544)\n",
            "\n",
            "image 1/1 /content/drive/MyDrive/data_object_detection_yolo/images/test/IMG0003588.jpg: 640x544 2 fractureds, 9.7ms\n",
            "Speed: 2.9ms preprocess, 9.7ms inference, 1.5ms postprocess per image at shape (1, 3, 640, 544)\n",
            "\n",
            "image 1/1 /content/drive/MyDrive/data_object_detection_yolo/images/test/IMG0003671.jpg: 640x544 2 fractureds, 8.9ms\n",
            "Speed: 2.7ms preprocess, 8.9ms inference, 1.4ms postprocess per image at shape (1, 3, 640, 544)\n"
          ]
        },
        {
          "output_type": "stream",
          "name": "stderr",
          "text": [
            "\r  7%|▋         | 4/61 [00:00<00:03, 18.64it/s]"
          ]
        },
        {
          "output_type": "stream",
          "name": "stdout",
          "text": [
            "\n",
            "image 1/1 /content/drive/MyDrive/data_object_detection_yolo/images/test/IMG0003523.jpg: 640x544 1 fractured, 9.4ms\n",
            "Speed: 3.6ms preprocess, 9.4ms inference, 1.6ms postprocess per image at shape (1, 3, 640, 544)\n",
            "\n",
            "image 1/1 /content/drive/MyDrive/data_object_detection_yolo/images/test/IMG0003620.jpg: 640x544 (no detections), 9.4ms\n",
            "Speed: 2.6ms preprocess, 9.4ms inference, 0.6ms postprocess per image at shape (1, 3, 640, 544)\n",
            "\n",
            "image 1/1 /content/drive/MyDrive/data_object_detection_yolo/images/test/IMG0003342.jpg: 640x544 2 fractureds, 8.7ms\n",
            "Speed: 2.5ms preprocess, 8.7ms inference, 1.5ms postprocess per image at shape (1, 3, 640, 544)\n",
            "\n",
            "image 1/1 /content/drive/MyDrive/data_object_detection_yolo/images/test/IMG0003312.jpg: 640x544 (no detections), 9.0ms\n",
            "Speed: 2.5ms preprocess, 9.0ms inference, 0.7ms postprocess per image at shape (1, 3, 640, 544)\n"
          ]
        },
        {
          "output_type": "stream",
          "name": "stderr",
          "text": [
            "\r 13%|█▎        | 8/61 [00:00<00:02, 24.91it/s]"
          ]
        },
        {
          "output_type": "stream",
          "name": "stdout",
          "text": [
            "\n",
            "image 1/1 /content/drive/MyDrive/data_object_detection_yolo/images/test/IMG0003374.jpg: 640x544 1 fractured, 9.0ms\n",
            "Speed: 3.2ms preprocess, 9.0ms inference, 1.5ms postprocess per image at shape (1, 3, 640, 544)\n",
            "\n",
            "image 1/1 /content/drive/MyDrive/data_object_detection_yolo/images/test/IMG0003619.jpg: 640x544 (no detections), 9.8ms\n",
            "Speed: 4.1ms preprocess, 9.8ms inference, 0.6ms postprocess per image at shape (1, 3, 640, 544)\n",
            "\n",
            "image 1/1 /content/drive/MyDrive/data_object_detection_yolo/images/test/IMG0003587.jpg: 640x544 1 fractured, 9.0ms\n",
            "Speed: 2.6ms preprocess, 9.0ms inference, 1.5ms postprocess per image at shape (1, 3, 640, 544)\n"
          ]
        },
        {
          "output_type": "stream",
          "name": "stderr",
          "text": [
            "\r 18%|█▊        | 11/61 [00:00<00:01, 25.68it/s]"
          ]
        },
        {
          "output_type": "stream",
          "name": "stdout",
          "text": [
            "\n",
            "image 1/1 /content/drive/MyDrive/data_object_detection_yolo/images/test/IMG0003311.jpg: 640x544 2 fractureds, 9.2ms\n",
            "Speed: 3.4ms preprocess, 9.2ms inference, 1.5ms postprocess per image at shape (1, 3, 640, 544)\n",
            "\n",
            "image 1/1 /content/drive/MyDrive/data_object_detection_yolo/images/test/IMG0003297.jpg: 640x544 (no detections), 7.5ms\n",
            "Speed: 3.2ms preprocess, 7.5ms inference, 0.5ms postprocess per image at shape (1, 3, 640, 544)\n",
            "\n",
            "image 1/1 /content/drive/MyDrive/data_object_detection_yolo/images/test/IMG0003397.jpg: 640x544 1 fractured, 8.7ms\n",
            "Speed: 3.4ms preprocess, 8.7ms inference, 1.2ms postprocess per image at shape (1, 3, 640, 544)\n",
            "\n",
            "image 1/1 /content/drive/MyDrive/data_object_detection_yolo/images/test/IMG0003686.jpg: 640x544 1 fractured, 6.3ms\n",
            "Speed: 2.2ms preprocess, 6.3ms inference, 1.1ms postprocess per image at shape (1, 3, 640, 544)\n"
          ]
        },
        {
          "output_type": "stream",
          "name": "stderr",
          "text": [
            "\r 25%|██▍       | 15/61 [00:00<00:01, 28.81it/s]"
          ]
        },
        {
          "output_type": "stream",
          "name": "stdout",
          "text": [
            "\n",
            "image 1/1 /content/drive/MyDrive/data_object_detection_yolo/images/test/IMG0003381.jpg: 640x544 1 fractured, 6.8ms\n",
            "Speed: 2.7ms preprocess, 6.8ms inference, 1.1ms postprocess per image at shape (1, 3, 640, 544)\n",
            "\n",
            "image 1/1 /content/drive/MyDrive/data_object_detection_yolo/images/test/IMG0003509.jpg: 640x544 1 fractured, 6.3ms\n",
            "Speed: 2.1ms preprocess, 6.3ms inference, 1.1ms postprocess per image at shape (1, 3, 640, 544)\n",
            "\n",
            "image 1/1 /content/drive/MyDrive/data_object_detection_yolo/images/test/IMG0003712.jpg: 640x544 2 fractureds, 6.2ms\n",
            "Speed: 2.1ms preprocess, 6.2ms inference, 1.1ms postprocess per image at shape (1, 3, 640, 544)\n",
            "\n",
            "image 1/1 /content/drive/MyDrive/data_object_detection_yolo/images/test/IMG0003419.jpg: 640x544 1 fractured, 6.5ms\n",
            "Speed: 2.1ms preprocess, 6.5ms inference, 1.1ms postprocess per image at shape (1, 3, 640, 544)\n"
          ]
        },
        {
          "output_type": "stream",
          "name": "stderr",
          "text": [
            "\r 31%|███       | 19/61 [00:00<00:01, 32.04it/s]"
          ]
        },
        {
          "output_type": "stream",
          "name": "stdout",
          "text": [
            "\n",
            "image 1/1 /content/drive/MyDrive/data_object_detection_yolo/images/test/IMG0003519.jpg: 640x544 1 fractured, 6.3ms\n",
            "Speed: 2.1ms preprocess, 6.3ms inference, 1.0ms postprocess per image at shape (1, 3, 640, 544)\n",
            "\n",
            "image 1/1 /content/drive/MyDrive/data_object_detection_yolo/images/test/IMG0003586.jpg: 640x544 2 fractureds, 6.9ms\n",
            "Speed: 3.1ms preprocess, 6.9ms inference, 1.1ms postprocess per image at shape (1, 3, 640, 544)\n",
            "\n",
            "image 1/1 /content/drive/MyDrive/data_object_detection_yolo/images/test/IMG0003466.jpg: 640x544 1 fractured, 6.3ms\n",
            "Speed: 2.1ms preprocess, 6.3ms inference, 1.0ms postprocess per image at shape (1, 3, 640, 544)\n",
            "\n",
            "image 1/1 /content/drive/MyDrive/data_object_detection_yolo/images/test/IMG0003589.jpg: 640x544 1 fractured, 6.3ms\n",
            "Speed: 2.2ms preprocess, 6.3ms inference, 1.5ms postprocess per image at shape (1, 3, 640, 544)\n"
          ]
        },
        {
          "output_type": "stream",
          "name": "stderr",
          "text": [
            "\r 38%|███▊      | 23/61 [00:00<00:01, 34.42it/s]"
          ]
        },
        {
          "output_type": "stream",
          "name": "stdout",
          "text": [
            "\n",
            "image 1/1 /content/drive/MyDrive/data_object_detection_yolo/images/test/IMG0003331.jpg: 640x544 1 fractured, 6.5ms\n",
            "Speed: 2.1ms preprocess, 6.5ms inference, 1.1ms postprocess per image at shape (1, 3, 640, 544)\n",
            "\n",
            "image 1/1 /content/drive/MyDrive/data_object_detection_yolo/images/test/IMG0003313.jpg: 640x544 (no detections), 14.4ms\n",
            "Speed: 2.2ms preprocess, 14.4ms inference, 0.5ms postprocess per image at shape (1, 3, 640, 544)\n",
            "\n",
            "image 1/1 /content/drive/MyDrive/data_object_detection_yolo/images/test/IMG0003625.jpg: 640x544 2 fractureds, 6.5ms\n",
            "Speed: 2.1ms preprocess, 6.5ms inference, 1.1ms postprocess per image at shape (1, 3, 640, 544)\n",
            "\n",
            "image 1/1 /content/drive/MyDrive/data_object_detection_yolo/images/test/IMG0003301.jpg: 640x544 1 fractured, 12.4ms\n",
            "Speed: 3.4ms preprocess, 12.4ms inference, 3.8ms postprocess per image at shape (1, 3, 640, 544)\n"
          ]
        },
        {
          "output_type": "stream",
          "name": "stderr",
          "text": [
            "\r 44%|████▍     | 27/61 [00:00<00:01, 33.67it/s]"
          ]
        },
        {
          "output_type": "stream",
          "name": "stdout",
          "text": [
            "\n",
            "image 1/1 /content/drive/MyDrive/data_object_detection_yolo/images/test/IMG0003704.jpg: 640x544 (no detections), 6.5ms\n",
            "Speed: 2.2ms preprocess, 6.5ms inference, 0.5ms postprocess per image at shape (1, 3, 640, 544)\n",
            "\n",
            "image 1/1 /content/drive/MyDrive/data_object_detection_yolo/images/test/IMG0003398.jpg: 640x544 1 fractured, 6.5ms\n",
            "Speed: 2.1ms preprocess, 6.5ms inference, 1.1ms postprocess per image at shape (1, 3, 640, 544)\n",
            "\n",
            "image 1/1 /content/drive/MyDrive/data_object_detection_yolo/images/test/IMG0003626.jpg: 640x544 1 fractured, 6.9ms\n",
            "Speed: 2.3ms preprocess, 6.9ms inference, 1.1ms postprocess per image at shape (1, 3, 640, 544)\n",
            "\n",
            "image 1/1 /content/drive/MyDrive/data_object_detection_yolo/images/test/IMG0003458.jpg: 640x544 1 fractured, 6.7ms\n",
            "Speed: 3.0ms preprocess, 6.7ms inference, 1.1ms postprocess per image at shape (1, 3, 640, 544)\n"
          ]
        },
        {
          "output_type": "stream",
          "name": "stderr",
          "text": [
            "\r 51%|█████     | 31/61 [00:01<00:00, 33.44it/s]"
          ]
        },
        {
          "output_type": "stream",
          "name": "stdout",
          "text": [
            "\n",
            "image 1/1 /content/drive/MyDrive/data_object_detection_yolo/images/test/IMG0003459.jpg: 640x544 4 fractureds, 6.6ms\n",
            "Speed: 2.4ms preprocess, 6.6ms inference, 1.1ms postprocess per image at shape (1, 3, 640, 544)\n",
            "\n",
            "image 1/1 /content/drive/MyDrive/data_object_detection_yolo/images/test/IMG0003310.jpg: 640x544 (no detections), 6.6ms\n",
            "Speed: 2.2ms preprocess, 6.6ms inference, 0.6ms postprocess per image at shape (1, 3, 640, 544)\n",
            "\n",
            "image 1/1 /content/drive/MyDrive/data_object_detection_yolo/images/test/IMG0003399.jpg: 640x544 1 fractured, 9.5ms\n",
            "Speed: 2.8ms preprocess, 9.5ms inference, 1.5ms postprocess per image at shape (1, 3, 640, 544)\n",
            "\n",
            "image 1/1 /content/drive/MyDrive/data_object_detection_yolo/images/test/IMG0003373.jpg: 640x544 1 fractured, 8.8ms\n",
            "Speed: 3.0ms preprocess, 8.8ms inference, 1.4ms postprocess per image at shape (1, 3, 640, 544)\n"
          ]
        },
        {
          "output_type": "stream",
          "name": "stderr",
          "text": [
            "\r 57%|█████▋    | 35/61 [00:01<00:00, 34.25it/s]"
          ]
        },
        {
          "output_type": "stream",
          "name": "stdout",
          "text": [
            "\n",
            "image 1/1 /content/drive/MyDrive/data_object_detection_yolo/images/test/IMG0003382.jpg: 640x544 1 fractured, 9.4ms\n",
            "Speed: 2.7ms preprocess, 9.4ms inference, 1.3ms postprocess per image at shape (1, 3, 640, 544)\n",
            "\n",
            "image 1/1 /content/drive/MyDrive/data_object_detection_yolo/images/test/IMG0003564.jpg: 640x544 2 fractureds, 8.7ms\n",
            "Speed: 3.0ms preprocess, 8.7ms inference, 1.5ms postprocess per image at shape (1, 3, 640, 544)\n",
            "\n",
            "image 1/1 /content/drive/MyDrive/data_object_detection_yolo/images/test/IMG0003309.jpg: 544x640 1 fractured, 9.5ms\n",
            "Speed: 2.5ms preprocess, 9.5ms inference, 1.4ms postprocess per image at shape (1, 3, 544, 640)\n",
            "\n",
            "image 1/1 /content/drive/MyDrive/data_object_detection_yolo/images/test/IMG0003394.jpg: 640x544 (no detections), 10.4ms\n",
            "Speed: 2.5ms preprocess, 10.4ms inference, 0.7ms postprocess per image at shape (1, 3, 640, 544)\n"
          ]
        },
        {
          "output_type": "stream",
          "name": "stderr",
          "text": [
            "\r 64%|██████▍   | 39/61 [00:01<00:00, 33.71it/s]"
          ]
        },
        {
          "output_type": "stream",
          "name": "stdout",
          "text": [
            "\n",
            "image 1/1 /content/drive/MyDrive/data_object_detection_yolo/images/test/IMG0003628.jpg: 544x640 1 fractured, 9.5ms\n",
            "Speed: 2.4ms preprocess, 9.5ms inference, 1.5ms postprocess per image at shape (1, 3, 544, 640)\n",
            "\n",
            "image 1/1 /content/drive/MyDrive/data_object_detection_yolo/images/test/IMG0003341.jpg: 544x640 3 fractureds, 8.5ms\n",
            "Speed: 2.4ms preprocess, 8.5ms inference, 1.4ms postprocess per image at shape (1, 3, 544, 640)\n",
            "\n",
            "image 1/1 /content/drive/MyDrive/data_object_detection_yolo/images/test/IMG0003332.jpg: 640x544 (no detections), 10.3ms\n",
            "Speed: 3.5ms preprocess, 10.3ms inference, 0.6ms postprocess per image at shape (1, 3, 640, 544)\n",
            "\n",
            "image 1/1 /content/drive/MyDrive/data_object_detection_yolo/images/test/IMG0003713.jpg: 640x544 1 fractured, 9.5ms\n",
            "Speed: 3.2ms preprocess, 9.5ms inference, 1.2ms postprocess per image at shape (1, 3, 640, 544)\n"
          ]
        },
        {
          "output_type": "stream",
          "name": "stderr",
          "text": [
            "\r 70%|███████   | 43/61 [00:01<00:00, 33.55it/s]"
          ]
        },
        {
          "output_type": "stream",
          "name": "stdout",
          "text": [
            "\n",
            "image 1/1 /content/drive/MyDrive/data_object_detection_yolo/images/test/IMG0003477.jpg: 640x544 (no detections), 8.8ms\n",
            "Speed: 3.4ms preprocess, 8.8ms inference, 0.6ms postprocess per image at shape (1, 3, 640, 544)\n",
            "\n",
            "image 1/1 /content/drive/MyDrive/data_object_detection_yolo/images/test/IMG0003298.jpg: 640x544 (no detections), 8.3ms\n",
            "Speed: 2.6ms preprocess, 8.3ms inference, 0.6ms postprocess per image at shape (1, 3, 640, 544)\n",
            "\n",
            "image 1/1 /content/drive/MyDrive/data_object_detection_yolo/images/test/IMG0003383.jpg: 640x544 1 fractured, 8.7ms\n",
            "Speed: 2.9ms preprocess, 8.7ms inference, 1.6ms postprocess per image at shape (1, 3, 640, 544)\n",
            "\n",
            "image 1/1 /content/drive/MyDrive/data_object_detection_yolo/images/test/IMG0003565.jpg: 640x544 2 fractureds, 9.2ms\n",
            "Speed: 3.5ms preprocess, 9.2ms inference, 1.5ms postprocess per image at shape (1, 3, 640, 544)\n"
          ]
        },
        {
          "output_type": "stream",
          "name": "stderr",
          "text": [
            "\r 77%|███████▋  | 47/61 [00:01<00:00, 32.88it/s]"
          ]
        },
        {
          "output_type": "stream",
          "name": "stdout",
          "text": [
            "\n",
            "image 1/1 /content/drive/MyDrive/data_object_detection_yolo/images/test/IMG0003467.jpg: 640x544 2 fractureds, 8.8ms\n",
            "Speed: 2.9ms preprocess, 8.8ms inference, 1.3ms postprocess per image at shape (1, 3, 640, 544)\n",
            "\n",
            "image 1/1 /content/drive/MyDrive/data_object_detection_yolo/images/test/IMG0003396.jpg: 640x544 (no detections), 8.8ms\n",
            "Speed: 2.6ms preprocess, 8.8ms inference, 0.5ms postprocess per image at shape (1, 3, 640, 544)\n",
            "\n",
            "image 1/1 /content/drive/MyDrive/data_object_detection_yolo/images/test/IMG0003685.jpg: 640x544 1 fractured, 8.6ms\n",
            "Speed: 2.5ms preprocess, 8.6ms inference, 1.4ms postprocess per image at shape (1, 3, 640, 544)\n",
            "\n",
            "image 1/1 /content/drive/MyDrive/data_object_detection_yolo/images/test/IMG0003524.jpg: 640x544 (no detections), 8.5ms\n",
            "Speed: 2.5ms preprocess, 8.5ms inference, 0.5ms postprocess per image at shape (1, 3, 640, 544)\n"
          ]
        },
        {
          "output_type": "stream",
          "name": "stderr",
          "text": [
            "\r 84%|████████▎ | 51/61 [00:01<00:00, 32.91it/s]"
          ]
        },
        {
          "output_type": "stream",
          "name": "stdout",
          "text": [
            "\n",
            "image 1/1 /content/drive/MyDrive/data_object_detection_yolo/images/test/IMG0003520.jpg: 640x544 1 fractured, 9.2ms\n",
            "Speed: 2.7ms preprocess, 9.2ms inference, 1.5ms postprocess per image at shape (1, 3, 640, 544)\n",
            "\n",
            "image 1/1 /content/drive/MyDrive/data_object_detection_yolo/images/test/IMG0003395.jpg: 640x544 (no detections), 13.8ms\n",
            "Speed: 3.2ms preprocess, 13.8ms inference, 0.7ms postprocess per image at shape (1, 3, 640, 544)\n",
            "\n",
            "image 1/1 /content/drive/MyDrive/data_object_detection_yolo/images/test/IMG0003338.jpg: 640x544 (no detections), 8.7ms\n",
            "Speed: 2.9ms preprocess, 8.7ms inference, 0.6ms postprocess per image at shape (1, 3, 640, 544)\n",
            "\n",
            "image 1/1 /content/drive/MyDrive/data_object_detection_yolo/images/test/IMG0003510.jpg: 640x544 1 fractured, 9.9ms\n",
            "Speed: 2.7ms preprocess, 9.9ms inference, 1.9ms postprocess per image at shape (1, 3, 640, 544)\n"
          ]
        },
        {
          "output_type": "stream",
          "name": "stderr",
          "text": [
            "\r 90%|█████████ | 55/61 [00:01<00:00, 31.53it/s]"
          ]
        },
        {
          "output_type": "stream",
          "name": "stdout",
          "text": [
            "\n",
            "image 1/1 /content/drive/MyDrive/data_object_detection_yolo/images/test/IMG0003308.jpg: 640x544 2 fractureds, 7.6ms\n",
            "Speed: 3.5ms preprocess, 7.6ms inference, 1.8ms postprocess per image at shape (1, 3, 640, 544)\n",
            "\n",
            "image 1/1 /content/drive/MyDrive/data_object_detection_yolo/images/test/IMG0003653.jpg: 640x544 (no detections), 10.1ms\n",
            "Speed: 3.2ms preprocess, 10.1ms inference, 0.7ms postprocess per image at shape (1, 3, 640, 544)\n",
            "\n",
            "image 1/1 /content/drive/MyDrive/data_object_detection_yolo/images/test/IMG0003654.jpg: 640x544 1 fractured, 9.8ms\n",
            "Speed: 3.2ms preprocess, 9.8ms inference, 1.6ms postprocess per image at shape (1, 3, 640, 544)\n",
            "\n",
            "image 1/1 /content/drive/MyDrive/data_object_detection_yolo/images/test/IMG0003545.jpg: 640x544 3 fractureds, 7.3ms\n",
            "Speed: 2.2ms preprocess, 7.3ms inference, 1.1ms postprocess per image at shape (1, 3, 640, 544)\n"
          ]
        },
        {
          "output_type": "stream",
          "name": "stderr",
          "text": [
            "\r 97%|█████████▋| 59/61 [00:01<00:00, 32.15it/s]"
          ]
        },
        {
          "output_type": "stream",
          "name": "stdout",
          "text": [
            "\n",
            "image 1/1 /content/drive/MyDrive/data_object_detection_yolo/images/test/IMG0003703.jpg: 640x544 2 fractureds, 7.1ms\n",
            "Speed: 2.4ms preprocess, 7.1ms inference, 1.1ms postprocess per image at shape (1, 3, 640, 544)\n",
            "\n",
            "image 1/1 /content/drive/MyDrive/data_object_detection_yolo/images/test/IMG0003420.jpg: 544x640 1 fractured, 9.7ms\n",
            "Speed: 3.3ms preprocess, 9.7ms inference, 1.1ms postprocess per image at shape (1, 3, 544, 640)\n"
          ]
        },
        {
          "output_type": "stream",
          "name": "stderr",
          "text": [
            "\r100%|██████████| 61/61 [00:01<00:00, 31.01it/s]"
          ]
        },
        {
          "output_type": "stream",
          "name": "stdout",
          "text": [
            "Evaluating Model: yolo_v8n_freeze10.pt\n"
          ]
        },
        {
          "output_type": "stream",
          "name": "stderr",
          "text": [
            "\n"
          ]
        },
        {
          "output_type": "display_data",
          "data": {
            "text/plain": [
              "<Figure size 2000x500 with 5 Axes>"
            ],
            "image/png": "[encoded data removed]"
          },
          "metadata": {}
        }
      ]
    },
    {
      "cell_type": "code",
      "source": [
        "df_results = pd.DataFrame(eval_results)\n",
        "df_results"
      ],
      "metadata": {
        "colab": {
          "base_uri": "https://localhost:8080/",
          "height": 363
        },
        "id": "eMzwV_dsa-BJ",
        "outputId": "2988dfad-1719-420e-de1f-0507adba2a25"
      },
      "execution_count": 144,
      "outputs": [
        {
          "output_type": "execute_result",
          "data": {
            "text/plain": [
              "      yolo_v8m_freeze0  yolo_v8m_freeze10  yolo_v8m_freezeall  \\\n",
              "0.50          0.443550           0.477085            0.452074   \n",
              "0.55          0.431112           0.335007            0.396726   \n",
              "0.60          0.309386           0.285353            0.260332   \n",
              "0.65          0.268623           0.227576            0.225041   \n",
              "0.70          0.146574           0.148439            0.188391   \n",
              "0.75          0.086029           0.088455            0.147927   \n",
              "0.80          0.026994           0.024550            0.032172   \n",
              "0.85          0.000498           0.000597            0.021559   \n",
              "0.90          0.000000           0.000597            0.001658   \n",
              "0.95          0.000000           0.000000            0.000000   \n",
              "\n",
              "      yolo_v8s_freeze10  yolo_v8n_freeze10  \n",
              "0.50           0.319791           0.392485  \n",
              "0.55           0.319791           0.348156  \n",
              "0.60           0.285416           0.283248  \n",
              "0.65           0.220463           0.217467  \n",
              "0.70           0.199923           0.128316  \n",
              "0.75           0.129657           0.077736  \n",
              "0.80           0.092633           0.058319  \n",
              "0.85           0.016418           0.018218  \n",
              "0.90           0.007463           0.003622  \n",
              "0.95           0.000000           0.000000  "
            ],
            "text/html": [
              "\n",
              "  <div id=\"df-7fefbc42-1850-4836-913b-593bb3299071\" class=\"colab-df-container\">\n",
              "    <div>\n",
              "<style scoped>\n",
              "    .dataframe tbody tr th:only-of-type {\n",
              "        vertical-align: middle;\n",
              "    }\n",
              "\n",
              "    .dataframe tbody tr th {\n",
              "        vertical-align: top;\n",
              "    }\n",
              "\n",
              "    .dataframe thead th {\n",
              "        text-align: right;\n",
              "    }\n",
              "</style>\n",
              "<table border=\"1\" class=\"dataframe\">\n",
              "  <thead>\n",
              "    <tr style=\"text-align: right;\">\n",
              "      <th></th>\n",
              "      <th>yolo_v8m_freeze0</th>\n",
              "      <th>yolo_v8m_freeze10</th>\n",
              "      <th>yolo_v8m_freezeall</th>\n",
              "      <th>yolo_v8s_freeze10</th>\n",
              "      <th>yolo_v8n_freeze10</th>\n",
              "    </tr>\n",
              "  </thead>\n",
              "  <tbody>\n",
              "    <tr>\n",
              "      <th>0.50</th>\n",
              "      <td>0.443550</td>\n",
              "      <td>0.477085</td>\n",
              "      <td>0.452074</td>\n",
              "      <td>0.319791</td>\n",
              "      <td>0.392485</td>\n",
              "    </tr>\n",
              "    <tr>\n",
              "      <th>0.55</th>\n",
              "      <td>0.431112</td>\n",
              "      <td>0.335007</td>\n",
              "      <td>0.396726</td>\n",
              "      <td>0.319791</td>\n",
              "      <td>0.348156</td>\n",
              "    </tr>\n",
              "    <tr>\n",
              "      <th>0.60</th>\n",
              "      <td>0.309386</td>\n",
              "      <td>0.285353</td>\n",
              "      <td>0.260332</td>\n",
              "      <td>0.285416</td>\n",
              "      <td>0.283248</td>\n",
              "    </tr>\n",
              "    <tr>\n",
              "      <th>0.65</th>\n",
              "      <td>0.268623</td>\n",
              "      <td>0.227576</td>\n",
              "      <td>0.225041</td>\n",
              "      <td>0.220463</td>\n",
              "      <td>0.217467</td>\n",
              "    </tr>\n",
              "    <tr>\n",
              "      <th>0.70</th>\n",
              "      <td>0.146574</td>\n",
              "      <td>0.148439</td>\n",
              "      <td>0.188391</td>\n",
              "      <td>0.199923</td>\n",
              "      <td>0.128316</td>\n",
              "    </tr>\n",
              "    <tr>\n",
              "      <th>0.75</th>\n",
              "      <td>0.086029</td>\n",
              "      <td>0.088455</td>\n",
              "      <td>0.147927</td>\n",
              "      <td>0.129657</td>\n",
              "      <td>0.077736</td>\n",
              "    </tr>\n",
              "    <tr>\n",
              "      <th>0.80</th>\n",
              "      <td>0.026994</td>\n",
              "      <td>0.024550</td>\n",
              "      <td>0.032172</td>\n",
              "      <td>0.092633</td>\n",
              "      <td>0.058319</td>\n",
              "    </tr>\n",
              "    <tr>\n",
              "      <th>0.85</th>\n",
              "      <td>0.000498</td>\n",
              "      <td>0.000597</td>\n",
              "      <td>0.021559</td>\n",
              "      <td>0.016418</td>\n",
              "      <td>0.018218</td>\n",
              "    </tr>\n",
              "    <tr>\n",
              "      <th>0.90</th>\n",
              "      <td>0.000000</td>\n",
              "      <td>0.000597</td>\n",
              "      <td>0.001658</td>\n",
              "      <td>0.007463</td>\n",
              "      <td>0.003622</td>\n",
              "    </tr>\n",
              "    <tr>\n",
              "      <th>0.95</th>\n",
              "      <td>0.000000</td>\n",
              "      <td>0.000000</td>\n",
              "      <td>0.000000</td>\n",
              "      <td>0.000000</td>\n",
              "      <td>0.000000</td>\n",
              "    </tr>\n",
              "  </tbody>\n",
              "</table>\n",
              "</div>\n",
              "    <div class=\"colab-df-buttons\">\n",
              "\n",
              "  <div class=\"colab-df-container\">\n",
              "    <button class=\"colab-df-convert\" onclick=\"convertToInteractive('df-7fefbc42-1850-4836-913b-593bb3299071')\"\n",
              "            title=\"Convert this dataframe to an interactive table.\"\n",
              "            style=\"display:none;\">\n",
              "\n",
              "  <svg xmlns=\"http://www.w3.org/2000/svg\" height=\"24px\" viewBox=\"0 -960 960 960\">\n",
              "    <path d=\"M120-120v-720h720v720H120Zm60-500h600v-160H180v160Zm220 220h160v-160H400v160Zm0 220h160v-160H400v160ZM180-400h160v-160H180v160Zm440 0h160v-160H620v160ZM180-180h160v-160H180v160Zm440 0h160v-160H620v160Z\"/>\n",
              "  </svg>\n",
              "    </button>\n",
              "\n",
              "  <style>\n",
              "    .colab-df-container {\n",
              "      display:flex;\n",
              "      gap: 12px;\n",
              "    }\n",
              "\n",
              "    .colab-df-convert {\n",
              "      background-color: #E8F0FE;\n",
              "      border: none;\n",
              "      border-radius: 50%;\n",
              "      cursor: pointer;\n",
              "      display: none;\n",
              "      fill: #1967D2;\n",
              "      height: 32px;\n",
              "      padding: 0 0 0 0;\n",
              "      width: 32px;\n",
              "    }\n",
              "\n",
              "    .colab-df-convert:hover {\n",
              "      background-color: #E2EBFA;\n",
              "      box-shadow: 0px 1px 2px rgba(60, 64, 67, 0.3), 0px 1px 3px 1px rgba(60, 64, 67, 0.15);\n",
              "      fill: #174EA6;\n",
              "    }\n",
              "\n",
              "    .colab-df-buttons div {\n",
              "      margin-bottom: 4px;\n",
              "    }\n",
              "\n",
              "    [theme=dark] .colab-df-convert {\n",
              "      background-color: #3B4455;\n",
              "      fill: #D2E3FC;\n",
              "    }\n",
              "\n",
              "    [theme=dark] .colab-df-convert:hover {\n",
              "      background-color: #434B5C;\n",
              "      box-shadow: 0px 1px 3px 1px rgba(0, 0, 0, 0.15);\n",
              "      filter: drop-shadow(0px 1px 2px rgba(0, 0, 0, 0.3));\n",
              "      fill: #FFFFFF;\n",
              "    }\n",
              "  </style>\n",
              "\n",
              "    <script>\n",
              "      const buttonEl =\n",
              "        document.querySelector('#df-7fefbc42-1850-4836-913b-593bb3299071 button.colab-df-convert');\n",
              "      buttonEl.style.display =\n",
              "        google.colab.kernel.accessAllowed ? 'block' : 'none';\n",
              "\n",
              "      async function convertToInteractive(key) {\n",
              "        const element = document.querySelector('#df-7fefbc42-1850-4836-913b-593bb3299071');\n",
              "        const dataTable =\n",
              "          await google.colab.kernel.invokeFunction('convertToInteractive',\n",
              "                                                    [key], {});\n",
              "        if (!dataTable) return;\n",
              "\n",
              "        const docLinkHtml = 'Like what you see? Visit the ' +\n",
              "          '<a target=\"_blank\" href=https://colab.research.google.com/notebooks/data_table.ipynb>data table notebook</a>'\n",
              "          + ' to learn more about interactive tables.';\n",
              "        element.innerHTML = '';\n",
              "        dataTable['output_type'] = 'display_data';\n",
              "        await google.colab.output.renderOutput(dataTable, element);\n",
              "        const docLink = document.createElement('div');\n",
              "        docLink.innerHTML = docLinkHtml;\n",
              "        element.appendChild(docLink);\n",
              "      }\n",
              "    </script>\n",
              "  </div>\n",
              "\n",
              "\n",
              "<div id=\"df-a19307de-73bb-4ffd-9bd3-2ed9d7bb89bb\">\n",
              "  <button class=\"colab-df-quickchart\" onclick=\"quickchart('df-a19307de-73bb-4ffd-9bd3-2ed9d7bb89bb')\"\n",
              "            title=\"Suggest charts\"\n",
              "            style=\"display:none;\">\n",
              "\n",
              "<svg xmlns=\"http://www.w3.org/2000/svg\" height=\"24px\"viewBox=\"0 0 24 24\"\n",
              "     width=\"24px\">\n",
              "    <g>\n",
              "        <path d=\"M19 3H5c-1.1 0-2 .9-2 2v14c0 1.1.9 2 2 2h14c1.1 0 2-.9 2-2V5c0-1.1-.9-2-2-2zM9 17H7v-7h2v7zm4 0h-2V7h2v10zm4 0h-2v-4h2v4z\"/>\n",
              "    </g>\n",
              "</svg>\n",
              "  </button>\n",
              "\n",
              "<style>\n",
              "  .colab-df-quickchart {\n",
              "      --bg-color: #E8F0FE;\n",
              "      --fill-color: #1967D2;\n",
              "      --hover-bg-color: #E2EBFA;\n",
              "      --hover-fill-color: #174EA6;\n",
              "      --disabled-fill-color: #AAA;\n",
              "      --disabled-bg-color: #DDD;\n",
              "  }\n",
              "\n",
              "  [theme=dark] .colab-df-quickchart {\n",
              "      --bg-color: #3B4455;\n",
              "      --fill-color: #D2E3FC;\n",
              "      --hover-bg-color: #434B5C;\n",
              "      --hover-fill-color: #FFFFFF;\n",
              "      --disabled-bg-color: #3B4455;\n",
              "      --disabled-fill-color: #666;\n",
              "  }\n",
              "\n",
              "  .colab-df-quickchart {\n",
              "    background-color: var(--bg-color);\n",
              "    border: none;\n",
              "    border-radius: 50%;\n",
              "    cursor: pointer;\n",
              "    display: none;\n",
              "    fill: var(--fill-color);\n",
              "    height: 32px;\n",
              "    padding: 0;\n",
              "    width: 32px;\n",
              "  }\n",
              "\n",
              "  .colab-df-quickchart:hover {\n",
              "    background-color: var(--hover-bg-color);\n",
              "    box-shadow: 0 1px 2px rgba(60, 64, 67, 0.3), 0 1px 3px 1px rgba(60, 64, 67, 0.15);\n",
              "    fill: var(--button-hover-fill-color);\n",
              "  }\n",
              "\n",
              "  .colab-df-quickchart-complete:disabled,\n",
              "  .colab-df-quickchart-complete:disabled:hover {\n",
              "    background-color: var(--disabled-bg-color);\n",
              "    fill: var(--disabled-fill-color);\n",
              "    box-shadow: none;\n",
              "  }\n",
              "\n",
              "  .colab-df-spinner {\n",
              "    border: 2px solid var(--fill-color);\n",
              "    border-color: transparent;\n",
              "    border-bottom-color: var(--fill-color);\n",
              "    animation:\n",
              "      spin 1s steps(1) infinite;\n",
              "  }\n",
              "\n",
              "  @keyframes spin {\n",
              "    0% {\n",
              "      border-color: transparent;\n",
              "      border-bottom-color: var(--fill-color);\n",
              "      border-left-color: var(--fill-color);\n",
              "    }\n",
              "    20% {\n",
              "      border-color: transparent;\n",
              "      border-left-color: var(--fill-color);\n",
              "      border-top-color: var(--fill-color);\n",
              "    }\n",
              "    30% {\n",
              "      border-color: transparent;\n",
              "      border-left-color: var(--fill-color);\n",
              "      border-top-color: var(--fill-color);\n",
              "      border-right-color: var(--fill-color);\n",
              "    }\n",
              "    40% {\n",
              "      border-color: transparent;\n",
              "      border-right-color: var(--fill-color);\n",
              "      border-top-color: var(--fill-color);\n",
              "    }\n",
              "    60% {\n",
              "      border-color: transparent;\n",
              "      border-right-color: var(--fill-color);\n",
              "    }\n",
              "    80% {\n",
              "      border-color: transparent;\n",
              "      border-right-color: var(--fill-color);\n",
              "      border-bottom-color: var(--fill-color);\n",
              "    }\n",
              "    90% {\n",
              "      border-color: transparent;\n",
              "      border-bottom-color: var(--fill-color);\n",
              "    }\n",
              "  }\n",
              "</style>\n",
              "\n",
              "  <script>\n",
              "    async function quickchart(key) {\n",
              "      const quickchartButtonEl =\n",
              "        document.querySelector('#' + key + ' button');\n",
              "      quickchartButtonEl.disabled = true;  // To prevent multiple clicks.\n",
              "      quickchartButtonEl.classList.add('colab-df-spinner');\n",
              "      try {\n",
              "        const charts = await google.colab.kernel.invokeFunction(\n",
              "            'suggestCharts', [key], {});\n",
              "      } catch (error) {\n",
              "        console.error('Error during call to suggestCharts:', error);\n",
              "      }\n",
              "      quickchartButtonEl.classList.remove('colab-df-spinner');\n",
              "      quickchartButtonEl.classList.add('colab-df-quickchart-complete');\n",
              "    }\n",
              "    (() => {\n",
              "      let quickchartButtonEl =\n",
              "        document.querySelector('#df-a19307de-73bb-4ffd-9bd3-2ed9d7bb89bb button');\n",
              "      quickchartButtonEl.style.display =\n",
              "        google.colab.kernel.accessAllowed ? 'block' : 'none';\n",
              "    })();\n",
              "  </script>\n",
              "</div>\n",
              "\n",
              "  <div id=\"id_08db3b07-f598-43be-8aeb-4e76a3f7a151\">\n",
              "    <style>\n",
              "      .colab-df-generate {\n",
              "        background-color: #E8F0FE;\n",
              "        border: none;\n",
              "        border-radius: 50%;\n",
              "        cursor: pointer;\n",
              "        display: none;\n",
              "        fill: #1967D2;\n",
              "        height: 32px;\n",
              "        padding: 0 0 0 0;\n",
              "        width: 32px;\n",
              "      }\n",
              "\n",
              "      .colab-df-generate:hover {\n",
              "        background-color: #E2EBFA;\n",
              "        box-shadow: 0px 1px 2px rgba(60, 64, 67, 0.3), 0px 1px 3px 1px rgba(60, 64, 67, 0.15);\n",
              "        fill: #174EA6;\n",
              "      }\n",
              "\n",
              "      [theme=dark] .colab-df-generate {\n",
              "        background-color: #3B4455;\n",
              "        fill: #D2E3FC;\n",
              "      }\n",
              "\n",
              "      [theme=dark] .colab-df-generate:hover {\n",
              "        background-color: #434B5C;\n",
              "        box-shadow: 0px 1px 3px 1px rgba(0, 0, 0, 0.15);\n",
              "        filter: drop-shadow(0px 1px 2px rgba(0, 0, 0, 0.3));\n",
              "        fill: #FFFFFF;\n",
              "      }\n",
              "    </style>\n",
              "    <button class=\"colab-df-generate\" onclick=\"generateWithVariable('df_results')\"\n",
              "            title=\"Generate code using this dataframe.\"\n",
              "            style=\"display:none;\">\n",
              "\n",
              "  <svg xmlns=\"http://www.w3.org/2000/svg\" height=\"24px\"viewBox=\"0 0 24 24\"\n",
              "       width=\"24px\">\n",
              "    <path d=\"M7,19H8.4L18.45,9,17,7.55,7,17.6ZM5,21V16.75L18.45,3.32a2,2,0,0,1,2.83,0l1.4,1.43a1.91,1.91,0,0,1,.58,1.4,1.91,1.91,0,0,1-.58,1.4L9.25,21ZM18.45,9,17,7.55Zm-12,3A5.31,5.31,0,0,0,4.9,8.1,5.31,5.31,0,0,0,1,6.5,5.31,5.31,0,0,0,4.9,4.9,5.31,5.31,0,0,0,6.5,1,5.31,5.31,0,0,0,8.1,4.9,5.31,5.31,0,0,0,12,6.5,5.46,5.46,0,0,0,6.5,12Z\"/>\n",
              "  </svg>\n",
              "    </button>\n",
              "    <script>\n",
              "      (() => {\n",
              "      const buttonEl =\n",
              "        document.querySelector('#id_08db3b07-f598-43be-8aeb-4e76a3f7a151 button.colab-df-generate');\n",
              "      buttonEl.style.display =\n",
              "        google.colab.kernel.accessAllowed ? 'block' : 'none';\n",
              "\n",
              "      buttonEl.onclick = () => {\n",
              "        google.colab.notebook.generateWithVariable('df_results');\n",
              "      }\n",
              "      })();\n",
              "    </script>\n",
              "  </div>\n",
              "\n",
              "    </div>\n",
              "  </div>\n"
            ],
            "application/vnd.google.colaboratory.intrinsic+json": {
              "type": "dataframe",
              "variable_name": "df_results",
              "summary": "{\n  \"name\": \"df_results\",\n  \"rows\": 10,\n  \"fields\": [\n    {\n      \"column\": \"yolo_v8m_freeze0\",\n      \"properties\": {\n        \"dtype\": \"number\",\n        \"std\": 0.17849051961519272,\n        \"min\": 0.0,\n        \"max\": 0.4435500469585264,\n        \"num_unique_values\": 9,\n        \"samples\": [\n          0.0004975124378109452,\n          0.43111223601325277,\n          0.08602854831231425\n        ],\n        \"semantic_type\": \"\",\n        \"description\": \"\"\n      }\n    },\n    {\n      \"column\": \"yolo_v8m_freeze10\",\n      \"properties\": {\n        \"dtype\": \"number\",\n        \"std\": 0.1671501153533048,\n        \"min\": 0.0,\n        \"max\": 0.4770845371457114,\n        \"num_unique_values\": 9,\n        \"samples\": [\n          0.0005970149253731343,\n          0.3350074689576248,\n          0.08845534192386269\n        ],\n        \"semantic_type\": \"\",\n        \"description\": \"\"\n      }\n    },\n    {\n      \"column\": \"yolo_v8m_freezeall\",\n      \"properties\": {\n        \"dtype\": \"number\",\n        \"std\": 0.16370314212366235,\n        \"min\": 0.0,\n        \"max\": 0.45207383168936116,\n        \"num_unique_values\": 10,\n        \"samples\": [\n          0.0016583747927031507,\n          0.3967264740680009,\n          0.14792703150912107\n        ],\n        \"semantic_type\": \"\",\n        \"description\": \"\"\n      }\n    },\n    {\n      \"column\": \"yolo_v8s_freeze10\",\n      \"properties\": {\n        \"dtype\": \"number\",\n        \"std\": 0.12779330160886443,\n        \"min\": 0.0,\n        \"max\": 0.31979060568870143,\n        \"num_unique_values\": 9,\n        \"samples\": [\n          0.007462686567164179,\n          0.28541557944543017,\n          0.09263265979683889\n        ],\n        \"semantic_type\": \"\",\n        \"description\": \"\"\n      }\n    },\n    {\n      \"column\": \"yolo_v8n_freeze10\",\n      \"properties\": {\n        \"dtype\": \"number\",\n        \"std\": 0.147454815294809,\n        \"min\": 0.0,\n        \"max\": 0.39248496294416596,\n        \"num_unique_values\": 10,\n        \"samples\": [\n          0.0036215978928884987,\n          0.34815558756548504,\n          0.07773597000989449\n        ],\n        \"semantic_type\": \"\",\n        \"description\": \"\"\n      }\n    }\n  ]\n}"
            }
          },
          "metadata": {},
          "execution_count": 144
        }
      ]
    },
    {
      "cell_type": "code",
      "source": [
        "# Define colors for the remaining models\n",
        "colors = ['black','royalblue', 'deeppink', 'limegreen', 'gold']\n",
        "\n",
        "plt.figure(figsize=(10, 6))\n",
        "\n",
        "# Plot the first column in black with linewidth 2\n",
        "plt.plot(df_results.index, df_results[df_results.columns[0]], linestyle='-', color=colors[0], linewidth=3, label=df_results.columns[0])\n",
        "\n",
        "# Plot the remaining columns in different shades of blue\n",
        "for i, column in enumerate(df_results.columns[1:]):\n",
        "    plt.plot(df_results.index, df_results[column], linestyle='-', color=colors[i+1], linewidth=1.5, label=column)\n",
        "\n",
        "plt.xlabel(\"IoU Threshold\")\n",
        "plt.ylabel(\"Average Precision (AP)\")\n",
        "plt.legend(title=\"Models\", loc=\"upper right\")\n",
        "plt.grid(False)\n",
        "plt.show()\n"
      ],
      "metadata": {
        "colab": {
          "base_uri": "https://localhost:8080/",
          "height": 546
        },
        "id": "Do8gFb4ge7AI",
        "outputId": "5cd45021-0e35-4aca-904b-6746f61b6faa"
      },
      "execution_count": 145,
      "outputs": [
        {
          "output_type": "display_data",
          "data": {
            "text/plain": [
              "<Figure size 1000x600 with 1 Axes>"
            ],
            "image/png": "[encoded data removed]"
          },
          "metadata": {}
        }
      ]
    },
    {
      "cell_type": "code",
      "source": [
        "# Create a new row with the calculated means and name it \"mAP50-95\"\n",
        "mAP_row = pd.DataFrame({'mAP50-95': df_results.mean(axis=0)})\n",
        "\n",
        "df_results_mAP = pd.concat([df_results, mAP_row.T], ignore_index=False)\n",
        "df_results_mAP\n",
        "\n"
      ],
      "metadata": {
        "colab": {
          "base_uri": "https://localhost:8080/",
          "height": 394
        },
        "id": "T8IvIQE6gxsP",
        "outputId": "e0d8f887-1b92-4303-b203-1c57e996e07a"
      },
      "execution_count": 146,
      "outputs": [
        {
          "output_type": "execute_result",
          "data": {
            "text/plain": [
              "          yolo_v8m_freeze0  yolo_v8m_freeze10  yolo_v8m_freezeall  \\\n",
              "0.5               0.443550           0.477085            0.452074   \n",
              "0.55              0.431112           0.335007            0.396726   \n",
              "0.6               0.309386           0.285353            0.260332   \n",
              "0.65              0.268623           0.227576            0.225041   \n",
              "0.7               0.146574           0.148439            0.188391   \n",
              "0.75              0.086029           0.088455            0.147927   \n",
              "0.8               0.026994           0.024550            0.032172   \n",
              "0.85              0.000498           0.000597            0.021559   \n",
              "0.9               0.000000           0.000597            0.001658   \n",
              "0.95              0.000000           0.000000            0.000000   \n",
              "mAP50-95          0.171277           0.158766            0.172588   \n",
              "\n",
              "          yolo_v8s_freeze10  yolo_v8n_freeze10  \n",
              "0.5                0.319791           0.392485  \n",
              "0.55               0.319791           0.348156  \n",
              "0.6                0.285416           0.283248  \n",
              "0.65               0.220463           0.217467  \n",
              "0.7                0.199923           0.128316  \n",
              "0.75               0.129657           0.077736  \n",
              "0.8                0.092633           0.058319  \n",
              "0.85               0.016418           0.018218  \n",
              "0.9                0.007463           0.003622  \n",
              "0.95               0.000000           0.000000  \n",
              "mAP50-95           0.159155           0.152757  "
            ],
            "text/html": [
              "\n",
              "  <div id=\"df-42a1e651-9d26-47e2-8963-dc9294999481\" class=\"colab-df-container\">\n",
              "    <div>\n",
              "<style scoped>\n",
              "    .dataframe tbody tr th:only-of-type {\n",
              "        vertical-align: middle;\n",
              "    }\n",
              "\n",
              "    .dataframe tbody tr th {\n",
              "        vertical-align: top;\n",
              "    }\n",
              "\n",
              "    .dataframe thead th {\n",
              "        text-align: right;\n",
              "    }\n",
              "</style>\n",
              "<table border=\"1\" class=\"dataframe\">\n",
              "  <thead>\n",
              "    <tr style=\"text-align: right;\">\n",
              "      <th></th>\n",
              "      <th>yolo_v8m_freeze0</th>\n",
              "      <th>yolo_v8m_freeze10</th>\n",
              "      <th>yolo_v8m_freezeall</th>\n",
              "      <th>yolo_v8s_freeze10</th>\n",
              "      <th>yolo_v8n_freeze10</th>\n",
              "    </tr>\n",
              "  </thead>\n",
              "  <tbody>\n",
              "    <tr>\n",
              "      <th>0.5</th>\n",
              "      <td>0.443550</td>\n",
              "      <td>0.477085</td>\n",
              "      <td>0.452074</td>\n",
              "      <td>0.319791</td>\n",
              "      <td>0.392485</td>\n",
              "    </tr>\n",
              "    <tr>\n",
              "      <th>0.55</th>\n",
              "      <td>0.431112</td>\n",
              "      <td>0.335007</td>\n",
              "      <td>0.396726</td>\n",
              "      <td>0.319791</td>\n",
              "      <td>0.348156</td>\n",
              "    </tr>\n",
              "    <tr>\n",
              "      <th>0.6</th>\n",
              "      <td>0.309386</td>\n",
              "      <td>0.285353</td>\n",
              "      <td>0.260332</td>\n",
              "      <td>0.285416</td>\n",
              "      <td>0.283248</td>\n",
              "    </tr>\n",
              "    <tr>\n",
              "      <th>0.65</th>\n",
              "      <td>0.268623</td>\n",
              "      <td>0.227576</td>\n",
              "      <td>0.225041</td>\n",
              "      <td>0.220463</td>\n",
              "      <td>0.217467</td>\n",
              "    </tr>\n",
              "    <tr>\n",
              "      <th>0.7</th>\n",
              "      <td>0.146574</td>\n",
              "      <td>0.148439</td>\n",
              "      <td>0.188391</td>\n",
              "      <td>0.199923</td>\n",
              "      <td>0.128316</td>\n",
              "    </tr>\n",
              "    <tr>\n",
              "      <th>0.75</th>\n",
              "      <td>0.086029</td>\n",
              "      <td>0.088455</td>\n",
              "      <td>0.147927</td>\n",
              "      <td>0.129657</td>\n",
              "      <td>0.077736</td>\n",
              "    </tr>\n",
              "    <tr>\n",
              "      <th>0.8</th>\n",
              "      <td>0.026994</td>\n",
              "      <td>0.024550</td>\n",
              "      <td>0.032172</td>\n",
              "      <td>0.092633</td>\n",
              "      <td>0.058319</td>\n",
              "    </tr>\n",
              "    <tr>\n",
              "      <th>0.85</th>\n",
              "      <td>0.000498</td>\n",
              "      <td>0.000597</td>\n",
              "      <td>0.021559</td>\n",
              "      <td>0.016418</td>\n",
              "      <td>0.018218</td>\n",
              "    </tr>\n",
              "    <tr>\n",
              "      <th>0.9</th>\n",
              "      <td>0.000000</td>\n",
              "      <td>0.000597</td>\n",
              "      <td>0.001658</td>\n",
              "      <td>0.007463</td>\n",
              "      <td>0.003622</td>\n",
              "    </tr>\n",
              "    <tr>\n",
              "      <th>0.95</th>\n",
              "      <td>0.000000</td>\n",
              "      <td>0.000000</td>\n",
              "      <td>0.000000</td>\n",
              "      <td>0.000000</td>\n",
              "      <td>0.000000</td>\n",
              "    </tr>\n",
              "    <tr>\n",
              "      <th>mAP50-95</th>\n",
              "      <td>0.171277</td>\n",
              "      <td>0.158766</td>\n",
              "      <td>0.172588</td>\n",
              "      <td>0.159155</td>\n",
              "      <td>0.152757</td>\n",
              "    </tr>\n",
              "  </tbody>\n",
              "</table>\n",
              "</div>\n",
              "    <div class=\"colab-df-buttons\">\n",
              "\n",
              "  <div class=\"colab-df-container\">\n",
              "    <button class=\"colab-df-convert\" onclick=\"convertToInteractive('df-42a1e651-9d26-47e2-8963-dc9294999481')\"\n",
              "            title=\"Convert this dataframe to an interactive table.\"\n",
              "            style=\"display:none;\">\n",
              "\n",
              "  <svg xmlns=\"http://www.w3.org/2000/svg\" height=\"24px\" viewBox=\"0 -960 960 960\">\n",
              "    <path d=\"M120-120v-720h720v720H120Zm60-500h600v-160H180v160Zm220 220h160v-160H400v160Zm0 220h160v-160H400v160ZM180-400h160v-160H180v160Zm440 0h160v-160H620v160ZM180-180h160v-160H180v160Zm440 0h160v-160H620v160Z\"/>\n",
              "  </svg>\n",
              "    </button>\n",
              "\n",
              "  <style>\n",
              "    .colab-df-container {\n",
              "      display:flex;\n",
              "      gap: 12px;\n",
              "    }\n",
              "\n",
              "    .colab-df-convert {\n",
              "      background-color: #E8F0FE;\n",
              "      border: none;\n",
              "      border-radius: 50%;\n",
              "      cursor: pointer;\n",
              "      display: none;\n",
              "      fill: #1967D2;\n",
              "      height: 32px;\n",
              "      padding: 0 0 0 0;\n",
              "      width: 32px;\n",
              "    }\n",
              "\n",
              "    .colab-df-convert:hover {\n",
              "      background-color: #E2EBFA;\n",
              "      box-shadow: 0px 1px 2px rgba(60, 64, 67, 0.3), 0px 1px 3px 1px rgba(60, 64, 67, 0.15);\n",
              "      fill: #174EA6;\n",
              "    }\n",
              "\n",
              "    .colab-df-buttons div {\n",
              "      margin-bottom: 4px;\n",
              "    }\n",
              "\n",
              "    [theme=dark] .colab-df-convert {\n",
              "      background-color: #3B4455;\n",
              "      fill: #D2E3FC;\n",
              "    }\n",
              "\n",
              "    [theme=dark] .colab-df-convert:hover {\n",
              "      background-color: #434B5C;\n",
              "      box-shadow: 0px 1px 3px 1px rgba(0, 0, 0, 0.15);\n",
              "      filter: drop-shadow(0px 1px 2px rgba(0, 0, 0, 0.3));\n",
              "      fill: #FFFFFF;\n",
              "    }\n",
              "  </style>\n",
              "\n",
              "    <script>\n",
              "      const buttonEl =\n",
              "        document.querySelector('#df-42a1e651-9d26-47e2-8963-dc9294999481 button.colab-df-convert');\n",
              "      buttonEl.style.display =\n",
              "        google.colab.kernel.accessAllowed ? 'block' : 'none';\n",
              "\n",
              "      async function convertToInteractive(key) {\n",
              "        const element = document.querySelector('#df-42a1e651-9d26-47e2-8963-dc9294999481');\n",
              "        const dataTable =\n",
              "          await google.colab.kernel.invokeFunction('convertToInteractive',\n",
              "                                                    [key], {});\n",
              "        if (!dataTable) return;\n",
              "\n",
              "        const docLinkHtml = 'Like what you see? Visit the ' +\n",
              "          '<a target=\"_blank\" href=https://colab.research.google.com/notebooks/data_table.ipynb>data table notebook</a>'\n",
              "          + ' to learn more about interactive tables.';\n",
              "        element.innerHTML = '';\n",
              "        dataTable['output_type'] = 'display_data';\n",
              "        await google.colab.output.renderOutput(dataTable, element);\n",
              "        const docLink = document.createElement('div');\n",
              "        docLink.innerHTML = docLinkHtml;\n",
              "        element.appendChild(docLink);\n",
              "      }\n",
              "    </script>\n",
              "  </div>\n",
              "\n",
              "\n",
              "<div id=\"df-cbfd9bb8-030a-46f7-a625-d1f83a50b390\">\n",
              "  <button class=\"colab-df-quickchart\" onclick=\"quickchart('df-cbfd9bb8-030a-46f7-a625-d1f83a50b390')\"\n",
              "            title=\"Suggest charts\"\n",
              "            style=\"display:none;\">\n",
              "\n",
              "<svg xmlns=\"http://www.w3.org/2000/svg\" height=\"24px\"viewBox=\"0 0 24 24\"\n",
              "     width=\"24px\">\n",
              "    <g>\n",
              "        <path d=\"M19 3H5c-1.1 0-2 .9-2 2v14c0 1.1.9 2 2 2h14c1.1 0 2-.9 2-2V5c0-1.1-.9-2-2-2zM9 17H7v-7h2v7zm4 0h-2V7h2v10zm4 0h-2v-4h2v4z\"/>\n",
              "    </g>\n",
              "</svg>\n",
              "  </button>\n",
              "\n",
              "<style>\n",
              "  .colab-df-quickchart {\n",
              "      --bg-color: #E8F0FE;\n",
              "      --fill-color: #1967D2;\n",
              "      --hover-bg-color: #E2EBFA;\n",
              "      --hover-fill-color: #174EA6;\n",
              "      --disabled-fill-color: #AAA;\n",
              "      --disabled-bg-color: #DDD;\n",
              "  }\n",
              "\n",
              "  [theme=dark] .colab-df-quickchart {\n",
              "      --bg-color: #3B4455;\n",
              "      --fill-color: #D2E3FC;\n",
              "      --hover-bg-color: #434B5C;\n",
              "      --hover-fill-color: #FFFFFF;\n",
              "      --disabled-bg-color: #3B4455;\n",
              "      --disabled-fill-color: #666;\n",
              "  }\n",
              "\n",
              "  .colab-df-quickchart {\n",
              "    background-color: var(--bg-color);\n",
              "    border: none;\n",
              "    border-radius: 50%;\n",
              "    cursor: pointer;\n",
              "    display: none;\n",
              "    fill: var(--fill-color);\n",
              "    height: 32px;\n",
              "    padding: 0;\n",
              "    width: 32px;\n",
              "  }\n",
              "\n",
              "  .colab-df-quickchart:hover {\n",
              "    background-color: var(--hover-bg-color);\n",
              "    box-shadow: 0 1px 2px rgba(60, 64, 67, 0.3), 0 1px 3px 1px rgba(60, 64, 67, 0.15);\n",
              "    fill: var(--button-hover-fill-color);\n",
              "  }\n",
              "\n",
              "  .colab-df-quickchart-complete:disabled,\n",
              "  .colab-df-quickchart-complete:disabled:hover {\n",
              "    background-color: var(--disabled-bg-color);\n",
              "    fill: var(--disabled-fill-color);\n",
              "    box-shadow: none;\n",
              "  }\n",
              "\n",
              "  .colab-df-spinner {\n",
              "    border: 2px solid var(--fill-color);\n",
              "    border-color: transparent;\n",
              "    border-bottom-color: var(--fill-color);\n",
              "    animation:\n",
              "      spin 1s steps(1) infinite;\n",
              "  }\n",
              "\n",
              "  @keyframes spin {\n",
              "    0% {\n",
              "      border-color: transparent;\n",
              "      border-bottom-color: var(--fill-color);\n",
              "      border-left-color: var(--fill-color);\n",
              "    }\n",
              "    20% {\n",
              "      border-color: transparent;\n",
              "      border-left-color: var(--fill-color);\n",
              "      border-top-color: var(--fill-color);\n",
              "    }\n",
              "    30% {\n",
              "      border-color: transparent;\n",
              "      border-left-color: var(--fill-color);\n",
              "      border-top-color: var(--fill-color);\n",
              "      border-right-color: var(--fill-color);\n",
              "    }\n",
              "    40% {\n",
              "      border-color: transparent;\n",
              "      border-right-color: var(--fill-color);\n",
              "      border-top-color: var(--fill-color);\n",
              "    }\n",
              "    60% {\n",
              "      border-color: transparent;\n",
              "      border-right-color: var(--fill-color);\n",
              "    }\n",
              "    80% {\n",
              "      border-color: transparent;\n",
              "      border-right-color: var(--fill-color);\n",
              "      border-bottom-color: var(--fill-color);\n",
              "    }\n",
              "    90% {\n",
              "      border-color: transparent;\n",
              "      border-bottom-color: var(--fill-color);\n",
              "    }\n",
              "  }\n",
              "</style>\n",
              "\n",
              "  <script>\n",
              "    async function quickchart(key) {\n",
              "      const quickchartButtonEl =\n",
              "        document.querySelector('#' + key + ' button');\n",
              "      quickchartButtonEl.disabled = true;  // To prevent multiple clicks.\n",
              "      quickchartButtonEl.classList.add('colab-df-spinner');\n",
              "      try {\n",
              "        const charts = await google.colab.kernel.invokeFunction(\n",
              "            'suggestCharts', [key], {});\n",
              "      } catch (error) {\n",
              "        console.error('Error during call to suggestCharts:', error);\n",
              "      }\n",
              "      quickchartButtonEl.classList.remove('colab-df-spinner');\n",
              "      quickchartButtonEl.classList.add('colab-df-quickchart-complete');\n",
              "    }\n",
              "    (() => {\n",
              "      let quickchartButtonEl =\n",
              "        document.querySelector('#df-cbfd9bb8-030a-46f7-a625-d1f83a50b390 button');\n",
              "      quickchartButtonEl.style.display =\n",
              "        google.colab.kernel.accessAllowed ? 'block' : 'none';\n",
              "    })();\n",
              "  </script>\n",
              "</div>\n",
              "\n",
              "  <div id=\"id_52388791-53b1-4e1b-a169-d1ce67906588\">\n",
              "    <style>\n",
              "      .colab-df-generate {\n",
              "        background-color: #E8F0FE;\n",
              "        border: none;\n",
              "        border-radius: 50%;\n",
              "        cursor: pointer;\n",
              "        display: none;\n",
              "        fill: #1967D2;\n",
              "        height: 32px;\n",
              "        padding: 0 0 0 0;\n",
              "        width: 32px;\n",
              "      }\n",
              "\n",
              "      .colab-df-generate:hover {\n",
              "        background-color: #E2EBFA;\n",
              "        box-shadow: 0px 1px 2px rgba(60, 64, 67, 0.3), 0px 1px 3px 1px rgba(60, 64, 67, 0.15);\n",
              "        fill: #174EA6;\n",
              "      }\n",
              "\n",
              "      [theme=dark] .colab-df-generate {\n",
              "        background-color: #3B4455;\n",
              "        fill: #D2E3FC;\n",
              "      }\n",
              "\n",
              "      [theme=dark] .colab-df-generate:hover {\n",
              "        background-color: #434B5C;\n",
              "        box-shadow: 0px 1px 3px 1px rgba(0, 0, 0, 0.15);\n",
              "        filter: drop-shadow(0px 1px 2px rgba(0, 0, 0, 0.3));\n",
              "        fill: #FFFFFF;\n",
              "      }\n",
              "    </style>\n",
              "    <button class=\"colab-df-generate\" onclick=\"generateWithVariable('df_results_mAP')\"\n",
              "            title=\"Generate code using this dataframe.\"\n",
              "            style=\"display:none;\">\n",
              "\n",
              "  <svg xmlns=\"http://www.w3.org/2000/svg\" height=\"24px\"viewBox=\"0 0 24 24\"\n",
              "       width=\"24px\">\n",
              "    <path d=\"M7,19H8.4L18.45,9,17,7.55,7,17.6ZM5,21V16.75L18.45,3.32a2,2,0,0,1,2.83,0l1.4,1.43a1.91,1.91,0,0,1,.58,1.4,1.91,1.91,0,0,1-.58,1.4L9.25,21ZM18.45,9,17,7.55Zm-12,3A5.31,5.31,0,0,0,4.9,8.1,5.31,5.31,0,0,0,1,6.5,5.31,5.31,0,0,0,4.9,4.9,5.31,5.31,0,0,0,6.5,1,5.31,5.31,0,0,0,8.1,4.9,5.31,5.31,0,0,0,12,6.5,5.46,5.46,0,0,0,6.5,12Z\"/>\n",
              "  </svg>\n",
              "    </button>\n",
              "    <script>\n",
              "      (() => {\n",
              "      const buttonEl =\n",
              "        document.querySelector('#id_52388791-53b1-4e1b-a169-d1ce67906588 button.colab-df-generate');\n",
              "      buttonEl.style.display =\n",
              "        google.colab.kernel.accessAllowed ? 'block' : 'none';\n",
              "\n",
              "      buttonEl.onclick = () => {\n",
              "        google.colab.notebook.generateWithVariable('df_results_mAP');\n",
              "      }\n",
              "      })();\n",
              "    </script>\n",
              "  </div>\n",
              "\n",
              "    </div>\n",
              "  </div>\n"
            ],
            "application/vnd.google.colaboratory.intrinsic+json": {
              "type": "dataframe",
              "variable_name": "df_results_mAP",
              "summary": "{\n  \"name\": \"df_results_mAP\",\n  \"rows\": 11,\n  \"fields\": [\n    {\n      \"column\": \"yolo_v8m_freeze0\",\n      \"properties\": {\n        \"dtype\": \"number\",\n        \"std\": 0.16933097481929094,\n        \"min\": 0.0,\n        \"max\": 0.4435500469585264,\n        \"num_unique_values\": 10,\n        \"samples\": [\n          0.0,\n          0.43111223601325277,\n          0.08602854831231425\n        ],\n        \"semantic_type\": \"\",\n        \"description\": \"\"\n      }\n    },\n    {\n      \"column\": \"yolo_v8m_freeze10\",\n      \"properties\": {\n        \"dtype\": \"number\",\n        \"std\": 0.158572522702897,\n        \"min\": 0.0,\n        \"max\": 0.4770845371457114,\n        \"num_unique_values\": 10,\n        \"samples\": [\n          0.0,\n          0.3350074689576248,\n          0.08845534192386269\n        ],\n        \"semantic_type\": \"\",\n        \"description\": \"\"\n      }\n    },\n    {\n      \"column\": \"yolo_v8m_freezeall\",\n      \"properties\": {\n        \"dtype\": \"number\",\n        \"std\": 0.155302436771108,\n        \"min\": 0.0,\n        \"max\": 0.45207383168936116,\n        \"num_unique_values\": 11,\n        \"samples\": [\n          0.14792703150912107,\n          0.45207383168936116,\n          0.0\n        ],\n        \"semantic_type\": \"\",\n        \"description\": \"\"\n      }\n    },\n    {\n      \"column\": \"yolo_v8s_freeze10\",\n      \"properties\": {\n        \"dtype\": \"number\",\n        \"std\": 0.12123537083906154,\n        \"min\": 0.0,\n        \"max\": 0.31979060568870143,\n        \"num_unique_values\": 10,\n        \"samples\": [\n          0.0,\n          0.28541557944543017,\n          0.09263265979683889\n        ],\n        \"semantic_type\": \"\",\n        \"description\": \"\"\n      }\n    },\n    {\n      \"column\": \"yolo_v8n_freeze10\",\n      \"properties\": {\n        \"dtype\": \"number\",\n        \"std\": 0.13988792048730875,\n        \"min\": 0.0,\n        \"max\": 0.39248496294416596,\n        \"num_unique_values\": 11,\n        \"samples\": [\n          0.07773597000989449,\n          0.39248496294416596,\n          0.0\n        ],\n        \"semantic_type\": \"\",\n        \"description\": \"\"\n      }\n    }\n  ]\n}"
            }
          },
          "metadata": {},
          "execution_count": 146
        }
      ]
    },
    {
      "cell_type": "code",
      "source": [
        "# Create the bar plot\n",
        "plt.figure(figsize=(6, 6))\n",
        "bars = plt.bar(df_results_mAP.columns, df_results_mAP.loc['mAP50-95'], color=colors)\n",
        "\n",
        "plt.xlabel(\"Models\")\n",
        "plt.ylabel(\"mAP50-95\")\n",
        "plt.xticks(rotation=45, ha='right')  # Rotate x-axis labels for better readability\n",
        "plt.tight_layout()\n",
        "\n",
        "# Add value labels on top of the bars\n",
        "for bar in bars:\n",
        "    yval = bar.get_height()\n",
        "    plt.text(bar.get_x() + bar.get_width()/2, yval, round(yval, 3), va='bottom', ha='center')\n",
        "\n",
        "plt.show()\n"
      ],
      "metadata": {
        "colab": {
          "base_uri": "https://localhost:8080/",
          "height": 607
        },
        "id": "8xmaAvbRhYit",
        "outputId": "f14434c1-ebbb-48c8-a0d5-afeac69c112c"
      },
      "execution_count": 157,
      "outputs": [
        {
          "output_type": "display_data",
          "data": {
            "text/plain": [
              "<Figure size 600x600 with 1 Axes>"
            ],
            "image/png": "[encoded data removed]"
          },
          "metadata": {}
        }
      ]
    },
    {
      "cell_type": "markdown",
      "source": [
        "Combining insights from the confusion matrices, average precision values, and mAP50-95 scores, the best-performing models appear to be the YOLO v8 medium variant, with either the backbone (10 layers) or all layers frozen during training.\n",
        "\n",
        "So far, we have evaluated models trained exclusively on images containing fractures. As a result, the confusion matrices lack true values for the \"No Fracture Found\" category. In the next step, we will assess the model’s performance on a balanced dataset that includes both images with fractures and those without.\n",
        "\n",
        "The confusion matrix and the AP at an IoU of > 0.5 were best for the model where we froze the backbone - thus we are going to use this model in the next step."
      ],
      "metadata": {
        "id": "mu2RwKJNrCkU"
      }
    },
    {
      "cell_type": "markdown",
      "source": [
        "# Object detection incl. images with no fractures"
      ],
      "metadata": {
        "id": "21YQqItuskML"
      }
    },
    {
      "cell_type": "code",
      "source": [
        "# Set dataset path\n",
        "dataset_path = \"/content/drive/MyDrive/data_object_detection_incl_not_fractured_yolo\"\n",
        "\n",
        "test_images_dir_all = f\"{dataset_path}/images/test\"\n",
        "\n",
        "test_images_all = [f for f in os.listdir(test_images_dir_all)\n",
        "               if f.lower().endswith((\".jpg\", \".png\", \".jpeg\"))]\n",
        "\n",
        "models = [\"yolo_v8m_freeze10.pt\"]\n",
        "\n",
        "\n",
        "len(test_images_all)"
      ],
      "metadata": {
        "colab": {
          "base_uri": "https://localhost:8080/"
        },
        "id": "NC-8DNZCqjE2",
        "outputId": "0830e839-4a52-4bcb-9953-c604c5b336e2"
      },
      "execution_count": 151,
      "outputs": [
        {
          "output_type": "execute_result",
          "data": {
            "text/plain": [
              "122"
            ]
          },
          "metadata": {},
          "execution_count": 151
        }
      ]
    },
    {
      "cell_type": "code",
      "source": [
        "eval_results_no_fractures = evaluate_models(models, test_images_all, drive_model_dir, test_images_dir_all)"
      ],
      "metadata": {
        "colab": {
          "base_uri": "https://localhost:8080/",
          "height": 1000
        },
        "id": "f2Cq2x4pzHqK",
        "outputId": "71088181-f53e-4baf-d99e-186587546b9a"
      },
      "execution_count": 152,
      "outputs": [
        {
          "output_type": "stream",
          "name": "stdout",
          "text": [
            "\n",
            "Loading Model: yolo_v8m_freeze10.pt\n"
          ]
        },
        {
          "output_type": "stream",
          "name": "stderr",
          "text": [
            "\r  0%|          | 0/122 [00:00<?, ?it/s]"
          ]
        },
        {
          "output_type": "stream",
          "name": "stdout",
          "text": [
            "\n",
            "image 1/1 /content/drive/MyDrive/data_object_detection_incl_not_fractured_yolo/images/test/IMG0003023.jpg: 640x544 (no detections), 38.1ms\n",
            "Speed: 3.6ms preprocess, 38.1ms inference, 0.8ms postprocess per image at shape (1, 3, 640, 544)\n"
          ]
        },
        {
          "output_type": "stream",
          "name": "stderr",
          "text": [
            "\r  1%|          | 1/122 [00:00<01:08,  1.76it/s]"
          ]
        },
        {
          "output_type": "stream",
          "name": "stdout",
          "text": [
            "\n",
            "image 1/1 /content/drive/MyDrive/data_object_detection_incl_not_fractured_yolo/images/test/IMG0000385.jpg: 544x640 (no detections), 36.2ms\n",
            "Speed: 3.9ms preprocess, 36.2ms inference, 0.7ms postprocess per image at shape (1, 3, 544, 640)\n"
          ]
        },
        {
          "output_type": "stream",
          "name": "stderr",
          "text": [
            "\r  2%|▏         | 2/122 [00:00<00:47,  2.55it/s]"
          ]
        },
        {
          "output_type": "stream",
          "name": "stdout",
          "text": [
            "\n",
            "image 1/1 /content/drive/MyDrive/data_object_detection_incl_not_fractured_yolo/images/test/IMG0003459.jpg: 640x544 1 fractured, 36.7ms\n",
            "Speed: 3.6ms preprocess, 36.7ms inference, 1.5ms postprocess per image at shape (1, 3, 640, 544)\n",
            "\n",
            "image 1/1 /content/drive/MyDrive/data_object_detection_incl_not_fractured_yolo/images/test/IMG0003588.jpg: 640x544 1 fractured, 34.7ms\n",
            "Speed: 3.4ms preprocess, 34.7ms inference, 1.5ms postprocess per image at shape (1, 3, 640, 544)\n"
          ]
        },
        {
          "output_type": "stream",
          "name": "stderr",
          "text": [
            "\r  3%|▎         | 4/122 [00:00<00:21,  5.50it/s]"
          ]
        },
        {
          "output_type": "stream",
          "name": "stdout",
          "text": [
            "\n",
            "image 1/1 /content/drive/MyDrive/data_object_detection_incl_not_fractured_yolo/images/test/IMG0000789.jpg: 544x640 (no detections), 33.9ms\n",
            "Speed: 3.5ms preprocess, 33.9ms inference, 0.6ms postprocess per image at shape (1, 3, 544, 640)\n",
            "\n",
            "image 1/1 /content/drive/MyDrive/data_object_detection_incl_not_fractured_yolo/images/test/IMG0000214.jpg: 512x640 1 fractured, 28.0ms\n",
            "Speed: 4.6ms preprocess, 28.0ms inference, 2.0ms postprocess per image at shape (1, 3, 512, 640)\n"
          ]
        },
        {
          "output_type": "stream",
          "name": "stderr",
          "text": [
            "\r  5%|▍         | 6/122 [00:01<00:20,  5.63it/s]"
          ]
        },
        {
          "output_type": "stream",
          "name": "stdout",
          "text": [
            "\n",
            "image 1/1 /content/drive/MyDrive/data_object_detection_incl_not_fractured_yolo/images/test/IMG0003308.jpg: 640x544 1 fractured, 34.8ms\n",
            "Speed: 3.5ms preprocess, 34.8ms inference, 8.6ms postprocess per image at shape (1, 3, 640, 544)\n",
            "\n",
            "image 1/1 /content/drive/MyDrive/data_object_detection_incl_not_fractured_yolo/images/test/IMG0003545.jpg: 640x544 (no detections), 33.5ms\n",
            "Speed: 3.3ms preprocess, 33.5ms inference, 1.4ms postprocess per image at shape (1, 3, 640, 544)\n"
          ]
        },
        {
          "output_type": "stream",
          "name": "stderr",
          "text": [
            "\r  7%|▋         | 8/122 [00:01<00:14,  7.61it/s]"
          ]
        },
        {
          "output_type": "stream",
          "name": "stdout",
          "text": [
            "\n",
            "image 1/1 /content/drive/MyDrive/data_object_detection_incl_not_fractured_yolo/images/test/IMG0001912.jpg: 544x640 (no detections), 33.8ms\n",
            "Speed: 3.3ms preprocess, 33.8ms inference, 0.5ms postprocess per image at shape (1, 3, 544, 640)\n",
            "\n",
            "image 1/1 /content/drive/MyDrive/data_object_detection_incl_not_fractured_yolo/images/test/IMG0003913.jpg: 544x640 (no detections), 32.8ms\n",
            "Speed: 3.5ms preprocess, 32.8ms inference, 0.7ms postprocess per image at shape (1, 3, 544, 640)\n"
          ]
        },
        {
          "output_type": "stream",
          "name": "stderr",
          "text": [
            "\r  8%|▊         | 10/122 [00:01<00:11,  9.69it/s]"
          ]
        },
        {
          "output_type": "stream",
          "name": "stdout",
          "text": [
            "\n",
            "image 1/1 /content/drive/MyDrive/data_object_detection_incl_not_fractured_yolo/images/test/IMG0003564.jpg: 640x544 1 fractured, 24.8ms\n",
            "Speed: 3.5ms preprocess, 24.8ms inference, 1.6ms postprocess per image at shape (1, 3, 640, 544)\n",
            "\n",
            "image 1/1 /content/drive/MyDrive/data_object_detection_incl_not_fractured_yolo/images/test/IMG0003490.jpg: 640x544 1 fractured, 23.8ms\n",
            "Speed: 3.3ms preprocess, 23.8ms inference, 1.7ms postprocess per image at shape (1, 3, 640, 544)\n",
            "\n",
            "image 1/1 /content/drive/MyDrive/data_object_detection_incl_not_fractured_yolo/images/test/IMG0003569.jpg: 640x544 (no detections), 23.8ms\n",
            "Speed: 3.4ms preprocess, 23.8ms inference, 0.8ms postprocess per image at shape (1, 3, 640, 544)\n"
          ]
        },
        {
          "output_type": "stream",
          "name": "stderr",
          "text": [
            "\r 11%|█         | 13/122 [00:01<00:08, 12.78it/s]"
          ]
        },
        {
          "output_type": "stream",
          "name": "stdout",
          "text": [
            "\n",
            "image 1/1 /content/drive/MyDrive/data_object_detection_incl_not_fractured_yolo/images/test/IMG0003626.jpg: 640x544 1 fractured, 23.8ms\n",
            "Speed: 3.3ms preprocess, 23.8ms inference, 1.5ms postprocess per image at shape (1, 3, 640, 544)\n",
            "\n",
            "image 1/1 /content/drive/MyDrive/data_object_detection_incl_not_fractured_yolo/images/test/IMG0003467.jpg: 640x544 (no detections), 21.2ms\n",
            "Speed: 3.3ms preprocess, 21.2ms inference, 0.6ms postprocess per image at shape (1, 3, 640, 544)\n",
            "\n",
            "image 1/1 /content/drive/MyDrive/data_object_detection_incl_not_fractured_yolo/images/test/IMG0002752.jpg: 640x544 (no detections), 20.8ms\n",
            "Speed: 3.3ms preprocess, 20.8ms inference, 0.6ms postprocess per image at shape (1, 3, 640, 544)\n"
          ]
        },
        {
          "output_type": "stream",
          "name": "stderr",
          "text": [
            "\r 13%|█▎        | 16/122 [00:01<00:07, 14.93it/s]"
          ]
        },
        {
          "output_type": "stream",
          "name": "stdout",
          "text": [
            "\n",
            "image 1/1 /content/drive/MyDrive/data_object_detection_incl_not_fractured_yolo/images/test/IMG0001637.jpg: 640x544 (no detections), 20.6ms\n",
            "Speed: 3.2ms preprocess, 20.6ms inference, 0.7ms postprocess per image at shape (1, 3, 640, 544)\n",
            "\n",
            "image 1/1 /content/drive/MyDrive/data_object_detection_incl_not_fractured_yolo/images/test/IMG0003310.jpg: 640x544 (no detections), 20.4ms\n",
            "Speed: 3.3ms preprocess, 20.4ms inference, 0.7ms postprocess per image at shape (1, 3, 640, 544)\n",
            "\n",
            "image 1/1 /content/drive/MyDrive/data_object_detection_incl_not_fractured_yolo/images/test/IMG0003397.jpg: 640x544 1 fractured, 20.3ms\n",
            "Speed: 3.3ms preprocess, 20.3ms inference, 1.5ms postprocess per image at shape (1, 3, 640, 544)\n"
          ]
        },
        {
          "output_type": "stream",
          "name": "stderr",
          "text": [
            "\r 16%|█▌        | 19/122 [00:01<00:05, 17.26it/s]"
          ]
        },
        {
          "output_type": "stream",
          "name": "stdout",
          "text": [
            "\n",
            "image 1/1 /content/drive/MyDrive/data_object_detection_incl_not_fractured_yolo/images/test/IMG0001651.jpg: 544x640 (no detections), 18.1ms\n",
            "Speed: 3.3ms preprocess, 18.1ms inference, 0.6ms postprocess per image at shape (1, 3, 544, 640)\n",
            "\n",
            "image 1/1 /content/drive/MyDrive/data_object_detection_incl_not_fractured_yolo/images/test/IMG0003619.jpg: 640x544 1 fractured, 20.5ms\n",
            "Speed: 3.2ms preprocess, 20.5ms inference, 1.9ms postprocess per image at shape (1, 3, 640, 544)\n",
            "\n",
            "image 1/1 /content/drive/MyDrive/data_object_detection_incl_not_fractured_yolo/images/test/IMG0000545.jpg: 544x640 (no detections), 18.0ms\n",
            "Speed: 2.8ms preprocess, 18.0ms inference, 0.6ms postprocess per image at shape (1, 3, 544, 640)\n"
          ]
        },
        {
          "output_type": "stream",
          "name": "stderr",
          "text": [
            "\r 18%|█▊        | 22/122 [00:02<00:05, 19.31it/s]"
          ]
        },
        {
          "output_type": "stream",
          "name": "stdout",
          "text": [
            "\n",
            "image 1/1 /content/drive/MyDrive/data_object_detection_incl_not_fractured_yolo/images/test/IMG0003168.jpg: 640x544 (no detections), 18.3ms\n",
            "Speed: 3.4ms preprocess, 18.3ms inference, 0.7ms postprocess per image at shape (1, 3, 640, 544)\n",
            "\n",
            "image 1/1 /content/drive/MyDrive/data_object_detection_incl_not_fractured_yolo/images/test/IMG0004011.jpg: 640x544 (no detections), 17.4ms\n",
            "Speed: 3.5ms preprocess, 17.4ms inference, 0.6ms postprocess per image at shape (1, 3, 640, 544)\n",
            "\n",
            "image 1/1 /content/drive/MyDrive/data_object_detection_incl_not_fractured_yolo/images/test/IMG0003704.jpg: 640x544 (no detections), 16.6ms\n",
            "Speed: 3.7ms preprocess, 16.6ms inference, 0.6ms postprocess per image at shape (1, 3, 640, 544)\n"
          ]
        },
        {
          "output_type": "stream",
          "name": "stderr",
          "text": [
            "\r 20%|██        | 25/122 [00:02<00:04, 20.85it/s]"
          ]
        },
        {
          "output_type": "stream",
          "name": "stdout",
          "text": [
            "\n",
            "image 1/1 /content/drive/MyDrive/data_object_detection_incl_not_fractured_yolo/images/test/IMG0003546.jpg: 640x544 (no detections), 16.4ms\n",
            "Speed: 4.3ms preprocess, 16.4ms inference, 0.6ms postprocess per image at shape (1, 3, 640, 544)\n",
            "\n",
            "image 1/1 /content/drive/MyDrive/data_object_detection_incl_not_fractured_yolo/images/test/IMG0001516.jpg: 544x640 1 fractured, 17.0ms\n",
            "Speed: 3.4ms preprocess, 17.0ms inference, 1.4ms postprocess per image at shape (1, 3, 544, 640)\n",
            "\n",
            "image 1/1 /content/drive/MyDrive/data_object_detection_incl_not_fractured_yolo/images/test/IMG0002852.jpg: 544x640 (no detections), 16.0ms\n",
            "Speed: 3.5ms preprocess, 16.0ms inference, 0.8ms postprocess per image at shape (1, 3, 544, 640)\n"
          ]
        },
        {
          "output_type": "stream",
          "name": "stderr",
          "text": [
            "\r 23%|██▎       | 28/122 [00:02<00:04, 22.64it/s]"
          ]
        },
        {
          "output_type": "stream",
          "name": "stdout",
          "text": [
            "\n",
            "image 1/1 /content/drive/MyDrive/data_object_detection_incl_not_fractured_yolo/images/test/IMG0001412.jpg: 544x640 1 fractured, 17.0ms\n",
            "Speed: 4.2ms preprocess, 17.0ms inference, 1.7ms postprocess per image at shape (1, 3, 544, 640)\n",
            "\n",
            "image 1/1 /content/drive/MyDrive/data_object_detection_incl_not_fractured_yolo/images/test/IMG0003703.jpg: 640x544 1 fractured, 17.4ms\n",
            "Speed: 4.7ms preprocess, 17.4ms inference, 2.1ms postprocess per image at shape (1, 3, 640, 544)\n",
            "\n",
            "image 1/1 /content/drive/MyDrive/data_object_detection_incl_not_fractured_yolo/images/test/IMG0003519.jpg: 640x544 1 fractured, 16.4ms\n",
            "Speed: 6.5ms preprocess, 16.4ms inference, 1.4ms postprocess per image at shape (1, 3, 640, 544)\n"
          ]
        },
        {
          "output_type": "stream",
          "name": "stderr",
          "text": [
            "\r 25%|██▌       | 31/122 [00:02<00:03, 22.81it/s]"
          ]
        },
        {
          "output_type": "stream",
          "name": "stdout",
          "text": [
            "\n",
            "image 1/1 /content/drive/MyDrive/data_object_detection_incl_not_fractured_yolo/images/test/IMG0003381.jpg: 640x544 1 fractured, 16.5ms\n",
            "Speed: 6.1ms preprocess, 16.5ms inference, 1.7ms postprocess per image at shape (1, 3, 640, 544)\n",
            "\n",
            "image 1/1 /content/drive/MyDrive/data_object_detection_incl_not_fractured_yolo/images/test/IMG0003331.jpg: 640x544 (no detections), 16.6ms\n",
            "Speed: 3.8ms preprocess, 16.6ms inference, 0.8ms postprocess per image at shape (1, 3, 640, 544)\n",
            "\n",
            "image 1/1 /content/drive/MyDrive/data_object_detection_incl_not_fractured_yolo/images/test/IMG0003654.jpg: 640x544 1 fractured, 16.5ms\n",
            "Speed: 3.7ms preprocess, 16.5ms inference, 1.8ms postprocess per image at shape (1, 3, 640, 544)\n"
          ]
        },
        {
          "output_type": "stream",
          "name": "stderr",
          "text": [
            "\r 28%|██▊       | 34/122 [00:02<00:03, 23.14it/s]"
          ]
        },
        {
          "output_type": "stream",
          "name": "stdout",
          "text": [
            "\n",
            "image 1/1 /content/drive/MyDrive/data_object_detection_incl_not_fractured_yolo/images/test/IMG0002788.jpg: 544x640 (no detections), 17.8ms\n",
            "Speed: 3.3ms preprocess, 17.8ms inference, 0.7ms postprocess per image at shape (1, 3, 544, 640)\n",
            "\n",
            "image 1/1 /content/drive/MyDrive/data_object_detection_incl_not_fractured_yolo/images/test/IMG0000079.jpg: 640x512 (no detections), 14.3ms\n",
            "Speed: 6.9ms preprocess, 14.3ms inference, 0.7ms postprocess per image at shape (1, 3, 640, 512)\n",
            "\n",
            "image 1/1 /content/drive/MyDrive/data_object_detection_incl_not_fractured_yolo/images/test/IMG0003625.jpg: 640x544 1 fractured, 17.3ms\n",
            "Speed: 3.6ms preprocess, 17.3ms inference, 7.9ms postprocess per image at shape (1, 3, 640, 544)\n"
          ]
        },
        {
          "output_type": "stream",
          "name": "stderr",
          "text": [
            "\r 30%|███       | 37/122 [00:02<00:05, 14.21it/s]"
          ]
        },
        {
          "output_type": "stream",
          "name": "stdout",
          "text": [
            "\n",
            "image 1/1 /content/drive/MyDrive/data_object_detection_incl_not_fractured_yolo/images/test/IMG0003332.jpg: 640x544 (no detections), 16.4ms\n",
            "Speed: 3.3ms preprocess, 16.4ms inference, 0.8ms postprocess per image at shape (1, 3, 640, 544)\n",
            "\n",
            "image 1/1 /content/drive/MyDrive/data_object_detection_incl_not_fractured_yolo/images/test/IMG0003382.jpg: 640x544 1 fractured, 16.7ms\n",
            "Speed: 3.3ms preprocess, 16.7ms inference, 1.8ms postprocess per image at shape (1, 3, 640, 544)\n",
            "\n",
            "image 1/1 /content/drive/MyDrive/data_object_detection_incl_not_fractured_yolo/images/test/IMG0003972.jpg: 640x544 (no detections), 16.6ms\n",
            "Speed: 3.9ms preprocess, 16.6ms inference, 0.7ms postprocess per image at shape (1, 3, 640, 544)\n"
          ]
        },
        {
          "output_type": "stream",
          "name": "stderr",
          "text": [
            "\r 33%|███▎      | 40/122 [00:03<00:05, 15.96it/s]"
          ]
        },
        {
          "output_type": "stream",
          "name": "stdout",
          "text": [
            "\n",
            "image 1/1 /content/drive/MyDrive/data_object_detection_incl_not_fractured_yolo/images/test/IMG0002082.jpg: 640x544 (no detections), 16.5ms\n",
            "Speed: 2.4ms preprocess, 16.5ms inference, 0.7ms postprocess per image at shape (1, 3, 640, 544)\n",
            "\n",
            "image 1/1 /content/drive/MyDrive/data_object_detection_incl_not_fractured_yolo/images/test/IMG0002841.jpg: 640x544 (no detections), 16.5ms\n",
            "Speed: 3.3ms preprocess, 16.5ms inference, 0.8ms postprocess per image at shape (1, 3, 640, 544)\n",
            "\n",
            "image 1/1 /content/drive/MyDrive/data_object_detection_incl_not_fractured_yolo/images/test/IMG0003399.jpg: 640x544 2 fractureds, 16.5ms\n",
            "Speed: 3.5ms preprocess, 16.5ms inference, 1.9ms postprocess per image at shape (1, 3, 640, 544)\n"
          ]
        },
        {
          "output_type": "stream",
          "name": "stderr",
          "text": [
            "\r 35%|███▌      | 43/122 [00:03<00:04, 17.85it/s]"
          ]
        },
        {
          "output_type": "stream",
          "name": "stdout",
          "text": [
            "\n",
            "image 1/1 /content/drive/MyDrive/data_object_detection_incl_not_fractured_yolo/images/test/IMG0003712.jpg: 640x544 1 fractured, 16.5ms\n",
            "Speed: 3.4ms preprocess, 16.5ms inference, 1.7ms postprocess per image at shape (1, 3, 640, 544)\n",
            "\n",
            "image 1/1 /content/drive/MyDrive/data_object_detection_incl_not_fractured_yolo/images/test/IMG0003523.jpg: 640x544 1 fractured, 16.6ms\n",
            "Speed: 3.3ms preprocess, 16.6ms inference, 5.3ms postprocess per image at shape (1, 3, 640, 544)\n",
            "\n",
            "image 1/1 /content/drive/MyDrive/data_object_detection_incl_not_fractured_yolo/images/test/IMG0000976.jpg: 640x544 (no detections), 23.6ms\n",
            "Speed: 5.2ms preprocess, 23.6ms inference, 2.0ms postprocess per image at shape (1, 3, 640, 544)\n"
          ]
        },
        {
          "output_type": "stream",
          "name": "stderr",
          "text": [
            "\r 38%|███▊      | 46/122 [00:03<00:04, 18.91it/s]"
          ]
        },
        {
          "output_type": "stream",
          "name": "stdout",
          "text": [
            "\n",
            "image 1/1 /content/drive/MyDrive/data_object_detection_incl_not_fractured_yolo/images/test/IMG0002709.jpg: 640x544 (no detections), 16.4ms\n",
            "Speed: 3.8ms preprocess, 16.4ms inference, 0.8ms postprocess per image at shape (1, 3, 640, 544)\n",
            "\n",
            "image 1/1 /content/drive/MyDrive/data_object_detection_incl_not_fractured_yolo/images/test/IMG0003723.jpg: 544x640 (no detections), 17.5ms\n",
            "Speed: 3.3ms preprocess, 17.5ms inference, 0.8ms postprocess per image at shape (1, 3, 544, 640)\n",
            "\n",
            "image 1/1 /content/drive/MyDrive/data_object_detection_incl_not_fractured_yolo/images/test/IMG0003587.jpg: 640x544 1 fractured, 17.5ms\n",
            "Speed: 3.3ms preprocess, 17.5ms inference, 2.3ms postprocess per image at shape (1, 3, 640, 544)\n"
          ]
        },
        {
          "output_type": "stream",
          "name": "stderr",
          "text": [
            "\r 40%|████      | 49/122 [00:03<00:03, 20.18it/s]"
          ]
        },
        {
          "output_type": "stream",
          "name": "stdout",
          "text": [
            "\n",
            "image 1/1 /content/drive/MyDrive/data_object_detection_incl_not_fractured_yolo/images/test/IMG0003645.jpg: 640x544 (no detections), 18.3ms\n",
            "Speed: 3.3ms preprocess, 18.3ms inference, 0.7ms postprocess per image at shape (1, 3, 640, 544)\n",
            "\n",
            "image 1/1 /content/drive/MyDrive/data_object_detection_incl_not_fractured_yolo/images/test/IMG0002198.jpg: 640x544 (no detections), 16.4ms\n",
            "Speed: 2.5ms preprocess, 16.4ms inference, 0.6ms postprocess per image at shape (1, 3, 640, 544)\n",
            "\n",
            "image 1/1 /content/drive/MyDrive/data_object_detection_incl_not_fractured_yolo/images/test/IMG0000529.jpg: 640x544 (no detections), 16.2ms\n",
            "Speed: 2.4ms preprocess, 16.2ms inference, 0.5ms postprocess per image at shape (1, 3, 640, 544)\n"
          ]
        },
        {
          "output_type": "stream",
          "name": "stderr",
          "text": [
            "\r 43%|████▎     | 52/122 [00:03<00:03, 22.03it/s]"
          ]
        },
        {
          "output_type": "stream",
          "name": "stdout",
          "text": [
            "\n",
            "image 1/1 /content/drive/MyDrive/data_object_detection_incl_not_fractured_yolo/images/test/IMG0003374.jpg: 640x544 1 fractured, 16.9ms\n",
            "Speed: 3.2ms preprocess, 16.9ms inference, 1.5ms postprocess per image at shape (1, 3, 640, 544)\n",
            "\n",
            "image 1/1 /content/drive/MyDrive/data_object_detection_incl_not_fractured_yolo/images/test/IMG0004299.jpg: 640x544 (no detections), 16.9ms\n",
            "Speed: 3.0ms preprocess, 16.9ms inference, 0.6ms postprocess per image at shape (1, 3, 640, 544)\n",
            "\n",
            "image 1/1 /content/drive/MyDrive/data_object_detection_incl_not_fractured_yolo/images/test/IMG0003628.jpg: 544x640 1 fractured, 16.5ms\n",
            "Speed: 2.1ms preprocess, 16.5ms inference, 1.2ms postprocess per image at shape (1, 3, 544, 640)\n"
          ]
        },
        {
          "output_type": "stream",
          "name": "stderr",
          "text": [
            "\r 45%|████▌     | 55/122 [00:03<00:02, 23.63it/s]"
          ]
        },
        {
          "output_type": "stream",
          "name": "stdout",
          "text": [
            "\n",
            "image 1/1 /content/drive/MyDrive/data_object_detection_incl_not_fractured_yolo/images/test/IMG0003986.jpg: 640x544 (no detections), 17.6ms\n",
            "Speed: 2.1ms preprocess, 17.6ms inference, 0.7ms postprocess per image at shape (1, 3, 640, 544)\n",
            "\n",
            "image 1/1 /content/drive/MyDrive/data_object_detection_incl_not_fractured_yolo/images/test/IMG0003671.jpg: 640x544 (no detections), 16.7ms\n",
            "Speed: 3.2ms preprocess, 16.7ms inference, 0.5ms postprocess per image at shape (1, 3, 640, 544)\n",
            "\n",
            "image 1/1 /content/drive/MyDrive/data_object_detection_incl_not_fractured_yolo/images/test/IMG0003309.jpg: 544x640 (no detections), 17.2ms\n",
            "Speed: 2.1ms preprocess, 17.2ms inference, 0.5ms postprocess per image at shape (1, 3, 544, 640)\n"
          ]
        },
        {
          "output_type": "stream",
          "name": "stderr",
          "text": [
            "\r 48%|████▊     | 58/122 [00:03<00:02, 24.78it/s]"
          ]
        },
        {
          "output_type": "stream",
          "name": "stdout",
          "text": [
            "\n",
            "image 1/1 /content/drive/MyDrive/data_object_detection_incl_not_fractured_yolo/images/test/IMG0001429.jpg: 640x544 (no detections), 17.0ms\n",
            "Speed: 2.1ms preprocess, 17.0ms inference, 0.5ms postprocess per image at shape (1, 3, 640, 544)\n",
            "\n",
            "image 1/1 /content/drive/MyDrive/data_object_detection_incl_not_fractured_yolo/images/test/IMG0003339.jpg: 640x544 1 fractured, 16.0ms\n",
            "Speed: 2.1ms preprocess, 16.0ms inference, 1.2ms postprocess per image at shape (1, 3, 640, 544)\n",
            "\n",
            "image 1/1 /content/drive/MyDrive/data_object_detection_incl_not_fractured_yolo/images/test/IMG0000974.jpg: 544x640 (no detections), 19.3ms\n",
            "Speed: 2.1ms preprocess, 19.3ms inference, 0.5ms postprocess per image at shape (1, 3, 544, 640)\n"
          ]
        },
        {
          "output_type": "stream",
          "name": "stderr",
          "text": [
            "\r 50%|█████     | 61/122 [00:03<00:02, 25.77it/s]"
          ]
        },
        {
          "output_type": "stream",
          "name": "stdout",
          "text": [
            "\n",
            "image 1/1 /content/drive/MyDrive/data_object_detection_incl_not_fractured_yolo/images/test/IMG0003477.jpg: 640x544 1 fractured, 17.0ms\n",
            "Speed: 2.1ms preprocess, 17.0ms inference, 1.1ms postprocess per image at shape (1, 3, 640, 544)\n",
            "\n",
            "image 1/1 /content/drive/MyDrive/data_object_detection_incl_not_fractured_yolo/images/test/IMG0000998.jpg: 544x640 (no detections), 16.4ms\n",
            "Speed: 2.9ms preprocess, 16.4ms inference, 0.5ms postprocess per image at shape (1, 3, 544, 640)\n",
            "\n",
            "image 1/1 /content/drive/MyDrive/data_object_detection_incl_not_fractured_yolo/images/test/IMG0003087.jpg: 640x544 (no detections), 16.8ms\n",
            "Speed: 3.1ms preprocess, 16.8ms inference, 0.5ms postprocess per image at shape (1, 3, 640, 544)\n"
          ]
        },
        {
          "output_type": "stream",
          "name": "stderr",
          "text": [
            "\r 52%|█████▏    | 64/122 [00:04<00:02, 25.44it/s]"
          ]
        },
        {
          "output_type": "stream",
          "name": "stdout",
          "text": [
            "\n",
            "image 1/1 /content/drive/MyDrive/data_object_detection_incl_not_fractured_yolo/images/test/IMG0001567.jpg: 544x640 1 fractured, 16.6ms\n",
            "Speed: 2.1ms preprocess, 16.6ms inference, 1.1ms postprocess per image at shape (1, 3, 544, 640)\n",
            "\n",
            "image 1/1 /content/drive/MyDrive/data_object_detection_incl_not_fractured_yolo/images/test/IMG0003419.jpg: 640x544 1 fractured, 16.8ms\n",
            "Speed: 2.2ms preprocess, 16.8ms inference, 1.1ms postprocess per image at shape (1, 3, 640, 544)\n",
            "\n",
            "image 1/1 /content/drive/MyDrive/data_object_detection_incl_not_fractured_yolo/images/test/IMG0001910.jpg: 640x544 (no detections), 16.5ms\n",
            "Speed: 2.2ms preprocess, 16.5ms inference, 0.5ms postprocess per image at shape (1, 3, 640, 544)\n"
          ]
        },
        {
          "output_type": "stream",
          "name": "stderr",
          "text": [
            "\r 55%|█████▍    | 67/122 [00:04<00:02, 26.40it/s]"
          ]
        },
        {
          "output_type": "stream",
          "name": "stdout",
          "text": [
            "\n",
            "image 1/1 /content/drive/MyDrive/data_object_detection_incl_not_fractured_yolo/images/test/IMG0001161.jpg: 544x640 (no detections), 17.4ms\n",
            "Speed: 2.1ms preprocess, 17.4ms inference, 0.5ms postprocess per image at shape (1, 3, 544, 640)\n",
            "\n",
            "image 1/1 /content/drive/MyDrive/data_object_detection_incl_not_fractured_yolo/images/test/IMG0002964.jpg: 640x544 (no detections), 17.4ms\n",
            "Speed: 2.3ms preprocess, 17.4ms inference, 0.5ms postprocess per image at shape (1, 3, 640, 544)\n",
            "\n",
            "image 1/1 /content/drive/MyDrive/data_object_detection_incl_not_fractured_yolo/images/test/IMG0003313.jpg: 640x544 1 fractured, 16.6ms\n",
            "Speed: 2.2ms preprocess, 16.6ms inference, 1.2ms postprocess per image at shape (1, 3, 640, 544)\n"
          ]
        },
        {
          "output_type": "stream",
          "name": "stderr",
          "text": [
            "\r 57%|█████▋    | 70/122 [00:04<00:01, 26.84it/s]"
          ]
        },
        {
          "output_type": "stream",
          "name": "stdout",
          "text": [
            "\n",
            "image 1/1 /content/drive/MyDrive/data_object_detection_incl_not_fractured_yolo/images/test/IMG0003458.jpg: 640x544 1 fractured, 16.4ms\n",
            "Speed: 2.1ms preprocess, 16.4ms inference, 1.1ms postprocess per image at shape (1, 3, 640, 544)\n",
            "\n",
            "image 1/1 /content/drive/MyDrive/data_object_detection_incl_not_fractured_yolo/images/test/IMG0003395.jpg: 640x544 (no detections), 16.7ms\n",
            "Speed: 2.1ms preprocess, 16.7ms inference, 0.6ms postprocess per image at shape (1, 3, 640, 544)\n",
            "\n",
            "image 1/1 /content/drive/MyDrive/data_object_detection_incl_not_fractured_yolo/images/test/IMG0003297.jpg: 640x544 2 fractureds, 16.4ms\n",
            "Speed: 2.6ms preprocess, 16.4ms inference, 1.4ms postprocess per image at shape (1, 3, 640, 544)\n"
          ]
        },
        {
          "output_type": "stream",
          "name": "stderr",
          "text": [
            "\r 60%|█████▉    | 73/122 [00:04<00:01, 26.77it/s]"
          ]
        },
        {
          "output_type": "stream",
          "name": "stdout",
          "text": [
            "\n",
            "image 1/1 /content/drive/MyDrive/data_object_detection_incl_not_fractured_yolo/images/test/IMG0001562.jpg: 544x640 (no detections), 16.5ms\n",
            "Speed: 2.5ms preprocess, 16.5ms inference, 0.6ms postprocess per image at shape (1, 3, 544, 640)\n",
            "\n",
            "image 1/1 /content/drive/MyDrive/data_object_detection_incl_not_fractured_yolo/images/test/IMG0003589.jpg: 640x544 1 fractured, 17.2ms\n",
            "Speed: 2.4ms preprocess, 17.2ms inference, 1.4ms postprocess per image at shape (1, 3, 640, 544)\n",
            "\n",
            "image 1/1 /content/drive/MyDrive/data_object_detection_incl_not_fractured_yolo/images/test/IMG0001420.jpg: 640x544 (no detections), 16.1ms\n",
            "Speed: 2.7ms preprocess, 16.1ms inference, 0.6ms postprocess per image at shape (1, 3, 640, 544)\n"
          ]
        },
        {
          "output_type": "stream",
          "name": "stderr",
          "text": [
            "\r 62%|██████▏   | 76/122 [00:04<00:01, 26.86it/s]"
          ]
        },
        {
          "output_type": "stream",
          "name": "stdout",
          "text": [
            "\n",
            "image 1/1 /content/drive/MyDrive/data_object_detection_incl_not_fractured_yolo/images/test/IMG0003373.jpg: 640x544 (no detections), 16.6ms\n",
            "Speed: 2.9ms preprocess, 16.6ms inference, 0.7ms postprocess per image at shape (1, 3, 640, 544)\n",
            "\n",
            "image 1/1 /content/drive/MyDrive/data_object_detection_incl_not_fractured_yolo/images/test/IMG0004265.jpg: 544x640 (no detections), 17.2ms\n",
            "Speed: 2.6ms preprocess, 17.2ms inference, 0.7ms postprocess per image at shape (1, 3, 544, 640)\n",
            "\n",
            "image 1/1 /content/drive/MyDrive/data_object_detection_incl_not_fractured_yolo/images/test/IMG0002247.jpg: 640x544 (no detections), 17.2ms\n",
            "Speed: 2.5ms preprocess, 17.2ms inference, 0.7ms postprocess per image at shape (1, 3, 640, 544)\n"
          ]
        },
        {
          "output_type": "stream",
          "name": "stderr",
          "text": [
            "\r 65%|██████▍   | 79/122 [00:04<00:01, 26.87it/s]"
          ]
        },
        {
          "output_type": "stream",
          "name": "stdout",
          "text": [
            "\n",
            "image 1/1 /content/drive/MyDrive/data_object_detection_incl_not_fractured_yolo/images/test/IMG0001424.jpg: 544x640 (no detections), 16.8ms\n",
            "Speed: 4.2ms preprocess, 16.8ms inference, 0.6ms postprocess per image at shape (1, 3, 544, 640)\n",
            "\n",
            "image 1/1 /content/drive/MyDrive/data_object_detection_incl_not_fractured_yolo/images/test/IMG0002183.jpg: 640x544 (no detections), 17.0ms\n",
            "Speed: 2.5ms preprocess, 17.0ms inference, 0.5ms postprocess per image at shape (1, 3, 640, 544)\n",
            "\n",
            "image 1/1 /content/drive/MyDrive/data_object_detection_incl_not_fractured_yolo/images/test/IMG0003321.jpg: 544x640 1 fractured, 17.0ms\n",
            "Speed: 3.3ms preprocess, 17.0ms inference, 1.5ms postprocess per image at shape (1, 3, 544, 640)\n"
          ]
        },
        {
          "output_type": "stream",
          "name": "stderr",
          "text": [
            "\r 67%|██████▋   | 82/122 [00:04<00:01, 26.85it/s]"
          ]
        },
        {
          "output_type": "stream",
          "name": "stdout",
          "text": [
            "\n",
            "image 1/1 /content/drive/MyDrive/data_object_detection_incl_not_fractured_yolo/images/test/IMG0003312.jpg: 640x544 (no detections), 17.7ms\n",
            "Speed: 2.5ms preprocess, 17.7ms inference, 0.6ms postprocess per image at shape (1, 3, 640, 544)\n",
            "\n",
            "image 1/1 /content/drive/MyDrive/data_object_detection_incl_not_fractured_yolo/images/test/IMG0003686.jpg: 640x544 1 fractured, 16.6ms\n",
            "Speed: 2.6ms preprocess, 16.6ms inference, 2.5ms postprocess per image at shape (1, 3, 640, 544)\n",
            "\n",
            "image 1/1 /content/drive/MyDrive/data_object_detection_incl_not_fractured_yolo/images/test/IMG0003510.jpg: 640x544 1 fractured, 16.8ms\n",
            "Speed: 3.5ms preprocess, 16.8ms inference, 1.4ms postprocess per image at shape (1, 3, 640, 544)\n"
          ]
        },
        {
          "output_type": "stream",
          "name": "stderr",
          "text": [
            "\r 70%|██████▉   | 85/122 [00:04<00:01, 26.10it/s]"
          ]
        },
        {
          "output_type": "stream",
          "name": "stdout",
          "text": [
            "\n",
            "image 1/1 /content/drive/MyDrive/data_object_detection_incl_not_fractured_yolo/images/test/IMG0003224.jpg: 640x544 (no detections), 16.7ms\n",
            "Speed: 3.1ms preprocess, 16.7ms inference, 0.6ms postprocess per image at shape (1, 3, 640, 544)\n",
            "\n",
            "image 1/1 /content/drive/MyDrive/data_object_detection_incl_not_fractured_yolo/images/test/IMG0003509.jpg: 640x544 2 fractureds, 16.7ms\n",
            "Speed: 4.0ms preprocess, 16.7ms inference, 1.2ms postprocess per image at shape (1, 3, 640, 544)\n",
            "\n",
            "image 1/1 /content/drive/MyDrive/data_object_detection_incl_not_fractured_yolo/images/test/IMG0003338.jpg: 640x544 3 fractureds, 16.7ms\n",
            "Speed: 2.2ms preprocess, 16.7ms inference, 1.2ms postprocess per image at shape (1, 3, 640, 544)\n"
          ]
        },
        {
          "output_type": "stream",
          "name": "stderr",
          "text": [
            "\r 72%|███████▏  | 88/122 [00:04<00:01, 25.23it/s]"
          ]
        },
        {
          "output_type": "stream",
          "name": "stdout",
          "text": [
            "\n",
            "image 1/1 /content/drive/MyDrive/data_object_detection_incl_not_fractured_yolo/images/test/IMG0003620.jpg: 640x544 (no detections), 16.7ms\n",
            "Speed: 2.1ms preprocess, 16.7ms inference, 0.5ms postprocess per image at shape (1, 3, 640, 544)\n",
            "\n",
            "image 1/1 /content/drive/MyDrive/data_object_detection_incl_not_fractured_yolo/images/test/IMG0003298.jpg: 640x544 (no detections), 16.4ms\n",
            "Speed: 2.1ms preprocess, 16.4ms inference, 0.5ms postprocess per image at shape (1, 3, 640, 544)\n",
            "\n",
            "image 1/1 /content/drive/MyDrive/data_object_detection_incl_not_fractured_yolo/images/test/IMG0003394.jpg: 640x544 (no detections), 16.9ms\n",
            "Speed: 2.1ms preprocess, 16.9ms inference, 0.8ms postprocess per image at shape (1, 3, 640, 544)\n"
          ]
        },
        {
          "output_type": "stream",
          "name": "stderr",
          "text": [
            "\r 75%|███████▍  | 91/122 [00:05<00:01, 26.18it/s]"
          ]
        },
        {
          "output_type": "stream",
          "name": "stdout",
          "text": [
            "\n",
            "image 1/1 /content/drive/MyDrive/data_object_detection_incl_not_fractured_yolo/images/test/IMG0000439.jpg: 640x544 (no detections), 16.5ms\n",
            "Speed: 2.1ms preprocess, 16.5ms inference, 0.5ms postprocess per image at shape (1, 3, 640, 544)\n",
            "\n",
            "image 1/1 /content/drive/MyDrive/data_object_detection_incl_not_fractured_yolo/images/test/IMG0003311.jpg: 640x544 1 fractured, 16.4ms\n",
            "Speed: 2.1ms preprocess, 16.4ms inference, 1.4ms postprocess per image at shape (1, 3, 640, 544)\n",
            "\n",
            "image 1/1 /content/drive/MyDrive/data_object_detection_incl_not_fractured_yolo/images/test/IMG0003420.jpg: 544x640 1 fractured, 16.9ms\n",
            "Speed: 2.1ms preprocess, 16.9ms inference, 1.1ms postprocess per image at shape (1, 3, 544, 640)\n"
          ]
        },
        {
          "output_type": "stream",
          "name": "stderr",
          "text": [
            "\r 77%|███████▋  | 94/122 [00:05<00:01, 26.61it/s]"
          ]
        },
        {
          "output_type": "stream",
          "name": "stdout",
          "text": [
            "\n",
            "image 1/1 /content/drive/MyDrive/data_object_detection_incl_not_fractured_yolo/images/test/IMG0002630.jpg: 544x640 (no detections), 16.3ms\n",
            "Speed: 2.1ms preprocess, 16.3ms inference, 0.6ms postprocess per image at shape (1, 3, 544, 640)\n",
            "\n",
            "image 1/1 /content/drive/MyDrive/data_object_detection_incl_not_fractured_yolo/images/test/IMG0004245.jpg: 544x640 1 fractured, 16.1ms\n",
            "Speed: 2.3ms preprocess, 16.1ms inference, 1.3ms postprocess per image at shape (1, 3, 544, 640)\n",
            "\n",
            "image 1/1 /content/drive/MyDrive/data_object_detection_incl_not_fractured_yolo/images/test/IMG0003685.jpg: 640x544 1 fractured, 17.8ms\n",
            "Speed: 2.1ms preprocess, 17.8ms inference, 1.3ms postprocess per image at shape (1, 3, 640, 544)\n",
            "\n",
            "image 1/1 /content/drive/MyDrive/data_object_detection_incl_not_fractured_yolo/images/test/IMG0003301.jpg: 640x544 (no detections), 16.0ms\n",
            "Speed: 3.1ms preprocess, 16.0ms inference, 0.5ms postprocess per image at shape (1, 3, 640, 544)\n"
          ]
        },
        {
          "output_type": "stream",
          "name": "stderr",
          "text": [
            "\r 80%|████████  | 98/122 [00:05<00:00, 27.54it/s]"
          ]
        },
        {
          "output_type": "stream",
          "name": "stdout",
          "text": [
            "\n",
            "image 1/1 /content/drive/MyDrive/data_object_detection_incl_not_fractured_yolo/images/test/IMG0003713.jpg: 640x544 1 fractured, 16.3ms\n",
            "Speed: 2.6ms preprocess, 16.3ms inference, 1.5ms postprocess per image at shape (1, 3, 640, 544)\n",
            "\n",
            "image 1/1 /content/drive/MyDrive/data_object_detection_incl_not_fractured_yolo/images/test/IMG0003466.jpg: 640x544 1 fractured, 16.2ms\n",
            "Speed: 2.7ms preprocess, 16.2ms inference, 1.5ms postprocess per image at shape (1, 3, 640, 544)\n",
            "\n",
            "image 1/1 /content/drive/MyDrive/data_object_detection_incl_not_fractured_yolo/images/test/IMG0002111.jpg: 544x640 (no detections), 16.7ms\n",
            "Speed: 3.2ms preprocess, 16.7ms inference, 0.6ms postprocess per image at shape (1, 3, 544, 640)\n"
          ]
        },
        {
          "output_type": "stream",
          "name": "stderr",
          "text": [
            "\r 83%|████████▎ | 101/122 [00:05<00:00, 26.90it/s]"
          ]
        },
        {
          "output_type": "stream",
          "name": "stdout",
          "text": [
            "\n",
            "image 1/1 /content/drive/MyDrive/data_object_detection_incl_not_fractured_yolo/images/test/IMG0003383.jpg: 640x544 1 fractured, 17.0ms\n",
            "Speed: 3.4ms preprocess, 17.0ms inference, 1.6ms postprocess per image at shape (1, 3, 640, 544)\n",
            "\n",
            "image 1/1 /content/drive/MyDrive/data_object_detection_incl_not_fractured_yolo/images/test/IMG0000125.jpg: 640x512 (no detections), 13.8ms\n",
            "Speed: 3.1ms preprocess, 13.8ms inference, 0.6ms postprocess per image at shape (1, 3, 640, 512)\n",
            "\n",
            "image 1/1 /content/drive/MyDrive/data_object_detection_incl_not_fractured_yolo/images/test/IMG0002726.jpg: 640x544 (no detections), 17.3ms\n",
            "Speed: 2.3ms preprocess, 17.3ms inference, 4.0ms postprocess per image at shape (1, 3, 640, 544)\n"
          ]
        },
        {
          "output_type": "stream",
          "name": "stderr",
          "text": [
            "\r 85%|████████▌ | 104/122 [00:05<00:00, 18.49it/s]"
          ]
        },
        {
          "output_type": "stream",
          "name": "stdout",
          "text": [
            "\n",
            "image 1/1 /content/drive/MyDrive/data_object_detection_incl_not_fractured_yolo/images/test/IMG0002804.jpg: 544x640 (no detections), 16.6ms\n",
            "Speed: 3.1ms preprocess, 16.6ms inference, 0.5ms postprocess per image at shape (1, 3, 544, 640)\n",
            "\n",
            "image 1/1 /content/drive/MyDrive/data_object_detection_incl_not_fractured_yolo/images/test/IMG0003524.jpg: 640x544 (no detections), 17.9ms\n",
            "Speed: 3.5ms preprocess, 17.9ms inference, 0.8ms postprocess per image at shape (1, 3, 640, 544)\n",
            "\n",
            "image 1/1 /content/drive/MyDrive/data_object_detection_incl_not_fractured_yolo/images/test/IMG0002881.jpg: 640x544 (no detections), 16.5ms\n",
            "Speed: 4.7ms preprocess, 16.5ms inference, 5.0ms postprocess per image at shape (1, 3, 640, 544)\n"
          ]
        },
        {
          "output_type": "stream",
          "name": "stderr",
          "text": [
            "\r 88%|████████▊ | 107/122 [00:05<00:00, 19.89it/s]"
          ]
        },
        {
          "output_type": "stream",
          "name": "stdout",
          "text": [
            "\n",
            "image 1/1 /content/drive/MyDrive/data_object_detection_incl_not_fractured_yolo/images/test/IMG0000256.jpg: 640x512 (no detections), 13.7ms\n",
            "Speed: 3.1ms preprocess, 13.7ms inference, 0.6ms postprocess per image at shape (1, 3, 640, 512)\n",
            "\n",
            "image 1/1 /content/drive/MyDrive/data_object_detection_incl_not_fractured_yolo/images/test/IMG0003075.jpg: 640x544 1 fractured, 16.6ms\n",
            "Speed: 2.4ms preprocess, 16.6ms inference, 4.6ms postprocess per image at shape (1, 3, 640, 544)\n",
            "\n",
            "image 1/1 /content/drive/MyDrive/data_object_detection_incl_not_fractured_yolo/images/test/IMG0003565.jpg: 640x544 1 fractured, 16.7ms\n",
            "Speed: 2.1ms preprocess, 16.7ms inference, 1.2ms postprocess per image at shape (1, 3, 640, 544)\n"
          ]
        },
        {
          "output_type": "stream",
          "name": "stderr",
          "text": [
            "\r 90%|█████████ | 110/122 [00:06<00:00, 16.39it/s]"
          ]
        },
        {
          "output_type": "stream",
          "name": "stdout",
          "text": [
            "\n",
            "image 1/1 /content/drive/MyDrive/data_object_detection_incl_not_fractured_yolo/images/test/IMG0003342.jpg: 640x544 1 fractured, 16.5ms\n",
            "Speed: 2.2ms preprocess, 16.5ms inference, 1.2ms postprocess per image at shape (1, 3, 640, 544)\n",
            "\n",
            "image 1/1 /content/drive/MyDrive/data_object_detection_incl_not_fractured_yolo/images/test/IMG0003586.jpg: 640x544 2 fractureds, 16.1ms\n",
            "Speed: 2.3ms preprocess, 16.1ms inference, 1.2ms postprocess per image at shape (1, 3, 640, 544)\n",
            "\n",
            "image 1/1 /content/drive/MyDrive/data_object_detection_incl_not_fractured_yolo/images/test/IMG0003008.jpg: 640x544 (no detections), 15.9ms\n",
            "Speed: 2.5ms preprocess, 15.9ms inference, 0.6ms postprocess per image at shape (1, 3, 640, 544)\n"
          ]
        },
        {
          "output_type": "stream",
          "name": "stderr",
          "text": [
            "\r 93%|█████████▎| 113/122 [00:06<00:00, 18.15it/s]"
          ]
        },
        {
          "output_type": "stream",
          "name": "stdout",
          "text": [
            "\n",
            "image 1/1 /content/drive/MyDrive/data_object_detection_incl_not_fractured_yolo/images/test/IMG0003341.jpg: 544x640 1 fractured, 17.0ms\n",
            "Speed: 2.2ms preprocess, 17.0ms inference, 1.4ms postprocess per image at shape (1, 3, 544, 640)\n",
            "\n",
            "image 1/1 /content/drive/MyDrive/data_object_detection_incl_not_fractured_yolo/images/test/IMG0003396.jpg: 640x544 1 fractured, 17.4ms\n",
            "Speed: 3.6ms preprocess, 17.4ms inference, 1.1ms postprocess per image at shape (1, 3, 640, 544)\n",
            "\n",
            "image 1/1 /content/drive/MyDrive/data_object_detection_incl_not_fractured_yolo/images/test/IMG0001204.jpg: 640x544 (no detections), 16.4ms\n",
            "Speed: 2.2ms preprocess, 16.4ms inference, 0.6ms postprocess per image at shape (1, 3, 640, 544)\n"
          ]
        },
        {
          "output_type": "stream",
          "name": "stderr",
          "text": [
            "\r 95%|█████████▌| 116/122 [00:06<00:00, 20.17it/s]"
          ]
        },
        {
          "output_type": "stream",
          "name": "stdout",
          "text": [
            "\n",
            "image 1/1 /content/drive/MyDrive/data_object_detection_incl_not_fractured_yolo/images/test/IMG0000435.jpg: 544x640 (no detections), 16.6ms\n",
            "Speed: 2.4ms preprocess, 16.6ms inference, 0.7ms postprocess per image at shape (1, 3, 544, 640)\n",
            "\n",
            "image 1/1 /content/drive/MyDrive/data_object_detection_incl_not_fractured_yolo/images/test/IMG0003659.jpg: 640x544 2 fractureds, 17.1ms\n",
            "Speed: 2.1ms preprocess, 17.1ms inference, 1.5ms postprocess per image at shape (1, 3, 640, 544)\n",
            "\n",
            "image 1/1 /content/drive/MyDrive/data_object_detection_incl_not_fractured_yolo/images/test/IMG0001478.jpg: 640x544 (no detections), 17.0ms\n",
            "Speed: 2.6ms preprocess, 17.0ms inference, 0.9ms postprocess per image at shape (1, 3, 640, 544)\n"
          ]
        },
        {
          "output_type": "stream",
          "name": "stderr",
          "text": [
            "\r 98%|█████████▊| 119/122 [00:06<00:00, 21.95it/s]"
          ]
        },
        {
          "output_type": "stream",
          "name": "stdout",
          "text": [
            "\n",
            "image 1/1 /content/drive/MyDrive/data_object_detection_incl_not_fractured_yolo/images/test/IMG0003398.jpg: 640x544 1 fractured, 16.3ms\n",
            "Speed: 3.3ms preprocess, 16.3ms inference, 1.6ms postprocess per image at shape (1, 3, 640, 544)\n",
            "\n",
            "image 1/1 /content/drive/MyDrive/data_object_detection_incl_not_fractured_yolo/images/test/IMG0003520.jpg: 640x544 2 fractureds, 16.6ms\n",
            "Speed: 3.3ms preprocess, 16.6ms inference, 1.7ms postprocess per image at shape (1, 3, 640, 544)\n",
            "\n",
            "image 1/1 /content/drive/MyDrive/data_object_detection_incl_not_fractured_yolo/images/test/IMG0003653.jpg: 640x544 (no detections), 16.6ms\n",
            "Speed: 2.6ms preprocess, 16.6ms inference, 0.7ms postprocess per image at shape (1, 3, 640, 544)\n"
          ]
        },
        {
          "output_type": "stream",
          "name": "stderr",
          "text": [
            "100%|██████████| 122/122 [00:06<00:00, 18.71it/s]"
          ]
        },
        {
          "output_type": "stream",
          "name": "stdout",
          "text": [
            "Evaluating Model: yolo_v8m_freeze10.pt\n"
          ]
        },
        {
          "output_type": "stream",
          "name": "stderr",
          "text": [
            "\n"
          ]
        },
        {
          "output_type": "display_data",
          "data": {
            "text/plain": [
              "<Figure size 400x500 with 1 Axes>"
            ],
            "image/png": "[encoded data removed]"
          },
          "metadata": {}
        }
      ]
    },
    {
      "cell_type": "markdown",
      "source": [
        "**Precision**: Of all predicted fractures, 60% were actually correct and we have a false positive rate of 24 cases, that were wrongly classified as fractures when they were actually normal.\n",
        "\n",
        "**Recall**: Of all actual fractures, the model detected 54% correctly, but the model misses 46% of actual fractures (31 false negatives).\n",
        "\n",
        "**Specificity**: The proportion of actual no-fracture cases that were correctly classified as not fractures. Thus, the model correctly avoids false alarms in 68% of non-fracture cases."
      ],
      "metadata": {
        "id": "V7hAFlXoBRmo"
      }
    },
    {
      "cell_type": "code",
      "source": [
        "df_results_no_fractures = pd.DataFrame(eval_results_no_fractures)\n",
        "print(f\"mAP50-95: {df_results_no_fractures.mean()}\")\n",
        "df_results_no_fractures"
      ],
      "metadata": {
        "colab": {
          "base_uri": "https://localhost:8080/",
          "height": 398
        },
        "id": "rfCHItgQ0I13",
        "outputId": "9e448616-afb2-48ce-95e9-7be6cba3e786"
      },
      "execution_count": 154,
      "outputs": [
        {
          "output_type": "stream",
          "name": "stdout",
          "text": [
            "mAP50-95: yolo_v8m_freeze10    0.14996\n",
            "dtype: float64\n"
          ]
        },
        {
          "output_type": "execute_result",
          "data": {
            "text/plain": [
              "      yolo_v8m_freeze10\n",
              "0.50           0.455491\n",
              "0.55           0.316638\n",
              "0.60           0.268668\n",
              "0.65           0.213708\n",
              "0.70           0.138931\n",
              "0.75           0.082665\n",
              "0.80           0.022347\n",
              "0.85           0.000574\n",
              "0.90           0.000574\n",
              "0.95           0.000000"
            ],
            "text/html": [
              "\n",
              "  <div id=\"df-e903375c-38f1-4593-a9cf-9b81f15834d2\" class=\"colab-df-container\">\n",
              "    <div>\n",
              "<style scoped>\n",
              "    .dataframe tbody tr th:only-of-type {\n",
              "        vertical-align: middle;\n",
              "    }\n",
              "\n",
              "    .dataframe tbody tr th {\n",
              "        vertical-align: top;\n",
              "    }\n",
              "\n",
              "    .dataframe thead th {\n",
              "        text-align: right;\n",
              "    }\n",
              "</style>\n",
              "<table border=\"1\" class=\"dataframe\">\n",
              "  <thead>\n",
              "    <tr style=\"text-align: right;\">\n",
              "      <th></th>\n",
              "      <th>yolo_v8m_freeze10</th>\n",
              "    </tr>\n",
              "  </thead>\n",
              "  <tbody>\n",
              "    <tr>\n",
              "      <th>0.50</th>\n",
              "      <td>0.455491</td>\n",
              "    </tr>\n",
              "    <tr>\n",
              "      <th>0.55</th>\n",
              "      <td>0.316638</td>\n",
              "    </tr>\n",
              "    <tr>\n",
              "      <th>0.60</th>\n",
              "      <td>0.268668</td>\n",
              "    </tr>\n",
              "    <tr>\n",
              "      <th>0.65</th>\n",
              "      <td>0.213708</td>\n",
              "    </tr>\n",
              "    <tr>\n",
              "      <th>0.70</th>\n",
              "      <td>0.138931</td>\n",
              "    </tr>\n",
              "    <tr>\n",
              "      <th>0.75</th>\n",
              "      <td>0.082665</td>\n",
              "    </tr>\n",
              "    <tr>\n",
              "      <th>0.80</th>\n",
              "      <td>0.022347</td>\n",
              "    </tr>\n",
              "    <tr>\n",
              "      <th>0.85</th>\n",
              "      <td>0.000574</td>\n",
              "    </tr>\n",
              "    <tr>\n",
              "      <th>0.90</th>\n",
              "      <td>0.000574</td>\n",
              "    </tr>\n",
              "    <tr>\n",
              "      <th>0.95</th>\n",
              "      <td>0.000000</td>\n",
              "    </tr>\n",
              "  </tbody>\n",
              "</table>\n",
              "</div>\n",
              "    <div class=\"colab-df-buttons\">\n",
              "\n",
              "  <div class=\"colab-df-container\">\n",
              "    <button class=\"colab-df-convert\" onclick=\"convertToInteractive('df-e903375c-38f1-4593-a9cf-9b81f15834d2')\"\n",
              "            title=\"Convert this dataframe to an interactive table.\"\n",
              "            style=\"display:none;\">\n",
              "\n",
              "  <svg xmlns=\"http://www.w3.org/2000/svg\" height=\"24px\" viewBox=\"0 -960 960 960\">\n",
              "    <path d=\"M120-120v-720h720v720H120Zm60-500h600v-160H180v160Zm220 220h160v-160H400v160Zm0 220h160v-160H400v160ZM180-400h160v-160H180v160Zm440 0h160v-160H620v160ZM180-180h160v-160H180v160Zm440 0h160v-160H620v160Z\"/>\n",
              "  </svg>\n",
              "    </button>\n",
              "\n",
              "  <style>\n",
              "    .colab-df-container {\n",
              "      display:flex;\n",
              "      gap: 12px;\n",
              "    }\n",
              "\n",
              "    .colab-df-convert {\n",
              "      background-color: #E8F0FE;\n",
              "      border: none;\n",
              "      border-radius: 50%;\n",
              "      cursor: pointer;\n",
              "      display: none;\n",
              "      fill: #1967D2;\n",
              "      height: 32px;\n",
              "      padding: 0 0 0 0;\n",
              "      width: 32px;\n",
              "    }\n",
              "\n",
              "    .colab-df-convert:hover {\n",
              "      background-color: #E2EBFA;\n",
              "      box-shadow: 0px 1px 2px rgba(60, 64, 67, 0.3), 0px 1px 3px 1px rgba(60, 64, 67, 0.15);\n",
              "      fill: #174EA6;\n",
              "    }\n",
              "\n",
              "    .colab-df-buttons div {\n",
              "      margin-bottom: 4px;\n",
              "    }\n",
              "\n",
              "    [theme=dark] .colab-df-convert {\n",
              "      background-color: #3B4455;\n",
              "      fill: #D2E3FC;\n",
              "    }\n",
              "\n",
              "    [theme=dark] .colab-df-convert:hover {\n",
              "      background-color: #434B5C;\n",
              "      box-shadow: 0px 1px 3px 1px rgba(0, 0, 0, 0.15);\n",
              "      filter: drop-shadow(0px 1px 2px rgba(0, 0, 0, 0.3));\n",
              "      fill: #FFFFFF;\n",
              "    }\n",
              "  </style>\n",
              "\n",
              "    <script>\n",
              "      const buttonEl =\n",
              "        document.querySelector('#df-e903375c-38f1-4593-a9cf-9b81f15834d2 button.colab-df-convert');\n",
              "      buttonEl.style.display =\n",
              "        google.colab.kernel.accessAllowed ? 'block' : 'none';\n",
              "\n",
              "      async function convertToInteractive(key) {\n",
              "        const element = document.querySelector('#df-e903375c-38f1-4593-a9cf-9b81f15834d2');\n",
              "        const dataTable =\n",
              "          await google.colab.kernel.invokeFunction('convertToInteractive',\n",
              "                                                    [key], {});\n",
              "        if (!dataTable) return;\n",
              "\n",
              "        const docLinkHtml = 'Like what you see? Visit the ' +\n",
              "          '<a target=\"_blank\" href=https://colab.research.google.com/notebooks/data_table.ipynb>data table notebook</a>'\n",
              "          + ' to learn more about interactive tables.';\n",
              "        element.innerHTML = '';\n",
              "        dataTable['output_type'] = 'display_data';\n",
              "        await google.colab.output.renderOutput(dataTable, element);\n",
              "        const docLink = document.createElement('div');\n",
              "        docLink.innerHTML = docLinkHtml;\n",
              "        element.appendChild(docLink);\n",
              "      }\n",
              "    </script>\n",
              "  </div>\n",
              "\n",
              "\n",
              "<div id=\"df-f1aa2ff4-9f54-45ba-9b71-aa5f776eba45\">\n",
              "  <button class=\"colab-df-quickchart\" onclick=\"quickchart('df-f1aa2ff4-9f54-45ba-9b71-aa5f776eba45')\"\n",
              "            title=\"Suggest charts\"\n",
              "            style=\"display:none;\">\n",
              "\n",
              "<svg xmlns=\"http://www.w3.org/2000/svg\" height=\"24px\"viewBox=\"0 0 24 24\"\n",
              "     width=\"24px\">\n",
              "    <g>\n",
              "        <path d=\"M19 3H5c-1.1 0-2 .9-2 2v14c0 1.1.9 2 2 2h14c1.1 0 2-.9 2-2V5c0-1.1-.9-2-2-2zM9 17H7v-7h2v7zm4 0h-2V7h2v10zm4 0h-2v-4h2v4z\"/>\n",
              "    </g>\n",
              "</svg>\n",
              "  </button>\n",
              "\n",
              "<style>\n",
              "  .colab-df-quickchart {\n",
              "      --bg-color: #E8F0FE;\n",
              "      --fill-color: #1967D2;\n",
              "      --hover-bg-color: #E2EBFA;\n",
              "      --hover-fill-color: #174EA6;\n",
              "      --disabled-fill-color: #AAA;\n",
              "      --disabled-bg-color: #DDD;\n",
              "  }\n",
              "\n",
              "  [theme=dark] .colab-df-quickchart {\n",
              "      --bg-color: #3B4455;\n",
              "      --fill-color: #D2E3FC;\n",
              "      --hover-bg-color: #434B5C;\n",
              "      --hover-fill-color: #FFFFFF;\n",
              "      --disabled-bg-color: #3B4455;\n",
              "      --disabled-fill-color: #666;\n",
              "  }\n",
              "\n",
              "  .colab-df-quickchart {\n",
              "    background-color: var(--bg-color);\n",
              "    border: none;\n",
              "    border-radius: 50%;\n",
              "    cursor: pointer;\n",
              "    display: none;\n",
              "    fill: var(--fill-color);\n",
              "    height: 32px;\n",
              "    padding: 0;\n",
              "    width: 32px;\n",
              "  }\n",
              "\n",
              "  .colab-df-quickchart:hover {\n",
              "    background-color: var(--hover-bg-color);\n",
              "    box-shadow: 0 1px 2px rgba(60, 64, 67, 0.3), 0 1px 3px 1px rgba(60, 64, 67, 0.15);\n",
              "    fill: var(--button-hover-fill-color);\n",
              "  }\n",
              "\n",
              "  .colab-df-quickchart-complete:disabled,\n",
              "  .colab-df-quickchart-complete:disabled:hover {\n",
              "    background-color: var(--disabled-bg-color);\n",
              "    fill: var(--disabled-fill-color);\n",
              "    box-shadow: none;\n",
              "  }\n",
              "\n",
              "  .colab-df-spinner {\n",
              "    border: 2px solid var(--fill-color);\n",
              "    border-color: transparent;\n",
              "    border-bottom-color: var(--fill-color);\n",
              "    animation:\n",
              "      spin 1s steps(1) infinite;\n",
              "  }\n",
              "\n",
              "  @keyframes spin {\n",
              "    0% {\n",
              "      border-color: transparent;\n",
              "      border-bottom-color: var(--fill-color);\n",
              "      border-left-color: var(--fill-color);\n",
              "    }\n",
              "    20% {\n",
              "      border-color: transparent;\n",
              "      border-left-color: var(--fill-color);\n",
              "      border-top-color: var(--fill-color);\n",
              "    }\n",
              "    30% {\n",
              "      border-color: transparent;\n",
              "      border-left-color: var(--fill-color);\n",
              "      border-top-color: var(--fill-color);\n",
              "      border-right-color: var(--fill-color);\n",
              "    }\n",
              "    40% {\n",
              "      border-color: transparent;\n",
              "      border-right-color: var(--fill-color);\n",
              "      border-top-color: var(--fill-color);\n",
              "    }\n",
              "    60% {\n",
              "      border-color: transparent;\n",
              "      border-right-color: var(--fill-color);\n",
              "    }\n",
              "    80% {\n",
              "      border-color: transparent;\n",
              "      border-right-color: var(--fill-color);\n",
              "      border-bottom-color: var(--fill-color);\n",
              "    }\n",
              "    90% {\n",
              "      border-color: transparent;\n",
              "      border-bottom-color: var(--fill-color);\n",
              "    }\n",
              "  }\n",
              "</style>\n",
              "\n",
              "  <script>\n",
              "    async function quickchart(key) {\n",
              "      const quickchartButtonEl =\n",
              "        document.querySelector('#' + key + ' button');\n",
              "      quickchartButtonEl.disabled = true;  // To prevent multiple clicks.\n",
              "      quickchartButtonEl.classList.add('colab-df-spinner');\n",
              "      try {\n",
              "        const charts = await google.colab.kernel.invokeFunction(\n",
              "            'suggestCharts', [key], {});\n",
              "      } catch (error) {\n",
              "        console.error('Error during call to suggestCharts:', error);\n",
              "      }\n",
              "      quickchartButtonEl.classList.remove('colab-df-spinner');\n",
              "      quickchartButtonEl.classList.add('colab-df-quickchart-complete');\n",
              "    }\n",
              "    (() => {\n",
              "      let quickchartButtonEl =\n",
              "        document.querySelector('#df-f1aa2ff4-9f54-45ba-9b71-aa5f776eba45 button');\n",
              "      quickchartButtonEl.style.display =\n",
              "        google.colab.kernel.accessAllowed ? 'block' : 'none';\n",
              "    })();\n",
              "  </script>\n",
              "</div>\n",
              "\n",
              "  <div id=\"id_1d0dd2a5-3d1c-43a4-80c4-e166885effcc\">\n",
              "    <style>\n",
              "      .colab-df-generate {\n",
              "        background-color: #E8F0FE;\n",
              "        border: none;\n",
              "        border-radius: 50%;\n",
              "        cursor: pointer;\n",
              "        display: none;\n",
              "        fill: #1967D2;\n",
              "        height: 32px;\n",
              "        padding: 0 0 0 0;\n",
              "        width: 32px;\n",
              "      }\n",
              "\n",
              "      .colab-df-generate:hover {\n",
              "        background-color: #E2EBFA;\n",
              "        box-shadow: 0px 1px 2px rgba(60, 64, 67, 0.3), 0px 1px 3px 1px rgba(60, 64, 67, 0.15);\n",
              "        fill: #174EA6;\n",
              "      }\n",
              "\n",
              "      [theme=dark] .colab-df-generate {\n",
              "        background-color: #3B4455;\n",
              "        fill: #D2E3FC;\n",
              "      }\n",
              "\n",
              "      [theme=dark] .colab-df-generate:hover {\n",
              "        background-color: #434B5C;\n",
              "        box-shadow: 0px 1px 3px 1px rgba(0, 0, 0, 0.15);\n",
              "        filter: drop-shadow(0px 1px 2px rgba(0, 0, 0, 0.3));\n",
              "        fill: #FFFFFF;\n",
              "      }\n",
              "    </style>\n",
              "    <button class=\"colab-df-generate\" onclick=\"generateWithVariable('df_results_no_fractures')\"\n",
              "            title=\"Generate code using this dataframe.\"\n",
              "            style=\"display:none;\">\n",
              "\n",
              "  <svg xmlns=\"http://www.w3.org/2000/svg\" height=\"24px\"viewBox=\"0 0 24 24\"\n",
              "       width=\"24px\">\n",
              "    <path d=\"M7,19H8.4L18.45,9,17,7.55,7,17.6ZM5,21V16.75L18.45,3.32a2,2,0,0,1,2.83,0l1.4,1.43a1.91,1.91,0,0,1,.58,1.4,1.91,1.91,0,0,1-.58,1.4L9.25,21ZM18.45,9,17,7.55Zm-12,3A5.31,5.31,0,0,0,4.9,8.1,5.31,5.31,0,0,0,1,6.5,5.31,5.31,0,0,0,4.9,4.9,5.31,5.31,0,0,0,6.5,1,5.31,5.31,0,0,0,8.1,4.9,5.31,5.31,0,0,0,12,6.5,5.46,5.46,0,0,0,6.5,12Z\"/>\n",
              "  </svg>\n",
              "    </button>\n",
              "    <script>\n",
              "      (() => {\n",
              "      const buttonEl =\n",
              "        document.querySelector('#id_1d0dd2a5-3d1c-43a4-80c4-e166885effcc button.colab-df-generate');\n",
              "      buttonEl.style.display =\n",
              "        google.colab.kernel.accessAllowed ? 'block' : 'none';\n",
              "\n",
              "      buttonEl.onclick = () => {\n",
              "        google.colab.notebook.generateWithVariable('df_results_no_fractures');\n",
              "      }\n",
              "      })();\n",
              "    </script>\n",
              "  </div>\n",
              "\n",
              "    </div>\n",
              "  </div>\n"
            ],
            "application/vnd.google.colaboratory.intrinsic+json": {
              "type": "dataframe",
              "variable_name": "df_results_no_fractures",
              "summary": "{\n  \"name\": \"df_results_no_fractures\",\n  \"rows\": 10,\n  \"fields\": [\n    {\n      \"column\": \"yolo_v8m_freeze10\",\n      \"properties\": {\n        \"dtype\": \"number\",\n        \"std\": 0.15893453548908365,\n        \"min\": 0.0,\n        \"max\": 0.45549083687157305,\n        \"num_unique_values\": 9,\n        \"samples\": [\n          0.000574052812858783,\n          0.31663789588681257,\n          0.0826652099423977\n        ],\n        \"semantic_type\": \"\",\n        \"description\": \"\"\n      }\n    }\n  ]\n}"
            }
          },
          "metadata": {},
          "execution_count": 154
        }
      ]
    },
    {
      "cell_type": "markdown",
      "source": [
        "Let's compare the average precision when using different test data: only fractures and those incl. also no fracture images."
      ],
      "metadata": {
        "id": "T5udVuaoEd3B"
      }
    },
    {
      "cell_type": "code",
      "source": [
        "plt.figure(figsize=(10, 6))\n",
        "\n",
        "# Plot the first column in black with linewidth 2\n",
        "plt.plot(df_results.index, df_results['yolo_v8m_freeze10'], linestyle='-', color='black', linewidth=3, label='only fractures')\n",
        "plt.plot(df_results_no_fractures.index, df_results_no_fractures['yolo_v8m_freeze10'], linestyle='-', color='teal', linewidth=3, label='incl. no fractures')\n",
        "\n",
        "\n",
        "plt.xlabel(\"IoU Threshold\")\n",
        "plt.ylabel(\"Average Precision (AP)\")\n",
        "plt.legend(title=\"Test data\", loc=\"upper right\")\n",
        "plt.grid(False)\n",
        "plt.show()"
      ],
      "metadata": {
        "colab": {
          "base_uri": "https://localhost:8080/",
          "height": 546
        },
        "id": "mK-bH1Le0Kff",
        "outputId": "3c10e6a6-e33b-4a5a-c191-039bfb1ee34e"
      },
      "execution_count": 156,
      "outputs": [
        {
          "output_type": "display_data",
          "data": {
            "text/plain": [
              "<Figure size 1000x600 with 1 Axes>"
            ],
            "image/png": "[encoded data removed]"
          },
          "metadata": {}
        }
      ]
    },
    {
      "cell_type": "code",
      "source": [],
      "metadata": {
        "id": "YiIqBZh9DmcN"
      },
      "execution_count": null,
      "outputs": []
    }
  ],
  "metadata": {
    "kernelspec": {
      "display_name": "Python 3",
      "name": "python3"
    },
    "language_info": {
      "codemirror_mode": {
        "name": "ipython",
        "version": 3
      },
      "file_extension": ".py",
      "mimetype": "text/x-python",
      "name": "python",
      "nbconvert_exporter": "python",
      "pygments_lexer": "ipython3",
      "version": "3.11.9"
    },
    "colab": {
      "provenance": [],
      "gpuType": "T4",
      "toc_visible": true,
      "include_colab_link": true
    },
    "accelerator": "GPU"
  },
  "nbformat": 4,
  "nbformat_minor": 0
}